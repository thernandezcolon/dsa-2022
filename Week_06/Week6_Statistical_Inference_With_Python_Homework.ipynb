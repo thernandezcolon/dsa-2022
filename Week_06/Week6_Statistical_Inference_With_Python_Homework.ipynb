{
 "cells": [
  {
   "cell_type": "markdown",
   "metadata": {},
   "source": [
    "# Week6 Statistical Inference with Python"
   ]
  },
  {
   "cell_type": "markdown",
   "metadata": {},
   "source": [
    "In week6, we've covered:\n",
    "* **Variance**:  \n",
    "    * Measuring Uncertainty  \n",
    "    * Prior and Posterior Distributions  \n",
    "    * Credible Intervals  \n",
    "* **Inference**:  \n",
    "    * Hypothesis Testing  \n",
    "    * False Discovery Rate  "
   ]
  },
  {
   "cell_type": "markdown",
   "metadata": {},
   "source": [
    "The best way to consolidate the knowledge in your mind is by practicing.<br>Please complete the part marked with <span style=\"color:green\">**# TODO**</span>.\n",
    "\n",
    "[Google](www.google.com) and [Python Documentation](https://docs.python.org/3/contents.html) are your good friends if you have any python questions.\n",
    "\n",
    "Upload **Week6_Statistical_Inference_With_Python_Homework.ipynb** notebook to your Google Drive and open it with Google Colab"
   ]
  },
  {
   "cell_type": "markdown",
   "metadata": {},
   "source": [
    "## Inference  \n",
    "\n",
    "Recall that last week, we were introduced to statistical inference using batting averages from baseball as a running example. We used the binomial distribution to model the likelihood that a player would get a hit during an at bat, given historical data. We used the beta distribution to estimate batting averages and measure our uncertainty.  \n",
    "\n",
    "This covered the first two articles of this series: http://varianceexplained.org/r/simulation-bayes-baseball/  \n",
    "\n",
    "Let's continue the discussion of variance, and discuss how to use variance to come up with a range for our estimates of batting averages. By the end of this exercise, you should feel comfortable giving a probability that an estimate lies in an interval. Read about credible intervals in the third article of the series: http://varianceexplained.org/r/credible_intervals_baseball/  \n",
    "\n",
    "### Exercises  \n",
    "\n",
    "1. Run the codeblock below to reproduce the dataset from last week.  "
   ]
  },
  {
   "cell_type": "code",
   "execution_count": 2,
   "metadata": {
    "ExecuteTime": {
     "end_time": "2021-08-18T17:03:34.720276Z",
     "start_time": "2021-08-18T17:03:32.146913Z"
    }
   },
   "outputs": [
    {
     "data": {
      "text/html": [
       "<div>\n",
       "<style scoped>\n",
       "    .dataframe tbody tr th:only-of-type {\n",
       "        vertical-align: middle;\n",
       "    }\n",
       "\n",
       "    .dataframe tbody tr th {\n",
       "        vertical-align: top;\n",
       "    }\n",
       "\n",
       "    .dataframe thead th {\n",
       "        text-align: right;\n",
       "    }\n",
       "</style>\n",
       "<table border=\"1\" class=\"dataframe\">\n",
       "  <thead>\n",
       "    <tr style=\"text-align: right;\">\n",
       "      <th></th>\n",
       "      <th>playerID</th>\n",
       "      <th>name</th>\n",
       "      <th>H</th>\n",
       "      <th>AB</th>\n",
       "      <th>Avg</th>\n",
       "      <th>eb</th>\n",
       "    </tr>\n",
       "  </thead>\n",
       "  <tbody>\n",
       "    <tr>\n",
       "      <th>4106</th>\n",
       "      <td>hornsro01</td>\n",
       "      <td>Rogers Hornsby</td>\n",
       "      <td>2930</td>\n",
       "      <td>8173</td>\n",
       "      <td>0.358497</td>\n",
       "      <td>0.354854</td>\n",
       "    </tr>\n",
       "    <tr>\n",
       "      <th>4296</th>\n",
       "      <td>jacksjo01</td>\n",
       "      <td>Shoeless Joe Jackson</td>\n",
       "      <td>1772</td>\n",
       "      <td>4981</td>\n",
       "      <td>0.355752</td>\n",
       "      <td>0.350070</td>\n",
       "    </tr>\n",
       "    <tr>\n",
       "      <th>2202</th>\n",
       "      <td>delahed01</td>\n",
       "      <td>Ed Delahanty</td>\n",
       "      <td>2597</td>\n",
       "      <td>7510</td>\n",
       "      <td>0.345806</td>\n",
       "      <td>0.342354</td>\n",
       "    </tr>\n",
       "    <tr>\n",
       "      <th>3619</th>\n",
       "      <td>hamilbi01</td>\n",
       "      <td>Billy Hamilton</td>\n",
       "      <td>2164</td>\n",
       "      <td>6283</td>\n",
       "      <td>0.344421</td>\n",
       "      <td>0.340392</td>\n",
       "    </tr>\n",
       "    <tr>\n",
       "      <th>3818</th>\n",
       "      <td>heilmha01</td>\n",
       "      <td>Harry Heilmann</td>\n",
       "      <td>2660</td>\n",
       "      <td>7787</td>\n",
       "      <td>0.341595</td>\n",
       "      <td>0.338422</td>\n",
       "    </tr>\n",
       "  </tbody>\n",
       "</table>\n",
       "</div>"
      ],
      "text/plain": [
       "       playerID                  name     H    AB       Avg        eb\n",
       "4106  hornsro01        Rogers Hornsby  2930  8173  0.358497  0.354854\n",
       "4296  jacksjo01  Shoeless Joe Jackson  1772  4981  0.355752  0.350070\n",
       "2202  delahed01          Ed Delahanty  2597  7510  0.345806  0.342354\n",
       "3619  hamilbi01        Billy Hamilton  2164  6283  0.344421  0.340392\n",
       "3818  heilmha01        Harry Heilmann  2660  7787  0.341595  0.338422"
      ]
     },
     "execution_count": 2,
     "metadata": {},
     "output_type": "execute_result"
    }
   ],
   "source": [
    "import pandas as pd  \n",
    "\n",
    "# read the dataset  \n",
    "batting_url = 'https://raw.githubusercontent.com/chadwickbureau/baseballdatabank/master/core/Batting.csv'\n",
    "pitching_url = 'https://raw.githubusercontent.com/chadwickbureau/baseballdatabank/master/core/Pitching.csv'\n",
    "people_url = 'https://raw.githubusercontent.com/chadwickbureau/baseballdatabank/master/core/People.csv'\n",
    "\n",
    "batting = pd.read_csv(batting_url)\n",
    "pitching = pd.read_csv(pitching_url)\n",
    "master = pd.read_csv(people_url)\n",
    "\n",
    "# recreate career dataframe\n",
    "pitchers = pitching['playerID'].tolist()\n",
    "batting = batting[batting['AB'] > 0]\n",
    "batting = batting[~batting['playerID'].isin(pitchers)] #filtered out pitchers\n",
    "batting_sum =batting.groupby(['playerID']).agg({'H':'sum','AB':'sum'}) # get total hits and at bats for each player\n",
    "batting_sum['Avg'] = batting_sum.loc[:,'H'] / batting_sum.loc[:,'AB'] #calculate the avg batting rate\n",
    "career = pd.merge(batting_sum, master, how='inner', on='playerID')[[\"playerID\",\"nameFirst\", \"nameLast\", \"H\", \"AB\", \"Avg\"]]\n",
    "career= career[career[\"AB\"]>=500]\n",
    "career.head()\n",
    "\n",
    "# helper function to estimate priors for alpha and beta\n",
    "def moments(mu, sigma2):\n",
    "    alpha = mu**2 * ((1 - mu) / sigma2 - 1 / mu)\n",
    "    beta = alpha * (1 / mu - 1)\n",
    "    return (alpha, beta)\n",
    "\n",
    "# get priors for alpha and beta  \n",
    "empirical_mean = career['Avg'].to_numpy().mean()\n",
    "empirical_variance = career['Avg'].to_numpy().var()\n",
    "alpha0, beta0 = moments(empirical_mean, empirical_variance)\n",
    "\n",
    "# use priors to update estimate of batting average for each player\n",
    "career['eb'] = ((career.loc[:,'H'] + alpha0) / (career.loc[:,'AB'] + alpha0 + beta0))\n",
    "\n",
    "# concatenate first and last name\n",
    "career['name'] = career.loc[:, 'nameFirst'] + ' ' + career.loc[:, 'nameLast']\n",
    "career.sort_values('eb', ascending=False).loc[:,[\"playerID\", 'name', 'H', 'AB', 'Avg', 'eb']].head(5)"
   ]
  },
  {
   "cell_type": "markdown",
   "metadata": {},
   "source": [
    "2. Recall `alpha0` and `beta0` represent prior belief for the \"average player\" as determined by the entire data set. Use your knowledge from last week to generate an array of `1000` samples from a beta distribution with parameters `alpha0` and `beta0`. \n",
    "    \n",
    " 2a. Calculate the sample mean and compare it to the ratio $\\frac{\\alpha_0}{\\alpha_0 + \\beta_0}$"
   ]
  },
  {
   "cell_type": "code",
   "execution_count": 9,
   "metadata": {},
   "outputs": [
    {
     "name": "stdout",
     "output_type": "stream",
     "text": [
      "Sample Mean: 0.25945857106491205\n",
      "ALPHA0/(ALPHA0+BETA0) 0.25837060609701573\n",
      "Difference 0.0010879649678963155\n"
     ]
    }
   ],
   "source": [
    "# TODO\n",
    "from numpy import random\n",
    "# \n",
    "n=1000\n",
    "samples = random.beta(alpha0, beta0, size=n)\n",
    "\n",
    "import statistics\n",
    "\n",
    "print(\"Sample Mean:\", statistics.mean(samples))\n",
    "print(\"ALPHA0/(ALPHA0+BETA0)\", alpha0/(alpha0+beta0))\n",
    "print(\"Difference\", statistics.mean(samples)-alpha0/(alpha0+beta0))"
   ]
  },
  {
   "cell_type": "code",
   "execution_count": 8,
   "metadata": {},
   "outputs": [
    {
     "name": "stdout",
     "output_type": "stream",
     "text": [
      "Sample Mean 0.2583215684267777\n",
      "ALPHA0/(ALPHA0+BETA0) 0.25837060609701573\n",
      "Difference -4.903767023800576e-05\n"
     ]
    }
   ],
   "source": [
    "#Comparing with the solution but the same thing as before\n",
    "from scipy.stats import beta\n",
    "import numpy as np\n",
    "prior_samples = beta.rvs(a=alpha0, b=beta0, size=1000)\n",
    "prior_mean = np.mean(prior_samples)\n",
    "expected_mean_prior = alpha0/(alpha0+beta0)\n",
    "print(\"Sample Mean\", prior_mean)\n",
    "print(\"ALPHA0/(ALPHA0+BETA0)\", expected_mean_prior)\n",
    "print(\"Difference\", prior_mean-expected_mean_prior)"
   ]
  },
  {
   "cell_type": "markdown",
   "metadata": {},
   "source": [
    "  2b. Calculate the 0.10 and 0.90 quantlies of the sample.  "
   ]
  },
  {
   "cell_type": "code",
   "execution_count": 11,
   "metadata": {},
   "outputs": [
    {
     "name": "stdout",
     "output_type": "stream",
     "text": [
      "Q .10 quantile :  0.22868408618329172\n",
      "Q .90 quantile :  0.2891498416786018\n"
     ]
    }
   ],
   "source": [
    "# TODO\n",
    "import numpy as np\n",
    "\n",
    "print(\"Q .10 quantile : \", np.quantile(samples, .10))\n",
    "print(\"Q .90 quantile : \", np.quantile(samples, .90))"
   ]
  },
  {
   "cell_type": "markdown",
   "metadata": {},
   "source": [
    "3. Find two players in the `career` dataframe that have a similar `Avg` but very different at bats (`AB`).\n",
    "  \n",
    "  3a. Create a two-row dataframe that includes only these two players, and display their `name`, `H`, `AB`, `Avg`, and estimated avg (`eb`)."
   ]
  },
  {
   "cell_type": "code",
   "execution_count": 12,
   "metadata": {},
   "outputs": [
    {
     "name": "stdout",
     "output_type": "stream",
     "text": [
      "Max AB: 14053\n",
      "Min AB: 500\n"
     ]
    }
   ],
   "source": [
    "max_ab = max(career[\"AB\"])\n",
    "min_ab = min(career[\"AB\"])\n",
    "\n",
    "print(\"Max AB:\", max_ab) # looking for the higher at bats \n",
    "print(\"Min AB:\", min_ab ) # Looking for the lower"
   ]
  },
  {
   "cell_type": "code",
   "execution_count": 13,
   "metadata": {},
   "outputs": [
    {
     "name": "stdout",
     "output_type": "stream",
     "text": [
      "Higher AB\n"
     ]
    },
    {
     "data": {
      "text/html": [
       "<div>\n",
       "<style scoped>\n",
       "    .dataframe tbody tr th:only-of-type {\n",
       "        vertical-align: middle;\n",
       "    }\n",
       "\n",
       "    .dataframe tbody tr th {\n",
       "        vertical-align: top;\n",
       "    }\n",
       "\n",
       "    .dataframe thead th {\n",
       "        text-align: right;\n",
       "    }\n",
       "</style>\n",
       "<table border=\"1\" class=\"dataframe\">\n",
       "  <thead>\n",
       "    <tr style=\"text-align: right;\">\n",
       "      <th></th>\n",
       "      <th>playerID</th>\n",
       "      <th>nameFirst</th>\n",
       "      <th>nameLast</th>\n",
       "      <th>H</th>\n",
       "      <th>AB</th>\n",
       "      <th>Avg</th>\n",
       "      <th>eb</th>\n",
       "      <th>name</th>\n",
       "    </tr>\n",
       "  </thead>\n",
       "  <tbody>\n",
       "    <tr>\n",
       "      <th>7697</th>\n",
       "      <td>rosepe01</td>\n",
       "      <td>Pete</td>\n",
       "      <td>Rose</td>\n",
       "      <td>4256</td>\n",
       "      <td>14053</td>\n",
       "      <td>0.302853</td>\n",
       "      <td>0.301897</td>\n",
       "      <td>Pete Rose</td>\n",
       "    </tr>\n",
       "  </tbody>\n",
       "</table>\n",
       "</div>"
      ],
      "text/plain": [
       "      playerID nameFirst nameLast     H     AB       Avg        eb       name\n",
       "7697  rosepe01      Pete     Rose  4256  14053  0.302853  0.301897  Pete Rose"
      ]
     },
     "execution_count": 13,
     "metadata": {},
     "output_type": "execute_result"
    }
   ],
   "source": [
    "print(\"Higher AB\") # Max AB\n",
    "career[career.AB == 14053]"
   ]
  },
  {
   "cell_type": "code",
   "execution_count": 14,
   "metadata": {},
   "outputs": [
    {
     "name": "stdout",
     "output_type": "stream",
     "text": [
      "0.3028534832420124\n"
     ]
    },
    {
     "data": {
      "text/html": [
       "<div>\n",
       "<style scoped>\n",
       "    .dataframe tbody tr th:only-of-type {\n",
       "        vertical-align: middle;\n",
       "    }\n",
       "\n",
       "    .dataframe tbody tr th {\n",
       "        vertical-align: top;\n",
       "    }\n",
       "\n",
       "    .dataframe thead th {\n",
       "        text-align: right;\n",
       "    }\n",
       "</style>\n",
       "<table border=\"1\" class=\"dataframe\">\n",
       "  <thead>\n",
       "    <tr style=\"text-align: right;\">\n",
       "      <th></th>\n",
       "      <th>playerID</th>\n",
       "      <th>nameFirst</th>\n",
       "      <th>nameLast</th>\n",
       "      <th>H</th>\n",
       "      <th>AB</th>\n",
       "      <th>Avg</th>\n",
       "      <th>eb</th>\n",
       "      <th>name</th>\n",
       "    </tr>\n",
       "  </thead>\n",
       "  <tbody>\n",
       "    <tr>\n",
       "      <th>7697</th>\n",
       "      <td>rosepe01</td>\n",
       "      <td>Pete</td>\n",
       "      <td>Rose</td>\n",
       "      <td>4256</td>\n",
       "      <td>14053</td>\n",
       "      <td>0.302853</td>\n",
       "      <td>0.301897</td>\n",
       "      <td>Pete Rose</td>\n",
       "    </tr>\n",
       "    <tr>\n",
       "      <th>8722</th>\n",
       "      <td>swansev01</td>\n",
       "      <td>Evar</td>\n",
       "      <td>Swanson</td>\n",
       "      <td>573</td>\n",
       "      <td>1892</td>\n",
       "      <td>0.302854</td>\n",
       "      <td>0.296615</td>\n",
       "      <td>Evar Swanson</td>\n",
       "    </tr>\n",
       "  </tbody>\n",
       "</table>\n",
       "</div>"
      ],
      "text/plain": [
       "       playerID nameFirst nameLast     H     AB       Avg        eb  \\\n",
       "7697   rosepe01      Pete     Rose  4256  14053  0.302853  0.301897   \n",
       "8722  swansev01      Evar  Swanson   573   1892  0.302854  0.296615   \n",
       "\n",
       "              name  \n",
       "7697     Pete Rose  \n",
       "8722  Evar Swanson  "
      ]
     },
     "execution_count": 14,
     "metadata": {},
     "output_type": "execute_result"
    }
   ],
   "source": [
    "#player with a similar avg\n",
    "round_digit= 5\n",
    "avg_max_bats = round(career[career.AB == 14053][\"Avg\"].values[0], round_digit)\n",
    "print(career[career.AB == 14053][\"Avg\"].values[0])\n",
    "career[(round(career[\"Avg\"],round_digit) == avg_max_bats) & (career.AB != 14053) ]\n",
    "\n",
    "two_players = career[(career.playerID ==\"swansev01\") |  (career.playerID ==\"rosepe01\")]\n",
    "two_players"
   ]
  },
  {
   "cell_type": "markdown",
   "metadata": {},
   "source": [
    "3b. Calculate the *posterior* values for $\\alpha$ and $\\beta$ for the two players in your subset.\n",
    "\n",
    "(This Stack Overflow answer details the update process for $\\alpha$ and $\\beta$: https://stats.stackexchange.com/a/47782)"
   ]
  },
  {
   "cell_type": "code",
   "execution_count": 15,
   "metadata": {},
   "outputs": [
    {
     "data": {
      "text/html": [
       "<div>\n",
       "<style scoped>\n",
       "    .dataframe tbody tr th:only-of-type {\n",
       "        vertical-align: middle;\n",
       "    }\n",
       "\n",
       "    .dataframe tbody tr th {\n",
       "        vertical-align: top;\n",
       "    }\n",
       "\n",
       "    .dataframe thead th {\n",
       "        text-align: right;\n",
       "    }\n",
       "</style>\n",
       "<table border=\"1\" class=\"dataframe\">\n",
       "  <thead>\n",
       "    <tr style=\"text-align: right;\">\n",
       "      <th></th>\n",
       "      <th>playerID</th>\n",
       "      <th>nameFirst</th>\n",
       "      <th>nameLast</th>\n",
       "      <th>H</th>\n",
       "      <th>AB</th>\n",
       "      <th>Avg</th>\n",
       "      <th>eb</th>\n",
       "      <th>name</th>\n",
       "      <th>alpha0</th>\n",
       "      <th>beta0</th>\n",
       "      <th>alpha1</th>\n",
       "      <th>beta1</th>\n",
       "      <th>Avg1</th>\n",
       "    </tr>\n",
       "  </thead>\n",
       "  <tbody>\n",
       "    <tr>\n",
       "      <th>7697</th>\n",
       "      <td>rosepe01</td>\n",
       "      <td>Pete</td>\n",
       "      <td>Rose</td>\n",
       "      <td>4256</td>\n",
       "      <td>14053</td>\n",
       "      <td>0.302853</td>\n",
       "      <td>0.301897</td>\n",
       "      <td>Pete Rose</td>\n",
       "      <td>79.746164</td>\n",
       "      <td>228.904132</td>\n",
       "      <td>4335.746164</td>\n",
       "      <td>10025.904132</td>\n",
       "      <td>0.301897</td>\n",
       "    </tr>\n",
       "    <tr>\n",
       "      <th>8722</th>\n",
       "      <td>swansev01</td>\n",
       "      <td>Evar</td>\n",
       "      <td>Swanson</td>\n",
       "      <td>573</td>\n",
       "      <td>1892</td>\n",
       "      <td>0.302854</td>\n",
       "      <td>0.296615</td>\n",
       "      <td>Evar Swanson</td>\n",
       "      <td>79.746164</td>\n",
       "      <td>228.904132</td>\n",
       "      <td>652.746164</td>\n",
       "      <td>1547.904132</td>\n",
       "      <td>0.296615</td>\n",
       "    </tr>\n",
       "  </tbody>\n",
       "</table>\n",
       "</div>"
      ],
      "text/plain": [
       "       playerID nameFirst nameLast     H     AB       Avg        eb  \\\n",
       "7697   rosepe01      Pete     Rose  4256  14053  0.302853  0.301897   \n",
       "8722  swansev01      Evar  Swanson   573   1892  0.302854  0.296615   \n",
       "\n",
       "              name     alpha0       beta0       alpha1         beta1      Avg1  \n",
       "7697     Pete Rose  79.746164  228.904132  4335.746164  10025.904132  0.301897  \n",
       "8722  Evar Swanson  79.746164  228.904132   652.746164   1547.904132  0.296615  "
      ]
     },
     "execution_count": 15,
     "metadata": {},
     "output_type": "execute_result"
    }
   ],
   "source": [
    "# TODO\n",
    "two_players= two_players.assign(alpha0 = alpha0)\n",
    "two_players =two_players.assign(beta0 = beta0)\n",
    "\n",
    "#Posterior values for the two players\n",
    "two_players['alpha1'] =  two_players['alpha0'] + two_players['H'] \n",
    "two_players['beta1'] = two_players['beta0'] + (two_players['AB'] - two_players['H'])\n",
    "two_players['Avg1']=(two_players['alpha1']/(two_players['alpha1']+two_players['beta1']))\n",
    "pete = two_players[two_players.playerID =='rosepe01']\n",
    "evar = two_players[two_players.playerID =='swansev01']\n",
    "two_players"
   ]
  },
  {
   "cell_type": "markdown",
   "metadata": {},
   "source": [
    "  3c. Though the `Avg` and the priors (`alpha0`, `beta0`) are similar for your two players, their estimated variance should be very different (due to the difference in at bats). Make an argument (no proof required): Which of your two players will have a lower 0.10 quantile for the posterior distribution of their estimated batting average (`eb`)? Explain your reasoning in a sentence or two."
   ]
  },
  {
   "cell_type": "code",
   "execution_count": 18,
   "metadata": {},
   "outputs": [],
   "source": [
    "# We can assume it would be Evar, the player with the lower AB because it will have a higher variance on posterior distribution"
   ]
  },
  {
   "cell_type": "markdown",
   "metadata": {},
   "source": [
    "\n",
    "Q .10 quantile :  0.23812556103883104\n",
    "Q .90 quantile :  0.30626701150559615\n",
    "\n",
    "Since both values for Avg1 are below the 90, we cal \n"
   ]
  },
  {
   "cell_type": "markdown",
   "metadata": {},
   "source": [
    "3d. Use your posterior alphas and betas to generate a sample of `1000` estimated batting averages for each of your two players. Calculate the 0.10 and 0.90 quantile for each sample distribution. Compare the outcome to your prediction in 3c. Reconcile any differences."
   ]
  },
  {
   "cell_type": "code",
   "execution_count": 52,
   "metadata": {},
   "outputs": [],
   "source": [
    "import statistics as stats\n",
    "from scipy.stats import beta\n",
    "import numpy as np\n",
    "def analyze_player(name, alpha1, beta1, size = 5000):\n",
    "    sam = beta.rvs(alpha1,beta1, size=size)\n",
    "    mean = np.mean(sam)\n",
    "    vari = stats.variance(sam)\n",
    "    std_dev = stats.stdev(sam)\n",
    "    print(f\"{name}\\n\")\n",
    "    print(f\"Mean: {mean} \\nVariance: {vari} \\nStd Dev: {std_dev}\\n\\n\")\n",
    "    print(\".10 quantile : \", np.quantile(sam, .10))\n",
    "    print(\".90 quantile : \", np.quantile(sam, .90))\n",
    "\n",
    "\n"
   ]
  },
  {
   "cell_type": "code",
   "execution_count": 55,
   "metadata": {},
   "outputs": [
    {
     "data": {
      "text/html": [
       "<div>\n",
       "<style scoped>\n",
       "    .dataframe tbody tr th:only-of-type {\n",
       "        vertical-align: middle;\n",
       "    }\n",
       "\n",
       "    .dataframe tbody tr th {\n",
       "        vertical-align: top;\n",
       "    }\n",
       "\n",
       "    .dataframe thead th {\n",
       "        text-align: right;\n",
       "    }\n",
       "</style>\n",
       "<table border=\"1\" class=\"dataframe\">\n",
       "  <thead>\n",
       "    <tr style=\"text-align: right;\">\n",
       "      <th></th>\n",
       "      <th>playerID</th>\n",
       "      <th>nameFirst</th>\n",
       "      <th>nameLast</th>\n",
       "      <th>H</th>\n",
       "      <th>AB</th>\n",
       "      <th>Avg</th>\n",
       "      <th>eb</th>\n",
       "      <th>name</th>\n",
       "      <th>alpha0</th>\n",
       "      <th>beta0</th>\n",
       "      <th>alpha1</th>\n",
       "      <th>beta1</th>\n",
       "      <th>Avg1</th>\n",
       "      <th>10_quantile</th>\n",
       "      <th>90_quantile</th>\n",
       "    </tr>\n",
       "  </thead>\n",
       "  <tbody>\n",
       "    <tr>\n",
       "      <th>7697</th>\n",
       "      <td>rosepe01</td>\n",
       "      <td>Pete</td>\n",
       "      <td>Rose</td>\n",
       "      <td>4256</td>\n",
       "      <td>14053</td>\n",
       "      <td>0.302853</td>\n",
       "      <td>0.301897</td>\n",
       "      <td>Pete Rose</td>\n",
       "      <td>79.746164</td>\n",
       "      <td>228.904132</td>\n",
       "      <td>4335.746164</td>\n",
       "      <td>10025.904132</td>\n",
       "      <td>0.301897</td>\n",
       "      <td>0.297027</td>\n",
       "      <td>0.30715</td>\n",
       "    </tr>\n",
       "    <tr>\n",
       "      <th>8722</th>\n",
       "      <td>swansev01</td>\n",
       "      <td>Evar</td>\n",
       "      <td>Swanson</td>\n",
       "      <td>573</td>\n",
       "      <td>1892</td>\n",
       "      <td>0.302854</td>\n",
       "      <td>0.296615</td>\n",
       "      <td>Evar Swanson</td>\n",
       "      <td>79.746164</td>\n",
       "      <td>228.904132</td>\n",
       "      <td>652.746164</td>\n",
       "      <td>1547.904132</td>\n",
       "      <td>0.296615</td>\n",
       "      <td>0.284909</td>\n",
       "      <td>0.30873</td>\n",
       "    </tr>\n",
       "  </tbody>\n",
       "</table>\n",
       "</div>"
      ],
      "text/plain": [
       "       playerID nameFirst nameLast     H     AB       Avg        eb  \\\n",
       "7697   rosepe01      Pete     Rose  4256  14053  0.302853  0.301897   \n",
       "8722  swansev01      Evar  Swanson   573   1892  0.302854  0.296615   \n",
       "\n",
       "              name     alpha0       beta0       alpha1         beta1  \\\n",
       "7697     Pete Rose  79.746164  228.904132  4335.746164  10025.904132   \n",
       "8722  Evar Swanson  79.746164  228.904132   652.746164   1547.904132   \n",
       "\n",
       "          Avg1  10_quantile  90_quantile  \n",
       "7697  0.301897     0.297027      0.30715  \n",
       "8722  0.296615     0.284909      0.30873  "
      ]
     },
     "execution_count": 55,
     "metadata": {},
     "output_type": "execute_result"
    }
   ],
   "source": [
    "def get_quantile(row, quantile, n=1000):\n",
    "    sam = beta.rvs(row[\"alpha1\"],row[\"beta1\"], size=n)\n",
    "    return np.quantile(sam, quantile)\n",
    "\n",
    "two_players['10_quantile'] = two_players.apply(lambda x: get_quantile(x, 0.1), axis=1)\n",
    "two_players['90_quantile'] = two_players.apply(lambda x: get_quantile(x, 0.9), axis=1)\n",
    "two_players"
   ]
  },
  {
   "cell_type": "code",
   "execution_count": 56,
   "metadata": {},
   "outputs": [
    {
     "name": "stdout",
     "output_type": "stream",
     "text": [
      "Pete\n",
      "\n",
      "Mean: 0.30195245087533457 \n",
      "Variance: 1.4670388796505668e-05 \n",
      "Std Dev: 0.0038301943549258264\n",
      "\n",
      "\n",
      ".10 quantile :  0.2971156530120131\n",
      ".90 quantile :  0.3070201592712734\n"
     ]
    }
   ],
   "source": [
    "pete_result = analyze_player(\"Pete\", pete['alpha1'].values[0], pete['beta1'].values[0])"
   ]
  },
  {
   "cell_type": "code",
   "execution_count": 41,
   "metadata": {},
   "outputs": [
    {
     "name": "stdout",
     "output_type": "stream",
     "text": [
      "Evar\n",
      "\n",
      "Mean: 0.2964833833890407 \n",
      "Variance: 9.439146426143531e-05 \n",
      "Std Dev: 0.009715526967768414\n",
      "\n",
      "\n",
      ".10 quantile :  0.2840599946794671\n",
      ".90 quantile :  0.3091205034913923\n"
     ]
    }
   ],
   "source": [
    "evar_result = analyze_player(\"Evar\", evar['alpha1'].values[0], evar['beta1'].values[0])"
   ]
  },
  {
   "cell_type": "code",
   "execution_count": 42,
   "metadata": {},
   "outputs": [
    {
     "data": {
      "text/html": [
       "<div>\n",
       "<style scoped>\n",
       "    .dataframe tbody tr th:only-of-type {\n",
       "        vertical-align: middle;\n",
       "    }\n",
       "\n",
       "    .dataframe tbody tr th {\n",
       "        vertical-align: top;\n",
       "    }\n",
       "\n",
       "    .dataframe thead th {\n",
       "        text-align: right;\n",
       "    }\n",
       "</style>\n",
       "<table border=\"1\" class=\"dataframe\">\n",
       "  <thead>\n",
       "    <tr style=\"text-align: right;\">\n",
       "      <th></th>\n",
       "      <th>playerID</th>\n",
       "      <th>nameFirst</th>\n",
       "      <th>nameLast</th>\n",
       "      <th>H</th>\n",
       "      <th>AB</th>\n",
       "      <th>Avg</th>\n",
       "      <th>eb</th>\n",
       "      <th>name</th>\n",
       "      <th>alpha0</th>\n",
       "      <th>beta0</th>\n",
       "      <th>alpha1</th>\n",
       "      <th>beta1</th>\n",
       "      <th>Avg1</th>\n",
       "    </tr>\n",
       "  </thead>\n",
       "  <tbody>\n",
       "    <tr>\n",
       "      <th>7697</th>\n",
       "      <td>rosepe01</td>\n",
       "      <td>Pete</td>\n",
       "      <td>Rose</td>\n",
       "      <td>4256</td>\n",
       "      <td>14053</td>\n",
       "      <td>0.302853</td>\n",
       "      <td>0.301897</td>\n",
       "      <td>Pete Rose</td>\n",
       "      <td>79.746164</td>\n",
       "      <td>228.904132</td>\n",
       "      <td>4335.746164</td>\n",
       "      <td>10025.904132</td>\n",
       "      <td>0.301897</td>\n",
       "    </tr>\n",
       "    <tr>\n",
       "      <th>8722</th>\n",
       "      <td>swansev01</td>\n",
       "      <td>Evar</td>\n",
       "      <td>Swanson</td>\n",
       "      <td>573</td>\n",
       "      <td>1892</td>\n",
       "      <td>0.302854</td>\n",
       "      <td>0.296615</td>\n",
       "      <td>Evar Swanson</td>\n",
       "      <td>79.746164</td>\n",
       "      <td>228.904132</td>\n",
       "      <td>652.746164</td>\n",
       "      <td>1547.904132</td>\n",
       "      <td>0.296615</td>\n",
       "    </tr>\n",
       "  </tbody>\n",
       "</table>\n",
       "</div>"
      ],
      "text/plain": [
       "       playerID nameFirst nameLast     H     AB       Avg        eb  \\\n",
       "7697   rosepe01      Pete     Rose  4256  14053  0.302853  0.301897   \n",
       "8722  swansev01      Evar  Swanson   573   1892  0.302854  0.296615   \n",
       "\n",
       "              name     alpha0       beta0       alpha1         beta1      Avg1  \n",
       "7697     Pete Rose  79.746164  228.904132  4335.746164  10025.904132  0.301897  \n",
       "8722  Evar Swanson  79.746164  228.904132   652.746164   1547.904132  0.296615  "
      ]
     },
     "execution_count": 42,
     "metadata": {},
     "output_type": "execute_result"
    }
   ],
   "source": [
    "# Since these quantiles are not on the range expected, I will confirm calculations\n",
    "two_players"
   ]
  },
  {
   "cell_type": "markdown",
   "metadata": {},
   "source": [
    "4. Finally, let's compare confidence and credible intervals.\n",
    "\n",
    "  4a. For each of your two players, use their `H` and `AB` to calculate the 95% binomial proportion confidence interval.\n",
    "  \n",
    "  (The wikipedia entry will be helpful: https://en.wikipedia.org/wiki/Binomial_proportion_confidence_interval. Note that for a 95% confidence interval, the *z* score is 1.96.)"
   ]
  },
  {
   "cell_type": "code",
   "execution_count": 12,
   "metadata": {},
   "outputs": [
    {
     "name": "stdout",
     "output_type": "stream",
     "text": [
      "Confidence Interval for Pete 0.3027652392320932 to 0.3029417272519316\n",
      "Confidence Interval for Evar 0.3022097660437286 to 0.3034984791994003\n"
     ]
    }
   ],
   "source": [
    "# TODO\n",
    "import math\n",
    "# Calculate interval\n",
    "def print_confidence_interval(z, n, std_dev, avg, name):\n",
    "    delta = z * std_dev/math.sqrt(n)\n",
    "    print(f\"Confidence Interval for {name} {avg - delta} to {avg + delta}\")\n",
    "\n",
    "z = 1.96\n",
    "print_confidence_interval(z,pete['AB'].values[0], pete_result['std_dev'], pete['Avg'].values[0], \"Pete\" )\n",
    "print_confidence_interval(z,evar['AB'].values[0], evar_result['std_dev'], evar['Avg'].values[0], \"Evar\" )"
   ]
  },
  {
   "cell_type": "markdown",
   "metadata": {},
   "source": [
    "4b. Calculate the 95% credible interval using `alpha` and `beta`. Compare the difference between the confidence interval and the credible interval.\n",
    "\n",
    "(Here is another resource for understanding confidence vs credible intervals: https://towardsdatascience.com/do-you-know-credible-interval-e5b833adf399)"
   ]
  },
  {
   "cell_type": "code",
   "execution_count": 14,
   "metadata": {},
   "outputs": [
    {
     "name": "stdout",
     "output_type": "stream",
     "text": [
      "credible Interval: 0.2111477481958584 to 0.30855909470110054\n"
     ]
    }
   ],
   "source": [
    "# TODO\n",
    "\n",
    "from scipy.special import btdtri\n",
    "b_up = btdtri(alpha0, beta0, 0.975)\n",
    "b_lo = btdtri(alpha0, beta0, 0.025)\n",
    "print(f\"credible Interval: {b_lo} to {b_up}\")"
   ]
  },
  {
   "cell_type": "markdown",
   "metadata": {},
   "source": [
    "Confidence interval:\n",
    "calculated for each one fo the two players\n",
    "gives us an idea of those two player\n",
    "\n",
    "\n",
    "Confidence interval:\n",
    "Calculated for the complete data\n",
    "gives us an idea of the average and where the 95% of the obsevations shou"
   ]
  },
  {
   "cell_type": "markdown",
   "metadata": {
    "tags": []
   },
   "source": [
    "## Hypothesis Testing\n",
    "\n",
    "Now that you have a handle on credible intervals, you are ready to use those intervals to test hypotheses. \n",
    "\n",
    "Read the fourth article to begin to understand how credible intervals can be useful to make decisions: http://varianceexplained.org/r/bayesian_fdr_baseball/"
   ]
  },
  {
   "cell_type": "markdown",
   "metadata": {},
   "source": [
    "### Exercises  \n",
    "\n",
    "5. Let's aggregate Hank Aaron's seasons to get his total career at bats. "
   ]
  },
  {
   "cell_type": "code",
   "execution_count": 71,
   "metadata": {},
   "outputs": [
    {
     "data": {
      "text/html": [
       "<div>\n",
       "<style scoped>\n",
       "    .dataframe tbody tr th:only-of-type {\n",
       "        vertical-align: middle;\n",
       "    }\n",
       "\n",
       "    .dataframe tbody tr th {\n",
       "        vertical-align: top;\n",
       "    }\n",
       "\n",
       "    .dataframe thead th {\n",
       "        text-align: right;\n",
       "    }\n",
       "</style>\n",
       "<table border=\"1\" class=\"dataframe\">\n",
       "  <thead>\n",
       "    <tr style=\"text-align: right;\">\n",
       "      <th></th>\n",
       "      <th>playerID</th>\n",
       "      <th>nameFirst</th>\n",
       "      <th>nameLast</th>\n",
       "      <th>H</th>\n",
       "      <th>AB</th>\n",
       "      <th>Avg</th>\n",
       "      <th>eb</th>\n",
       "      <th>name</th>\n",
       "    </tr>\n",
       "  </thead>\n",
       "  <tbody>\n",
       "    <tr>\n",
       "      <th>0</th>\n",
       "      <td>aaronha01</td>\n",
       "      <td>Hank</td>\n",
       "      <td>Aaron</td>\n",
       "      <td>3771</td>\n",
       "      <td>12364</td>\n",
       "      <td>0.304998</td>\n",
       "      <td>0.303863</td>\n",
       "      <td>Hank Aaron</td>\n",
       "    </tr>\n",
       "  </tbody>\n",
       "</table>\n",
       "</div>"
      ],
      "text/plain": [
       "    playerID nameFirst nameLast     H     AB       Avg        eb        name\n",
       "0  aaronha01      Hank    Aaron  3771  12364  0.304998  0.303863  Hank Aaron"
      ]
     },
     "execution_count": 71,
     "metadata": {},
     "output_type": "execute_result"
    }
   ],
   "source": [
    "h_aaron = career[career['playerID'] == 'aaronha01']\n",
    "h_aaron.head(5)"
   ]
  },
  {
   "cell_type": "markdown",
   "metadata": {},
   "source": [
    "5a. Calculate Hank Aaron's total Hits (`H`) and At Bats (`AB`)"
   ]
  },
  {
   "cell_type": "code",
   "execution_count": 72,
   "metadata": {},
   "outputs": [
    {
     "data": {
      "text/html": [
       "<div>\n",
       "<style scoped>\n",
       "    .dataframe tbody tr th:only-of-type {\n",
       "        vertical-align: middle;\n",
       "    }\n",
       "\n",
       "    .dataframe tbody tr th {\n",
       "        vertical-align: top;\n",
       "    }\n",
       "\n",
       "    .dataframe thead th {\n",
       "        text-align: right;\n",
       "    }\n",
       "</style>\n",
       "<table border=\"1\" class=\"dataframe\">\n",
       "  <thead>\n",
       "    <tr style=\"text-align: right;\">\n",
       "      <th></th>\n",
       "      <th>H</th>\n",
       "      <th>AB</th>\n",
       "    </tr>\n",
       "  </thead>\n",
       "  <tbody>\n",
       "    <tr>\n",
       "      <th>0</th>\n",
       "      <td>3771</td>\n",
       "      <td>12364</td>\n",
       "    </tr>\n",
       "  </tbody>\n",
       "</table>\n",
       "</div>"
      ],
      "text/plain": [
       "      H     AB\n",
       "0  3771  12364"
      ]
     },
     "execution_count": 72,
     "metadata": {},
     "output_type": "execute_result"
    }
   ],
   "source": [
    "# TODO\n",
    "#calculate??\n",
    "#I understand they are given\n",
    "h_aaron[['H', 'AB']]"
   ]
  },
  {
   "cell_type": "markdown",
   "metadata": {},
   "source": [
    "5b. Use random sampling to estimate the probability that Hank Aaron's career batting average is below 0.300."
   ]
  },
  {
   "cell_type": "code",
   "execution_count": 75,
   "metadata": {},
   "outputs": [
    {
     "name": "stdout",
     "output_type": "stream",
     "text": [
      "Aaron\n",
      "\n",
      "Mean: 0.30490639563237737 \n",
      "Variance: 1.606395903788106e-05 \n",
      "Std Dev: 0.004007986905901897\n",
      "\n",
      "\n",
      ".10 quantile :  0.29967025041312595\n",
      ".90 quantile :  0.31010885810474403\n",
      "Percentage of the lower than average of 0.3 of all the samples is the 11.6 %\n"
     ]
    }
   ],
   "source": [
    "# TODO\n",
    "a_alpha = h_aaron['H'].values[0]\n",
    "a_beta = h_aaron['AB'].values[0] - h_aaron['H'].values[0]\n",
    "result=analyze_player(\"Aaron\", a_alpha, a_beta, 5000)\n",
    "is_lower_than_averge = [1 if sample < .3  else 0 for sample in result['samples'] ]\n",
    "print(f\"Percentage of the lower than average of 0.3 of all the samples is the {sum(is_lower_than_averge)*100/len(is_lower_than_averge)} %\", )"
   ]
  },
  {
   "cell_type": "markdown",
   "metadata": {},
   "source": [
    "5c. Use random sampling to estimate the probability that the *average* player has a career batting average below 0.300"
   ]
  },
  {
   "cell_type": "code",
   "execution_count": 76,
   "metadata": {},
   "outputs": [
    {
     "name": "stdout",
     "output_type": "stream",
     "text": [
      "General \n",
      "\n",
      "Mean: 0.2579471718657491 \n",
      "Variance: 0.0006043403373404829 \n",
      "Std Dev: 0.02458333454477815\n",
      "\n",
      "\n",
      ".10 quantile :  0.22629470090863318\n",
      ".90 quantile :  0.29016365309965336\n",
      "Percentage of the lower than average of 0.3 of all the samples is the 95.14 %\n"
     ]
    }
   ],
   "source": [
    "# TODO\n",
    "result =analyze_player(\"General \", alpha0,beta0, 5000)\n",
    "is_lower_than_averge = [1 if sample < .3  else 0 for sample in result['samples'] ]\n",
    "print(f\"Percentage of the lower than average of 0.3 of all the samples is the {sum(is_lower_than_averge)*100/len(is_lower_than_averge)} %\", )"
   ]
  },
  {
   "cell_type": "markdown",
   "metadata": {},
   "source": [
    "5d. How would you use the estimates from 4b and 4c to describe how good a hitter Hank Aaron was?"
   ]
  },
  {
   "cell_type": "markdown",
   "metadata": {},
   "source": [
    "\n",
    "We can say that Aaron is considered excellent as only 11.72% of the times his batting average is below .3 which is considered excellent. He is performing above average"
   ]
  },
  {
   "cell_type": "markdown",
   "metadata": {},
   "source": [
    "6. Find two rows of the `career` dataframe that have the same `eb` estimate (to the third decimal place). Compare the posterior error probability that each of these players has a batting average below 0.300. Reconcile any differences."
   ]
  },
  {
   "cell_type": "code",
   "execution_count": 62,
   "metadata": {},
   "outputs": [
    {
     "name": "stdout",
     "output_type": "stream",
     "text": [
      "       playerID nameFirst nameLast    H    AB       Avg        eb  \\\n",
      "7299  raymefr01      Fred   Raymer  301  1380  0.218116  0.225474   \n",
      "3079  garcipe01     Pedro   Garcia  395  1797  0.219811  0.225463   \n",
      "\n",
      "              name  eb_rounded       alpha         beta  \n",
      "7299   Fred Raymer       0.225  380.746164  1307.904132  \n",
      "3079  Pedro Garcia       0.225  474.746164  1630.904132  \n"
     ]
    },
    {
     "ename": "TypeError",
     "evalue": "less_than_300() got an unexpected keyword argument 'alpha'",
     "output_type": "error",
     "traceback": [
      "\u001b[0;31m---------------------------------------------------------------------------\u001b[0m",
      "\u001b[0;31mTypeError\u001b[0m                                 Traceback (most recent call last)",
      "Input \u001b[0;32mIn [62]\u001b[0m, in \u001b[0;36m<cell line: 14>\u001b[0;34m()\u001b[0m\n\u001b[1;32m      9\u001b[0m players_params \u001b[38;5;241m=\u001b[39m players \\\n\u001b[1;32m     10\u001b[0m     \u001b[38;5;241m.\u001b[39massign(alpha \u001b[38;5;241m=\u001b[39m alpha0 \u001b[38;5;241m+\u001b[39m players[\u001b[38;5;124m'\u001b[39m\u001b[38;5;124mH\u001b[39m\u001b[38;5;124m'\u001b[39m],\n\u001b[1;32m     11\u001b[0m             beta \u001b[38;5;241m=\u001b[39m beta0 \u001b[38;5;241m+\u001b[39m players[\u001b[38;5;124m'\u001b[39m\u001b[38;5;124mAB\u001b[39m\u001b[38;5;124m'\u001b[39m] \u001b[38;5;241m-\u001b[39m players[\u001b[38;5;124m'\u001b[39m\u001b[38;5;124mH\u001b[39m\u001b[38;5;124m'\u001b[39m])\n\u001b[1;32m     13\u001b[0m \u001b[38;5;28mprint\u001b[39m(players_params)\n\u001b[0;32m---> 14\u001b[0m players_params[\u001b[38;5;124m'\u001b[39m\u001b[38;5;124mprob_less_than_300\u001b[39m\u001b[38;5;124m'\u001b[39m] \u001b[38;5;241m=\u001b[39m \u001b[43mplayers_params\u001b[49m\u001b[38;5;241;43m.\u001b[39;49m\u001b[43mapply\u001b[49m\u001b[43m(\u001b[49m\u001b[43mless_than_300\u001b[49m\u001b[43m,\u001b[49m\u001b[43m \u001b[49m\u001b[43maxis\u001b[49m\u001b[38;5;241;43m=\u001b[39;49m\u001b[38;5;241;43m1\u001b[39;49m\u001b[43m)\u001b[49m\n\u001b[1;32m     15\u001b[0m players_params[[\u001b[38;5;124m'\u001b[39m\u001b[38;5;124mname\u001b[39m\u001b[38;5;124m'\u001b[39m, \u001b[38;5;124m'\u001b[39m\u001b[38;5;124mH\u001b[39m\u001b[38;5;124m'\u001b[39m, \u001b[38;5;124m'\u001b[39m\u001b[38;5;124mAB\u001b[39m\u001b[38;5;124m'\u001b[39m, \u001b[38;5;124m'\u001b[39m\u001b[38;5;124malpha\u001b[39m\u001b[38;5;124m'\u001b[39m, \u001b[38;5;124m'\u001b[39m\u001b[38;5;124mbeta\u001b[39m\u001b[38;5;124m'\u001b[39m, \u001b[38;5;124m'\u001b[39m\u001b[38;5;124meb\u001b[39m\u001b[38;5;124m'\u001b[39m, \u001b[38;5;124m'\u001b[39m\u001b[38;5;124mprob_less_than_300\u001b[39m\u001b[38;5;124m'\u001b[39m]]\u001b[38;5;241m.\u001b[39mreset_index(drop\u001b[38;5;241m=\u001b[39m\u001b[38;5;28;01mTrue\u001b[39;00m)\n",
      "File \u001b[0;32m~/.pyenv/versions/3.9.10/lib/python3.9/site-packages/pandas/core/frame.py:8839\u001b[0m, in \u001b[0;36mDataFrame.apply\u001b[0;34m(self, func, axis, raw, result_type, args, **kwargs)\u001b[0m\n\u001b[1;32m   8828\u001b[0m \u001b[38;5;28;01mfrom\u001b[39;00m \u001b[38;5;21;01mpandas\u001b[39;00m\u001b[38;5;21;01m.\u001b[39;00m\u001b[38;5;21;01mcore\u001b[39;00m\u001b[38;5;21;01m.\u001b[39;00m\u001b[38;5;21;01mapply\u001b[39;00m \u001b[38;5;28;01mimport\u001b[39;00m frame_apply\n\u001b[1;32m   8830\u001b[0m op \u001b[38;5;241m=\u001b[39m frame_apply(\n\u001b[1;32m   8831\u001b[0m     \u001b[38;5;28mself\u001b[39m,\n\u001b[1;32m   8832\u001b[0m     func\u001b[38;5;241m=\u001b[39mfunc,\n\u001b[0;32m   (...)\u001b[0m\n\u001b[1;32m   8837\u001b[0m     kwargs\u001b[38;5;241m=\u001b[39mkwargs,\n\u001b[1;32m   8838\u001b[0m )\n\u001b[0;32m-> 8839\u001b[0m \u001b[38;5;28;01mreturn\u001b[39;00m \u001b[43mop\u001b[49m\u001b[38;5;241;43m.\u001b[39;49m\u001b[43mapply\u001b[49m\u001b[43m(\u001b[49m\u001b[43m)\u001b[49m\u001b[38;5;241m.\u001b[39m__finalize__(\u001b[38;5;28mself\u001b[39m, method\u001b[38;5;241m=\u001b[39m\u001b[38;5;124m\"\u001b[39m\u001b[38;5;124mapply\u001b[39m\u001b[38;5;124m\"\u001b[39m)\n",
      "File \u001b[0;32m~/.pyenv/versions/3.9.10/lib/python3.9/site-packages/pandas/core/apply.py:727\u001b[0m, in \u001b[0;36mFrameApply.apply\u001b[0;34m(self)\u001b[0m\n\u001b[1;32m    724\u001b[0m \u001b[38;5;28;01melif\u001b[39;00m \u001b[38;5;28mself\u001b[39m\u001b[38;5;241m.\u001b[39mraw:\n\u001b[1;32m    725\u001b[0m     \u001b[38;5;28;01mreturn\u001b[39;00m \u001b[38;5;28mself\u001b[39m\u001b[38;5;241m.\u001b[39mapply_raw()\n\u001b[0;32m--> 727\u001b[0m \u001b[38;5;28;01mreturn\u001b[39;00m \u001b[38;5;28;43mself\u001b[39;49m\u001b[38;5;241;43m.\u001b[39;49m\u001b[43mapply_standard\u001b[49m\u001b[43m(\u001b[49m\u001b[43m)\u001b[49m\n",
      "File \u001b[0;32m~/.pyenv/versions/3.9.10/lib/python3.9/site-packages/pandas/core/apply.py:851\u001b[0m, in \u001b[0;36mFrameApply.apply_standard\u001b[0;34m(self)\u001b[0m\n\u001b[1;32m    850\u001b[0m \u001b[38;5;28;01mdef\u001b[39;00m \u001b[38;5;21mapply_standard\u001b[39m(\u001b[38;5;28mself\u001b[39m):\n\u001b[0;32m--> 851\u001b[0m     results, res_index \u001b[38;5;241m=\u001b[39m \u001b[38;5;28;43mself\u001b[39;49m\u001b[38;5;241;43m.\u001b[39;49m\u001b[43mapply_series_generator\u001b[49m\u001b[43m(\u001b[49m\u001b[43m)\u001b[49m\n\u001b[1;32m    853\u001b[0m     \u001b[38;5;66;03m# wrap results\u001b[39;00m\n\u001b[1;32m    854\u001b[0m     \u001b[38;5;28;01mreturn\u001b[39;00m \u001b[38;5;28mself\u001b[39m\u001b[38;5;241m.\u001b[39mwrap_results(results, res_index)\n",
      "File \u001b[0;32m~/.pyenv/versions/3.9.10/lib/python3.9/site-packages/pandas/core/apply.py:867\u001b[0m, in \u001b[0;36mFrameApply.apply_series_generator\u001b[0;34m(self)\u001b[0m\n\u001b[1;32m    864\u001b[0m \u001b[38;5;28;01mwith\u001b[39;00m option_context(\u001b[38;5;124m\"\u001b[39m\u001b[38;5;124mmode.chained_assignment\u001b[39m\u001b[38;5;124m\"\u001b[39m, \u001b[38;5;28;01mNone\u001b[39;00m):\n\u001b[1;32m    865\u001b[0m     \u001b[38;5;28;01mfor\u001b[39;00m i, v \u001b[38;5;129;01min\u001b[39;00m \u001b[38;5;28menumerate\u001b[39m(series_gen):\n\u001b[1;32m    866\u001b[0m         \u001b[38;5;66;03m# ignore SettingWithCopy here in case the user mutates\u001b[39;00m\n\u001b[0;32m--> 867\u001b[0m         results[i] \u001b[38;5;241m=\u001b[39m \u001b[38;5;28;43mself\u001b[39;49m\u001b[38;5;241;43m.\u001b[39;49m\u001b[43mf\u001b[49m\u001b[43m(\u001b[49m\u001b[43mv\u001b[49m\u001b[43m)\u001b[49m\n\u001b[1;32m    868\u001b[0m         \u001b[38;5;28;01mif\u001b[39;00m \u001b[38;5;28misinstance\u001b[39m(results[i], ABCSeries):\n\u001b[1;32m    869\u001b[0m             \u001b[38;5;66;03m# If we have a view on v, we need to make a copy because\u001b[39;00m\n\u001b[1;32m    870\u001b[0m             \u001b[38;5;66;03m#  series_generator will swap out the underlying data\u001b[39;00m\n\u001b[1;32m    871\u001b[0m             results[i] \u001b[38;5;241m=\u001b[39m results[i]\u001b[38;5;241m.\u001b[39mcopy(deep\u001b[38;5;241m=\u001b[39m\u001b[38;5;28;01mFalse\u001b[39;00m)\n",
      "Input \u001b[0;32mIn [62]\u001b[0m, in \u001b[0;36mless_than_300\u001b[0;34m(row)\u001b[0m\n\u001b[1;32m      1\u001b[0m \u001b[38;5;28;01mdef\u001b[39;00m \u001b[38;5;21mless_than_300\u001b[39m(row):\n\u001b[0;32m----> 2\u001b[0m     \u001b[38;5;28;01mreturn\u001b[39;00m \u001b[43mless_than_300\u001b[49m\u001b[43m(\u001b[49m\u001b[43malpha\u001b[49m\u001b[38;5;241;43m=\u001b[39;49m\u001b[43mrow\u001b[49m\u001b[43m[\u001b[49m\u001b[38;5;124;43m'\u001b[39;49m\u001b[38;5;124;43malpha\u001b[39;49m\u001b[38;5;124;43m'\u001b[39;49m\u001b[43m]\u001b[49m\u001b[43m,\u001b[49m\u001b[43m \u001b[49m\u001b[43mbeta_val\u001b[49m\u001b[38;5;241;43m=\u001b[39;49m\u001b[43mrow\u001b[49m\u001b[43m[\u001b[49m\u001b[38;5;124;43m'\u001b[39;49m\u001b[38;5;124;43mbeta\u001b[39;49m\u001b[38;5;124;43m'\u001b[39;49m\u001b[43m]\u001b[49m\u001b[43m)\u001b[49m\n",
      "\u001b[0;31mTypeError\u001b[0m: less_than_300() got an unexpected keyword argument 'alpha'"
     ]
    }
   ],
   "source": [
    "def less_than_300(row):\n",
    "    return less_than_300(alpha=row['alpha'], beta_val=row['beta'])\n",
    "\n",
    "players = career \\\n",
    "    .assign(eb_rounded = round(career['eb'],3)) \\\n",
    "    .query('eb_rounded == 0.225') \\\n",
    "    .sample(2)\n",
    "\n",
    "players_params = players \\\n",
    "    .assign(alpha = alpha0 + players['H'],\n",
    "            beta = beta0 + players['AB'] - players['H'])\n",
    "\n",
    "print(players_params)\n",
    "players_params['prob_less_than_300'] = players_params.apply(less_than_300, axis=1)\n",
    "players_params[['name', 'H', 'AB', 'alpha', 'beta', 'eb', 'prob_less_than_300']].reset_index(drop=True)"
   ]
  },
  {
   "cell_type": "markdown",
   "metadata": {},
   "source": [
    "## Submission\n",
    "\n",
    "Download completed **Week6_Statistical_Inference_With_Python_Homework.ipynb** from Google Colab and commit to your personal Github repo you shared with the faculty."
   ]
  },
  {
   "cell_type": "code",
   "execution_count": null,
   "metadata": {},
   "outputs": [],
   "source": []
  }
 ],
 "metadata": {
  "kernelspec": {
   "display_name": "Python 3 (ipykernel)",
   "language": "python",
   "name": "python3"
  },
  "language_info": {
   "codemirror_mode": {
    "name": "ipython",
    "version": 3
   },
   "file_extension": ".py",
   "mimetype": "text/x-python",
   "name": "python",
   "nbconvert_exporter": "python",
   "pygments_lexer": "ipython3",
   "version": "3.9.10"
  }
 },
 "nbformat": 4,
 "nbformat_minor": 4
}
