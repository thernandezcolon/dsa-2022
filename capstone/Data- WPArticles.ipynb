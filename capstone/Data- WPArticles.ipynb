{
 "cells": [
  {
   "cell_type": "markdown",
   "id": "4ba55181-a0ac-41fa-8e52-8d5d40bcc864",
   "metadata": {},
   "source": [
    "# Getting articles from wordpress\n",
    "1. Request the articles from wordpress\n",
    "2. Can only request 100 at a time so we need to do a loop\n",
    "3. Clean up html, weird characters so it does not impact our results and stuff that comes with instagrams embeed\n",
    "4. Export it to a csv that later is cleaned up "
   ]
  },
  {
   "cell_type": "code",
   "execution_count": 6,
   "id": "5091be8e-e968-44dc-86af-f86d1afd85e5",
   "metadata": {},
   "outputs": [],
   "source": [
    "import requests\n",
    "def get_data(page, per_page, filtering = False):\n",
    "    \n",
    "    url =  f\"https://www.plateapr.com/wp-json/wp/v2/posts?page={page}&per_page={per_page}\"\n",
    "    if filtering:\n",
    "        url =  url+\"&_fields[]=title&_fields[]=content&_fields[]=link&_fields[]=date&_fields[]=author&_fields[]=type\"\n",
    "\n",
    "    print(f\"Requesting... {url}\")\n",
    "    result = requests.get(url)\n",
    "    if result.ok:\n",
    "        print(f\"Sucess request... {url}\")\n",
    "    else:\n",
    "        print(url)\n",
    "        raise Exception(\n",
    "            f\"Request failed: {result.text}\")\n",
    "    return result"
   ]
  },
  {
   "cell_type": "code",
   "execution_count": 7,
   "id": "d6238217-64bf-40b6-a78d-463deec9e356",
   "metadata": {},
   "outputs": [
    {
     "name": "stdout",
     "output_type": "stream",
     "text": [
      "Requesting... https://www.plateapr.com/wp-json/wp/v2/posts?page=1&per_page=100&_fields[]=title&_fields[]=content&_fields[]=link&_fields[]=date&_fields[]=author&_fields[]=type\n",
      "Sucess request... https://www.plateapr.com/wp-json/wp/v2/posts?page=1&per_page=100&_fields[]=title&_fields[]=content&_fields[]=link&_fields[]=date&_fields[]=author&_fields[]=type\n",
      "Requesting... https://www.plateapr.com/wp-json/wp/v2/posts?page=2&per_page=100&_fields[]=title&_fields[]=content&_fields[]=link&_fields[]=date&_fields[]=author&_fields[]=type\n",
      "Sucess request... https://www.plateapr.com/wp-json/wp/v2/posts?page=2&per_page=100&_fields[]=title&_fields[]=content&_fields[]=link&_fields[]=date&_fields[]=author&_fields[]=type\n",
      "Requesting... https://www.plateapr.com/wp-json/wp/v2/posts?page=3&per_page=100&_fields[]=title&_fields[]=content&_fields[]=link&_fields[]=date&_fields[]=author&_fields[]=type\n",
      "https://www.plateapr.com/wp-json/wp/v2/posts?page=3&per_page=100&_fields[]=title&_fields[]=content&_fields[]=link&_fields[]=date&_fields[]=author&_fields[]=type\n"
     ]
    }
   ],
   "source": [
    "per_page = 100\n",
    "page = 1\n",
    "\n",
    "there_are_more_pages = True\n",
    "articles = []\n",
    "while(there_are_more_pages):\n",
    "    try:\n",
    "        result = get_data(page, per_page, True)\n",
    "        for article in result.json():\n",
    "            articles.append(article)\n",
    "        page = page + 1\n",
    "    except:\n",
    "        there_are_more_pages = False\n",
    "        break\n"
   ]
  },
  {
   "cell_type": "code",
   "execution_count": 49,
   "id": "d3a48788-36c3-4adb-a7f1-50f70994edaa",
   "metadata": {},
   "outputs": [],
   "source": [
    "import re\n",
    "CLEANR = re.compile('<.*?>') \n",
    "\n",
    "def remove_html(raw_html):\n",
    "    cleantext = re.sub(CLEANR, '', raw_html)\n",
    "    return cleantext\n",
    "\n",
    "\n",
    "def remove_characters(raw_string):\n",
    "    \n",
    "    cleantext = re.sub('&#[0-9][0-9][0-9][0-9];', '', raw_string)\n",
    "    cleantext = re.sub('&#[0-9][0-9][0-9];', '', cleantext)\n",
    "    cleantext = re.sub('&#[0-9][0-9];', '', cleantext)\n",
    "    cleantext = re.sub('&nbsp;', '', cleantext)\n",
    "    cleantext = re.sub('&amp;', '&', cleantext)\n",
    "    cleantext = re.sub('// ', '', cleantext)\n",
    "    cleantext = cleantext.replace(\"|\", \"\")\n",
    "    cleantext = cleantext.replace(\"&#8217;\", \"\")\n",
    "    cleantext = cleantext.replace(\"“\", \"\")\n",
    "    cleantext = cleantext.replace(\"”\", \"\")\n",
    "    cleantext = cleantext.replace(\"’\", \"\")\n",
    "    cleantext = cleantext.replace(\"#\", \"\")\n",
    "    cleantext = cleantext.replace(\"-\", \" \")\n",
    "    cleantext = cleantext.replace(\"ü\", \"u\")\n",
    "\n",
    "    \n",
    "    return cleantext\n",
    "\n",
    "def remove_spacing(raw_string):\n",
    "    raw_string = raw_string.replace(\"\\n\", \" \")\n",
    "    return re.sub(\"\\s\\s+\", \" \", raw_string)\n",
    "\n",
    "\n",
    "def remove_emojis(data):\n",
    "\n",
    "    emoj = re.compile(\"[\"\n",
    "    u\"\\U0001F600-\\U0001F64F\"  # emoticons\n",
    "    u\"\\U0001F300-\\U0001F5FF\"  # symbols & pictographs\n",
    "    u\"\\U0001F680-\\U0001F6FF\"  # transport & map symbols\n",
    "    u\"\\U0001F1E0-\\U0001F1FF\"  # flags (iOS)\n",
    "    u\"\\U00002500-\\U00002BEF\"  # chinese char\n",
    "    u\"\\U00002702-\\U000027B0\"\n",
    "    u\"\\U00002702-\\U000027B0\"\n",
    "    u\"\\U000024C2-\\U0001F251\"\n",
    "    u\"\\U0001f926-\\U0001f937\"\n",
    "    u\"\\U00010000-\\U0010ffff\"\n",
    "    u\"\\u2640-\\u2642\" \n",
    "    u\"\\u2600-\\u2B55\"\n",
    "    u\"\\u200d\"\n",
    "    u\"\\u23cf\"\n",
    "    u\"\\u23e9\"\n",
    "    u\"\\u231a\"\n",
    "    u\"\\ufe0f\"  # dingbats\n",
    "    u\"\\u3030\"\n",
    "                  \"]+\", re.UNICODE)\n",
    "    return re.sub(emoj, '', data)\n",
    "\n",
    "\n",
    "def remove_dollars(data):\n",
    "    data = data.replace(\"$ \", \"\")\n",
    "    data = data.replace(\"$\", \"\")\n",
    "\n",
    "    return  data\n",
    "\n",
    "def remove_at_tags(data):\n",
    "    cleantext=  re.sub(r'\\s*\\(@.+?\\)\\s*', ' ', data)\n",
    "    cleantext = cleantext.replace(\"(\", \"\")\n",
    "    cleantext = cleantext.replace(\")\", \"\")\n",
    "    return cleantext\n",
    "\n",
    "def remove_instagram_text(data):\n",
    "    return data.replace(\"View this post on Instagram A post shared by \", \"\")\n",
    "\n",
    "\n",
    "to_replace = {\n",
    "                \"playas\":\"playa\",\n",
    "                \"cocteles\": \"alcohol\", \n",
    "                \"tragos\":'alcohol', \n",
    "                'cerveza':\"alcohol\", \n",
    "                'cervezas':\"alcohol\",\n",
    "                \"ron\":\"alcohol\",\n",
    "                \"margaritas\": \"alcohol\",\n",
    "                \"mojitos\":'alcohol',\n",
    "                \"restaurantes\":\"comida\",\n",
    "                \"restaurante\":\"comida\",\n",
    "                \n",
    "             }\n",
    "\n",
    "def append_words(data):\n",
    "    for key in to_replace:\n",
    "        number = data.count(key)\n",
    "        data = data + (f'{to_replace[key]} ' * number) # Appending number of times the synonyms\n",
    "    return data\n",
    "    \n",
    "\n",
    "def replace_words(data):\n",
    "    for key in to_replace:\n",
    "        data = data.replace(key, to_replace[key])\n",
    "    return data\n",
    "    \n",
    "\n",
    "def clean_article(article):\n",
    "    content = article['title']['rendered'] + ' ' + article['content']['rendered']\n",
    "    content =  article['content']['rendered']\n",
    "\n",
    "    art = dict()\n",
    "    art['title'] = article['title']['rendered']\n",
    "    art['content'] =  remove_instagram_text(remove_at_tags(remove_dollars(remove_emojis(remove_spacing(remove_characters(remove_html(content))))).strip()))\n",
    "    art['link'] = article['link']\n",
    "    art['date'] = article['date']\n",
    "    art['author'] = article['author']\n",
    "    art['type'] = article['type']\n",
    "\n",
    "    return art\n",
    "    "
   ]
  },
  {
   "cell_type": "code",
   "execution_count": null,
   "id": "57b48cf4-5dbd-4258-8cc6-5a1bf3f0efb5",
   "metadata": {},
   "outputs": [],
   "source": []
  },
  {
   "cell_type": "code",
   "execution_count": 50,
   "id": "e538896e-1b55-4dbc-bc8e-e87ccbc765da",
   "metadata": {},
   "outputs": [
    {
     "data": {
      "text/plain": [
       "{'title': 'Nacho Libre presenta nuevo menú de margaritas y tacos',\n",
       " 'content': 'Nacho Libre Cantina Mexicana, el restaurante conocido por su refrescante coctelería con tequila renovó su menú completamente, con nuevas opciones de margaritas y tacos suaves. Entre los sabores de la nueva oferta de tacos se destacan los tacos de brisket, con crema de aguacate, cebolla, cilantro y potato shoestrings. Además, el taco de asada, un corte de churrasco en salsa verde acompañado por cebolla y cilantro. Sin embargo, la estrella del nuevo menú es la plantilla de costra. Es decir, una capa crocante de queso derretido a la plancha que va encima de la plantilla del taco. Nuevo menú de margaritas en Nacho Libre Para darle continuidad a su exitoso menú de margaritas, Nacho Libre añadió nuevas fusiones de coctelería que van desde sabores de frutas tradicionales hasta tonalidades más innovadoras como café y chocolate. Nacho Libre Cantina Mexicana Para los amantes del espresso martini, Nacho Libre les ofrece El Cafecito, una margarita preparada con café colado, simple syrup, licor de café, tequila reposado y dash de bitters de chocolate. Si buscas algo más refrescante, la margarita de romero y fresa está preparada con mezcal, simple syrup de fresa y romero, combier orange, 1800 Silver y top de parcha. Nacho Libre también añadió nuevos sabores a la sección de aperitivos. La sopa de tortilla, con tinga de pollo, pico de gallo y tortilla chips es la mejor opción para comenzar cualquier almuerzo o cena. La nueva oferta gastronómica de Nacho Libre fue diseñada por el chef Emanuel Ocasio.',\n",
       " 'link': 'https://www.plateapr.com/nacho-libre-menu-margaritas-tacos/',\n",
       " 'date': '2022-10-19T17:07:47',\n",
       " 'author': 34,\n",
       " 'type': 'post'}"
      ]
     },
     "execution_count": 50,
     "metadata": {},
     "output_type": "execute_result"
    }
   ],
   "source": [
    "cleaned = [clean_article(a) for a in articles]\n",
    "cleaned[10]"
   ]
  },
  {
   "cell_type": "code",
   "execution_count": 51,
   "id": "4f213ca6-21af-4914-b238-ca883161e280",
   "metadata": {},
   "outputs": [],
   "source": [
    "import pandas as pd\n",
    "data = pd.DataFrame.from_records(cleaned)\n",
    "data.to_csv('./data/wp_posts2.csv', index=False)"
   ]
  },
  {
   "cell_type": "markdown",
   "id": "16ba7454-5933-4363-8b54-901df719c523",
   "metadata": {},
   "source": [
    "# Further Clean Up"
   ]
  },
  {
   "cell_type": "code",
   "execution_count": 52,
   "id": "8d96f5b8-b281-44be-b570-ceac4af56e98",
   "metadata": {},
   "outputs": [],
   "source": [
    "to_clean = pd.read_csv('./data/text-similarity-documents.csv')"
   ]
  },
  {
   "cell_type": "code",
   "execution_count": 56,
   "id": "2e7bae16-482b-4050-8502-cfd72aae9687",
   "metadata": {},
   "outputs": [],
   "source": [
    "to_clean['content']= [remove_instagram_text(a) for a in to_clean['content']]"
   ]
  },
  {
   "cell_type": "code",
   "execution_count": 57,
   "id": "6b8df4c0-9e97-4e19-93fd-911d3da304a3",
   "metadata": {},
   "outputs": [],
   "source": [
    "import pandas as pd\n",
    "data = pd.DataFrame.from_records(to_clean)\n",
    "data.to_csv('./data/wp_posts_cleaned.csv', index=False)"
   ]
  },
  {
   "cell_type": "code",
   "execution_count": 58,
   "id": "6dad03f8-17b3-4d09-b153-7456c9d2726f",
   "metadata": {},
   "outputs": [
    {
     "data": {
      "text/plain": [
       "184"
      ]
     },
     "execution_count": 58,
     "metadata": {},
     "output_type": "execute_result"
    }
   ],
   "source": [
    "len(data)"
   ]
  },
  {
   "cell_type": "code",
   "execution_count": null,
   "id": "d5de21da-c38c-435c-9f18-ae093582195f",
   "metadata": {},
   "outputs": [],
   "source": []
  }
 ],
 "metadata": {
  "kernelspec": {
   "display_name": "Python 3 (ipykernel)",
   "language": "python",
   "name": "python3"
  },
  "language_info": {
   "codemirror_mode": {
    "name": "ipython",
    "version": 3
   },
   "file_extension": ".py",
   "mimetype": "text/x-python",
   "name": "python",
   "nbconvert_exporter": "python",
   "pygments_lexer": "ipython3",
   "version": "3.9.10"
  }
 },
 "nbformat": 4,
 "nbformat_minor": 5
}
