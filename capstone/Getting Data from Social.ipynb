{
 "cells": [
  {
   "cell_type": "markdown",
   "id": "b7cc7bb1-5563-4a5e-96a4-af769da3b59e",
   "metadata": {},
   "source": [
    "https://developers.facebook.com/docs/instagram-api/getting-started"
   ]
  },
  {
   "cell_type": "code",
   "execution_count": 49,
   "id": "ec7fe165-c01f-42c9-9d29-017db5befdf5",
   "metadata": {},
   "outputs": [],
   "source": [
    "from dotenv import dotenv_values\n",
    "import requests"
   ]
  },
  {
   "cell_type": "code",
   "execution_count": 50,
   "id": "925de51c-2f89-4cc9-9e1d-4db858a9c50a",
   "metadata": {},
   "outputs": [
    {
     "data": {
      "text/plain": [
       "'EAAGPtLGAfG0BADSX7mJRJulsZCNtu7JkE5CKZCMFZB3koTc3l8uN7hMaNGx9bg8IHtfFkxCPLmPUZBza1eN5G3xrr6ulTZBw9rduKmJ2ZBtWtjHZCM6DH3t5isNRLMnqdZAz2q8pkoJ4hUw2AGFmk6sFkzZCTkEHfZCrOG9IY0ZBHtGPAZDZD'"
      ]
     },
     "execution_count": 50,
     "metadata": {},
     "output_type": "execute_result"
    }
   ],
   "source": [
    "config = dotenv_values(\".env\")\n",
    "access_token = config['ACCESS_TOKEN']\n",
    "instagram_id = config['INSTAGRAM_ID']\n",
    "access_token"
   ]
  },
  {
   "cell_type": "code",
   "execution_count": 51,
   "id": "365cb22e-5734-4751-9eaf-720e7274006d",
   "metadata": {},
   "outputs": [],
   "source": [
    "def get_data(endpoint):\n",
    "\n",
    "    url =  f\"https://graph.facebook.com/v15.0/{endpoint}&access_token={access_token}\"\n",
    "    print(url)\n",
    "    import pdb; pdb.set_trace()\n",
    "    result = requests.get(url)\n",
    "    if result.ok:\n",
    "        print(f\"Place: {json_data['title']} successfully loaded\")\n",
    "    else:\n",
    "        print(url)\n",
    "        raise Exception(\n",
    "            f\"Request failed: {result.text}\")\n",
    "    return result\n"
   ]
  },
  {
   "cell_type": "code",
   "execution_count": null,
   "id": "008d7a0e-279e-4340-9391-07dc812a9311",
   "metadata": {},
   "outputs": [
    {
     "name": "stdout",
     "output_type": "stream",
     "text": [
      "https://graph.facebook.com/v15.0/me/accounts&access_token=EAAGPtLGAfG0BADSX7mJRJulsZCNtu7JkE5CKZCMFZB3koTc3l8uN7hMaNGx9bg8IHtfFkxCPLmPUZBza1eN5G3xrr6ulTZBw9rduKmJ2ZBtWtjHZCM6DH3t5isNRLMnqdZAz2q8pkoJ4hUw2AGFmk6sFkzZCTkEHfZCrOG9IY0ZBHtGPAZDZD\n",
      "> \u001b[0;32m/var/folders/zj/qbh81wyd36s5xgr4pxwy71k80000gq/T/ipykernel_52754/1094146386.py\u001b[0m(6)\u001b[0;36mget_data\u001b[0;34m()\u001b[0m\n",
      "\u001b[0;32m      4 \u001b[0;31m    \u001b[0mprint\u001b[0m\u001b[0;34m(\u001b[0m\u001b[0murl\u001b[0m\u001b[0;34m)\u001b[0m\u001b[0;34m\u001b[0m\u001b[0;34m\u001b[0m\u001b[0m\n",
      "\u001b[0m\u001b[0;32m      5 \u001b[0;31m    \u001b[0;32mimport\u001b[0m \u001b[0mpdb\u001b[0m\u001b[0;34m;\u001b[0m \u001b[0mpdb\u001b[0m\u001b[0;34m.\u001b[0m\u001b[0mset_trace\u001b[0m\u001b[0;34m(\u001b[0m\u001b[0;34m)\u001b[0m\u001b[0;34m\u001b[0m\u001b[0;34m\u001b[0m\u001b[0m\n",
      "\u001b[0m\u001b[0;32m----> 6 \u001b[0;31m    \u001b[0mresult\u001b[0m \u001b[0;34m=\u001b[0m \u001b[0mrequests\u001b[0m\u001b[0;34m.\u001b[0m\u001b[0mget\u001b[0m\u001b[0;34m(\u001b[0m\u001b[0murl\u001b[0m\u001b[0;34m)\u001b[0m\u001b[0;34m\u001b[0m\u001b[0;34m\u001b[0m\u001b[0m\n",
      "\u001b[0m\u001b[0;32m      7 \u001b[0;31m    \u001b[0;32mif\u001b[0m \u001b[0mresult\u001b[0m\u001b[0;34m.\u001b[0m\u001b[0mok\u001b[0m\u001b[0;34m:\u001b[0m\u001b[0;34m\u001b[0m\u001b[0;34m\u001b[0m\u001b[0m\n",
      "\u001b[0m\u001b[0;32m      8 \u001b[0;31m        \u001b[0mprint\u001b[0m\u001b[0;34m(\u001b[0m\u001b[0;34mf\"Place: {json_data['title']} successfully loaded\"\u001b[0m\u001b[0;34m)\u001b[0m\u001b[0;34m\u001b[0m\u001b[0;34m\u001b[0m\u001b[0m\n",
      "\u001b[0m\n"
     ]
    }
   ],
   "source": [
    "get_data(f\"me/accounts\")"
   ]
  },
  {
   "cell_type": "code",
   "execution_count": 24,
   "id": "c6e58e95-30d9-4a09-86ce-e2e65b16a4d9",
   "metadata": {},
   "outputs": [
    {
     "name": "stdout",
     "output_type": "stream",
     "text": [
      "> \u001b[0;32m/var/folders/zj/qbh81wyd36s5xgr4pxwy71k80000gq/T/ipykernel_52754/2819876006.py\u001b[0m(9)\u001b[0;36mget_data\u001b[0;34m()\u001b[0m\n",
      "\u001b[0;32m      7 \u001b[0;31m    \u001b[0;32melse\u001b[0m\u001b[0;34m:\u001b[0m\u001b[0;34m\u001b[0m\u001b[0;34m\u001b[0m\u001b[0m\n",
      "\u001b[0m\u001b[0;32m      8 \u001b[0;31m        \u001b[0;32mimport\u001b[0m \u001b[0mpdb\u001b[0m\u001b[0;34m;\u001b[0m \u001b[0mpdb\u001b[0m\u001b[0;34m.\u001b[0m\u001b[0mset_trace\u001b[0m\u001b[0;34m(\u001b[0m\u001b[0;34m)\u001b[0m\u001b[0;34m\u001b[0m\u001b[0;34m\u001b[0m\u001b[0m\n",
      "\u001b[0m\u001b[0;32m----> 9 \u001b[0;31m        raise Exception(\n",
      "\u001b[0m\u001b[0;32m     10 \u001b[0;31m            f\"Request failed: {result}\")\n",
      "\u001b[0m\u001b[0;32m     11 \u001b[0;31m    \u001b[0;32mreturn\u001b[0m \u001b[0mresult\u001b[0m\u001b[0;34m\u001b[0m\u001b[0;34m\u001b[0m\u001b[0m\n",
      "\u001b[0m\n"
     ]
    },
    {
     "name": "stdin",
     "output_type": "stream",
     "text": [
      "ipdb>  result\n"
     ]
    },
    {
     "name": "stdout",
     "output_type": "stream",
     "text": [
      "<Response [400]>\n"
     ]
    },
    {
     "name": "stdin",
     "output_type": "stream",
     "text": [
      "ipdb>  dir(result)\n"
     ]
    },
    {
     "name": "stdout",
     "output_type": "stream",
     "text": [
      "['__attrs__', '__bool__', '__class__', '__delattr__', '__dict__', '__dir__', '__doc__', '__enter__', '__eq__', '__exit__', '__format__', '__ge__', '__getattribute__', '__getstate__', '__gt__', '__hash__', '__init__', '__init_subclass__', '__iter__', '__le__', '__lt__', '__module__', '__ne__', '__new__', '__nonzero__', '__reduce__', '__reduce_ex__', '__repr__', '__setattr__', '__setstate__', '__sizeof__', '__str__', '__subclasshook__', '__weakref__', '_content', '_content_consumed', '_next', 'apparent_encoding', 'close', 'connection', 'content', 'cookies', 'elapsed', 'encoding', 'headers', 'history', 'is_permanent_redirect', 'is_redirect', 'iter_content', 'iter_lines', 'json', 'links', 'next', 'ok', 'raise_for_status', 'raw', 'reason', 'request', 'status_code', 'text', 'url']\n"
     ]
    },
    {
     "name": "stdin",
     "output_type": "stream",
     "text": [
      "ipdb>  result.reason\n"
     ]
    },
    {
     "name": "stdout",
     "output_type": "stream",
     "text": [
      "'Bad Request'\n"
     ]
    },
    {
     "name": "stdin",
     "output_type": "stream",
     "text": [
      "ipdb>  result.text\n"
     ]
    },
    {
     "name": "stdout",
     "output_type": "stream",
     "text": [
      "'{\"error\":{\"message\":\"Unsupported get request. Object with ID \\'17841405822304914\\' does not exist, cannot be loaded due to missing permissions, or does not support this operation. Please read the Graph API documentation at https:\\\\/\\\\/developers.facebook.com\\\\/docs\\\\/graph-api\",\"type\":\"GraphMethodException\",\"code\":100,\"error_subcode\":33,\"fbtrace_id\":\"ArLlMOtIsBkE-6191AKh1fg\"}}'\n"
     ]
    },
    {
     "name": "stdin",
     "output_type": "stream",
     "text": [
      "ipdb>  url\n"
     ]
    },
    {
     "name": "stdout",
     "output_type": "stream",
     "text": [
      "'https://graph.facebook.com/v15.0/17841405822304914?fields=id,media_url,like_count,comments_count&access_token=EAAGPtLGAfG0BAO1VzgY4VClY4iVF6seGRGpRyrJyfwAyGZBndBj7ZBdq5ZAlFldLQ3nWt5TQq6C7iXdgqAm8pcKdVEXOGzZC83A9LWfHZCUtjOr4HysVpxVVWwNCx9mZAnaHgOOROdZBqT2sjwIVObwWGnPMI2TLxxsi2yyTIfHryvPri6ZAeoYRNrqD7TbJZAyR6lWzAnYmZBJZBVEaHehUw30'\n"
     ]
    },
    {
     "name": "stdin",
     "output_type": "stream",
     "text": [
      "ipdb>  q\n"
     ]
    }
   ],
   "source": [
    "\n",
    "get_data(f\"{instagram_id}?fields=id,media_url,like_count,comments_count\")"
   ]
  },
  {
   "cell_type": "code",
   "execution_count": null,
   "id": "e3488cb5-2273-432a-ad4f-fd9f5871fbe6",
   "metadata": {},
   "outputs": [],
   "source": []
  },
  {
   "cell_type": "code",
   "execution_count": null,
   "id": "67f4ccbe-d9a4-442f-ab50-4670882dc9f6",
   "metadata": {},
   "outputs": [],
   "source": []
  }
 ],
 "metadata": {
  "kernelspec": {
   "display_name": "Python 3 (ipykernel)",
   "language": "python",
   "name": "python3"
  },
  "language_info": {
   "codemirror_mode": {
    "name": "ipython",
    "version": 3
   },
   "file_extension": ".py",
   "mimetype": "text/x-python",
   "name": "python",
   "nbconvert_exporter": "python",
   "pygments_lexer": "ipython3",
   "version": "3.9.10"
  }
 },
 "nbformat": 4,
 "nbformat_minor": 5
}
