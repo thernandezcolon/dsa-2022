{
 "cells": [
  {
   "cell_type": "code",
   "execution_count": 10,
   "id": "5091be8e-e968-44dc-86af-f86d1afd85e5",
   "metadata": {},
   "outputs": [],
   "source": [
    "import requests\n",
    "def get_data(page, per_page, filtering = False):\n",
    "    \n",
    "    url =  f\"https://www.plateapr.com/wp-json/wp/v2/posts?page={page}&per_page={per_page}\"\n",
    "    if filtering:\n",
    "        url =  url+\"&_fields[]=title&_fields[]=content&_fields[]=link&_fields[]=date&_fields[]=author&_fields[]=type\"\n",
    "\n",
    "    print(f\"Requesting... {url}\")\n",
    "    result = requests.get(url)\n",
    "    if result.ok:\n",
    "        print(f\"Sucess request... {url}\")\n",
    "    else:\n",
    "        print(url)\n",
    "        raise Exception(\n",
    "            f\"Request failed: {result.text}\")\n",
    "    return result"
   ]
  },
  {
   "cell_type": "code",
   "execution_count": 11,
   "id": "d3a48788-36c3-4adb-a7f1-50f70994edaa",
   "metadata": {},
   "outputs": [],
   "source": [
    "import re\n",
    "CLEANR = re.compile('<.*?>') \n",
    "\n",
    "def remove_html(raw_html):\n",
    "    cleantext = re.sub(CLEANR, '', raw_html)\n",
    "    return cleantext\n",
    "\n",
    "\n",
    "def remove_characters(raw_string):\n",
    "    CHA_CLEAN = re.compile('&#[0-9][0-9][0-9][0-9];')\n",
    "    \n",
    "    cleantext = re.sub(CLEANR, '', raw_string)\n",
    "    return cleantext\n",
    "\n",
    "\n",
    "def clean_article(article):\n",
    "    article['title'] = article['title']['rendered']\n",
    "    article['content'] =  remove_characters(remove_html(article['content']['rendered'])).replace(\"\\n\", \"\")\n",
    "    return article\n",
    "    "
   ]
  },
  {
   "cell_type": "code",
   "execution_count": 12,
   "id": "d6238217-64bf-40b6-a78d-463deec9e356",
   "metadata": {},
   "outputs": [
    {
     "name": "stdout",
     "output_type": "stream",
     "text": [
      "Requesting... https://www.plateapr.com/wp-json/wp/v2/posts?page=1&per_page=100&_fields[]=title&_fields[]=content&_fields[]=link&_fields[]=date&_fields[]=author&_fields[]=type\n",
      "Sucess request... https://www.plateapr.com/wp-json/wp/v2/posts?page=1&per_page=100&_fields[]=title&_fields[]=content&_fields[]=link&_fields[]=date&_fields[]=author&_fields[]=type\n",
      "Requesting... https://www.plateapr.com/wp-json/wp/v2/posts?page=2&per_page=100&_fields[]=title&_fields[]=content&_fields[]=link&_fields[]=date&_fields[]=author&_fields[]=type\n",
      "Sucess request... https://www.plateapr.com/wp-json/wp/v2/posts?page=2&per_page=100&_fields[]=title&_fields[]=content&_fields[]=link&_fields[]=date&_fields[]=author&_fields[]=type\n",
      "Requesting... https://www.plateapr.com/wp-json/wp/v2/posts?page=3&per_page=100&_fields[]=title&_fields[]=content&_fields[]=link&_fields[]=date&_fields[]=author&_fields[]=type\n",
      "https://www.plateapr.com/wp-json/wp/v2/posts?page=3&per_page=100&_fields[]=title&_fields[]=content&_fields[]=link&_fields[]=date&_fields[]=author&_fields[]=type\n"
     ]
    }
   ],
   "source": [
    "per_page = 100\n",
    "page = 1\n",
    "\n",
    "there_are_more_pages = True\n",
    "articles = []\n",
    "while(there_are_more_pages):\n",
    "    try:\n",
    "        result = get_data(page, per_page, True)\n",
    "        for article in result.json():\n",
    "            articles.append(clean_article(article))\n",
    "        page = page + 1\n",
    "    except:\n",
    "        there_are_more_pages = False\n",
    "        break\n",
    "\n",
    "    "
   ]
  },
  {
   "cell_type": "code",
   "execution_count": 13,
   "id": "e538896e-1b55-4dbc-bc8e-e87ccbc765da",
   "metadata": {},
   "outputs": [
    {
     "data": {
      "text/plain": [
       "185"
      ]
     },
     "execution_count": 13,
     "metadata": {},
     "output_type": "execute_result"
    }
   ],
   "source": [
    "len(articles)"
   ]
  },
  {
   "cell_type": "code",
   "execution_count": 14,
   "id": "828ab17c-2223-460a-8d77-f0b978380703",
   "metadata": {},
   "outputs": [],
   "source": [
    "article = articles[0]"
   ]
  },
  {
   "cell_type": "code",
   "execution_count": 15,
   "id": "0b4d86dd-2a9a-4e0d-852d-d2bb77b7af9d",
   "metadata": {},
   "outputs": [
    {
     "data": {
      "text/plain": [
       "{'date': '2022-10-07T02:24:00',\n",
       " 'type': 'post',\n",
       " 'link': 'https://www.plateapr.com/que-hacer-este-fin-de-semana-en-puerto-rico/',\n",
       " 'title': 'Noche de Salsa y otras 11 actividades para este fin de semana sin lastimar el bolsillo',\n",
       " 'content': 'El segundo fin de semana de octubre viene con muchas actividades gratis y eventos artísticos que celebran la cultura caribeña.🇵🇷 Aquí te dejamos 12 eventos para que aproveches tu wikén al máximo. ¿Quieres compartir tu evento? Comienza aquí.&nbsp;🤑 Mood: Actividades Gratis 1. Noche de Salsa | San Juan &nbsp;Dónde: Distrito T-Mobile&nbsp;Cuándo: Viernes, 07 de octubre a las 4:00 p.mDetalles: &nbsp;¡Sal a bailar salsa! Alméstica comienza su gira en la isla con un repertorio caliente con música de Héctore Lavoe, Ismael Rivea, Tommy Olivencia y música original.&nbsp;&nbsp;&nbsp;2. Música Plena de La Sonoridad | San JuanDónde: La Marqueta, San JuanCuándo: Viernes, 7 de octubre de 5 p.m. a 9 p.m.Detalles: Comienza el fin de semana con una visita por La Marqueta y escucha un set de plena moderna y de esquina por La Sonoridad.3. Noches de Jazz | San GermánDónde: El Cabujón, San GermánCuándo: Sábado, 8 de octubre Detalles: Escucha jazz en vivo en esta nueva barra en el casco de San Germán. Ofrecen mesas en la plaza, al igual que un menú extenso de bebidas y cartas de vino.4. ¡Regresa Mercado Pueblo! | CayeyDónde: Casa del Cuento, CayeyCuándo: Sábado, 8 de septiembre de 10 a.m. &#8211; 6:00 p.m.Detalles: Lleva a tu familia y comparte con sobre 30 expositores (artesanos, marcas y productos locales, postres y café) Este evento incluye la presentación de nueva literatura y lecturas de tarot. Durante el día se realizará un recogido de suministros para donar a comunidades afectadas por el huracán Fiona. Para más información puedes visitar las redes sociales de la Cooperativa Editorial de Puerto Rico (@cooplibripr, Instagram). 5. Exhibición: Reconocer el Futuro | San JuanDónde: Souvenir 154, Viejo San JuanCuándo: &nbsp;Sábado, 8 de octubre de 2-6 p.m. y domingo, 9 de octubre de 10-12 p.m.Detalles: Un seria de máscaras y vestuarios de vegijantes que parten desde los íntimo, la memoria, los sueños y la escencia caribeña. Espacio de arte en la Calle Tetuán donde Luis Gabriel Sanabria exibe su primera presentación.6. 21mo Aniversario: Parada Dominicana | San JuanDónde: Ave. Ponce de León, Parada. 24, SanturceCuándo: &nbsp;Domingo, 9 de octubre desde las 10 a.m.Detalles: Este 21mo Aniversario de la tradicional Parada Dominicana será dedicada a Daddy Yankee, David Ortiz y Roberto Clemente. Para más información puedes llamar al 787-536-8645.🔥Mood: Para comer y salir de la rutina    7. Ritual Luna Llena | San JuanDónde: La Isla, SanturceCuándo: &nbsp;Domingo, 9 de octubre desde las 6:30 p.m.Detalles: Disfruta bajo las estrellas en la azotea de este espacio comunitario en el corazón de Santurce. Para reservar, envía un mensaje directo al inbox vía su cuenta @weareisla (Instagram). 8. 5to Cumple de Nacho | San JuanDónde: Nacho Libre, San Hato Rey Cuándo: Viernes, 7 de octubre y sábado, 8 de octubre Detalles: Luego de una pausa por el paso del huracán, este spot de comida mexicana está listo para celebrar su 5to aniversario con musica en vivo de la Banda Basiko, DJ Andrews, el dúo Enyel C y Gianmay DJ Davey. 8. Pop Up en Boca de Lobo | San JuanDónde: Boca de Lobo, Viejo San JuanCuándo: &nbsp;Sábado, 8 de octubre de 12 p.m. a 5 p.m.Detalles: Columpio Studio tendrá su pop up shop en la tienda de fotografía, Boca de Lobo en Viejo San Juan. Encuentra carteras, gorras, accesorios y piezas de segunda mano en un ambiente tranquilo en la ciudad amurallada. 🎃Mood: Ready pa&#8217; Halloween    10. Laberinto Embrujado | YaucoDónde: Mountain Racing, Yauco Cuándo: &nbsp;Sábado, 8 de octubre desde las 10 a.m.Detalles: El costo de entrada por persona para este evento es de $20. Para más información y venta de taquillas haz click aquí. 11. Disfra-Sal: Bridgerton Edition | San Juan Dónde: Amor y Sal, San JuanCuándo: Domingo, 9 de octubre de 9:00 a.m. a 5:00 p.m. Detalles: Llega a disfrutar de un brunch al estilo Bridgerton en Amor y Sal con mimosas Spooky por $5. Si te disfrazas recibirás un descuento en uno de sus Spooky Drinks. 12. Laberinto Embrujado | DoradoDónde: Finca Pastoreo, Bo. Maguayo Carr. 694 Km 5.5Cuándo: Viernes, 7 de octubre y sábado, 8 de octubre de 4:00 p.m. a 10:00 p.m. Detalles: Evento para toda la familia donde puedes aprovechar 10 cuerdas del único laberinto de yerba en Puerto Rico. El costo es de $20 por persona y menores de tres años entran gratis. Se requiere uso de ropa cómoda y zapatos cerrados. Para más información haz click aquí. Entérate de todoHasta aquí el resumen de eventos pa&#8217; tu fin de semana. Si quieres un plan aún más personalizado con recomendaciones y anuncios de aperturas de restaurantes y barras suscríbete a nuestro newsletter. Recibirás el PQTE todos los viernes en la tarde pa’ que no tengas que meterte el group chat a preguntar por el plan del wikén.&nbsp;😉Nota editorial: Esta página se actualiza semanalmente para mantenerte al tanto de nuevos eventos alrededor de la isla.&nbsp;',\n",
       " 'author': 13}"
      ]
     },
     "execution_count": 15,
     "metadata": {},
     "output_type": "execute_result"
    }
   ],
   "source": []
  },
  {
   "cell_type": "code",
   "execution_count": 17,
   "id": "4f213ca6-21af-4914-b238-ca883161e280",
   "metadata": {},
   "outputs": [],
   "source": [
    "import pandas as pd\n",
    "instagram = pd.DataFrame.from_records(articles)\n",
    "instagram.to_csv('wp_posts.csv')"
   ]
  },
  {
   "cell_type": "code",
   "execution_count": null,
   "id": "c771cd3d-6883-4b8d-b044-8df91bf37d4e",
   "metadata": {},
   "outputs": [],
   "source": []
  },
  {
   "cell_type": "code",
   "execution_count": null,
   "id": "d8dc86e0-c733-42a3-b03b-16af0592db2a",
   "metadata": {},
   "outputs": [],
   "source": []
  },
  {
   "cell_type": "code",
   "execution_count": null,
   "id": "e80e4b05-a9a6-44f6-928e-3098a4ea1ed7",
   "metadata": {},
   "outputs": [],
   "source": []
  },
  {
   "cell_type": "code",
   "execution_count": null,
   "id": "8d96f5b8-b281-44be-b570-ceac4af56e98",
   "metadata": {},
   "outputs": [],
   "source": []
  },
  {
   "cell_type": "code",
   "execution_count": null,
   "id": "6b8df4c0-9e97-4e19-93fd-911d3da304a3",
   "metadata": {},
   "outputs": [],
   "source": []
  },
  {
   "cell_type": "code",
   "execution_count": null,
   "id": "5bb2ef64-69c4-4584-a8f3-5403581ec76e",
   "metadata": {},
   "outputs": [],
   "source": []
  }
 ],
 "metadata": {
  "kernelspec": {
   "display_name": "Python 3 (ipykernel)",
   "language": "python",
   "name": "python3"
  },
  "language_info": {
   "codemirror_mode": {
    "name": "ipython",
    "version": 3
   },
   "file_extension": ".py",
   "mimetype": "text/x-python",
   "name": "python",
   "nbconvert_exporter": "python",
   "pygments_lexer": "ipython3",
   "version": "3.9.10"
  }
 },
 "nbformat": 4,
 "nbformat_minor": 5
}
