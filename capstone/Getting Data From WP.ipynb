{
 "cells": [
  {
   "cell_type": "code",
   "execution_count": 48,
   "id": "5091be8e-e968-44dc-86af-f86d1afd85e5",
   "metadata": {},
   "outputs": [],
   "source": [
    "import requests\n",
    "def get_data(page, per_page, filtering = False):\n",
    "    \n",
    "    url =  f\"https://www.plateapr.com/wp-json/wp/v2/posts?page={page}&per_page={per_page}\"\n",
    "    if filtering:\n",
    "        url =  url+\"&_fields[]=title&_fields[]=content&_fields[]=link&_fields[]=date&_fields[]=author&_fields[]=type\"\n",
    "\n",
    "    print(f\"Requesting... {url}\")\n",
    "    result = requests.get(url)\n",
    "    if result.ok:\n",
    "        print(f\"Sucess request... {url}\")\n",
    "    else:\n",
    "        print(url)\n",
    "        raise Exception(\n",
    "            f\"Request failed: {result.text}\")\n",
    "    return result"
   ]
  },
  {
   "cell_type": "code",
   "execution_count": 110,
   "id": "d6238217-64bf-40b6-a78d-463deec9e356",
   "metadata": {},
   "outputs": [
    {
     "name": "stdout",
     "output_type": "stream",
     "text": [
      "Requesting... https://www.plateapr.com/wp-json/wp/v2/posts?page=1&per_page=100&_fields[]=title&_fields[]=content&_fields[]=link&_fields[]=date&_fields[]=author&_fields[]=type\n",
      "Sucess request... https://www.plateapr.com/wp-json/wp/v2/posts?page=1&per_page=100&_fields[]=title&_fields[]=content&_fields[]=link&_fields[]=date&_fields[]=author&_fields[]=type\n",
      "Requesting... https://www.plateapr.com/wp-json/wp/v2/posts?page=2&per_page=100&_fields[]=title&_fields[]=content&_fields[]=link&_fields[]=date&_fields[]=author&_fields[]=type\n",
      "Sucess request... https://www.plateapr.com/wp-json/wp/v2/posts?page=2&per_page=100&_fields[]=title&_fields[]=content&_fields[]=link&_fields[]=date&_fields[]=author&_fields[]=type\n",
      "Requesting... https://www.plateapr.com/wp-json/wp/v2/posts?page=3&per_page=100&_fields[]=title&_fields[]=content&_fields[]=link&_fields[]=date&_fields[]=author&_fields[]=type\n",
      "https://www.plateapr.com/wp-json/wp/v2/posts?page=3&per_page=100&_fields[]=title&_fields[]=content&_fields[]=link&_fields[]=date&_fields[]=author&_fields[]=type\n"
     ]
    }
   ],
   "source": [
    "per_page = 100\n",
    "page = 1\n",
    "\n",
    "there_are_more_pages = True\n",
    "articles = []\n",
    "while(there_are_more_pages):\n",
    "    try:\n",
    "        result = get_data(page, per_page, True)\n",
    "        for article in result.json():\n",
    "            articles.append(article)\n",
    "        page = page + 1\n",
    "    except:\n",
    "        there_are_more_pages = False\n",
    "        break\n",
    "\n",
    "    "
   ]
  },
  {
   "cell_type": "code",
   "execution_count": 147,
   "id": "d3a48788-36c3-4adb-a7f1-50f70994edaa",
   "metadata": {},
   "outputs": [],
   "source": [
    "import re\n",
    "CLEANR = re.compile('<.*?>') \n",
    "\n",
    "def remove_html(raw_html):\n",
    "    cleantext = re.sub(CLEANR, '', raw_html)\n",
    "    return cleantext\n",
    "\n",
    "\n",
    "def remove_characters(raw_string):\n",
    "    \n",
    "    cleantext = re.sub('&#[0-9][0-9][0-9][0-9];', '', raw_string)\n",
    "    cleantext = re.sub('&#[0-9][0-9][0-9];', '', cleantext)\n",
    "    cleantext = re.sub('&#[0-9][0-9];', '', cleantext)\n",
    "    cleantext = re.sub('&nbsp;', '', cleantext)\n",
    "    cleantext = re.sub('&amp;', '&', cleantext)\n",
    "    cleantext = re.sub('// ', '', cleantext)\n",
    "    cleantext = cleantext.replace(\"|\", \"\")\n",
    "    cleantext = cleantext.replace(\"&#8217;\", \"\")\n",
    "    cleantext = cleantext.replace(\"“\", \"\")\n",
    "    cleantext = cleantext.replace(\"”\", \"\")\n",
    "    cleantext = cleantext.replace(\"’\", \"\")\n",
    "    cleantext = cleantext.replace(\"#\", \"\")\n",
    "    cleantext = cleantext.replace(\"-\", \" \")\n",
    "    cleantext = cleantext.replace(\"ü\", \"u\")\n",
    "\n",
    "    \n",
    "    return cleantext\n",
    "\n",
    "def remove_spacing(raw_string):\n",
    "    raw_string = raw_string.replace(\"\\n\", \" \")\n",
    "    return re.sub(\"\\s\\s+\", \" \", raw_string)\n",
    "\n",
    "\n",
    "def remove_emojis(data):\n",
    "\n",
    "    emoj = re.compile(\"[\"\n",
    "    u\"\\U0001F600-\\U0001F64F\"  # emoticons\n",
    "    u\"\\U0001F300-\\U0001F5FF\"  # symbols & pictographs\n",
    "    u\"\\U0001F680-\\U0001F6FF\"  # transport & map symbols\n",
    "    u\"\\U0001F1E0-\\U0001F1FF\"  # flags (iOS)\n",
    "    u\"\\U00002500-\\U00002BEF\"  # chinese char\n",
    "    u\"\\U00002702-\\U000027B0\"\n",
    "    u\"\\U00002702-\\U000027B0\"\n",
    "    u\"\\U000024C2-\\U0001F251\"\n",
    "    u\"\\U0001f926-\\U0001f937\"\n",
    "    u\"\\U00010000-\\U0010ffff\"\n",
    "    u\"\\u2640-\\u2642\" \n",
    "    u\"\\u2600-\\u2B55\"\n",
    "    u\"\\u200d\"\n",
    "    u\"\\u23cf\"\n",
    "    u\"\\u23e9\"\n",
    "    u\"\\u231a\"\n",
    "    u\"\\ufe0f\"  # dingbats\n",
    "    u\"\\u3030\"\n",
    "                  \"]+\", re.UNICODE)\n",
    "    return re.sub(emoj, '', data)\n",
    "\n",
    "\n",
    "def remove_dollars(data):\n",
    "    data = data.replace(\"$ \", \"\")\n",
    "    data = data.replace(\"$\", \"\")\n",
    "\n",
    "    return  data\n",
    "\n",
    "def remove_at_tags(data):\n",
    "    cleantext=  re.sub(r'\\s*\\(@.+?\\)\\s*', ' ', data)\n",
    "    cleantext = cleantext.replace(\"(\", \"\")\n",
    "    cleantext = cleantext.replace(\")\", \"\")\n",
    "    return cleantext\n",
    "\n",
    "def remove_instagram_text(data):\n",
    "    return data.replace(\"View this post on Instagram A post shared by \", \"\")\n",
    "\n",
    "def clean_article(article):\n",
    "    art = dict()\n",
    "    art['title'] = article['title']['rendered']\n",
    "    art['content'] =  remove_instagram_text(remove_at_tags(remove_dollars(remove_emojis(remove_spacing(remove_characters(remove_html(article['content']['rendered']))))).strip()))\n",
    "    art['link'] = article['link']\n",
    "    art['date'] = article['date']\n",
    "    art['author'] = article['author']\n",
    "    art['type'] = article['type']\n",
    "\n",
    "    return art\n",
    "    "
   ]
  },
  {
   "cell_type": "code",
   "execution_count": null,
   "id": "770d1679-a256-4f10-8dcd-fee3bef1ad31",
   "metadata": {},
   "outputs": [],
   "source": []
  },
  {
   "cell_type": "code",
   "execution_count": null,
   "id": "e538896e-1b55-4dbc-bc8e-e87ccbc765da",
   "metadata": {},
   "outputs": [
    {
     "data": {
      "text/plain": [
       "{'title': 'Nueve panaderías artesanales alrededor de la isla para saciar tus antojos',\n",
       " 'content': 'No hay nada mejor que un pan bien tostado, con mantequilla y café. Ya bien lo dice el refrán donde hubo pan, migajas quedan. Pero, cuando pruebes las delicias que tienen para ofrecer estas nueves panaderías artesanales, no quedará ni una sola migaja en tu plato. 1 El Horno de Pane 380 Calle Juan Calaf, San Juan, 00918 coffee shops panaderías Parking Postres Repostería El Horno de Pane En San Juan se encuentra esta panadería artesanal que ofrece una variedad de panes, postres, sándwiches, desayunos, café y tés. Inspirada en las panaderías tradicionales de los barrios de Europa, buscan que cada mañana sus panes y postres recién horneados y frescos reúnan a la familia en la mesa. ¡Tal y como es costumbre en Europa! Por eso su meta es que, en cada visita, te sientas en comunidad y que disfrutes de un pan acabado de salir del horno. Recomendación: Elige entre un clásico francés como el Baguette o algo más creativo como el delicioso Nutella Babka. 2 Lucía Patisserie 25 Avenida de la Constitución, San Juan, 00907 coffee shops Familiar pet friendly Postres Repostería Lucía Patisserie Los Chefs Lucía Merino y Johan Villafañe encontraron su amor por la repostería mientras recorrían Europa en búsqueda de ideas que formaron a Lucia Patisserie. Una repostería que combina lo mejor del mundo gastronómico Europeo con el sabor del caribe. Con una variedad de postres gourmets innovadores que van de lo dulce a lo salado y con los que degustas el buen arte del pastry en cada bocado. En la Avenida Ponce de Leon en Miramar, se encuentra este pequeño paraíso que cada sábado ofrece un manjar distinto. Recomendación: Su menú cambia semanalmente y por temporada.Durante la temporada de Easter no dejes pasar la oportunidad de probar el Orange Rosemary Extra Virgin Olive Oil Loaf y el French Chocolate Silk Pie. Para ordenar alguna de sus creaciones semanales visita su página web cada miércoles y haz tu orden. 3 Levain Artisan Breads Breakfast Brunch Wing Rd 333 C, Maleza Alta, Aguadilla 00603 Aguadilla Levain Si vives en el área oeste de la isla no dudes en darte la vuelta por Levain Artisan Breads. Esta empresa puertorriqueña se dedica a la elabaración de panes y repostería europea. Puede darte la vuelta por su espacio en Aguadilla para recoger tu selección favorita o sentarte a disfrutar un desayuno preparado al momento. Levain ya ofrece delivery en el Viejo San Juan, Mayaguez y Rincón. Para mas detalles de horarios y localizaciones para recogidos, visita su website. Recomendación: Su impresionante Country sourdough o su Baguette Campesino 4 Flor de Harina 47 Av. Winston Churchill, San Juan 00926 brunch coffee shops Parking Postres restaurantes Tapas FLORDEHARINAPR Si estás buscando un homey spot en San Juan, Flor de Harina es tu mejor opción. Esta repostería y restaurante hará de tu visita una mágica. Podrás disfrutar de la variedad de platos deliciosos que incluyen panes horneados diariamente allí. Desde el pan de Torrijos, French toast, panecillos y su especialidad, los bizcochos rellenos. Sus famosos gourmet cakes pueden ser disfrutados desde un pedazo, completo y para fiestas y bodas. Recomendación: Bizcocho relleno de guayaba y Bizcocho de limón. 5 Panoteca San Miguel 1701 Av. Paraná, San Juan por el amor al pan Diego San Miguel ha creado una experiencia de comprar pan muy tradicional. Cada viernes y sábado, de 11am a 2pm, en la Calle Paraná, te esperan recién horneados una variedad de panes hechos por amor al pan, como es el lema de su panadero. Como si estuviésemos en alguna panadería de pueblo en el 1950, la Panoteca de San Miguel, hace de la parada del sábado por el pan, un to do que no podemos olvidar. Recomendación: El favorito del panadero, el Polenta Surfer, y uno de los clásicos, el Campesino. 6 Spiga 258 Calle San Justo, San Juan SPIGA Este restaurante italiano ubicado en Viejo San Juan, no tan solo es conocido por su inigualable Lasagna Bolognese sino por una variedad de panes y goodies para chuparse los dedos. Como no solo de pan vive el hombre Spiga ofrece una variedad de postres de entre los cuales se tiene que destacar sus famosas galletas de chocolate chip. Así como un menú de desayuno y almuerzo con toques europeos que dan más de una razón para visitarlos. Recomendación: Aparte de su variedad de galletas, no puedes irte sin probar su Pan de guineo. 7 Cultura Bread Cultūra Bread Haciendo honor a su nombre, Cultura Bread, utiliza métodos de horneado que mantienen la tradición de hacer el pan. Su variedad de panes son preparados con los mejores ingredientes: levadura natural, harinas y granos directamente de molineros y productores. Todos seleccionados cuidadosamente para ofrecer un pan que respete la tradición. Pronto estarán abriendo su nueva localidad en Santurce, así que pendiente a su página de Instagram, donde comparten sus updates. Recomendación: Sus especiales de menú cambian semanalmente, pero uno de los más que podrás encontrar en cada semana, y que debes probar, es el Sourdough , en todas sus variedades. 8 Baguettes de Puerto Rico Carr. 510 La Fe Plaza A1, Juana Diaz, 00795 Familiar panaderías Parking Baguettes de Puerto Rico Desde 2011, Baguettes de Puerto Rico se ha dado a la tarea del proveer panes artesanales en cientos de tiendas en la isla. Además de ventas al por mayor, este bakery cuenta con una tienda online donde puedes ordenar tus panes favoritos.Aunque su especialidad son los baguettes, también ofrecen pan brioche y hasta pan para preparar hamburguesas. Recomendación: Su caja de panes mixtos brioche de romero y aceite de oliva, mini baguettes y burger buns por 25 9 Lulos Sweet and Savory 959 Av. Las Palmas, San Juan 00907 Postres Repostería Lulos Ahora bien, si estás buscando un postre que te sorprenda, este es el próximo lugar que tienes que visitar. Una especialidad en postres dulces con pizcas de sabor que harán fiesta en tu paladar. Ubicados en Santurce y, como muchas de las panaderías de la lista, los pedidos se hacen semanalmente a través de su página web, en la que también ofrecen productos empacados para envío. A diferencia de otras, su menú cambia cada mes, así que tienes más tiempo para ordenar de entre su variedad de postres. Recomendación: Uno de sus clásicos, El tres leches. ¿A quién no se le hace la boca agua? Con tanta variedad de panaderías, qué difícil decidirse por una. Nuestro consejo es que las sigas a todas y no pierdas la oportunidad de probar sus especialidades. ¡Regálate un dulce capricho!',\n",
       " 'link': 'https://www.plateapr.com/panaderias-artesanales/',\n",
       " 'date': '2022-09-16T01:20:00',\n",
       " 'author': 5,\n",
       " 'type': 'post'}"
      ]
     },
     "execution_count": 148,
     "metadata": {},
     "output_type": "execute_result"
    }
   ],
   "source": [
    "cleaned = [clean_article(a) for a in articles]\n",
    "cleaned[10]"
   ]
  },
  {
   "cell_type": "code",
   "execution_count": 141,
   "id": "4f213ca6-21af-4914-b238-ca883161e280",
   "metadata": {},
   "outputs": [],
   "source": [
    "import pandas as pd\n",
    "data = pd.DataFrame.from_records(cleaned)\n",
    "data.to_csv('./data/wp_posts.csv', index=False)"
   ]
  },
  {
   "cell_type": "code",
   "execution_count": null,
   "id": "d8dc86e0-c733-42a3-b03b-16af0592db2a",
   "metadata": {},
   "outputs": [],
   "source": []
  },
  {
   "cell_type": "markdown",
   "id": "16ba7454-5933-4363-8b54-901df719c523",
   "metadata": {},
   "source": [
    "# Further Clean Up"
   ]
  },
  {
   "cell_type": "code",
   "execution_count": 155,
   "id": "8d96f5b8-b281-44be-b570-ceac4af56e98",
   "metadata": {},
   "outputs": [],
   "source": [
    "to_clean = pd.read_csv('./data/text-similarity-documents.csv')"
   ]
  },
  {
   "cell_type": "code",
   "execution_count": 156,
   "id": "2e7bae16-482b-4050-8502-cfd72aae9687",
   "metadata": {},
   "outputs": [],
   "source": [
    "to_clean['content']= [remove_instagram_text(a) for a in to_clean['content']]"
   ]
  },
  {
   "cell_type": "code",
   "execution_count": 157,
   "id": "6b8df4c0-9e97-4e19-93fd-911d3da304a3",
   "metadata": {},
   "outputs": [],
   "source": [
    "import pandas as pd\n",
    "data = pd.DataFrame.from_records(to_clean)\n",
    "data.to_csv('./data/wp_posts_cleaned.csv', index=False)"
   ]
  },
  {
   "cell_type": "code",
   "execution_count": null,
   "id": "5bb2ef64-69c4-4584-a8f3-5403581ec76e",
   "metadata": {},
   "outputs": [],
   "source": []
  }
 ],
 "metadata": {
  "kernelspec": {
   "display_name": "Python 3 (ipykernel)",
   "language": "python",
   "name": "python3"
  },
  "language_info": {
   "codemirror_mode": {
    "name": "ipython",
    "version": 3
   },
   "file_extension": ".py",
   "mimetype": "text/x-python",
   "name": "python",
   "nbconvert_exporter": "python",
   "pygments_lexer": "ipython3",
   "version": "3.9.10"
  }
 },
 "nbformat": 4,
 "nbformat_minor": 5
}
