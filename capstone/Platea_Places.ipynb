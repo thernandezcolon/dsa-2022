{
 "cells": [
  {
   "cell_type": "code",
   "execution_count": 1,
   "metadata": {
    "id": "gkDv471t5Bqh"
   },
   "outputs": [],
   "source": [
    "import requests\n",
    "import json\n",
    "platea_places_url = \"https://mapa.plateapr.com/api/places\"\n",
    "x = requests.get(platea_places_url)\n",
    "\n",
    "places = json.loads(x.text)['data']"
   ]
  },
  {
   "cell_type": "code",
   "execution_count": 2,
   "metadata": {
    "id": "ymHB3ZBD5NZY"
   },
   "outputs": [],
   "source": [
    "tags = []\n",
    "for place in places:\n",
    "    tags = tags + place['tags']\n",
    "tags = list(set(tags)) # Removing duplicates"
   ]
  },
  {
   "cell_type": "code",
   "execution_count": 3,
   "metadata": {
    "colab": {
     "base_uri": "https://localhost:8080/"
    },
    "id": "1Y_GWkGC6UxR",
    "outputId": "b73453b2-13fd-4d55-e6f3-9adab0d2f174"
   },
   "outputs": [
    {
     "data": {
      "text/plain": [
       "['restaurantes',\n",
       " 'ocean-park',\n",
       " 'aire-libre',\n",
       " 'fine-dining',\n",
       " 'deportes',\n",
       " 'hospedajes',\n",
       " 'boutique-hotels',\n",
       " 'comida-italiana',\n",
       " 'cocteles',\n",
       " 'hiking',\n",
       " 'cuevas',\n",
       " 'clases-y-workshops',\n",
       " 'bakery',\n",
       " 'wi-fi',\n",
       " 'aventura',\n",
       " 'drinks',\n",
       " 'entretenimiento',\n",
       " 'panaderias',\n",
       " 'coffee-shops',\n",
       " 'bed-amp-breakfast',\n",
       " 'dinner',\n",
       " 'tapas',\n",
       " 'arte-y-cultura',\n",
       " 'hidden-gem',\n",
       " 'seafood',\n",
       " 'comida-del-medio-oriente',\n",
       " 'ecoturismo',\n",
       " 'adventure',\n",
       " 'turismo-interno',\n",
       " 'mariscos',\n",
       " 'familiar',\n",
       " 'comida-internacional',\n",
       " 'comida-americana',\n",
       " 'opciones-vegetarianas-y-veganas',\n",
       " 'airbnb',\n",
       " 'budget-friendly',\n",
       " 'food-truck',\n",
       " 'reposteria',\n",
       " 'brewery',\n",
       " 'musica-en-vivo',\n",
       " 'tours',\n",
       " 'area-metro',\n",
       " 'playas',\n",
       " 'barras',\n",
       " 'nightlife',\n",
       " 'eventos',\n",
       " 'parques-y-reservas',\n",
       " 'shopping',\n",
       " 'outdoor-dining',\n",
       " 'speakeasy',\n",
       " 'plaza-publica',\n",
       " 'comida-vegetariana-y-vegana',\n",
       " 'things-to-do',\n",
       " 'comida-criolla',\n",
       " 'juegos-y-diversion',\n",
       " 'parking',\n",
       " 'chinchorro',\n",
       " 'casual-dining',\n",
       " 'comida-fusion',\n",
       " 'family-friendly',\n",
       " 'parques',\n",
       " 'museos',\n",
       " 'comida-mexicana',\n",
       " 'gratis',\n",
       " 'pizzeria',\n",
       " 'heladerias',\n",
       " 'comida-asiatica',\n",
       " 'mountain-bike',\n",
       " 'pet-friendly',\n",
       " 'rooftop',\n",
       " 'postres',\n",
       " 'adjuntas',\n",
       " 'brunch']"
      ]
     },
     "execution_count": 3,
     "metadata": {},
     "output_type": "execute_result"
    }
   ],
   "source": [
    "tags # All tags used on the planner"
   ]
  },
  {
   "cell_type": "code",
   "execution_count": 4,
   "metadata": {
    "id": "R43ZdB-q6Ud6"
   },
   "outputs": [],
   "source": [
    "columns = [\"name\"] + tags\n",
    "\n",
    "values = []\n",
    "\n",
    "for place in places:\n",
    "    tag_values =[1 if tag in place['tags'] else 0 for tag in tags ]\n",
    "  \n",
    "    values.append([place['name']]+tag_values)"
   ]
  },
  {
   "cell_type": "markdown",
   "metadata": {
    "id": "lmD_FuSx80g_"
   },
   "source": []
  },
  {
   "cell_type": "code",
   "execution_count": 5,
   "metadata": {
    "id": "MwHOzXzt81DI"
   },
   "outputs": [],
   "source": [
    "import pandas as pd\n",
    "\n",
    "\n",
    "df = pd.DataFrame(columns = columns, data=values)\n",
    "df.to_csv('data.csv')\n"
   ]
  },
  {
   "cell_type": "code",
   "execution_count": 31,
   "metadata": {
    "colab": {
     "base_uri": "https://localhost:8080/",
     "height": 329
    },
    "id": "ydbmh5Z_-Uwh",
    "outputId": "15e7b32c-749f-4e21-f693-a21dcde301af"
   },
   "outputs": [
    {
     "ename": "ValueError",
     "evalue": "ignored",
     "output_type": "error",
     "traceback": [
      "\u001b[0;31m---------------------------------------------------------------------------\u001b[0m",
      "\u001b[0;31mValueError\u001b[0m                                Traceback (most recent call last)",
      "\u001b[0;32m<ipython-input-31-7b0c2cba9ae5>\u001b[0m in \u001b[0;36m<module>\u001b[0;34m\u001b[0m\n\u001b[1;32m      1\u001b[0m \u001b[0;32mfrom\u001b[0m \u001b[0mgoogle\u001b[0m\u001b[0;34m.\u001b[0m\u001b[0mcolab\u001b[0m \u001b[0;32mimport\u001b[0m \u001b[0mdrive\u001b[0m\u001b[0;34m\u001b[0m\u001b[0;34m\u001b[0m\u001b[0m\n\u001b[0;32m----> 2\u001b[0;31m \u001b[0mdrive\u001b[0m\u001b[0;34m.\u001b[0m\u001b[0mmount\u001b[0m\u001b[0;34m(\u001b[0m\u001b[0;34m'drive'\u001b[0m\u001b[0;34m)\u001b[0m\u001b[0;34m\u001b[0m\u001b[0;34m\u001b[0m\u001b[0m\n\u001b[0m",
      "\u001b[0;32m/usr/local/lib/python3.7/dist-packages/google/colab/drive.py\u001b[0m in \u001b[0;36mmount\u001b[0;34m(mountpoint, force_remount, timeout_ms)\u001b[0m\n\u001b[1;32m    103\u001b[0m       \u001b[0mforce_remount\u001b[0m\u001b[0;34m=\u001b[0m\u001b[0mforce_remount\u001b[0m\u001b[0;34m,\u001b[0m\u001b[0;34m\u001b[0m\u001b[0;34m\u001b[0m\u001b[0m\n\u001b[1;32m    104\u001b[0m       \u001b[0mtimeout_ms\u001b[0m\u001b[0;34m=\u001b[0m\u001b[0mtimeout_ms\u001b[0m\u001b[0;34m,\u001b[0m\u001b[0;34m\u001b[0m\u001b[0;34m\u001b[0m\u001b[0m\n\u001b[0;32m--> 105\u001b[0;31m       ephemeral=True)\n\u001b[0m\u001b[1;32m    106\u001b[0m \u001b[0;34m\u001b[0m\u001b[0m\n\u001b[1;32m    107\u001b[0m \u001b[0;34m\u001b[0m\u001b[0m\n",
      "\u001b[0;32m/usr/local/lib/python3.7/dist-packages/google/colab/drive.py\u001b[0m in \u001b[0;36m_mount\u001b[0;34m(mountpoint, force_remount, timeout_ms, ephemeral)\u001b[0m\n\u001b[1;32m    262\u001b[0m       raise ValueError(\n\u001b[1;32m    263\u001b[0m           \u001b[0mstr\u001b[0m\u001b[0;34m(\u001b[0m\u001b[0mdomain_disabled_drivefs\u001b[0m\u001b[0;34m)\u001b[0m \u001b[0;34m+\u001b[0m\u001b[0;34m\u001b[0m\u001b[0;34m\u001b[0m\u001b[0m\n\u001b[0;32m--> 264\u001b[0;31m           ': https://support.google.com/a/answer/7496409')\n\u001b[0m\u001b[1;32m    265\u001b[0m   \u001b[0mfiltered_logfile\u001b[0m \u001b[0;34m=\u001b[0m \u001b[0m_timeouts_path\u001b[0m\u001b[0;34m(\u001b[0m\u001b[0;34m)\u001b[0m\u001b[0;34m\u001b[0m\u001b[0;34m\u001b[0m\u001b[0m\n\u001b[1;32m    266\u001b[0m   \u001b[0md\u001b[0m\u001b[0;34m.\u001b[0m\u001b[0msendline\u001b[0m\u001b[0;34m(\u001b[0m\u001b[0;34m'fuser -kw \"{f}\" ; rm -rf \"{f}\"'\u001b[0m\u001b[0;34m.\u001b[0m\u001b[0mformat\u001b[0m\u001b[0;34m(\u001b[0m\u001b[0mf\u001b[0m\u001b[0;34m=\u001b[0m\u001b[0mfiltered_logfile\u001b[0m\u001b[0;34m)\u001b[0m\u001b[0;34m)\u001b[0m\u001b[0;34m\u001b[0m\u001b[0;34m\u001b[0m\u001b[0m\n",
      "\u001b[0;31mValueError\u001b[0m: The domain policy has disabled Drive File Stream: https://support.google.com/a/answer/7496409"
     ]
    }
   ],
   "source": [
    "#Ignore from google drive\n",
    "from google.colab import drive\n",
    "drive.mount('drive')\n"
   ]
  },
  {
   "cell_type": "code",
   "execution_count": 29,
   "metadata": {
    "colab": {
     "base_uri": "https://localhost:8080/"
    },
    "id": "RVRhCPZU-FG6",
    "outputId": "079b1a50-37a6-4ac0-8718-a68cacfc97e2"
   },
   "outputs": [
    {
     "name": "stdout",
     "output_type": "stream",
     "text": [
      "cp: cannot create regular file 'drive/My Drive/': No such file or directory\n"
     ]
    }
   ],
   "source": [
    "df.to_csv('data.csv')\n",
    "!cp data.csv \"drive/My Drive/\""
   ]
  },
  {
   "cell_type": "markdown",
   "metadata": {
    "id": "CHy4tF2W6CQa"
   },
   "source": []
  },
  {
   "cell_type": "markdown",
   "metadata": {
    "id": "_CRMM2zg-C3e"
   },
   "source": []
  }
 ],
 "metadata": {
  "colab": {
   "collapsed_sections": [],
   "provenance": []
  },
  "kernelspec": {
   "display_name": "Python 3 (ipykernel)",
   "language": "python",
   "name": "python3"
  },
  "language_info": {
   "codemirror_mode": {
    "name": "ipython",
    "version": 3
   },
   "file_extension": ".py",
   "mimetype": "text/x-python",
   "name": "python",
   "nbconvert_exporter": "python",
   "pygments_lexer": "ipython3",
   "version": "3.9.10"
  }
 },
 "nbformat": 4,
 "nbformat_minor": 4
}
