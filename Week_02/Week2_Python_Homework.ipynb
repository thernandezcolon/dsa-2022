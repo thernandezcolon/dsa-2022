{
  "cells": [
    {
      "cell_type": "markdown",
      "metadata": {
        "id": "eC5CwID9DwCf"
      },
      "source": [
        "## Week2 Python Programming"
      ]
    },
    {
      "cell_type": "markdown",
      "source": [
        "Tania Hernandez Colon Homework"
      ],
      "metadata": {
        "id": "eQuIF6hHJ4uP"
      }
    },
    {
      "cell_type": "markdown",
      "metadata": {
        "id": "hvdG04hrDwCi"
      },
      "source": [
        "In week2, we've covered:\n",
        "* Creating **variables** \n",
        "* Different **data types**:\n",
        "    * int\n",
        "    * float\n",
        "    * boolean\n",
        "    * string\n",
        "* Import **standard library**:\n",
        "    * math\n",
        "    \n",
        "    \n",
        "* **Data structures**:\n",
        "    * List\n",
        "    * Tuples\n",
        "    * Dictionary\n",
        "* **Function**:\n",
        "    * Define function without parameter\n",
        "        * **def** func():\n",
        "    * Define function with parameter\n",
        "        * **def** func(param):\n",
        "* **Control flow**:\n",
        "    * if, elif, else\n",
        "    * for\n",
        "    * while\n",
        "* **DataFrame**:\n",
        "    * Exploring a dataset"
      ]
    },
    {
      "cell_type": "markdown",
      "metadata": {
        "id": "Eed1xSnKDwCj"
      },
      "source": [
        "The best way to consolidate the knowledge in your mind is by practicing.<br>Please complete the part marked with <span style=\"color:green\">**# TODO**</span>.\n",
        "\n",
        "[Google](https://google.com) and [Python Documentation](https://docs.python.org/3/contents.html) are your good friends if you have any python questions."
      ]
    },
    {
      "cell_type": "markdown",
      "metadata": {
        "id": "e4jHXARKDwCj"
      },
      "source": [
        "## Variables and types"
      ]
    },
    {
      "cell_type": "markdown",
      "metadata": {
        "id": "7rHLiv9XDwCj"
      },
      "source": [
        "### Symbol names"
      ]
    },
    {
      "cell_type": "markdown",
      "metadata": {
        "id": "UOxKd429DwCk"
      },
      "source": [
        "Variable names in Python can contain alphanumerical characters `a-z`, `A-Z`, `0-9` and some special characters such as `_`. Normal variable names must start with a letter. \n",
        "\n",
        "By convention, variable names start with a lower-case letter, and Class names start with a capital letter. \n",
        "\n",
        "In addition, there are a number of Python keywords that cannot be used as variable names. These keywords are:\n",
        "\n",
        "    and, as, assert, break, class, continue, def, del, elif, else, except, \n",
        "    exec, finally, for, from, global, if, import, in, is, lambda, not, or,\n",
        "    pass, print, raise, return, try, while, with, yield"
      ]
    },
    {
      "cell_type": "markdown",
      "metadata": {
        "id": "w7C5wQXNDwCk"
      },
      "source": [
        "## Assignment"
      ]
    },
    {
      "cell_type": "markdown",
      "metadata": {
        "id": "mHhyNXocDwCl"
      },
      "source": [
        "\n",
        "The assignment operator in Python is `=`. Python is a dynamically typed language, so we do not need to specify the type of a variable when we create one."
      ]
    },
    {
      "cell_type": "markdown",
      "metadata": {
        "id": "6ubaOAceDwCl"
      },
      "source": [
        "Assign an `int` to a variable with name `x` and print its type."
      ]
    },
    {
      "cell_type": "code",
      "execution_count": null,
      "metadata": {
        "colab": {
          "base_uri": "https://localhost:8080/"
        },
        "id": "l-RMYf0kDwCl",
        "outputId": "9a10a271-7cf1-4802-f036-063db6181230"
      },
      "outputs": [
        {
          "output_type": "stream",
          "name": "stdout",
          "text": [
            "<class 'int'>\n"
          ]
        }
      ],
      "source": [
        "x = 1\n",
        "print(type(x))\n"
      ]
    },
    {
      "cell_type": "markdown",
      "metadata": {
        "id": "LZgUFfj2DwCm"
      },
      "source": [
        "Assign a new value with `string` type to the same variable `x` and print its type."
      ]
    },
    {
      "cell_type": "code",
      "execution_count": null,
      "metadata": {
        "colab": {
          "base_uri": "https://localhost:8080/"
        },
        "id": "qcSfvBLzDwCn",
        "outputId": "d9fb2467-4ce4-48a9-8834-c359f142081b"
      },
      "outputs": [
        {
          "output_type": "stream",
          "name": "stdout",
          "text": [
            "<class 'str'>\n"
          ]
        }
      ],
      "source": [
        "x=\"New string value\"\n",
        "print(type(x))"
      ]
    },
    {
      "cell_type": "markdown",
      "metadata": {
        "id": "LrUsWlv-DwCn"
      },
      "source": [
        "Print the value of a variable that has not been defined, see what error do you get:"
      ]
    },
    {
      "cell_type": "code",
      "execution_count": null,
      "metadata": {
        "colab": {
          "base_uri": "https://localhost:8080/",
          "height": 166
        },
        "id": "QJZFyMQqDwCn",
        "outputId": "13db79d2-8a20-44a3-ca3e-041445ca7573"
      },
      "outputs": [
        {
          "output_type": "error",
          "ename": "NameError",
          "evalue": "ignored",
          "traceback": [
            "\u001b[0;31m---------------------------------------------------------------------------\u001b[0m",
            "\u001b[0;31mNameError\u001b[0m                                 Traceback (most recent call last)",
            "\u001b[0;32m<ipython-input-10-a924ddcda3f0>\u001b[0m in \u001b[0;36m<module>\u001b[0;34m()\u001b[0m\n\u001b[0;32m----> 1\u001b[0;31m \u001b[0mprint\u001b[0m\u001b[0;34m(\u001b[0m\u001b[0mtype\u001b[0m\u001b[0;34m(\u001b[0m\u001b[0mundefinedVariable\u001b[0m\u001b[0;34m)\u001b[0m\u001b[0;34m)\u001b[0m\u001b[0;34m\u001b[0m\u001b[0;34m\u001b[0m\u001b[0m\n\u001b[0m",
            "\u001b[0;31mNameError\u001b[0m: name 'undefinedVariable' is not defined"
          ]
        }
      ],
      "source": [
        "print(type(undefinedVariable))\n",
        "# NameError: name 'undefinedVariable' is not defined"
      ]
    },
    {
      "cell_type": "markdown",
      "metadata": {
        "id": "ojGt7-A-DwCn"
      },
      "source": [
        "## Operators and comparisons"
      ]
    },
    {
      "cell_type": "markdown",
      "metadata": {
        "id": "Ol-HMF47DwCn"
      },
      "source": [
        "Most operators and comparisons in Python work as one would expect:\n",
        "\n",
        "* Arithmetic operators `+`, `-`, `*`, `/`, `//` (integer division), '**' power"
      ]
    },
    {
      "cell_type": "markdown",
      "metadata": {
        "id": "WR_ktTOrDwCo"
      },
      "source": [
        "Print the sum, difference, multiplication, and division between `1` and `2`."
      ]
    },
    {
      "cell_type": "code",
      "execution_count": null,
      "metadata": {
        "colab": {
          "base_uri": "https://localhost:8080/"
        },
        "id": "1ENFcOdCDwCo",
        "outputId": "06d7cae0-8798-40dc-f446-d7babb28c0c0"
      },
      "outputs": [
        {
          "output_type": "stream",
          "name": "stdout",
          "text": [
            "3\n"
          ]
        }
      ],
      "source": [
        "print(1+2)"
      ]
    },
    {
      "cell_type": "code",
      "source": [
        "print(1-2)"
      ],
      "metadata": {
        "colab": {
          "base_uri": "https://localhost:8080/"
        },
        "id": "bTNav7wqE7jx",
        "outputId": "a4ef0b14-b6b9-4487-fa5c-5ad5fbdd75e9"
      },
      "execution_count": null,
      "outputs": [
        {
          "output_type": "stream",
          "name": "stdout",
          "text": [
            "-1\n"
          ]
        }
      ]
    },
    {
      "cell_type": "code",
      "source": [
        "print(1*2)\n"
      ],
      "metadata": {
        "colab": {
          "base_uri": "https://localhost:8080/"
        },
        "id": "JhLhaR9fFGrE",
        "outputId": "7b3805dd-135e-42e0-b3ec-792214490892"
      },
      "execution_count": null,
      "outputs": [
        {
          "output_type": "stream",
          "name": "stdout",
          "text": [
            "2\n"
          ]
        }
      ]
    },
    {
      "cell_type": "code",
      "source": [
        "print(1/2)"
      ],
      "metadata": {
        "colab": {
          "base_uri": "https://localhost:8080/"
        },
        "id": "o_drE1-4FG4C",
        "outputId": "49de24a3-566c-44bb-a29d-e0b83f6c132d"
      },
      "execution_count": null,
      "outputs": [
        {
          "output_type": "stream",
          "name": "stdout",
          "text": [
            "0.5\n"
          ]
        }
      ]
    },
    {
      "cell_type": "markdown",
      "metadata": {
        "id": "ThL46r3_DwCo"
      },
      "source": [
        "\n",
        "Carry out Integer division of two float numbers."
      ]
    },
    {
      "cell_type": "code",
      "execution_count": null,
      "metadata": {
        "colab": {
          "base_uri": "https://localhost:8080/"
        },
        "id": "OPOB1Rg-DwCo",
        "outputId": "5262bab4-f2ca-419d-89c8-5ac3a5630dcd"
      },
      "outputs": [
        {
          "output_type": "execute_result",
          "data": {
            "text/plain": [
              "2.0"
            ]
          },
          "metadata": {},
          "execution_count": 25
        }
      ],
      "source": [
        "3.4//1.2"
      ]
    },
    {
      "cell_type": "markdown",
      "metadata": {
        "id": "LjeGyYa-DwCo"
      },
      "source": [
        "What is the value of `2` Power `15`?"
      ]
    },
    {
      "cell_type": "code",
      "execution_count": null,
      "metadata": {
        "colab": {
          "base_uri": "https://localhost:8080/"
        },
        "id": "iQS8jPgwDwCp",
        "outputId": "cd4c35b1-f810-4d2d-b1ec-608cff126a37"
      },
      "outputs": [
        {
          "output_type": "execute_result",
          "data": {
            "text/plain": [
              "32768"
            ]
          },
          "metadata": {},
          "execution_count": 13
        }
      ],
      "source": [
        "2**15"
      ]
    },
    {
      "cell_type": "markdown",
      "metadata": {
        "id": "GGfMQc2nDwCp"
      },
      "source": [
        "* The boolean operators are spelled out as the words `and`, `not`, `or`.  "
      ]
    },
    {
      "cell_type": "markdown",
      "metadata": {
        "id": "8DKRSM6EDwCp"
      },
      "source": [
        "* Comparison operators `>`, `<`, `>=` (greater or equal), `<=` (less or equal), `==` equality, `is` identical."
      ]
    },
    {
      "cell_type": "markdown",
      "metadata": {
        "id": "s7a6O1mxDwCp"
      },
      "source": [
        "Compare two boolean `True` and `False`"
      ]
    },
    {
      "cell_type": "code",
      "execution_count": null,
      "metadata": {
        "colab": {
          "base_uri": "https://localhost:8080/"
        },
        "id": "KihA4jwBDwCp",
        "outputId": "2107f2e5-c6d4-48d2-d673-a53f451085e7"
      },
      "outputs": [
        {
          "output_type": "execute_result",
          "data": {
            "text/plain": [
              "True"
            ]
          },
          "metadata": {},
          "execution_count": 26
        }
      ],
      "source": [
        "True is not False"
      ]
    },
    {
      "cell_type": "markdown",
      "metadata": {
        "id": "efAHDfnzDwCp"
      },
      "source": [
        "Use `False` to get `True`"
      ]
    },
    {
      "cell_type": "code",
      "execution_count": null,
      "metadata": {
        "colab": {
          "base_uri": "https://localhost:8080/"
        },
        "id": "BmPJa8f_DwCp",
        "outputId": "85a40ce6-9c1c-4b57-a1f6-c42eacc07615"
      },
      "outputs": [
        {
          "output_type": "execute_result",
          "data": {
            "text/plain": [
              "True"
            ]
          },
          "metadata": {},
          "execution_count": 27
        }
      ],
      "source": [
        "not False"
      ]
    },
    {
      "cell_type": "markdown",
      "metadata": {
        "id": "sdx9IXy5DwCq"
      },
      "source": [
        "Include both `False` and `True` in your code to get `True`"
      ]
    },
    {
      "cell_type": "code",
      "execution_count": null,
      "metadata": {
        "colab": {
          "base_uri": "https://localhost:8080/"
        },
        "id": "m3DGf_u8DwCq",
        "outputId": "7da8fbad-4d08-4c26-f7f1-bdcbf1e3a154"
      },
      "outputs": [
        {
          "output_type": "execute_result",
          "data": {
            "text/plain": [
              "True"
            ]
          },
          "metadata": {},
          "execution_count": 28
        }
      ],
      "source": [
        "not False and True"
      ]
    },
    {
      "cell_type": "markdown",
      "metadata": {
        "id": "ZZjn9iGMDwCr"
      },
      "source": [
        "Use two different ways: `==` and `is` to check if `l1` and `l2` is identical."
      ]
    },
    {
      "cell_type": "code",
      "execution_count": null,
      "metadata": {
        "id": "PW-US3gBDwCs"
      },
      "outputs": [],
      "source": [
        "l1 = [1, 2]\n",
        "l2 = [1, 2.0]\n"
      ]
    },
    {
      "cell_type": "code",
      "source": [
        "l1 == l2"
      ],
      "metadata": {
        "colab": {
          "base_uri": "https://localhost:8080/"
        },
        "id": "J61iGTg7HCxn",
        "outputId": "a16ee35d-a288-4944-b3f3-2ced3592d2ee"
      },
      "execution_count": null,
      "outputs": [
        {
          "output_type": "execute_result",
          "data": {
            "text/plain": [
              "True"
            ]
          },
          "metadata": {},
          "execution_count": 32
        }
      ]
    },
    {
      "cell_type": "code",
      "source": [
        "l1 is l2"
      ],
      "metadata": {
        "colab": {
          "base_uri": "https://localhost:8080/"
        },
        "id": "HK9dqSRTG-OL",
        "outputId": "f6f0a083-5261-4365-d3dd-d026710ab889"
      },
      "execution_count": null,
      "outputs": [
        {
          "output_type": "execute_result",
          "data": {
            "text/plain": [
              "False"
            ]
          },
          "metadata": {},
          "execution_count": 31
        }
      ]
    },
    {
      "cell_type": "markdown",
      "metadata": {
        "id": "0G4ARdkuDwCs"
      },
      "source": [
        "## Strings"
      ]
    },
    {
      "cell_type": "markdown",
      "metadata": {
        "id": "NNQcfam4DwCs"
      },
      "source": [
        "Strings are the variables type that is used for storing text messages."
      ]
    },
    {
      "cell_type": "markdown",
      "metadata": {
        "id": "pdUYd5kPDwCs"
      },
      "source": [
        "Create three string variables, and use one `print` to display all three variables."
      ]
    },
    {
      "cell_type": "code",
      "execution_count": null,
      "metadata": {
        "colab": {
          "base_uri": "https://localhost:8080/"
        },
        "id": "hx4YBI9uDwCs",
        "outputId": "cbcc94e7-7a40-4e80-cb69-151a9f9aa5fa"
      },
      "outputs": [
        {
          "output_type": "stream",
          "name": "stdout",
          "text": [
            "Hello Data Science Accelerator!!!\n",
            "Hello  Data Science Accelerator !!!\n"
          ]
        }
      ],
      "source": [
        "string1=\"Hello \"\n",
        "string2=\"Data Science Accelerator\"\n",
        "string3=\"!!!\"\n",
        "print(string1+string2+string3)"
      ]
    },
    {
      "cell_type": "markdown",
      "metadata": {
        "id": "UaYC8bbUDwCs"
      },
      "source": [
        "Check the length of \"Hello world!\"."
      ]
    },
    {
      "cell_type": "code",
      "execution_count": null,
      "metadata": {
        "colab": {
          "base_uri": "https://localhost:8080/"
        },
        "id": "MSUxz0wvDwCs",
        "outputId": "84831d5a-92a0-48cd-8ceb-a5c080afffe4"
      },
      "outputs": [
        {
          "output_type": "execute_result",
          "data": {
            "text/plain": [
              "12"
            ]
          },
          "metadata": {},
          "execution_count": 38
        }
      ],
      "source": [
        "len(\"Hello world!\")"
      ]
    },
    {
      "cell_type": "markdown",
      "metadata": {
        "id": "nB7dp71_DwCs"
      },
      "source": [
        "Get the index `0`character in a string."
      ]
    },
    {
      "cell_type": "code",
      "execution_count": null,
      "metadata": {
        "colab": {
          "base_uri": "https://localhost:8080/",
          "height": 35
        },
        "id": "AIE-2yfUDwCt",
        "outputId": "21bd8969-2ef3-43b7-cd8f-5642f4723fc2"
      },
      "outputs": [
        {
          "output_type": "execute_result",
          "data": {
            "text/plain": [
              "'T'"
            ],
            "application/vnd.google.colaboratory.intrinsic+json": {
              "type": "string"
            }
          },
          "metadata": {},
          "execution_count": 39
        }
      ],
      "source": [
        "a_string = \"This is some text\"\n",
        "a_string[0]"
      ]
    },
    {
      "cell_type": "markdown",
      "metadata": {
        "id": "3zdTZBdeDwCt"
      },
      "source": [
        "Get the first 3 characters in a string."
      ]
    },
    {
      "cell_type": "code",
      "execution_count": null,
      "metadata": {
        "colab": {
          "base_uri": "https://localhost:8080/",
          "height": 35
        },
        "id": "yWHLqYKCDwCt",
        "outputId": "1a87d296-6433-4606-d652-b39fa1a836bc"
      },
      "outputs": [
        {
          "output_type": "execute_result",
          "data": {
            "text/plain": [
              "'Thi'"
            ],
            "application/vnd.google.colaboratory.intrinsic+json": {
              "type": "string"
            }
          },
          "metadata": {},
          "execution_count": 40
        }
      ],
      "source": [
        "a_string[0:3]"
      ]
    },
    {
      "cell_type": "markdown",
      "metadata": {
        "id": "dLdl8DwDDwCt"
      },
      "source": [
        "Use a start index and a stop index to get the fifth character in a string."
      ]
    },
    {
      "cell_type": "code",
      "execution_count": null,
      "metadata": {
        "colab": {
          "base_uri": "https://localhost:8080/",
          "height": 35
        },
        "id": "r7-HBvTODwCt",
        "outputId": "e2ee7f6f-c217-42b7-9ee7-e817a79434a7"
      },
      "outputs": [
        {
          "output_type": "execute_result",
          "data": {
            "text/plain": [
              "'V'"
            ],
            "application/vnd.google.colaboratory.intrinsic+json": {
              "type": "string"
            }
          },
          "metadata": {},
          "execution_count": 41
        }
      ],
      "source": [
        "s = \"Red Ventures\"\n",
        "s[4:5]"
      ]
    },
    {
      "cell_type": "markdown",
      "metadata": {
        "id": "J-b9XYs4DwCt"
      },
      "source": [
        "Get the last character in a string."
      ]
    },
    {
      "cell_type": "code",
      "execution_count": null,
      "metadata": {
        "colab": {
          "base_uri": "https://localhost:8080/",
          "height": 35
        },
        "id": "T6YhgzgMDwCt",
        "outputId": "c6638fce-f16c-4b01-caca-e49dc7ff9e91"
      },
      "outputs": [
        {
          "output_type": "execute_result",
          "data": {
            "text/plain": [
              "'e'"
            ],
            "application/vnd.google.colaboratory.intrinsic+json": {
              "type": "string"
            }
          },
          "metadata": {},
          "execution_count": 43
        }
      ],
      "source": [
        "s = \"Charlotte\"\n",
        "s[len(s)-1]"
      ]
    },
    {
      "cell_type": "markdown",
      "metadata": {
        "id": "iTTbwcqnDwCt"
      },
      "source": [
        "#### Escape characters\n",
        "In Python strings, the backslash \"\\\\\" is a special character, also called the **\"escape\"** character. It is used in representing certain whitespace characters: \"\\t\" is a tab, \"\\n\" is a newline, and \"\\r\" is a carriage return. Conversely, prefixing a special character with \"\\\" turns it into an ordinary character."
      ]
    },
    {
      "cell_type": "markdown",
      "metadata": {
        "id": "yZsx4HwBDwCu"
      },
      "source": [
        "Print out the following strings:\n",
        "<pre>\n",
        "'    Everything is written in pencil.'\n",
        "\n",
        "'Everything is written\n",
        " in pencil.'\n",
        " \n",
        "'Everything \\ is written \\ in pencil.'\n",
        "\n",
        "'Red Ventures brands, just list a few:\n",
        "   * Bankrate\n",
        "   * Reviews.com\n",
        "   * the Points Guy\n",
        "   * creditcards.com'\n",
        "</pre>"
      ]
    },
    {
      "cell_type": "code",
      "execution_count": null,
      "metadata": {
        "colab": {
          "base_uri": "https://localhost:8080/"
        },
        "id": "GBJws2sGDwCu",
        "outputId": "50cd17ae-acdf-45bf-c8c3-0bd8800d539f"
      },
      "outputs": [
        {
          "output_type": "stream",
          "name": "stdout",
          "text": [
            "\tEverything is written in pencil.\n"
          ]
        }
      ],
      "source": [
        "print('\\tEverything is written in pencil.')"
      ]
    },
    {
      "cell_type": "code",
      "source": [
        "print('Everything is written \\nin pencil.')"
      ],
      "metadata": {
        "colab": {
          "base_uri": "https://localhost:8080/"
        },
        "id": "zmaYKiIIIr-c",
        "outputId": "b8aca8bb-8620-4953-ded6-c75e441069e6"
      },
      "execution_count": null,
      "outputs": [
        {
          "output_type": "stream",
          "name": "stdout",
          "text": [
            "Everything is written \n",
            "in pencil.\n"
          ]
        }
      ]
    },
    {
      "cell_type": "code",
      "source": [
        "print('Everything \\ is written \\ in pencil.')"
      ],
      "metadata": {
        "colab": {
          "base_uri": "https://localhost:8080/"
        },
        "id": "C1GFg9IaI9Qz",
        "outputId": "d655eeb6-4b17-47bf-f6d1-525ecf8d66fd"
      },
      "execution_count": null,
      "outputs": [
        {
          "output_type": "stream",
          "name": "stdout",
          "text": [
            "Everything \\ is written \\ in pencil.\n"
          ]
        }
      ]
    },
    {
      "cell_type": "code",
      "source": [
        "print('Red Ventures brands, just list a few:\\n\\t* Bankrate\\n\\t* Reviews.com\\n\\t* the Points Guy\\n\\t* creditcards.com')"
      ],
      "metadata": {
        "colab": {
          "base_uri": "https://localhost:8080/"
        },
        "id": "W9nKRi1CJHnU",
        "outputId": "d87d45fd-3e32-40fa-c858-2ff13e52fbdd"
      },
      "execution_count": null,
      "outputs": [
        {
          "output_type": "stream",
          "name": "stdout",
          "text": [
            "Red Ventures brands, just list a few:\n",
            "\t* Bankrate\n",
            "\t* Reviews.com\n",
            "\t* the Points Guy\n",
            "\t* creditcards.com\n"
          ]
        }
      ]
    },
    {
      "cell_type": "markdown",
      "metadata": {
        "id": "K0TVsRURDwCu"
      },
      "source": [
        "#### String methods\n",
        "Here are some of the most common string methods. A method is like a function, but it runs \"on\" an object. If the variable s is a string, then the code s.lower() runs the lower() method on that string object and returns the result (this idea of a method running on an object is one of the basic ideas that make up Object Oriented Programming, OOP). Here are some of the most common string methods:\n",
        "\n",
        "lower(), upper(), strip(), isdigit(), startswith(), endswith(), find(), replace(), split(), join()\n",
        "\n",
        "[Documentation](https://docs.python.org/3/library/stdtypes.html#string-methods)"
      ]
    },
    {
      "cell_type": "markdown",
      "metadata": {
        "id": "tNaIKFlCDwCu"
      },
      "source": [
        "Convert all letters to lower cases."
      ]
    },
    {
      "cell_type": "code",
      "execution_count": null,
      "metadata": {
        "colab": {
          "base_uri": "https://localhost:8080/",
          "height": 35
        },
        "id": "EhfZbLohDwCu",
        "outputId": "242395da-8c0e-4d64-a444-244a957ad571"
      },
      "outputs": [
        {
          "output_type": "execute_result",
          "data": {
            "text/plain": [
              "'red fish'"
            ],
            "application/vnd.google.colaboratory.intrinsic+json": {
              "type": "string"
            }
          },
          "metadata": {},
          "execution_count": 54
        }
      ],
      "source": [
        "s = 'RED FISH'\n",
        "s.lower()"
      ]
    },
    {
      "cell_type": "markdown",
      "metadata": {
        "id": "7fi64PdBDwCu"
      },
      "source": [
        "Check if string starts with `r`"
      ]
    },
    {
      "cell_type": "code",
      "execution_count": null,
      "metadata": {
        "colab": {
          "base_uri": "https://localhost:8080/"
        },
        "id": "zhQzGy6mDwCu",
        "outputId": "723b17b9-2107-4a0a-8bae-624e9bab2c5b"
      },
      "outputs": [
        {
          "output_type": "execute_result",
          "data": {
            "text/plain": [
              "False"
            ]
          },
          "metadata": {},
          "execution_count": 55
        }
      ],
      "source": [
        "s = 'Run Up Escalators'\n",
        "s.startswith('r')"
      ]
    },
    {
      "cell_type": "markdown",
      "metadata": {
        "id": "N35MIIWvDwCu"
      },
      "source": [
        "Find the index of the single quote."
      ]
    },
    {
      "cell_type": "code",
      "execution_count": null,
      "metadata": {
        "colab": {
          "base_uri": "https://localhost:8080/"
        },
        "id": "42gk_kSaDwCv",
        "outputId": "20356134-b83e-4e28-b8e2-662e2396df00"
      },
      "outputs": [
        {
          "output_type": "execute_result",
          "data": {
            "text/plain": [
              "7"
            ]
          },
          "metadata": {},
          "execution_count": 57
        }
      ],
      "source": [
        "s = \"You don't have to lie.\"\n",
        "s.find(\"'\")"
      ]
    },
    {
      "cell_type": "markdown",
      "metadata": {
        "id": "gcXMTRxFDwCv"
      },
      "source": [
        "## Type casting\n",
        "The process of converting the value of one data type to another is called type casting or type conversion."
      ]
    },
    {
      "cell_type": "markdown",
      "metadata": {
        "id": "E0Eh6oBDDwCv"
      },
      "source": [
        "\n",
        "\n",
        "Cast variable `z` to `int` and print its type."
      ]
    },
    {
      "cell_type": "code",
      "execution_count": null,
      "metadata": {
        "colab": {
          "base_uri": "https://localhost:8080/"
        },
        "id": "KIqmrD8oDwCv",
        "outputId": "310b7a66-0a17-49be-e77e-7ebc0c336916"
      },
      "outputs": [
        {
          "output_type": "stream",
          "name": "stdout",
          "text": [
            "<class 'float'>\n",
            "<class 'int'>\n"
          ]
        }
      ],
      "source": [
        "z=1.6 #Lets define z as a float number\n",
        "print(type(z))\n",
        "z=int(z)\n",
        "print(type(z))"
      ]
    },
    {
      "cell_type": "markdown",
      "metadata": {
        "id": "puE438puDwCv"
      },
      "source": [
        "Are the types of 1 + 2 and 1.0 + 2 the same?"
      ]
    },
    {
      "cell_type": "code",
      "execution_count": null,
      "metadata": {
        "colab": {
          "base_uri": "https://localhost:8080/"
        },
        "id": "3IXXpePYDwCv",
        "outputId": "334194c8-a414-4fad-d19c-c1ddb5505919"
      },
      "outputs": [
        {
          "output_type": "stream",
          "name": "stdout",
          "text": [
            "<class 'int'>\n",
            "<class 'float'>\n",
            "Is the same?: False\n"
          ]
        }
      ],
      "source": [
        "print(type(1+2)) \n",
        "print(type(1.0+2))\n",
        "\n",
        "print(\"Is the same?:\",type(1+2)==type(1.0+2))"
      ]
    },
    {
      "cell_type": "markdown",
      "metadata": {
        "id": "L9GogHO_DwCv"
      },
      "source": [
        "Add num_int and num_str, you should provide two outputs. One is a string and the other is an int."
      ]
    },
    {
      "cell_type": "code",
      "execution_count": null,
      "metadata": {
        "colab": {
          "base_uri": "https://localhost:8080/"
        },
        "id": "fs2KfK5jDwCv",
        "outputId": "85701417-26cd-4d98-9451-38bd971978d4"
      },
      "outputs": [
        {
          "output_type": "stream",
          "name": "stdout",
          "text": [
            "String Output 123456\n",
            "String Number 579\n"
          ]
        }
      ],
      "source": [
        "num_int = 123\n",
        "num_str = \"456\"\n",
        "\n",
        "print(\"String Output\", str(num_int)+ num_str)\n",
        "print(\"String Number\", num_int + int(num_str))"
      ]
    },
    {
      "cell_type": "markdown",
      "metadata": {
        "id": "E3iJrQXYDwCw"
      },
      "source": [
        "What happens if you cast `-1` to a boolean?"
      ]
    },
    {
      "cell_type": "code",
      "execution_count": null,
      "metadata": {
        "colab": {
          "base_uri": "https://localhost:8080/"
        },
        "id": "w4DTe5PnDwCw",
        "outputId": "5de64786-2c06-4db1-cd12-1b705e0a4d49"
      },
      "outputs": [
        {
          "output_type": "execute_result",
          "data": {
            "text/plain": [
              "True"
            ]
          },
          "metadata": {},
          "execution_count": 27
        }
      ],
      "source": [
        "bool(-1)"
      ]
    },
    {
      "cell_type": "markdown",
      "metadata": {
        "id": "_rxio9byDwCw"
      },
      "source": [
        "## Standard Library\n",
        "Python’s standard library is very extensive, offering a wide range of facilities. The library contains built-in modules (written in C) that provide access to system functionality as well as modules written in Python that provide standardized solutions for many problems that occur in everyday programming. \n",
        "\n",
        "For example, the `math` module gives access to the underlying C library functions for floating point math.\n",
        "\n",
        "[Documentation](https://docs.python.org/3/library/math.html)\n",
        "<br>\n",
        "<br>"
      ]
    },
    {
      "cell_type": "markdown",
      "metadata": {
        "id": "oFEOqwsCDwCw"
      },
      "source": [
        "Import math module and calculate $e^4$."
      ]
    },
    {
      "cell_type": "code",
      "execution_count": null,
      "metadata": {
        "colab": {
          "base_uri": "https://localhost:8080/"
        },
        "id": "3KVfnl5NDwCw",
        "outputId": "4d04976d-71a8-46a5-9777-9c284b7a95b9"
      },
      "outputs": [
        {
          "output_type": "execute_result",
          "data": {
            "text/plain": [
              "54.598150033144236"
            ]
          },
          "metadata": {},
          "execution_count": 81
        }
      ],
      "source": [
        "import math\n",
        "math.exp(4)"
      ]
    },
    {
      "cell_type": "markdown",
      "metadata": {
        "id": "Ms6Z3zUrDwCw"
      },
      "source": [
        "Calculate the value of $log_2(8)$."
      ]
    },
    {
      "cell_type": "code",
      "execution_count": null,
      "metadata": {
        "colab": {
          "base_uri": "https://localhost:8080/"
        },
        "id": "Zwf5QiAUDwCw",
        "outputId": "db7f18cf-4de5-4c83-f11b-bc166a5e2948"
      },
      "outputs": [
        {
          "output_type": "execute_result",
          "data": {
            "text/plain": [
              "3.0"
            ]
          },
          "metadata": {},
          "execution_count": 82
        }
      ],
      "source": [
        "math.log2(8)\n"
      ]
    },
    {
      "cell_type": "markdown",
      "metadata": {
        "id": "TBG4pRaUDwCw"
      },
      "source": [
        "Calculate the value of $\\sqrt{100}$."
      ]
    },
    {
      "cell_type": "code",
      "execution_count": null,
      "metadata": {
        "colab": {
          "base_uri": "https://localhost:8080/"
        },
        "id": "wVDJzYgwDwCw",
        "outputId": "65465719-5875-40d1-c581-9b0168dd1fa7"
      },
      "outputs": [
        {
          "output_type": "execute_result",
          "data": {
            "text/plain": [
              "10.0"
            ]
          },
          "metadata": {},
          "execution_count": 83
        }
      ],
      "source": [
        "math.sqrt(100)"
      ]
    },
    {
      "cell_type": "markdown",
      "metadata": {
        "id": "KoFRBQ_LDwCx"
      },
      "source": [
        "## List\n",
        "[List Documentation](https://www.w3schools.com/python/python_lists.asp)  "
      ]
    },
    {
      "cell_type": "markdown",
      "metadata": {
        "id": "r0FYtqgFDwCx"
      },
      "source": [
        "### 1. Fill the ___ parts of code below"
      ]
    },
    {
      "cell_type": "code",
      "execution_count": null,
      "metadata": {
        "id": "8MoGpIsGDwCx"
      },
      "outputs": [],
      "source": [
        "# Let's create an empty list\n",
        "my_list = []\n",
        "\n",
        "# Let's add some values\n",
        "my_list.append('Python')\n",
        "my_list.append('is ok')\n",
        "my_list.append('sometimes')\n",
        "\n",
        "# Let's remove 'sometimes'\n",
        "my_list.remove('sometimes')\n",
        "\n",
        "# Let's change the second item\n",
        "my_list[1] = 'is neat'"
      ]
    },
    {
      "cell_type": "code",
      "execution_count": null,
      "metadata": {
        "id": "GvbAMlY8DwCx"
      },
      "outputs": [],
      "source": [
        "# Let's verify that it's correct\n",
        "assert my_list == ['Python', 'is neat']"
      ]
    },
    {
      "cell_type": "markdown",
      "metadata": {
        "id": "WdfzEd1ADwCx"
      },
      "source": [
        "### 2. Create a new list without modifying the original one"
      ]
    },
    {
      "cell_type": "code",
      "execution_count": null,
      "metadata": {
        "id": "cXfqXxAKDwCx"
      },
      "outputs": [],
      "source": [
        "original = ['I', 'am', 'learning', 'hacking', 'in']"
      ]
    },
    {
      "cell_type": "code",
      "execution_count": null,
      "metadata": {
        "colab": {
          "base_uri": "https://localhost:8080/"
        },
        "id": "INq0fxL5DwCx",
        "outputId": "61f29fc7-7b42-469f-9cf7-ca9f77b47aef"
      },
      "outputs": [
        {
          "output_type": "stream",
          "name": "stdout",
          "text": [
            "['I', 'am', 'learning', 'lists', 'in', 'Python']\n"
          ]
        }
      ],
      "source": [
        "modified = original + [\"Python\"]\n",
        "modified[3] = \"lists\"\n",
        "print(modified)"
      ]
    },
    {
      "cell_type": "code",
      "execution_count": null,
      "metadata": {
        "id": "7MbAJMgzDwCx"
      },
      "outputs": [],
      "source": [
        "assert original == ['I', 'am', 'learning', 'hacking', 'in']\n",
        "assert modified == ['I', 'am', 'learning', 'lists', 'in', 'Python']"
      ]
    },
    {
      "cell_type": "markdown",
      "metadata": {
        "id": "jcxSt52uDwCy"
      },
      "source": [
        "### 3. Create a merged sorted list"
      ]
    },
    {
      "cell_type": "code",
      "execution_count": null,
      "metadata": {
        "id": "x65uF99NDwCy"
      },
      "outputs": [],
      "source": [
        "list1 = [6, 12, 5]\n",
        "list2 = [6.2, 0, 14, 1]\n",
        "list3 = [0.9]"
      ]
    },
    {
      "cell_type": "code",
      "execution_count": null,
      "metadata": {
        "id": "_KyPTegkDwCy"
      },
      "outputs": [],
      "source": [
        "my_list = list1+list2+list3\n",
        "my_list.sort(reverse=True)"
      ]
    },
    {
      "cell_type": "code",
      "execution_count": null,
      "metadata": {
        "id": "DK2_btnKDwCy",
        "colab": {
          "base_uri": "https://localhost:8080/"
        },
        "outputId": "c2b0b5a1-a5ec-478d-a75a-e5015096fa87"
      },
      "outputs": [
        {
          "output_type": "stream",
          "name": "stdout",
          "text": [
            "[14, 12, 6.2, 6, 5, 1, 0.9, 0]\n"
          ]
        }
      ],
      "source": [
        "print(my_list)\n",
        "assert my_list == [14, 12, 6.2, 6, 5, 1, 0.9, 0]"
      ]
    },
    {
      "cell_type": "markdown",
      "metadata": {
        "id": "6NjioSn9DwCy"
      },
      "source": [
        "### 4. Loop through a list  \n",
        "[For Loops Documentation](https://www.w3schools.com/python/python_for_loops.asp)  \n",
        "[While Loops Documentation](https://www.w3schools.com/python/python_while_loops.asp)"
      ]
    },
    {
      "cell_type": "markdown",
      "metadata": {
        "id": "1HAX6sz2DwCy"
      },
      "source": [
        "Loop through a list and check:\n",
        "* If an item is a float, cast the float to int.\n",
        "* If an item is an int, cast the int to float\n",
        "* Hint: use isinstance()"
      ]
    },
    {
      "cell_type": "code",
      "source": [
        "help(isinstance)"
      ],
      "metadata": {
        "colab": {
          "base_uri": "https://localhost:8080/"
        },
        "id": "g7eZBDEpP8gg",
        "outputId": "11216d0d-41aa-4ced-d576-a4fd5031a9c4"
      },
      "execution_count": null,
      "outputs": [
        {
          "output_type": "stream",
          "name": "stdout",
          "text": [
            "Help on built-in function isinstance in module builtins:\n",
            "\n",
            "isinstance(obj, class_or_tuple, /)\n",
            "    Return whether an object is an instance of a class or of a subclass thereof.\n",
            "    \n",
            "    A tuple, as in ``isinstance(x, (A, B, ...))``, may be given as the target to\n",
            "    check against. This is equivalent to ``isinstance(x, A) or isinstance(x, B)\n",
            "    or ...`` etc.\n",
            "\n"
          ]
        }
      ]
    },
    {
      "cell_type": "code",
      "execution_count": null,
      "metadata": {
        "id": "5PCHbR_UDwCy"
      },
      "outputs": [],
      "source": [
        "# use for loop\n",
        "\n",
        "loop_list1 = [1101, 704.971, 'Fort Mill']\n",
        "temp_list = []\n",
        "for item in loop_list1:\n",
        "  if isinstance(item, float):\n",
        "   temp_list.append(int(item))\n",
        "  elif isinstance(item, int):\n",
        "   temp_list.append(float(item))\n",
        "  else:\n",
        "    temp_list.append(item)\n",
        "\n",
        "\n",
        "loop_list1 = temp_list"
      ]
    },
    {
      "cell_type": "markdown",
      "source": [
        ""
      ],
      "metadata": {
        "id": "AoPzOFQCP4tD"
      }
    },
    {
      "cell_type": "code",
      "execution_count": null,
      "metadata": {
        "id": "J929bH09DwCy",
        "colab": {
          "base_uri": "https://localhost:8080/"
        },
        "outputId": "5b095e44-64af-47f8-d1b8-30e78c99b771"
      },
      "outputs": [
        {
          "output_type": "stream",
          "name": "stdout",
          "text": [
            "[1101.0, 704, 'Fort Mill']\n"
          ]
        }
      ],
      "source": [
        "print(loop_list1)\n",
        "assert loop_list1 == [1101.0, 704, 'Fort Mill']"
      ]
    },
    {
      "cell_type": "code",
      "execution_count": null,
      "metadata": {
        "id": "XR7WuWLlDwCy"
      },
      "outputs": [],
      "source": [
        "# use while loop\n",
        "loop_list2 = [1101, 704.971, 'Fort Mill']\n",
        "temp_list = []\n",
        "index = 0\n",
        "while(index < len(loop_list2)):\n",
        "  item = loop_list2[index]\n",
        "  if isinstance(item, float):\n",
        "   temp_list.append(int(item))\n",
        "  elif isinstance(item, int):\n",
        "   temp_list.append(float(item))\n",
        "  else:\n",
        "    temp_list.append(item)\n",
        "\n",
        "  index = index + 1\n",
        "\n",
        "\n",
        "loop_list2 = temp_list\n",
        "\n",
        "\n"
      ]
    },
    {
      "cell_type": "code",
      "execution_count": null,
      "metadata": {
        "id": "76jexscLDwCy",
        "colab": {
          "base_uri": "https://localhost:8080/"
        },
        "outputId": "313b771a-e3eb-4932-8965-3206ac17e668"
      },
      "outputs": [
        {
          "output_type": "stream",
          "name": "stdout",
          "text": [
            "[1101.0, 704, 'Fort Mill']\n"
          ]
        }
      ],
      "source": [
        "print(loop_list2)\n",
        "assert loop_list2 == [1101.0, 704, 'Fort Mill']"
      ]
    },
    {
      "cell_type": "markdown",
      "metadata": {
        "id": "T02rhfouDwCz"
      },
      "source": [
        "## Tuples\n",
        "[Tuples Documentation](https://www.w3schools.com/python/python_tuples.asp)"
      ]
    },
    {
      "cell_type": "markdown",
      "metadata": {
        "id": "7LpXwH8MDwCz"
      },
      "source": [
        "### 1. Fill the ___ parts of code below"
      ]
    },
    {
      "cell_type": "code",
      "execution_count": null,
      "metadata": {
        "id": "D6qSnUQTDwCz",
        "colab": {
          "base_uri": "https://localhost:8080/"
        },
        "outputId": "a627822b-f196-4454-8fe6-00a83de6b9d4"
      },
      "outputs": [
        {
          "output_type": "stream",
          "name": "stdout",
          "text": [
            "(1, 1.2, 'Hello There') <class 'tuple'>\n",
            "[1, 1.2, 'Hello There'] <class 'list'>\n",
            "(1, 1.2, 'Hello There') <class 'tuple'>\n"
          ]
        }
      ],
      "source": [
        "# create a tuple with items of different data types\n",
        "my_tuple = (1, 1.2, \"Hello There\")\n",
        "print(my_tuple, type(my_tuple))\n",
        "\n",
        "# Unpack my_tuple in several variables\n",
        "my_integer, my_float, my_string= my_tuple\n",
        "\n",
        "# convert my_tuple to list and assign to variable my_list\n",
        "my_list = list(my_tuple)\n",
        "print(my_list, type(my_list))\n",
        "\n",
        "# convert my_list to tuple and assign to variable my_new_tuple\n",
        "my_new_tuple = tuple(my_list)\n",
        "print(my_new_tuple, type(my_new_tuple))"
      ]
    },
    {
      "cell_type": "markdown",
      "metadata": {
        "id": "dgQQs_jxDwCz"
      },
      "source": [
        "### 2. Check the immutable property of tuple"
      ]
    },
    {
      "cell_type": "code",
      "execution_count": null,
      "metadata": {
        "id": "mHaNRngPDwCz",
        "colab": {
          "base_uri": "https://localhost:8080/"
        },
        "outputId": "4f5d87ff-e6f5-4cd7-933d-f092462c180d"
      },
      "outputs": [
        {
          "output_type": "stream",
          "name": "stdout",
          "text": [
            "TUPLE------------------------------------------------------------------\n",
            "(1101, 'Red', 'Ventures', 'Drive') <class 'tuple'>\n",
            "139766255168208\n",
            "(1101, 'Red', 'Ventures', 'Drive', 29707) <class 'tuple'>\n",
            "139766467093136\n",
            "LIST-------------------------------------------------------------------\n",
            "[1101, 'Red', 'Ventures', 'Drive'] <class 'list'>\n",
            "139766254734224\n",
            "None <class 'NoneType'>\n",
            "11125344\n"
          ]
        }
      ],
      "source": [
        "print(\"TUPLE------------------------------------------------------------------\")\n",
        "\n",
        "rv_tuple = 1101, 'Red', 'Ventures', 'Drive'\n",
        "print(rv_tuple, type(rv_tuple))\n",
        "# check id\n",
        "print(id(rv_tuple))\n",
        "# modify the variable\n",
        "rv_tuple = rv_tuple + (29707, )\n",
        "print(rv_tuple, type(rv_tuple))\n",
        "# check id\n",
        "print(id(rv_tuple))\n",
        "\n",
        "# Do the same exercises as above for a list and see the difference\n",
        "# Remember list is mutable\n",
        "print(\"LIST-------------------------------------------------------------------\")\n",
        "rv_list = [1101, 'Red', 'Ventures', 'Drive']\n",
        "print(rv_list, type(rv_list))\n",
        "# check id\n",
        "print(id(rv_list))\n",
        "# modify the variable\n",
        "rv_list = rv_list.append(29707)\n",
        "print(rv_list, type(rv_list))\n",
        "# check id\n",
        "print(id(rv_list))"
      ]
    },
    {
      "cell_type": "markdown",
      "metadata": {
        "id": "VhAPG0KUDwCz"
      },
      "source": [
        "### 3. Define Functions  \n",
        "\n",
        "[Functions Documentation](https://www.w3schools.com/python/python_functions.asp)\n",
        "\n",
        "Write a function that accepts a string and return the number of uppercase letters and lowercase letters."
      ]
    },
    {
      "cell_type": "code",
      "execution_count": null,
      "metadata": {
        "id": "0RysfJIqDwCz"
      },
      "outputs": [],
      "source": [
        "def check_case(input_string):\n",
        "  uppercase_number=0\n",
        "  lowercase_number=0\n",
        "  for letter in input_string:\n",
        "    if letter.isupper():\n",
        "      uppercase_number = uppercase_number + 1\n",
        "    elif letter.islower():\n",
        "      lowercase_number = lowercase_number + 1\n",
        "\n",
        "  return uppercase_number, lowercase_number\n"
      ]
    },
    {
      "cell_type": "code",
      "execution_count": null,
      "metadata": {
        "id": "IgZWJyieDwCz"
      },
      "outputs": [],
      "source": [
        "my_string = \"This is Week3 Python Programming Homework.\"\n",
        "assert check_case(my_string)[0] == 5\n",
        "assert check_case(my_string)[1] == 30"
      ]
    },
    {
      "cell_type": "markdown",
      "metadata": {
        "id": "24xWIkpNDwCz"
      },
      "source": [
        "## Dictionary\n",
        "[Dictionary Documentation](https://www.w3schools.com/python/python_dictionaries.asp)"
      ]
    },
    {
      "cell_type": "markdown",
      "metadata": {
        "id": "jUdoAMp9DwCz"
      },
      "source": [
        "### 1. Fill the ___ parts of code below"
      ]
    },
    {
      "cell_type": "code",
      "execution_count": null,
      "metadata": {
        "id": "SNFgzu5xDwC0",
        "colab": {
          "base_uri": "https://localhost:8080/"
        },
        "outputId": "640d7bf2-4606-496e-81cb-3341917cb5f7"
      },
      "outputs": [
        {
          "output_type": "stream",
          "name": "stdout",
          "text": [
            "{} <class 'dict'>\n",
            "{'class': 'DSA'} <class 'dict'>\n",
            "{'class': 'DSA', 'week': '2'}\n",
            "{'class': 'DSA'}\n"
          ]
        }
      ],
      "source": [
        "# create an empty dictionary\n",
        "my_dict = dict()\n",
        "print(my_dict, type(my_dict))\n",
        "\n",
        "# create a dictionary with values\n",
        "my_dict = {\"class\":\"DSA\"}\n",
        "print(my_dict, type(my_dict))\n",
        "\n",
        "# add key/value to my_dict\n",
        "my_dict[\"week\"] = \"2\"\n",
        "print(my_dict)\n",
        "\n",
        "# remove the key you added from my_dict\n",
        "my_dict.pop(\"week\",None)\n",
        "print(my_dict)"
      ]
    },
    {
      "cell_type": "markdown",
      "metadata": {
        "id": "ageERgEkDwC0"
      },
      "source": [
        "### 2. Sort Dictionary\n",
        "\n",
        "Print out key/value pair by the ascending order of keys."
      ]
    },
    {
      "cell_type": "code",
      "execution_count": null,
      "metadata": {
        "id": "YXjYaGJgDwC0",
        "colab": {
          "base_uri": "https://localhost:8080/"
        },
        "outputId": "1663c413-114b-4128-83aa-c8d603062280"
      },
      "outputs": [
        {
          "output_type": "stream",
          "name": "stdout",
          "text": [
            "Austin TX\n",
            "Charlotte NC\n",
            "Los Angeles CA\n",
            "New York NY\n"
          ]
        }
      ],
      "source": [
        "location_dict = {'Charlotte': 'NC', 'Austin': 'TX', 'New York': 'NY', 'Los Angeles': 'CA'}\n",
        "for key in sorted(location_dict.keys()):\n",
        "  print(key,location_dict[key])\n"
      ]
    },
    {
      "cell_type": "markdown",
      "metadata": {
        "id": "hukDmVjmDwC0"
      },
      "source": [
        "Display the location_dict by the descending order of values."
      ]
    },
    {
      "cell_type": "code",
      "execution_count": null,
      "metadata": {
        "id": "kzXue8t0DwC0",
        "colab": {
          "base_uri": "https://localhost:8080/"
        },
        "outputId": "951296d4-aee8-4afd-ae1d-0593b43aaabe"
      },
      "outputs": [
        {
          "output_type": "stream",
          "name": "stdout",
          "text": [
            "Austin TX\n",
            "New York NY\n",
            "Charlotte NC\n",
            "Los Angeles CA\n"
          ]
        }
      ],
      "source": [
        "location_dict = {'Charlotte': 'NC', 'Austin': 'TX', 'New York': 'NY', 'Los Angeles': 'CA'}\n",
        "keys = list(location_dict.keys()) # Original order list of keys\n",
        "values = list(location_dict.values()) # Original order list of values\n",
        "for v in sorted(values, reverse=True): # Iterating over the descending order of values\n",
        "  key_index = values.index(v) # Finding the index of the value on the original order\n",
        "  print(keys[key_index], v) # Getting the key based of that original order and the value\n",
        "\n"
      ]
    },
    {
      "cell_type": "markdown",
      "metadata": {
        "id": "0X1NcJGiDwC0"
      },
      "source": [
        "## Set"
      ]
    },
    {
      "cell_type": "markdown",
      "metadata": {
        "id": "HsKvAinVDwC0"
      },
      "source": [
        "Though `set` is not covered in the video materials, it is also one of the major data structures in Python.\n",
        "\n",
        "[Set Documentation](https://www.w3schools.com/python/python_sets.asp)"
      ]
    },
    {
      "cell_type": "markdown",
      "metadata": {
        "id": "f4lzuI8HDwC0"
      },
      "source": [
        "### 1. Fill the ____ parts of code below"
      ]
    },
    {
      "cell_type": "code",
      "execution_count": null,
      "metadata": {
        "id": "ES5F6dMvDwC0",
        "colab": {
          "base_uri": "https://localhost:8080/"
        },
        "outputId": "646afbd7-b639-492c-c48e-d9a205b9663b"
      },
      "outputs": [
        {
          "output_type": "stream",
          "name": "stdout",
          "text": [
            "set() <class 'set'> \n",
            "\n",
            "{1, 2, 3} <class 'set'> \n",
            "\n",
            "{1, 2, 3, 4} \n",
            "\n",
            "{1, 2, 3} \n",
            "\n"
          ]
        }
      ],
      "source": [
        "# create an set\n",
        "my_set = set()\n",
        "print(my_set, type(my_set), '\\n')\n",
        "\n",
        "# create a set with values\n",
        "my_set = {1,2,3}\n",
        "print(my_set, type(my_set), '\\n')\n",
        "\n",
        "# add a new value to my_set\n",
        "# the value should be a different\n",
        "my_set.add(4)\n",
        "print(my_set, '\\n')\n",
        "\n",
        "\n",
        "# remove the value you added from my_set\n",
        "my_set.remove(4)\n",
        "print(my_set, '\\n')"
      ]
    },
    {
      "cell_type": "markdown",
      "metadata": {
        "id": "-irDf7Q5DwC0"
      },
      "source": [
        "### 2. Set Manipulation"
      ]
    },
    {
      "cell_type": "markdown",
      "metadata": {
        "id": "hpPvh4WvDwC1"
      },
      "source": [
        "Use a list  with duplicated values and a tuple to create two sets respectively, and get a union set between those two."
      ]
    },
    {
      "cell_type": "code",
      "execution_count": null,
      "metadata": {
        "id": "CE4wqJ8xDwC1",
        "colab": {
          "base_uri": "https://localhost:8080/"
        },
        "outputId": "aab85983-dd39-4793-c083-e4be8be413be"
      },
      "outputs": [
        {
          "output_type": "execute_result",
          "data": {
            "text/plain": [
              "{1, 2, 3, 4, 5, 6, 7, 8}"
            ]
          },
          "metadata": {},
          "execution_count": 103
        }
      ],
      "source": [
        "the_list = [1,2,2,2,3,3,3,3,4]\n",
        "the_tuple = (5,6,7,7,8)\n",
        "set1=set(the_list)\n",
        "set2=set(the_tuple)\n",
        "set1.union(set2)"
      ]
    },
    {
      "cell_type": "markdown",
      "metadata": {
        "id": "nxIU_yiyDwC1"
      },
      "source": [
        "Create two sets `my_set1` and `my_set2`, and get values in `my_set1` but not in `my_set2`."
      ]
    },
    {
      "cell_type": "code",
      "execution_count": null,
      "metadata": {
        "id": "-ysCIzESDwC1",
        "colab": {
          "base_uri": "https://localhost:8080/"
        },
        "outputId": "a337ce5d-3e89-4537-a240-1b5b8ee9aae1"
      },
      "outputs": [
        {
          "output_type": "execute_result",
          "data": {
            "text/plain": [
              "{1, 2}"
            ]
          },
          "metadata": {},
          "execution_count": 106
        }
      ],
      "source": [
        "my_set1 = {1,2,3,4,5}\n",
        "my_set2 = {3,4,5,6,7,7,8}\n",
        "my_set1.difference(my_set2)"
      ]
    },
    {
      "cell_type": "markdown",
      "metadata": {
        "id": "igFAl3jjDwC1"
      },
      "source": [
        "## DataFrames"
      ]
    },
    {
      "cell_type": "markdown",
      "metadata": {
        "id": "bz4m1iYADwC1"
      },
      "source": [
        "[Dataframe Documentation](https://pandas.pydata.org/pandas-docs/stable/reference/api/pandas.DataFrame.html)"
      ]
    },
    {
      "cell_type": "code",
      "execution_count": null,
      "metadata": {
        "id": "L2_H6_wwDwC1"
      },
      "outputs": [],
      "source": [
        "import pandas as pd\n",
        "url = 'https://archive.ics.uci.edu/ml/machine-learning-databases/wine-quality/winequality-red.csv'\n",
        "\n",
        "# Download the CSV from the above url.\n",
        "# This csv is separated by a ';' so we need to add that as a parameter to the read_csv method.\n",
        "df = pd.read_csv(url, sep=';')"
      ]
    },
    {
      "cell_type": "markdown",
      "metadata": {
        "id": "vHfi6rnrDwC1"
      },
      "source": [
        "Show the first 6 rows of the `df` dataframe"
      ]
    },
    {
      "cell_type": "code",
      "execution_count": null,
      "metadata": {
        "id": "9k3PxjktDwC1",
        "colab": {
          "base_uri": "https://localhost:8080/",
          "height": 238
        },
        "outputId": "28accca5-5aae-4451-de3c-75c9a36d5d9a"
      },
      "outputs": [
        {
          "output_type": "execute_result",
          "data": {
            "text/plain": [
              "   fixed acidity  volatile acidity  citric acid  residual sugar  chlorides  \\\n",
              "0            7.4              0.70         0.00             1.9      0.076   \n",
              "1            7.8              0.88         0.00             2.6      0.098   \n",
              "2            7.8              0.76         0.04             2.3      0.092   \n",
              "3           11.2              0.28         0.56             1.9      0.075   \n",
              "4            7.4              0.70         0.00             1.9      0.076   \n",
              "5            7.4              0.66         0.00             1.8      0.075   \n",
              "\n",
              "   free sulfur dioxide  total sulfur dioxide  density    pH  sulphates  \\\n",
              "0                 11.0                  34.0   0.9978  3.51       0.56   \n",
              "1                 25.0                  67.0   0.9968  3.20       0.68   \n",
              "2                 15.0                  54.0   0.9970  3.26       0.65   \n",
              "3                 17.0                  60.0   0.9980  3.16       0.58   \n",
              "4                 11.0                  34.0   0.9978  3.51       0.56   \n",
              "5                 13.0                  40.0   0.9978  3.51       0.56   \n",
              "\n",
              "   alcohol  quality  \n",
              "0      9.4        5  \n",
              "1      9.8        5  \n",
              "2      9.8        5  \n",
              "3      9.8        6  \n",
              "4      9.4        5  \n",
              "5      9.4        5  "
            ],
            "text/html": [
              "\n",
              "  <div id=\"df-1ad31bf7-a308-4368-b973-fdfcd897fe49\">\n",
              "    <div class=\"colab-df-container\">\n",
              "      <div>\n",
              "<style scoped>\n",
              "    .dataframe tbody tr th:only-of-type {\n",
              "        vertical-align: middle;\n",
              "    }\n",
              "\n",
              "    .dataframe tbody tr th {\n",
              "        vertical-align: top;\n",
              "    }\n",
              "\n",
              "    .dataframe thead th {\n",
              "        text-align: right;\n",
              "    }\n",
              "</style>\n",
              "<table border=\"1\" class=\"dataframe\">\n",
              "  <thead>\n",
              "    <tr style=\"text-align: right;\">\n",
              "      <th></th>\n",
              "      <th>fixed acidity</th>\n",
              "      <th>volatile acidity</th>\n",
              "      <th>citric acid</th>\n",
              "      <th>residual sugar</th>\n",
              "      <th>chlorides</th>\n",
              "      <th>free sulfur dioxide</th>\n",
              "      <th>total sulfur dioxide</th>\n",
              "      <th>density</th>\n",
              "      <th>pH</th>\n",
              "      <th>sulphates</th>\n",
              "      <th>alcohol</th>\n",
              "      <th>quality</th>\n",
              "    </tr>\n",
              "  </thead>\n",
              "  <tbody>\n",
              "    <tr>\n",
              "      <th>0</th>\n",
              "      <td>7.4</td>\n",
              "      <td>0.70</td>\n",
              "      <td>0.00</td>\n",
              "      <td>1.9</td>\n",
              "      <td>0.076</td>\n",
              "      <td>11.0</td>\n",
              "      <td>34.0</td>\n",
              "      <td>0.9978</td>\n",
              "      <td>3.51</td>\n",
              "      <td>0.56</td>\n",
              "      <td>9.4</td>\n",
              "      <td>5</td>\n",
              "    </tr>\n",
              "    <tr>\n",
              "      <th>1</th>\n",
              "      <td>7.8</td>\n",
              "      <td>0.88</td>\n",
              "      <td>0.00</td>\n",
              "      <td>2.6</td>\n",
              "      <td>0.098</td>\n",
              "      <td>25.0</td>\n",
              "      <td>67.0</td>\n",
              "      <td>0.9968</td>\n",
              "      <td>3.20</td>\n",
              "      <td>0.68</td>\n",
              "      <td>9.8</td>\n",
              "      <td>5</td>\n",
              "    </tr>\n",
              "    <tr>\n",
              "      <th>2</th>\n",
              "      <td>7.8</td>\n",
              "      <td>0.76</td>\n",
              "      <td>0.04</td>\n",
              "      <td>2.3</td>\n",
              "      <td>0.092</td>\n",
              "      <td>15.0</td>\n",
              "      <td>54.0</td>\n",
              "      <td>0.9970</td>\n",
              "      <td>3.26</td>\n",
              "      <td>0.65</td>\n",
              "      <td>9.8</td>\n",
              "      <td>5</td>\n",
              "    </tr>\n",
              "    <tr>\n",
              "      <th>3</th>\n",
              "      <td>11.2</td>\n",
              "      <td>0.28</td>\n",
              "      <td>0.56</td>\n",
              "      <td>1.9</td>\n",
              "      <td>0.075</td>\n",
              "      <td>17.0</td>\n",
              "      <td>60.0</td>\n",
              "      <td>0.9980</td>\n",
              "      <td>3.16</td>\n",
              "      <td>0.58</td>\n",
              "      <td>9.8</td>\n",
              "      <td>6</td>\n",
              "    </tr>\n",
              "    <tr>\n",
              "      <th>4</th>\n",
              "      <td>7.4</td>\n",
              "      <td>0.70</td>\n",
              "      <td>0.00</td>\n",
              "      <td>1.9</td>\n",
              "      <td>0.076</td>\n",
              "      <td>11.0</td>\n",
              "      <td>34.0</td>\n",
              "      <td>0.9978</td>\n",
              "      <td>3.51</td>\n",
              "      <td>0.56</td>\n",
              "      <td>9.4</td>\n",
              "      <td>5</td>\n",
              "    </tr>\n",
              "    <tr>\n",
              "      <th>5</th>\n",
              "      <td>7.4</td>\n",
              "      <td>0.66</td>\n",
              "      <td>0.00</td>\n",
              "      <td>1.8</td>\n",
              "      <td>0.075</td>\n",
              "      <td>13.0</td>\n",
              "      <td>40.0</td>\n",
              "      <td>0.9978</td>\n",
              "      <td>3.51</td>\n",
              "      <td>0.56</td>\n",
              "      <td>9.4</td>\n",
              "      <td>5</td>\n",
              "    </tr>\n",
              "  </tbody>\n",
              "</table>\n",
              "</div>\n",
              "      <button class=\"colab-df-convert\" onclick=\"convertToInteractive('df-1ad31bf7-a308-4368-b973-fdfcd897fe49')\"\n",
              "              title=\"Convert this dataframe to an interactive table.\"\n",
              "              style=\"display:none;\">\n",
              "        \n",
              "  <svg xmlns=\"http://www.w3.org/2000/svg\" height=\"24px\"viewBox=\"0 0 24 24\"\n",
              "       width=\"24px\">\n",
              "    <path d=\"M0 0h24v24H0V0z\" fill=\"none\"/>\n",
              "    <path d=\"M18.56 5.44l.94 2.06.94-2.06 2.06-.94-2.06-.94-.94-2.06-.94 2.06-2.06.94zm-11 1L8.5 8.5l.94-2.06 2.06-.94-2.06-.94L8.5 2.5l-.94 2.06-2.06.94zm10 10l.94 2.06.94-2.06 2.06-.94-2.06-.94-.94-2.06-.94 2.06-2.06.94z\"/><path d=\"M17.41 7.96l-1.37-1.37c-.4-.4-.92-.59-1.43-.59-.52 0-1.04.2-1.43.59L10.3 9.45l-7.72 7.72c-.78.78-.78 2.05 0 2.83L4 21.41c.39.39.9.59 1.41.59.51 0 1.02-.2 1.41-.59l7.78-7.78 2.81-2.81c.8-.78.8-2.07 0-2.86zM5.41 20L4 18.59l7.72-7.72 1.47 1.35L5.41 20z\"/>\n",
              "  </svg>\n",
              "      </button>\n",
              "      \n",
              "  <style>\n",
              "    .colab-df-container {\n",
              "      display:flex;\n",
              "      flex-wrap:wrap;\n",
              "      gap: 12px;\n",
              "    }\n",
              "\n",
              "    .colab-df-convert {\n",
              "      background-color: #E8F0FE;\n",
              "      border: none;\n",
              "      border-radius: 50%;\n",
              "      cursor: pointer;\n",
              "      display: none;\n",
              "      fill: #1967D2;\n",
              "      height: 32px;\n",
              "      padding: 0 0 0 0;\n",
              "      width: 32px;\n",
              "    }\n",
              "\n",
              "    .colab-df-convert:hover {\n",
              "      background-color: #E2EBFA;\n",
              "      box-shadow: 0px 1px 2px rgba(60, 64, 67, 0.3), 0px 1px 3px 1px rgba(60, 64, 67, 0.15);\n",
              "      fill: #174EA6;\n",
              "    }\n",
              "\n",
              "    [theme=dark] .colab-df-convert {\n",
              "      background-color: #3B4455;\n",
              "      fill: #D2E3FC;\n",
              "    }\n",
              "\n",
              "    [theme=dark] .colab-df-convert:hover {\n",
              "      background-color: #434B5C;\n",
              "      box-shadow: 0px 1px 3px 1px rgba(0, 0, 0, 0.15);\n",
              "      filter: drop-shadow(0px 1px 2px rgba(0, 0, 0, 0.3));\n",
              "      fill: #FFFFFF;\n",
              "    }\n",
              "  </style>\n",
              "\n",
              "      <script>\n",
              "        const buttonEl =\n",
              "          document.querySelector('#df-1ad31bf7-a308-4368-b973-fdfcd897fe49 button.colab-df-convert');\n",
              "        buttonEl.style.display =\n",
              "          google.colab.kernel.accessAllowed ? 'block' : 'none';\n",
              "\n",
              "        async function convertToInteractive(key) {\n",
              "          const element = document.querySelector('#df-1ad31bf7-a308-4368-b973-fdfcd897fe49');\n",
              "          const dataTable =\n",
              "            await google.colab.kernel.invokeFunction('convertToInteractive',\n",
              "                                                     [key], {});\n",
              "          if (!dataTable) return;\n",
              "\n",
              "          const docLinkHtml = 'Like what you see? Visit the ' +\n",
              "            '<a target=\"_blank\" href=https://colab.research.google.com/notebooks/data_table.ipynb>data table notebook</a>'\n",
              "            + ' to learn more about interactive tables.';\n",
              "          element.innerHTML = '';\n",
              "          dataTable['output_type'] = 'display_data';\n",
              "          await google.colab.output.renderOutput(dataTable, element);\n",
              "          const docLink = document.createElement('div');\n",
              "          docLink.innerHTML = docLinkHtml;\n",
              "          element.appendChild(docLink);\n",
              "        }\n",
              "      </script>\n",
              "    </div>\n",
              "  </div>\n",
              "  "
            ]
          },
          "metadata": {},
          "execution_count": 3
        }
      ],
      "source": [
        "df[0:6]"
      ]
    },
    {
      "cell_type": "code",
      "source": [
        "df.head(6)"
      ],
      "metadata": {
        "colab": {
          "base_uri": "https://localhost:8080/",
          "height": 238
        },
        "id": "2k2OQdXNOZgB",
        "outputId": "58ad6264-ada7-49b0-b3c1-80e0d1bb9b92"
      },
      "execution_count": null,
      "outputs": [
        {
          "output_type": "execute_result",
          "data": {
            "text/plain": [
              "   fixed acidity  volatile acidity  citric acid  residual sugar  chlorides  \\\n",
              "0            7.4              0.70         0.00             1.9      0.076   \n",
              "1            7.8              0.88         0.00             2.6      0.098   \n",
              "2            7.8              0.76         0.04             2.3      0.092   \n",
              "3           11.2              0.28         0.56             1.9      0.075   \n",
              "4            7.4              0.70         0.00             1.9      0.076   \n",
              "5            7.4              0.66         0.00             1.8      0.075   \n",
              "\n",
              "   free sulfur dioxide  total sulfur dioxide  density    pH  sulphates  \\\n",
              "0                 11.0                  34.0   0.9978  3.51       0.56   \n",
              "1                 25.0                  67.0   0.9968  3.20       0.68   \n",
              "2                 15.0                  54.0   0.9970  3.26       0.65   \n",
              "3                 17.0                  60.0   0.9980  3.16       0.58   \n",
              "4                 11.0                  34.0   0.9978  3.51       0.56   \n",
              "5                 13.0                  40.0   0.9978  3.51       0.56   \n",
              "\n",
              "   alcohol  quality  \n",
              "0      9.4        5  \n",
              "1      9.8        5  \n",
              "2      9.8        5  \n",
              "3      9.8        6  \n",
              "4      9.4        5  \n",
              "5      9.4        5  "
            ],
            "text/html": [
              "\n",
              "  <div id=\"df-bbad1048-ae2d-44b4-bd77-b8b69f4d5178\">\n",
              "    <div class=\"colab-df-container\">\n",
              "      <div>\n",
              "<style scoped>\n",
              "    .dataframe tbody tr th:only-of-type {\n",
              "        vertical-align: middle;\n",
              "    }\n",
              "\n",
              "    .dataframe tbody tr th {\n",
              "        vertical-align: top;\n",
              "    }\n",
              "\n",
              "    .dataframe thead th {\n",
              "        text-align: right;\n",
              "    }\n",
              "</style>\n",
              "<table border=\"1\" class=\"dataframe\">\n",
              "  <thead>\n",
              "    <tr style=\"text-align: right;\">\n",
              "      <th></th>\n",
              "      <th>fixed acidity</th>\n",
              "      <th>volatile acidity</th>\n",
              "      <th>citric acid</th>\n",
              "      <th>residual sugar</th>\n",
              "      <th>chlorides</th>\n",
              "      <th>free sulfur dioxide</th>\n",
              "      <th>total sulfur dioxide</th>\n",
              "      <th>density</th>\n",
              "      <th>pH</th>\n",
              "      <th>sulphates</th>\n",
              "      <th>alcohol</th>\n",
              "      <th>quality</th>\n",
              "    </tr>\n",
              "  </thead>\n",
              "  <tbody>\n",
              "    <tr>\n",
              "      <th>0</th>\n",
              "      <td>7.4</td>\n",
              "      <td>0.70</td>\n",
              "      <td>0.00</td>\n",
              "      <td>1.9</td>\n",
              "      <td>0.076</td>\n",
              "      <td>11.0</td>\n",
              "      <td>34.0</td>\n",
              "      <td>0.9978</td>\n",
              "      <td>3.51</td>\n",
              "      <td>0.56</td>\n",
              "      <td>9.4</td>\n",
              "      <td>5</td>\n",
              "    </tr>\n",
              "    <tr>\n",
              "      <th>1</th>\n",
              "      <td>7.8</td>\n",
              "      <td>0.88</td>\n",
              "      <td>0.00</td>\n",
              "      <td>2.6</td>\n",
              "      <td>0.098</td>\n",
              "      <td>25.0</td>\n",
              "      <td>67.0</td>\n",
              "      <td>0.9968</td>\n",
              "      <td>3.20</td>\n",
              "      <td>0.68</td>\n",
              "      <td>9.8</td>\n",
              "      <td>5</td>\n",
              "    </tr>\n",
              "    <tr>\n",
              "      <th>2</th>\n",
              "      <td>7.8</td>\n",
              "      <td>0.76</td>\n",
              "      <td>0.04</td>\n",
              "      <td>2.3</td>\n",
              "      <td>0.092</td>\n",
              "      <td>15.0</td>\n",
              "      <td>54.0</td>\n",
              "      <td>0.9970</td>\n",
              "      <td>3.26</td>\n",
              "      <td>0.65</td>\n",
              "      <td>9.8</td>\n",
              "      <td>5</td>\n",
              "    </tr>\n",
              "    <tr>\n",
              "      <th>3</th>\n",
              "      <td>11.2</td>\n",
              "      <td>0.28</td>\n",
              "      <td>0.56</td>\n",
              "      <td>1.9</td>\n",
              "      <td>0.075</td>\n",
              "      <td>17.0</td>\n",
              "      <td>60.0</td>\n",
              "      <td>0.9980</td>\n",
              "      <td>3.16</td>\n",
              "      <td>0.58</td>\n",
              "      <td>9.8</td>\n",
              "      <td>6</td>\n",
              "    </tr>\n",
              "    <tr>\n",
              "      <th>4</th>\n",
              "      <td>7.4</td>\n",
              "      <td>0.70</td>\n",
              "      <td>0.00</td>\n",
              "      <td>1.9</td>\n",
              "      <td>0.076</td>\n",
              "      <td>11.0</td>\n",
              "      <td>34.0</td>\n",
              "      <td>0.9978</td>\n",
              "      <td>3.51</td>\n",
              "      <td>0.56</td>\n",
              "      <td>9.4</td>\n",
              "      <td>5</td>\n",
              "    </tr>\n",
              "    <tr>\n",
              "      <th>5</th>\n",
              "      <td>7.4</td>\n",
              "      <td>0.66</td>\n",
              "      <td>0.00</td>\n",
              "      <td>1.8</td>\n",
              "      <td>0.075</td>\n",
              "      <td>13.0</td>\n",
              "      <td>40.0</td>\n",
              "      <td>0.9978</td>\n",
              "      <td>3.51</td>\n",
              "      <td>0.56</td>\n",
              "      <td>9.4</td>\n",
              "      <td>5</td>\n",
              "    </tr>\n",
              "  </tbody>\n",
              "</table>\n",
              "</div>\n",
              "      <button class=\"colab-df-convert\" onclick=\"convertToInteractive('df-bbad1048-ae2d-44b4-bd77-b8b69f4d5178')\"\n",
              "              title=\"Convert this dataframe to an interactive table.\"\n",
              "              style=\"display:none;\">\n",
              "        \n",
              "  <svg xmlns=\"http://www.w3.org/2000/svg\" height=\"24px\"viewBox=\"0 0 24 24\"\n",
              "       width=\"24px\">\n",
              "    <path d=\"M0 0h24v24H0V0z\" fill=\"none\"/>\n",
              "    <path d=\"M18.56 5.44l.94 2.06.94-2.06 2.06-.94-2.06-.94-.94-2.06-.94 2.06-2.06.94zm-11 1L8.5 8.5l.94-2.06 2.06-.94-2.06-.94L8.5 2.5l-.94 2.06-2.06.94zm10 10l.94 2.06.94-2.06 2.06-.94-2.06-.94-.94-2.06-.94 2.06-2.06.94z\"/><path d=\"M17.41 7.96l-1.37-1.37c-.4-.4-.92-.59-1.43-.59-.52 0-1.04.2-1.43.59L10.3 9.45l-7.72 7.72c-.78.78-.78 2.05 0 2.83L4 21.41c.39.39.9.59 1.41.59.51 0 1.02-.2 1.41-.59l7.78-7.78 2.81-2.81c.8-.78.8-2.07 0-2.86zM5.41 20L4 18.59l7.72-7.72 1.47 1.35L5.41 20z\"/>\n",
              "  </svg>\n",
              "      </button>\n",
              "      \n",
              "  <style>\n",
              "    .colab-df-container {\n",
              "      display:flex;\n",
              "      flex-wrap:wrap;\n",
              "      gap: 12px;\n",
              "    }\n",
              "\n",
              "    .colab-df-convert {\n",
              "      background-color: #E8F0FE;\n",
              "      border: none;\n",
              "      border-radius: 50%;\n",
              "      cursor: pointer;\n",
              "      display: none;\n",
              "      fill: #1967D2;\n",
              "      height: 32px;\n",
              "      padding: 0 0 0 0;\n",
              "      width: 32px;\n",
              "    }\n",
              "\n",
              "    .colab-df-convert:hover {\n",
              "      background-color: #E2EBFA;\n",
              "      box-shadow: 0px 1px 2px rgba(60, 64, 67, 0.3), 0px 1px 3px 1px rgba(60, 64, 67, 0.15);\n",
              "      fill: #174EA6;\n",
              "    }\n",
              "\n",
              "    [theme=dark] .colab-df-convert {\n",
              "      background-color: #3B4455;\n",
              "      fill: #D2E3FC;\n",
              "    }\n",
              "\n",
              "    [theme=dark] .colab-df-convert:hover {\n",
              "      background-color: #434B5C;\n",
              "      box-shadow: 0px 1px 3px 1px rgba(0, 0, 0, 0.15);\n",
              "      filter: drop-shadow(0px 1px 2px rgba(0, 0, 0, 0.3));\n",
              "      fill: #FFFFFF;\n",
              "    }\n",
              "  </style>\n",
              "\n",
              "      <script>\n",
              "        const buttonEl =\n",
              "          document.querySelector('#df-bbad1048-ae2d-44b4-bd77-b8b69f4d5178 button.colab-df-convert');\n",
              "        buttonEl.style.display =\n",
              "          google.colab.kernel.accessAllowed ? 'block' : 'none';\n",
              "\n",
              "        async function convertToInteractive(key) {\n",
              "          const element = document.querySelector('#df-bbad1048-ae2d-44b4-bd77-b8b69f4d5178');\n",
              "          const dataTable =\n",
              "            await google.colab.kernel.invokeFunction('convertToInteractive',\n",
              "                                                     [key], {});\n",
              "          if (!dataTable) return;\n",
              "\n",
              "          const docLinkHtml = 'Like what you see? Visit the ' +\n",
              "            '<a target=\"_blank\" href=https://colab.research.google.com/notebooks/data_table.ipynb>data table notebook</a>'\n",
              "            + ' to learn more about interactive tables.';\n",
              "          element.innerHTML = '';\n",
              "          dataTable['output_type'] = 'display_data';\n",
              "          await google.colab.output.renderOutput(dataTable, element);\n",
              "          const docLink = document.createElement('div');\n",
              "          docLink.innerHTML = docLinkHtml;\n",
              "          element.appendChild(docLink);\n",
              "        }\n",
              "      </script>\n",
              "    </div>\n",
              "  </div>\n",
              "  "
            ]
          },
          "metadata": {},
          "execution_count": 9
        }
      ]
    },
    {
      "cell_type": "markdown",
      "metadata": {
        "id": "kJKfhzmgDwC1"
      },
      "source": [
        "Print out the summary statistics for each dataframe column"
      ]
    },
    {
      "cell_type": "code",
      "source": [
        "df.describe()"
      ],
      "metadata": {
        "colab": {
          "base_uri": "https://localhost:8080/",
          "height": 300
        },
        "id": "Xi6Zdrk-O9zt",
        "outputId": "42ffcd8a-eb1a-4219-cdd6-565519748a37"
      },
      "execution_count": null,
      "outputs": [
        {
          "output_type": "execute_result",
          "data": {
            "text/plain": [
              "       fixed acidity  volatile acidity  citric acid  residual sugar  \\\n",
              "count    1599.000000       1599.000000  1599.000000     1599.000000   \n",
              "mean        8.319637          0.527821     0.270976        2.538806   \n",
              "std         1.741096          0.179060     0.194801        1.409928   \n",
              "min         4.600000          0.120000     0.000000        0.900000   \n",
              "25%         7.100000          0.390000     0.090000        1.900000   \n",
              "50%         7.900000          0.520000     0.260000        2.200000   \n",
              "75%         9.200000          0.640000     0.420000        2.600000   \n",
              "max        15.900000          1.580000     1.000000       15.500000   \n",
              "\n",
              "         chlorides  free sulfur dioxide  total sulfur dioxide      density  \\\n",
              "count  1599.000000          1599.000000           1599.000000  1599.000000   \n",
              "mean      0.087467            15.874922             46.467792     0.996747   \n",
              "std       0.047065            10.460157             32.895324     0.001887   \n",
              "min       0.012000             1.000000              6.000000     0.990070   \n",
              "25%       0.070000             7.000000             22.000000     0.995600   \n",
              "50%       0.079000            14.000000             38.000000     0.996750   \n",
              "75%       0.090000            21.000000             62.000000     0.997835   \n",
              "max       0.611000            72.000000            289.000000     1.003690   \n",
              "\n",
              "                pH    sulphates      alcohol      quality  \n",
              "count  1599.000000  1599.000000  1599.000000  1599.000000  \n",
              "mean      3.311113     0.658149    10.422983     5.636023  \n",
              "std       0.154386     0.169507     1.065668     0.807569  \n",
              "min       2.740000     0.330000     8.400000     3.000000  \n",
              "25%       3.210000     0.550000     9.500000     5.000000  \n",
              "50%       3.310000     0.620000    10.200000     6.000000  \n",
              "75%       3.400000     0.730000    11.100000     6.000000  \n",
              "max       4.010000     2.000000    14.900000     8.000000  "
            ],
            "text/html": [
              "\n",
              "  <div id=\"df-0cffd7b0-4ce6-4530-b06e-94d4cdb94bf1\">\n",
              "    <div class=\"colab-df-container\">\n",
              "      <div>\n",
              "<style scoped>\n",
              "    .dataframe tbody tr th:only-of-type {\n",
              "        vertical-align: middle;\n",
              "    }\n",
              "\n",
              "    .dataframe tbody tr th {\n",
              "        vertical-align: top;\n",
              "    }\n",
              "\n",
              "    .dataframe thead th {\n",
              "        text-align: right;\n",
              "    }\n",
              "</style>\n",
              "<table border=\"1\" class=\"dataframe\">\n",
              "  <thead>\n",
              "    <tr style=\"text-align: right;\">\n",
              "      <th></th>\n",
              "      <th>fixed acidity</th>\n",
              "      <th>volatile acidity</th>\n",
              "      <th>citric acid</th>\n",
              "      <th>residual sugar</th>\n",
              "      <th>chlorides</th>\n",
              "      <th>free sulfur dioxide</th>\n",
              "      <th>total sulfur dioxide</th>\n",
              "      <th>density</th>\n",
              "      <th>pH</th>\n",
              "      <th>sulphates</th>\n",
              "      <th>alcohol</th>\n",
              "      <th>quality</th>\n",
              "    </tr>\n",
              "  </thead>\n",
              "  <tbody>\n",
              "    <tr>\n",
              "      <th>count</th>\n",
              "      <td>1599.000000</td>\n",
              "      <td>1599.000000</td>\n",
              "      <td>1599.000000</td>\n",
              "      <td>1599.000000</td>\n",
              "      <td>1599.000000</td>\n",
              "      <td>1599.000000</td>\n",
              "      <td>1599.000000</td>\n",
              "      <td>1599.000000</td>\n",
              "      <td>1599.000000</td>\n",
              "      <td>1599.000000</td>\n",
              "      <td>1599.000000</td>\n",
              "      <td>1599.000000</td>\n",
              "    </tr>\n",
              "    <tr>\n",
              "      <th>mean</th>\n",
              "      <td>8.319637</td>\n",
              "      <td>0.527821</td>\n",
              "      <td>0.270976</td>\n",
              "      <td>2.538806</td>\n",
              "      <td>0.087467</td>\n",
              "      <td>15.874922</td>\n",
              "      <td>46.467792</td>\n",
              "      <td>0.996747</td>\n",
              "      <td>3.311113</td>\n",
              "      <td>0.658149</td>\n",
              "      <td>10.422983</td>\n",
              "      <td>5.636023</td>\n",
              "    </tr>\n",
              "    <tr>\n",
              "      <th>std</th>\n",
              "      <td>1.741096</td>\n",
              "      <td>0.179060</td>\n",
              "      <td>0.194801</td>\n",
              "      <td>1.409928</td>\n",
              "      <td>0.047065</td>\n",
              "      <td>10.460157</td>\n",
              "      <td>32.895324</td>\n",
              "      <td>0.001887</td>\n",
              "      <td>0.154386</td>\n",
              "      <td>0.169507</td>\n",
              "      <td>1.065668</td>\n",
              "      <td>0.807569</td>\n",
              "    </tr>\n",
              "    <tr>\n",
              "      <th>min</th>\n",
              "      <td>4.600000</td>\n",
              "      <td>0.120000</td>\n",
              "      <td>0.000000</td>\n",
              "      <td>0.900000</td>\n",
              "      <td>0.012000</td>\n",
              "      <td>1.000000</td>\n",
              "      <td>6.000000</td>\n",
              "      <td>0.990070</td>\n",
              "      <td>2.740000</td>\n",
              "      <td>0.330000</td>\n",
              "      <td>8.400000</td>\n",
              "      <td>3.000000</td>\n",
              "    </tr>\n",
              "    <tr>\n",
              "      <th>25%</th>\n",
              "      <td>7.100000</td>\n",
              "      <td>0.390000</td>\n",
              "      <td>0.090000</td>\n",
              "      <td>1.900000</td>\n",
              "      <td>0.070000</td>\n",
              "      <td>7.000000</td>\n",
              "      <td>22.000000</td>\n",
              "      <td>0.995600</td>\n",
              "      <td>3.210000</td>\n",
              "      <td>0.550000</td>\n",
              "      <td>9.500000</td>\n",
              "      <td>5.000000</td>\n",
              "    </tr>\n",
              "    <tr>\n",
              "      <th>50%</th>\n",
              "      <td>7.900000</td>\n",
              "      <td>0.520000</td>\n",
              "      <td>0.260000</td>\n",
              "      <td>2.200000</td>\n",
              "      <td>0.079000</td>\n",
              "      <td>14.000000</td>\n",
              "      <td>38.000000</td>\n",
              "      <td>0.996750</td>\n",
              "      <td>3.310000</td>\n",
              "      <td>0.620000</td>\n",
              "      <td>10.200000</td>\n",
              "      <td>6.000000</td>\n",
              "    </tr>\n",
              "    <tr>\n",
              "      <th>75%</th>\n",
              "      <td>9.200000</td>\n",
              "      <td>0.640000</td>\n",
              "      <td>0.420000</td>\n",
              "      <td>2.600000</td>\n",
              "      <td>0.090000</td>\n",
              "      <td>21.000000</td>\n",
              "      <td>62.000000</td>\n",
              "      <td>0.997835</td>\n",
              "      <td>3.400000</td>\n",
              "      <td>0.730000</td>\n",
              "      <td>11.100000</td>\n",
              "      <td>6.000000</td>\n",
              "    </tr>\n",
              "    <tr>\n",
              "      <th>max</th>\n",
              "      <td>15.900000</td>\n",
              "      <td>1.580000</td>\n",
              "      <td>1.000000</td>\n",
              "      <td>15.500000</td>\n",
              "      <td>0.611000</td>\n",
              "      <td>72.000000</td>\n",
              "      <td>289.000000</td>\n",
              "      <td>1.003690</td>\n",
              "      <td>4.010000</td>\n",
              "      <td>2.000000</td>\n",
              "      <td>14.900000</td>\n",
              "      <td>8.000000</td>\n",
              "    </tr>\n",
              "  </tbody>\n",
              "</table>\n",
              "</div>\n",
              "      <button class=\"colab-df-convert\" onclick=\"convertToInteractive('df-0cffd7b0-4ce6-4530-b06e-94d4cdb94bf1')\"\n",
              "              title=\"Convert this dataframe to an interactive table.\"\n",
              "              style=\"display:none;\">\n",
              "        \n",
              "  <svg xmlns=\"http://www.w3.org/2000/svg\" height=\"24px\"viewBox=\"0 0 24 24\"\n",
              "       width=\"24px\">\n",
              "    <path d=\"M0 0h24v24H0V0z\" fill=\"none\"/>\n",
              "    <path d=\"M18.56 5.44l.94 2.06.94-2.06 2.06-.94-2.06-.94-.94-2.06-.94 2.06-2.06.94zm-11 1L8.5 8.5l.94-2.06 2.06-.94-2.06-.94L8.5 2.5l-.94 2.06-2.06.94zm10 10l.94 2.06.94-2.06 2.06-.94-2.06-.94-.94-2.06-.94 2.06-2.06.94z\"/><path d=\"M17.41 7.96l-1.37-1.37c-.4-.4-.92-.59-1.43-.59-.52 0-1.04.2-1.43.59L10.3 9.45l-7.72 7.72c-.78.78-.78 2.05 0 2.83L4 21.41c.39.39.9.59 1.41.59.51 0 1.02-.2 1.41-.59l7.78-7.78 2.81-2.81c.8-.78.8-2.07 0-2.86zM5.41 20L4 18.59l7.72-7.72 1.47 1.35L5.41 20z\"/>\n",
              "  </svg>\n",
              "      </button>\n",
              "      \n",
              "  <style>\n",
              "    .colab-df-container {\n",
              "      display:flex;\n",
              "      flex-wrap:wrap;\n",
              "      gap: 12px;\n",
              "    }\n",
              "\n",
              "    .colab-df-convert {\n",
              "      background-color: #E8F0FE;\n",
              "      border: none;\n",
              "      border-radius: 50%;\n",
              "      cursor: pointer;\n",
              "      display: none;\n",
              "      fill: #1967D2;\n",
              "      height: 32px;\n",
              "      padding: 0 0 0 0;\n",
              "      width: 32px;\n",
              "    }\n",
              "\n",
              "    .colab-df-convert:hover {\n",
              "      background-color: #E2EBFA;\n",
              "      box-shadow: 0px 1px 2px rgba(60, 64, 67, 0.3), 0px 1px 3px 1px rgba(60, 64, 67, 0.15);\n",
              "      fill: #174EA6;\n",
              "    }\n",
              "\n",
              "    [theme=dark] .colab-df-convert {\n",
              "      background-color: #3B4455;\n",
              "      fill: #D2E3FC;\n",
              "    }\n",
              "\n",
              "    [theme=dark] .colab-df-convert:hover {\n",
              "      background-color: #434B5C;\n",
              "      box-shadow: 0px 1px 3px 1px rgba(0, 0, 0, 0.15);\n",
              "      filter: drop-shadow(0px 1px 2px rgba(0, 0, 0, 0.3));\n",
              "      fill: #FFFFFF;\n",
              "    }\n",
              "  </style>\n",
              "\n",
              "      <script>\n",
              "        const buttonEl =\n",
              "          document.querySelector('#df-0cffd7b0-4ce6-4530-b06e-94d4cdb94bf1 button.colab-df-convert');\n",
              "        buttonEl.style.display =\n",
              "          google.colab.kernel.accessAllowed ? 'block' : 'none';\n",
              "\n",
              "        async function convertToInteractive(key) {\n",
              "          const element = document.querySelector('#df-0cffd7b0-4ce6-4530-b06e-94d4cdb94bf1');\n",
              "          const dataTable =\n",
              "            await google.colab.kernel.invokeFunction('convertToInteractive',\n",
              "                                                     [key], {});\n",
              "          if (!dataTable) return;\n",
              "\n",
              "          const docLinkHtml = 'Like what you see? Visit the ' +\n",
              "            '<a target=\"_blank\" href=https://colab.research.google.com/notebooks/data_table.ipynb>data table notebook</a>'\n",
              "            + ' to learn more about interactive tables.';\n",
              "          element.innerHTML = '';\n",
              "          dataTable['output_type'] = 'display_data';\n",
              "          await google.colab.output.renderOutput(dataTable, element);\n",
              "          const docLink = document.createElement('div');\n",
              "          docLink.innerHTML = docLinkHtml;\n",
              "          element.appendChild(docLink);\n",
              "        }\n",
              "      </script>\n",
              "    </div>\n",
              "  </div>\n",
              "  "
            ]
          },
          "metadata": {},
          "execution_count": 15
        }
      ]
    },
    {
      "cell_type": "code",
      "execution_count": null,
      "metadata": {
        "id": "Tjt7pmCWDwC2",
        "colab": {
          "base_uri": "https://localhost:8080/"
        },
        "outputId": "d1e476c4-32b6-4060-b2ff-8b18e2d168a7"
      },
      "outputs": [
        {
          "output_type": "stream",
          "name": "stdout",
          "text": [
            "Number of rows: 1599\n",
            "Number of columns: 12\n"
          ]
        }
      ],
      "source": [
        "print(\"Number of rows:\", len(df))\n",
        "print(\"Number of columns:\", len(df.columns))"
      ]
    },
    {
      "cell_type": "code",
      "source": [
        "print(\"Columns:\", df.columns)"
      ],
      "metadata": {
        "colab": {
          "base_uri": "https://localhost:8080/"
        },
        "id": "UMeAYRN_Nvvj",
        "outputId": "37d38e2c-f646-4dbd-8378-320e06c8a8b4"
      },
      "execution_count": null,
      "outputs": [
        {
          "output_type": "stream",
          "name": "stdout",
          "text": [
            "Columns: Index(['fixed acidity', 'volatile acidity', 'citric acid', 'residual sugar',\n",
            "       'chlorides', 'free sulfur dioxide', 'total sulfur dioxide', 'density',\n",
            "       'pH', 'sulphates', 'alcohol', 'quality'],\n",
            "      dtype='object')\n"
          ]
        }
      ]
    },
    {
      "cell_type": "code",
      "source": [
        "df.info()"
      ],
      "metadata": {
        "colab": {
          "base_uri": "https://localhost:8080/"
        },
        "id": "NsWaxm27OzoF",
        "outputId": "43af2b21-6bf0-4c40-ecbb-63a7f2426d6f"
      },
      "execution_count": null,
      "outputs": [
        {
          "output_type": "stream",
          "name": "stdout",
          "text": [
            "<class 'pandas.core.frame.DataFrame'>\n",
            "RangeIndex: 1599 entries, 0 to 1598\n",
            "Data columns (total 12 columns):\n",
            " #   Column                Non-Null Count  Dtype  \n",
            "---  ------                --------------  -----  \n",
            " 0   fixed acidity         1599 non-null   float64\n",
            " 1   volatile acidity      1599 non-null   float64\n",
            " 2   citric acid           1599 non-null   float64\n",
            " 3   residual sugar        1599 non-null   float64\n",
            " 4   chlorides             1599 non-null   float64\n",
            " 5   free sulfur dioxide   1599 non-null   float64\n",
            " 6   total sulfur dioxide  1599 non-null   float64\n",
            " 7   density               1599 non-null   float64\n",
            " 8   pH                    1599 non-null   float64\n",
            " 9   sulphates             1599 non-null   float64\n",
            " 10  alcohol               1599 non-null   float64\n",
            " 11  quality               1599 non-null   int64  \n",
            "dtypes: float64(11), int64(1)\n",
            "memory usage: 150.0 KB\n"
          ]
        }
      ]
    },
    {
      "cell_type": "markdown",
      "metadata": {
        "id": "TVz-1lCjDwC2"
      },
      "source": [
        "## Submission\n",
        "\n",
        "Download completed **Week2_Python_Homework.ipynb** from Google Colab and commit to your personal Github repo you shared with the faculty."
      ]
    }
  ],
  "metadata": {
    "kernelspec": {
      "display_name": "Python 3",
      "language": "python",
      "name": "python3"
    },
    "language_info": {
      "codemirror_mode": {
        "name": "ipython",
        "version": 3
      },
      "file_extension": ".py",
      "mimetype": "text/x-python",
      "name": "python",
      "nbconvert_exporter": "python",
      "pygments_lexer": "ipython3",
      "version": "3.8.8"
    },
    "toc": {
      "base_numbering": 1,
      "nav_menu": {},
      "number_sections": true,
      "sideBar": true,
      "skip_h1_title": false,
      "title_cell": "Table of Contents",
      "title_sidebar": "Contents",
      "toc_cell": false,
      "toc_position": {},
      "toc_section_display": true,
      "toc_window_display": false
    },
    "colab": {
      "name": "Week2_Python_Homework.ipynb",
      "provenance": [],
      "collapsed_sections": [
        "0G4ARdkuDwCs",
        "iTTbwcqnDwCt",
        "K0TVsRURDwCu",
        "6NjioSn9DwCy",
        "TVz-1lCjDwC2"
      ]
    }
  },
  "nbformat": 4,
  "nbformat_minor": 0
}