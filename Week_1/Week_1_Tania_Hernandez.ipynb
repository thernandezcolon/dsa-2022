{
  "nbformat": 4,
  "nbformat_minor": 0,
  "metadata": {
    "colab": {
      "name": "Week 1 - Tania Hernandez",
      "provenance": [],
      "collapsed_sections": [],
      "toc_visible": true
    },
    "kernelspec": {
      "name": "python3",
      "display_name": "Python 3"
    },
    "language_info": {
      "name": "python"
    }
  },
  "cells": [
    {
      "cell_type": "markdown",
      "source": [
        "\n",
        "# Introduction To Python "
      ],
      "metadata": {
        "id": "yGVRqJZDoVlq"
      }
    },
    {
      "cell_type": "markdown",
      "source": [
        "This is how we print something to the screen using Python:"
      ],
      "metadata": {
        "id": "ShBUlls9qolB"
      }
    },
    {
      "cell_type": "code",
      "execution_count": null,
      "metadata": {
        "colab": {
          "base_uri": "https://localhost:8080/"
        },
        "id": "Sj7cv9-7oUP-",
        "outputId": "1ba94020-09be-4264-e3aa-8f760992985c"
      },
      "outputs": [
        {
          "output_type": "stream",
          "name": "stdout",
          "text": [
            "Hello 2022 Accelerator\n"
          ]
        }
      ],
      "source": [
        "print(\"Hello 2022 Accelerator\")"
      ]
    }
  ]
}