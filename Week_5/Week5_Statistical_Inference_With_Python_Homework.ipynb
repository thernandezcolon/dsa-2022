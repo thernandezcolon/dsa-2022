{
 "cells": [
  {
   "cell_type": "markdown",
   "metadata": {
    "id": "O6sczoXbme0A"
   },
   "source": [
    "# Week5 Statistical Inference with Python"
   ]
  },
  {
   "cell_type": "markdown",
   "metadata": {
    "id": "eIOS15wFme0D"
   },
   "source": [
    "In week 5, we've covered:\n",
    "* **Probability Distributions**:\n",
    "    * Binomial Distribution\n",
    "    * Beta Distribution\n",
    "* **Inference**:\n",
    "    * Estimating a batting average from data\n",
    "* **Variance**:\n",
    "    * measuring uncertainty\n",
    "    * Emprical Bayes estimation"
   ]
  },
  {
   "cell_type": "markdown",
   "metadata": {
    "id": "K2PSjJS4me0E"
   },
   "source": [
    "The best way to consolidate the knowledge in your mind is by practicing.<br>Please complete the part marked with <span style=\"color:green\">**# TODO**</span>.\n",
    "\n",
    "> Indented block\n",
    "\n",
    "\n",
    "\n",
    "[Google](www.google.com) and [Python Documentation](https://docs.python.org/3/contents.html) are your good friends if you have any python questions.\n",
    "\n",
    "Upload **Week5_Statistical_Inference_With_Python_Homework.ipynb** notebook to your Google Drive and open it with Google Colab"
   ]
  },
  {
   "cell_type": "markdown",
   "metadata": {
    "id": "R5pAgQxQme0E"
   },
   "source": [
    "## Probability Distributions  \n",
    "\n",
    "A probability distribution is a function that gives a probability to any event that might occur in an experiment. The simplest probability distribution is the binomial distribution, which can take on *n* outcomes. A 6-sided dice follows a binomial distribution with 6 possible outcomes, each side having some probability of landing up, and all the probabilities of all the sides sum to 1. An RV example of an event that follows the binomial distribution is the probability of someone converting. We can use the conversion rate, a value between 0 and 1, to describe the probability that any individual will convert. Note that the events will always be 0, didn't convert, or 1, but the conversion rate will take on a rational value between 0 and 1.\n",
    "\n",
    "For more details of the math of the binomial distribution, watch this Khan Academy video: https://www.khanacademy.org/math/statistics-probability/random-variables-stats-library/binomial-random-variables/v/binomial-distribution  \n",
    "\n",
    "Let's start by simulating some conversion events using python."
   ]
  },
  {
   "cell_type": "code",
   "execution_count": null,
   "metadata": {
    "ExecuteTime": {
     "end_time": "2021-08-13T18:35:25.661712Z",
     "start_time": "2021-08-13T18:35:25.486071Z"
    },
    "id": "uIvU-kYqme0F"
   },
   "outputs": [],
   "source": [
    "import numpy as np\n",
    "\n",
    "number_of_events = 1\n",
    "conversion_rate = 0.3\n",
    "number_of_trials = 10"
   ]
  },
  {
   "cell_type": "markdown",
   "metadata": {
    "id": "4US3Re6rme0G"
   },
   "source": [
    "Above, we have set up some parameters to simulate 10 customers, each with a probability = 3/10 of converting. Before running the below code, make a prediction for how many `1`s you expect to see. After you've written your prediction, run the cell several times and record the output in comments in the cell below."
   ]
  },
  {
   "cell_type": "code",
   "execution_count": null,
   "metadata": {
    "ExecuteTime": {
     "end_time": "2021-08-13T18:36:11.353627Z",
     "start_time": "2021-08-13T18:36:11.349100Z"
    },
    "colab": {
     "base_uri": "https://localhost:8080/"
    },
    "id": "xK8guz7wme0G",
    "outputId": "39ed3dab-bdee-49ce-dbcb-9497a5bd64a9"
   },
   "outputs": [
    {
     "name": "stdout",
     "output_type": "stream",
     "text": [
      "[0 0 0 0 0 1 0 0 0 1]\n",
      "total conversions:  2\n"
     ]
    }
   ],
   "source": [
    "# TODO: write your prediction here: 3\n",
    "\n",
    "sample = np.random.binomial(n = number_of_events, p = conversion_rate, size = number_of_trials)\n",
    "print(sample)\n",
    "print(\"total conversions: \", sample.sum())"
   ]
  },
  {
   "cell_type": "code",
   "execution_count": null,
   "metadata": {
    "ExecuteTime": {
     "end_time": "2021-08-13T18:36:11.777535Z",
     "start_time": "2021-08-13T18:36:11.773788Z"
    },
    "id": "MCnSPGlAme0H"
   },
   "outputs": [],
   "source": [
    "# TODO: Write down what you observed. How did your observations compare to your prediction?\n",
    "# Res: is not 3 because we have only 10 observations"
   ]
  },
  {
   "cell_type": "markdown",
   "metadata": {
    "id": "7gTFEPeqme0H"
   },
   "source": [
    "As the number of trials increases, we would expect the actual proportion of 1s to approach the \"true\" conversion rate,  which in this case is 0.3 by our design. This phenomenon is called the \"Law of Large Numbers.\" In the code block below, create a short experiment that demonstrates this phenomenon.\n",
    "\n",
    "Note that if you have a numpy array named `sample` you can get its proportion by using `sample.mean()`"
   ]
  },
  {
   "cell_type": "code",
   "execution_count": null,
   "metadata": {
    "ExecuteTime": {
     "end_time": "2021-08-13T18:36:13.585993Z",
     "start_time": "2021-08-13T18:36:13.583099Z"
    },
    "colab": {
     "base_uri": "https://localhost:8080/"
    },
    "id": "tU_sQXMhme0I",
    "outputId": "9cfb9a5c-0a4e-4dab-d1f0-c30f6f69b1be"
   },
   "outputs": [
    {
     "name": "stdout",
     "output_type": "stream",
     "text": [
      "size: 10 \t conversion rate: 0.2\n",
      "size: 20 \t conversion rate: 0.2\n",
      "size: 40 \t conversion rate: 0.375\n",
      "size: 80 \t conversion rate: 0.225\n",
      "size: 160 \t conversion rate: 0.2875\n",
      "size: 320 \t conversion rate: 0.29375\n",
      "size: 640 \t conversion rate: 0.2984375\n",
      "size: 1280 \t conversion rate: 0.303125\n",
      "size: 2560 \t conversion rate: 0.31171875\n",
      "size: 5120 \t conversion rate: 0.30078125\n"
     ]
    }
   ],
   "source": [
    "# TODO: Write a short experiment that demonstrates the Law of Large Numbers.\n",
    "size=10\n",
    "for i in range(10):\n",
    "  sample = np.random.binomial(n = number_of_events, p = conversion_rate, size = size)\n",
    "  print(f\"size: {size} \\t conversion rate: {sum(sample)/size}\")\n",
    "  size = size*2"
   ]
  },
  {
   "cell_type": "markdown",
   "metadata": {
    "id": "jdmNlEWYme0I"
   },
   "source": [
    "## Inference  \n",
    "\n",
    "In the above, we were told the true conversion rate by some all-knowing oracle, and then we explored how conversions might play out over a set of *n* trials. Typically, we are tasked with the reverse problem. That is, we are given access to some observed data, and asked to infer what the true conversion rate is. This process is called \"statistical inference\" and it is a core concept to all of data science and machine learning. We will spend some time over the next weeks developing your python skills to explore statistical inference.  \n",
    "\n",
    "We will be leveraging a well known data science communicator, David Robinson, and will read the first four articles of this series: http://varianceexplained.org/r/simulation-bayes-baseball/  \n",
    "\n",
    "The coding language of the series is R, a statistical programming language, but you will be asked to recreate and explore some of the ideas here in python. Let's start by understanding a second probability distribution, the beta distribution. This probability distribution is closely related to the binomial distribution we explored above. In short, it can be used to describe what the probability of the true conversion rate is, given some data. Read more about it in the first article of the series: http://varianceexplained.org/statistics/beta_distribution_and_baseball/\n",
    "\n",
    "### Exercises  \n",
    "\n",
    "1. In the code block below, write a short simulation that samples batting averages from a Beta Distribution with parameters $\\alpha = 81$ and $\\beta = 219$ You will likely find this numpy method to be helpful: https://numpy.org/doc/stable/reference/random/generated/numpy.random.beta.html"
   ]
  },
  {
   "cell_type": "code",
   "execution_count": null,
   "metadata": {
    "colab": {
     "base_uri": "https://localhost:8080/"
    },
    "id": "EMT5GmT1me0J",
    "outputId": "6ca594fa-51d2-49ac-8a17-fde95ad1ac9e",
    "tags": []
   },
   "outputs": [
    {
     "name": "stdout",
     "output_type": "stream",
     "text": [
      "[0.28510701 0.27901874 0.24619127 0.29170052 0.31774656 0.27538839\n",
      " 0.26786665 0.25648574 0.32246782 0.24083299 0.24713445 0.23531919\n",
      " 0.26992281 0.24110417 0.23751431 0.27225566 0.28540785 0.29823356\n",
      " 0.2474194  0.27285717 0.25498954 0.2496549  0.26502744 0.26493064\n",
      " 0.28579173 0.2856842  0.26803736 0.29521118 0.2442521  0.24062507\n",
      " 0.26589701 0.22376842 0.27323759 0.23454723 0.26255479 0.26926382\n",
      " 0.24826538 0.28935956 0.34558557 0.2427749  0.2912089  0.22443769\n",
      " 0.28177269 0.22379768 0.27335886 0.28284905 0.29217567 0.29436175\n",
      " 0.34309401 0.29424146 0.25906458 0.25611244 0.27103526 0.26973111\n",
      " 0.21557677 0.32923546 0.2833153  0.28397771 0.26614998 0.27803635\n",
      " 0.24507993 0.23109476 0.32800865 0.2681679  0.27888937 0.2237009\n",
      " 0.22999381 0.24589911 0.21450058 0.25449232 0.24297186 0.27714609\n",
      " 0.26975509 0.23136385 0.31455303 0.28962196 0.25847909 0.23002948\n",
      " 0.26671932 0.21948399 0.27224225 0.24318467 0.27353831 0.33426405\n",
      " 0.29589337 0.28825934 0.27564755 0.25272511 0.27131525 0.28842915\n",
      " 0.2242567  0.31211663 0.24211464 0.22750185 0.23813372 0.25480176\n",
      " 0.24089681 0.26158678 0.3330792  0.28330889 0.2397815  0.28337822\n",
      " 0.27843611 0.31961304 0.26242613 0.22623083 0.29335213 0.25801757\n",
      " 0.25219483 0.2445887  0.24461781 0.28812415 0.2715948  0.29150024\n",
      " 0.26741049 0.28145858 0.23727416 0.30768242 0.23849437 0.25461739\n",
      " 0.26135244 0.33803912 0.25798684 0.25465796 0.30721071 0.28273464\n",
      " 0.23523925 0.26840152 0.27618369 0.27984216 0.22071538 0.24920704\n",
      " 0.26770124 0.31011632 0.27509295 0.19841853 0.24172752 0.2778809\n",
      " 0.28021522 0.24767659 0.31976858 0.32927447 0.3146056  0.2458059\n",
      " 0.2458262  0.29297539 0.26666975 0.29302758 0.27239886 0.22219721\n",
      " 0.26635468 0.25429375 0.28531531 0.25971223 0.23274254 0.26644984\n",
      " 0.26392634 0.29269056 0.24686257 0.24298334 0.25266817 0.26012566\n",
      " 0.2700502  0.29459224 0.1949821  0.27251906 0.24629994 0.29507722\n",
      " 0.2313107  0.28095322 0.29576906 0.26486196 0.23264993 0.25693965\n",
      " 0.24628661 0.26788652 0.25610178 0.25544294 0.28674713 0.24896453\n",
      " 0.2262319  0.28499712 0.25648497 0.28800199 0.27275166 0.25477719\n",
      " 0.28780746 0.28248372 0.22450783 0.23992407 0.2440324  0.28842676\n",
      " 0.23859494 0.25606343 0.28359149 0.24129447 0.28591158 0.24978166\n",
      " 0.27274026 0.24133069 0.30664458 0.29339654 0.2460121  0.25051078\n",
      " 0.22134523 0.30466436 0.28633623 0.22922433 0.26302436 0.28756173\n",
      " 0.31404366 0.24684566 0.30857251 0.25666861 0.27202145 0.2672599\n",
      " 0.26221801 0.23152081 0.26054481 0.24083689 0.30177984 0.27534506\n",
      " 0.28222934 0.27147482 0.28843966 0.28439543 0.29100491 0.29434804\n",
      " 0.27601775 0.24764439 0.23184037 0.24790101 0.21110944 0.24755373\n",
      " 0.26968204 0.24966665 0.26599571 0.28244681 0.27559538 0.24648777\n",
      " 0.26443816 0.2730122  0.25973578 0.32922256 0.30185215 0.27565175\n",
      " 0.27874088 0.23772706 0.28878895 0.27458627 0.24295139 0.26132713\n",
      " 0.25502462 0.26905941 0.2395717  0.27563658 0.25755852 0.26036031\n",
      " 0.27672417 0.25371327 0.25418247 0.28016917 0.28201812 0.26741489\n",
      " 0.29792397 0.22647268 0.25255479 0.23636073 0.27773303 0.28255128\n",
      " 0.2682244  0.27841488 0.30336596 0.29358489 0.31410256 0.29129947\n",
      " 0.28040757 0.23309276 0.23500902 0.22530747 0.28026875 0.25210541\n",
      " 0.2256243  0.28745426 0.27441291 0.25998715 0.29187475 0.28584683\n",
      " 0.28605783 0.2561198  0.27725243 0.22274666 0.27613921 0.26521106\n",
      " 0.23332624 0.28691909 0.27367356 0.24482173 0.28853471 0.27270068]\n"
     ]
    }
   ],
   "source": [
    "# TODO\n",
    "from numpy import random\n",
    "a=81\n",
    "b=219\n",
    "samples = random.beta(a, b, size=300)\n",
    "print(samples)"
   ]
  },
  {
   "cell_type": "markdown",
   "metadata": {
    "id": "tW3f3cLAme0J"
   },
   "source": [
    "What are the lowest and highest batting averages from your experiment? What is the median batting average from your experiment? How does the median batting average from your experiment relate to the parameters alpha=81 and beta=219?"
   ]
  },
  {
   "cell_type": "code",
   "execution_count": null,
   "metadata": {
    "id": "ynFjqgz5me0J"
   },
   "outputs": [
    {
     "name": "stdout",
     "output_type": "stream",
     "text": [
      "max 0.3455855729022477\n",
      "min 0.1949821014990771\n",
      "median 0.2677839493767641\n",
      "mean f(a,b) = a/(a+b) 0.27\n",
      "mean of samples 0.2668280400201667\n"
     ]
    }
   ],
   "source": [
    "# TODO\n",
    "import statistics\n",
    "print(\"max\",max(samples))\n",
    "print(\"min\",min(samples))\n",
    "print(\"median\",statistics.median(samples))\n",
    "print(\"mean f(a,b) = a/(a+b)\",a/(a+b))\n",
    "print(\"mean of samples\",sum(samples)/len(samples))"
   ]
  },
  {
   "cell_type": "code",
   "execution_count": null,
   "metadata": {},
   "outputs": [
    {
     "data": {
      "image/png": "[encoded data removed]",
      "text/plain": [
       "<Figure size 640x480 with 1 Axes>"
      ]
     },
     "metadata": {},
     "output_type": "display_data"
    }
   ],
   "source": [
    "from matplotlib import pyplot as plt\n",
    "plt.hist(samples)\n",
    "plt.title('Bating average distribution')\n",
    "plt.xlabel('bating average')\n",
    "plt.ylabel('count')\n",
    "plt.show()"
   ]
  },
  {
   "cell_type": "markdown",
   "metadata": {
    "id": "97zwVCGLme0K"
   },
   "source": [
    "3. Sample a single batting average from your experiment at random, and then use that batting average to simulate 300 at bats. Give a statistical summary of the 300 at bats.\n",
    "\n",
    "    Hint: When you have a single probablity of success (p) and a sequence of 300 Bernoulli(p) trials, what distribution should you sample from?\n",
    "\n",
    "    Hint: What is a statistical summary? What 2 values can I usually use to describe a probability distribution?"
   ]
  },
  {
   "cell_type": "code",
   "execution_count": null,
   "metadata": {
    "ExecuteTime": {
     "end_time": "2021-08-13T18:55:09.578487Z",
     "start_time": "2021-08-13T18:55:09.575504Z"
    },
    "colab": {
     "base_uri": "https://localhost:8080/",
     "height": 201
    },
    "id": "68rpBtiDme0K",
    "outputId": "9282b140-6958-4833-8336-a7f3f42b482f"
   },
   "outputs": [
    {
     "name": "stdout",
     "output_type": "stream",
     "text": [
      "Binomial distribution\n",
      "mean 85.53210300508776\n",
      "variance 61.14630085684461\n"
     ]
    }
   ],
   "source": [
    "# TODO\n",
    "\n",
    "# This is a binomial distribution\n",
    "p= float(samples[0])\n",
    "n=300\n",
    "x = random.binomial(n=1, p=p, size=n)\n",
    "print(\"Binomial distribution\")\n",
    "print(\"mean\", n*p)\n",
    "print(\"variance\", (n*p)*(1-p))"
   ]
  },
  {
   "cell_type": "markdown",
   "metadata": {
    "id": "sirazl5Hme0K"
   },
   "source": [
    "4. As in the article, lets start with the $Beta(81, 219)$ distribution as the starting point of our estimate for a player's batting average at the start of a season. Then we will simulate a 300 at-bat season where a player gets 100 hits. \n",
    "\n",
    "    We will use the 300 new data points to *update* our initial best guess based on the prior information $Beta(81, 219)$\n",
    "\n",
    "    Finally, we will analyze our updated estimate for the batting average of the simulated player at the end of the season. Fill in the code below to complete the above."
   ]
  },
  {
   "cell_type": "code",
   "execution_count": null,
   "metadata": {
    "colab": {
     "base_uri": "https://localhost:8080/"
    },
    "id": "9_QNNv_eme0K",
    "outputId": "fed5ded0-011e-4915-c6ee-f37020d004ad"
   },
   "outputs": [
    {
     "name": "stdout",
     "output_type": "stream",
     "text": [
      "181\n",
      "419\n"
     ]
    }
   ],
   "source": [
    "# constants, the initial parameters of the beta distribution\n",
    "ALPHA0 = 81\n",
    "BETA0 = 219  \n",
    "INITIAL_BETA = dict(alpha=ALPHA0, beta=BETA0)\n",
    "\n",
    "def update_beta(alpha0, beta0, hits, at_bats):\n",
    "    '''\n",
    "    Parameters:\n",
    "        alpha0, int: the initial number of success\n",
    "        beta0, int: the initial number of failures\n",
    "        hits, int: the number of hits\n",
    "        at_bats, int: the number of at bats\n",
    "        \n",
    "    Return:\n",
    "        dictionary with two members alpha and beta, each representing the updated successes and failures respectively.\n",
    "    '''\n",
    "    misses = at_bats - hits\n",
    "    return dict(alpha=alpha0 + hits, beta= beta0 + misses)\n",
    "\n",
    "# unit test. If you've written your function correctly, the following code should give the expected outputs\n",
    "hits = 100\n",
    "at_bats = 300\n",
    "updated_beta = update_beta(alpha0 = ALPHA0, beta0 = BETA0, hits = hits, at_bats = at_bats)\n",
    "print(updated_beta['alpha']) # should equal 181\n",
    "print(updated_beta['beta']) # should equal 419"
   ]
  },
  {
   "cell_type": "markdown",
   "metadata": {
    "id": "Zy2O5gOume0L"
   },
   "source": [
    "Using code and text, give a brief statistical analysis of the updated probability distribution. If the manager asked you to give an estimate for the player's batting average at the end of the season, what answer would you give?"
   ]
  },
  {
   "cell_type": "code",
   "execution_count": null,
   "metadata": {
    "colab": {
     "base_uri": "https://localhost:8080/"
    },
    "id": "rnN2MNGfme0L",
    "outputId": "cc393ea7-57ac-4b44-f98d-a2230a6a4d7b"
   },
   "outputs": [
    {
     "data": {
      "text/plain": [
       "0.3016666666666667"
      ]
     },
     "execution_count": 12,
     "metadata": {},
     "output_type": "execute_result"
    }
   ],
   "source": [
    "updated_beta['alpha'] / (updated_beta['beta'] + updated_beta['alpha'])"
   ]
  },
  {
   "cell_type": "markdown",
   "metadata": {
    "id": "qweLWhPnme0L",
    "tags": []
   },
   "source": [
    "## Variance  \n",
    "\n",
    "So far, we've done some work to understand probability distributions, but we haven't taken advantage of the most important part - variance. Variance is a measure of uncertainty, it's a way to quantify everything you might *not* know about your estimate. Read the second article to begin to understand how variance can be used to leverage uncertainty: http://varianceexplained.org/r/empirical_bayes_baseball/"
   ]
  },
  {
   "cell_type": "code",
   "execution_count": null,
   "metadata": {
    "id": "tqpQqlNyme0L"
   },
   "outputs": [],
   "source": [
    "import pandas as pd  \n",
    "\n",
    "# prepare the dataset  \n",
    "batting_url = 'https://raw.githubusercontent.com/chadwickbureau/baseballdatabank/master/core/Batting.csv'\n",
    "pitching_url = 'https://raw.githubusercontent.com/chadwickbureau/baseballdatabank/master/core/Pitching.csv'\n",
    "people_url = 'https://raw.githubusercontent.com/chadwickbureau/baseballdatabank/master/core/People.csv'\n",
    "\n",
    "batting = pd.read_csv(batting_url)\n",
    "pitching = pd.read_csv(pitching_url)\n",
    "master = pd.read_csv(people_url)"
   ]
  },
  {
   "cell_type": "markdown",
   "metadata": {
    "id": "c02xP7qlEaOC"
   },
   "source": [
    "![image.png](data:image/png;base64,iVBORw0KGgoAAAANSUhEUgAAAe8AAAFwCAYAAACRufNbAAABQ2lDQ1BJQ0MgUHJvZmlsZQAAKJFjYGASSSwoyGFhYGDIzSspCnJ3UoiIjFJgf8bAwSDLwM3AyKCZmFxc4BgQ4ANUwgCjUcG3a0B1QHBZF2RWkcaaXQ9ErVx9Vy17mBeqzoKpHgVwpaQWJwPpP0CcmlxQVMLAwJgCZCuXlxSA2B1AtkgR0FFA9hwQOx3C3gBiJ0HYR8BqQoKcgewbQLZAckYi0AzGF0C2ThKSeDoSG2ovCHD7uCu4hfr4KHi4EHAtGaAktaIERDvnF1QWZaZnlCg4AkMpVcEzL1lPR8HIwMiIgQEU5hDVn2+Aw5JRjAMhVgj0o5UnAwNTLkIsIYCBYccHkFcRYqo6DAw8xxkYDsQWJBYlwh3A+I2lOM3YCMLm3s7AwDrt///P4QwM7JoMDH+v////e/v//3+XMTAw3wLq/QYAHIReGhGlB+sAAABiZVhJZk1NACoAAAAIAAIBEgADAAAAAQABAACHaQAEAAAAAQAAACYAAAAAAAOShgAHAAAAEgAAAFCgAgAEAAAAAQAAAe+gAwAEAAAAAQAAAXAAAAAAQVNDSUkAAABTY3JlZW5zaG90vRuERAAAAj1pVFh0WE1MOmNvbS5hZG9iZS54bXAAAAAAADx4OnhtcG1ldGEgeG1sbnM6eD0iYWRvYmU6bnM6bWV0YS8iIHg6eG1wdGs9IlhNUCBDb3JlIDYuMC4wIj4KICAgPHJkZjpSREYgeG1sbnM6cmRmPSJodHRwOi8vd3d3LnczLm9yZy8xOTk5LzAyLzIyLXJkZi1zeW50YXgtbnMjIj4KICAgICAgPHJkZjpEZXNjcmlwdGlvbiByZGY6YWJvdXQ9IiIKICAgICAgICAgICAgeG1sbnM6ZXhpZj0iaHR0cDovL25zLmFkb2JlLmNvbS9leGlmLzEuMC8iCiAgICAgICAgICAgIHhtbG5zOnRpZmY9Imh0dHA6Ly9ucy5hZG9iZS5jb20vdGlmZi8xLjAvIj4KICAgICAgICAgPGV4aWY6UGl4ZWxZRGltZW5zaW9uPjM2ODwvZXhpZjpQaXhlbFlEaW1lbnNpb24+CiAgICAgICAgIDxleGlmOlVzZXJDb21tZW50PlNjcmVlbnNob3Q8L2V4aWY6VXNlckNvbW1lbnQ+CiAgICAgICAgIDxleGlmOlBpeGVsWERpbWVuc2lvbj40OTU8L2V4aWY6UGl4ZWxYRGltZW5zaW9uPgogICAgICAgICA8dGlmZjpPcmllbnRhdGlvbj4xPC90aWZmOk9yaWVudGF0aW9uPgogICAgICA8L3JkZjpEZXNjcmlwdGlvbj4KICAgPC9yZGY6UkRGPgo8L3g6eG1wbWV0YT4KAWz1+wAAQABJREFUeAHsnQeYFMXWhgsEzOA1YUDFBCYyKjkbSAISJAsqQYJIkgxLBkkGclZykBwlSPJyBUUUFBNRUeBXL6CCSvCv9+ytsXd2ZnZ2d3Z3kHOeZ2Z6uqqrqr/urpOqz0n3lyXjR2fPnjW//PKLCVDkV1P/KgKKgCKgCCgCikBqI5A+UIe///67Mu5AwOg+RUARUAQUAUUgChAIyLzPnDkTBUPTISgCioAioAgoAopAIAQCMm81lweCSvcpAoqAIqAIKALRgUBA5h0dQ9NRKAKKgCKgCCgCikAgBJR5B0JF9ykCioAioAgoAlGMgDLvKL44OjRFQBFQBBQBRSAQAsq8A6Gi+xQBRUARUAQUgShGQJl3FF8cHZoioAgoAoqAIhAIAWXegVDRfYqAIqAIKAKKQBQjoMw7ii+ODk0RUAQUAUVAEQiEgDLvQKjoPkVAEVAEFAFFIIoRUOYdxRdHh6YIKAKKgCKgCARCQJl3IFR0nyKgCCgCioAiEMUIKPOO4oujQ1MEFAFFQBFQBAIhoMw7ECq6TxFQBBQBRUARiGIElHlH8cXRoSkCioAioAgoAoEQyBBoZ1L2kYls6dKlZsGCd8yxY8fMPffcY+rVq28effRRaW7Tpo1mzZo15osvvjCZM2c2ZcuWNXXr1jM7duwwCxcuMA0aNDATJ040u3fvNuXLlzetW78kx+3Y8ZGZOXOm+fzzz83DDz9s2rfvIMdT+MMPP5gJEyaY//xnq7n99ttNx44dzd133yPHzZkz25w7d85kzXqTYfu7774zHTp0MGXKlJVy/VIEFAFFQBFQBC5UBCKmeS9atMgMHz7MNGrU2DLUiaZq1armsssuE1zef3+L6dmzp7n++htM7959LEPNao4ePSZlv/76q9m8ebPp1q2bKVy4iKlYsZL5+eefpWz//v2mXbt2Jn/+ArbtEfaYo8LgKTx9+rTp0qWzSZ8+nXn99TdM9ux3mpiYGHP+/Hk5FgFi3rx5ZurUKaZ+/frmrrvuNvSlpAgoAoqAIqAIXOgIREzznjBhvGnevLkpVaqUYHLrrbf6sBk1apSpXr26T5tGG3ZM1lVq1aqVKVmylNm4cYNoyexfs+Zdc8stt5jHH39cqpUoUUIYMgz9k092mgMHDlim393861//kjqrVq00R44ckWM44I8//jAjR44yjGXv3r3mxhtvlHb0SxFQBBQBRUARuJARiAjzRqM9deqUuffeHPGwOHHihPn+++9NkSJF45W5HTBoGDfkftnGxH78+HFr7m7PX6EsWbIYTPTffLNX/vfv3+9/JcZq39mtRn7K979cuceEcbOjcePnfPt1QxFQBBQBRUARuJARiAjzvuqqq0T73bXrU1OgQIE4eGDehqgD/fLLL2bLls0hmblUtF933JHdXHvttaZ79x5ul+83W7Zs5oorrjBTpkw16dKl8+33bgTb762j24qAIqAIKAKKwIWGQMR83k8++aRZvHixLCzDJM5ism+//dbcdNNN5rbbbjPLly8X03WvXj3Nb7/9Zk6cOJ4gVsWKFTNr1641H330kWjb+/btkz44ME+ePHL8rFkzZWHajz/+aPtYJpp6gg1rBUVAEVAEFAFF4AJGICKaN+f/wgtNrOn8tGnR4kUfHJ06dRbG3bhxYzN06FCzZMli07Dhs1brLmLeffddX71gG2jxbdq8bHr06C5meXzbxYuXkOpsDx78qunTp7cZP3687CtcuHBYGn2w/nS/IqAIKAKKgCJwISCQzvqP//IfqFvt7b8/nP9nz541aME33HCDueSSS3yH/P7777JIDVN3YolXvmiTBWeBTOGsLMe8niFDxGSRxA5R6ysCioAioAgoAqmGQMSZd6qNXDtSBBQBRUARUAQuUgQi5vO+SPHT01YEFAFFQBFQBFIdAWXeqQ65dqgIKAKKgCKgCCQPAWXeycNPj1YEFAFFQBFQBFIdAWXeqQ65dqgIKAKKgCKgCCQPAWXeycNPj1YEFAFFQBFQBFIdAWXeqQ65dqgIKAKKgCKgCCQPAWXeycNPj1YEFAFFQBFQBFIdAWXeqQ65dqgIKAKKgCKgCCQPAWXeycNPj1YEFAFFQBFQBFIdAWXeqQ65dqgIKAKKgCKgCCQPAWXeycNPj1YEFAFFQBFQBFIdgYDMO1Dyj1QfmXaoCCgCioAioAgoAgERCMi8M2bMGLCy7lQEFAFFQBFQBBSBtEcgIPO+7LLLAqbeTPvh6ggUAUVAEVAEFAFFIGBKUGAhLzc5uM+cOWMCpPxW5BQBRUARUAQUAUUgjRAIyrzTaDzarSKgCCgCioAioAgkgEBAs3kCx2ixIqAIKAKKgCKgCKQhAsq80xB87VoRUAQUAUVAEUgKAsq8k4KaHqMIKAKKgCKgCKQhAsq80xB87VoRUAQUAUVAEUgKAsq8k4KaHqMIKAKKgCKgCKQhAsq80xB87VoRUAQUAUVAEUgKAsq8k4KaHqMIKAKKgCKgCKQhAsq80xB87VoRUAQUAUVAEUgKAsq8k4KaHqMIKAKKgCKgCKQhAsq80xB87VoRUAQUAUVAEUgKAsq8k4KaHqMIKAKKgCKgCKQhAsq80xB87VoRUAQUAUVAEUgKAsq8k4KaHqMIKAKKgCKgCKQhAsq80xB87VoRUAQUAUVAEUgKAsq8k4KaHqMIKAKKgCKgCKQhAsq80xB87VoRUAQUAUVAEUgKAsq8k4KaHqMIKAKKgCKgCKQhAhmC9X327Fnz+++/mzNnzpi//vorWDXdrwgoAoqAIqAIKAKpjEBA5g3j/uWXX5Rpp/LF0O4UAUVAEVAEFIFwEAhoNkfjVm07HPi0jiKgCCgCioAikPoIBGTemMqVFAFFQBFQBBQBRSA6EQjIvFXrjs6LpaNSBBQBRUARUARAICDzVmgUAUVAEVAEFAFFIHoRUOYdvddGR6YIKAKKgCKgCAREQJl3QFh0pyKgCCgCioAiEL0IKPOO3mujI1MEFAFFQBFQBAIioMw7ICy6UxFQBBQBRUARiF4ElHlH77XRkSkCioAioAgoAgERUOYdEBbdqQgoAoqAIqAIRC8Cyryj99royBQBRUARUAQUgYAIKPMOCIvuVAQUAUVAEVAEohcBZd7Re210ZIqAIqAIKAKKQEAEAmYVC1gzDXf+8ccfZu/eveb66683N9xwvUmX7p8jc3Bu77+/xYduiRIlTYYMKXtZjh49aj77bLf0eeWVV5lHH33U139iN37++Weze/cuw7jTkgjpu2vXLvv51KRPf4kdTwlz6623puWQAvb9ySc7zQcffBCnrHTpMubee++VZEDff/+9OXXqlLnzzjsTdR+QBfC7774zmTJlMrfffrvJmDFjnD5C/fnzzz/NgQP77bGXmltuuUXaCFU/Jcr++9//mnnz5sZpGgwee+zxOPv0jyKgCMQiEFEu8X//93+madMmZuHCRWb06FF28sxmqlSp4sO6bt06ZsiQoXaiOGDWrHnXxMT09pUF2jh37pytP8Rs2rRRJqRDhw6Zl19uax5//J/zQJME5t///rf57bffzNatW83SpcvM1VdfHQiOiO376aefpE8m+/PnzyeLeTPpDxo0KCzmzTnOnTvH1K5dx1x++eUROx8aevvtt82cObNNpUqVLPM7bX788ceoZN5ffPGF2bBhg6lYsaLv/DNmzCDXv0+f3uarr77y7R86dJi5++67ff+DbYwcOdKsW7dWnrd9+/aaa665xowY8ZrJmjWrWbBggXnjjdfjHFqwYEFD29C7775rBgzoL/0giD388MOma9duceqnxB+e7fbt25vffz9txo4dZy655BJz5ZVX+rravv1D88MPPyjz9iGiG4pAXAQiyrzRKNAi0ILWrFkjD6Xr7uDBg/KAog1NmzbNFCtWzBUF/WWSg3HPmzff92DDbP5JdNVVV5nu3XsYNC6Yd2rQAw88YPisXr3avPPO/NToUvo4ffq0eeutt6xAVzWizPuvv86bKVMmC8PKly9fqp1PUju67bbbTL169eMc/tprI6zFIL3c6+nSpTP9+vW1wm0vEUoSsjQ9/fTTpmXLFmKRwpJTu/YzIiA888wz0kfu3LlN//4DfP05yw6WChj3hAkTRfOnAumAU4NmzZpldu782Nx3333SXebMmeNgcubMWXPw4IHUGIr2oQhckAhEhHnzIG7fvs3s379fJmW0B8xgb701VZj5rFkzDVo5Gl+7dm3Njh07DBpCoUKFDcwrGJ0586eYEP/v/45Z5n2nVGOCc7Rp0ybpAwn9oYceMq1bv2SYGNHsBw0aGEd46NWrp3nqqSqmQIEC0v/ChQtMgwYNzMSJE63Zd7cpX768HE/bmJVHjnzTfPTRR6LF5MyZ0/TqFSPd7tjxkZk5c6b5/PPPRUtp376DYeJxtGLFCjsZjrfazpsyFrc/qb9oKDNmTLca+VJz9uxZU6RIEdOiRUufMBNqrOANc0azpx00m4EDB5l//etfSR2OHIe2vWjRIrNt2zYDQ/bSV199aRYvXmw+/vhjMb9yPfr27Sf3xrfffitV9+z53GTJkkW2H3ool/wyvvnz55vNmzebn3/+Se6LJk2aCsbe9v23EXq4l6Bff/1VTPiZM2cRS83JkyfNK690NJ07d7EYzhD3xM0332wmTZos9YPhs2TJEqu13mi4lmBWt24907NnD3u/NDQwSojzX7p0iR3rz/beqWCef/55EU6lMAlf3Gv16tXzmcq5zu+9957VxL823H+hCFO3I/Dg2XvwwQfdLvm97LLL4pnSsVTUrFnLx7ipSL2EiGdg/Pjx9lluZ3LkyClWjpiYGPPcc8+Z/PnzJ3S4PDszZ84wDRs+a++huC6EBA/WCoqAIiAI/M0JkwFI2bJlTbNmzWXS6NGjp0jTMMo6derKdsuWrWQSbNWqtXnyyfL2gc9hOnXqnKD2VbJkKTm+UaNGMlkywTuCeTKh4msdNmyYMIqXXmotmgPaA+ZJL+3bt89O7r/ILiZ5mES3bt1M4cJFrAmzkkzCFOJvbNWqpdQbNWq0mBDd5IlwwoSVP38BM3z4CGHyMH8v0TaTJ37ESNDcuXPN7NmzzQsvNDFdunS1vurPrCvhVWk61Fjpv0eP7sK4GzZsaJo3f1Ew8WKYlPHB8Nq2bWtwYbRp87JcY9cOjOPll18WLBFqSpUqLWsVKIchIsxBkydPtsLRSPk4S8q4cWOlvGjRonbcPUXYc9dLDgryxXqBKVOmSOnUqVOkTaw+EOfKfdCxYwcRwrgPEfSgUPhQ54033jB58uQVa8irrw42ZcuWs9rse3IsFovx48eZxo0by/2xaNFCs3HjBilL6hdCDtcWwnK1ZcsW2T527Jj8hvOFsMIzUbduXRFm3TGffvqpNT+XM717x5j169cJLpTxTOAff/311+0xdey5dBEhyx0X7Jf7P1u2bPL8nDhxwloJ+slalHAYN88HgnTHjh1FQArWh+5XBBSB0AhkCF0cXumNN94oWjVa1P3332/N4m+b6tVr+DRP/JtM9qVLlzbLli0VjTscXx7HDRs23EydOtVgVly1aqV59dUhounSDm08++yzMkgYSc2aNUQbZDzhUKtWrQwCAhMv/l8IbQffLKbsSy+9VPah1UP46dFynM+dRVHz5s0Thi4V7FetWrVMtWrV4mk5rjyxv/iIEYSeeOIJORSG1qdPHxEQnK880Fi3bNksGs6CBQvNtddeK9cnsX0Hqo8PFUJgwpyLv9YRQsZ1110n2j37vMy3TZs2oqHVqFFd1j0wJkcwKISUPn36ykIz9oeyyLjj+EVzRIB75plaIlA5jd5bp1ix4tas3FLuQbc4LyF8uOZo01guKlWqLJrshx9ul2bZV6oUguX98j9v3rz2vttuypQp6+02Udu1aj1jBZ825vDhwyL8OA04XCEQQa5z507mrrvuEkHPdV6uXDkrhOQ2x4+fsJaH9+XeadjwoGjJx48ft9dxqKFOx46viBsF8zv3jOvfteP/27ZtO9OkyQtWeKstgjkMPBziOc6VK7dY5JYvXxbOIVpHEVAEAiDw98wboDDcXZhPeRDPnz8nK0ZhKjlz3icMI0eOe2VSoC0Y7qpVq4TpsrK0cuWnEpwkMFsy8ZYsWVI0SczhAwYMFGbLpOnohhtuEHPwkSNHTDjMGyYM44bcL9uHD39nsmfP7mPc7HOEFseE16FDe7dLzL9oSvgpHSVmpa87JtAvi9nQ4vFPO3IMA3N5QmNFmPIySddGcn73WJM3GnUgP+xnn+22DKxMopv/+uuv5RhcGilBderUkWbRMp37g2sZCp+iRf9ek4GQxnWA0OZxC+EGwvrjCKElOcS9PG3adPPhhx+KFotmi8WJ+zohYkxo1SxUQ5DzupZw6Ti3DvgeO3bUuifmCfPOkyeP+eSTT6xroZNYrljxjoDM9ciVK9adEaxvnkvcCIMHDxJBPRxhC7zWrl1rHnnkEXFrHThwQAQqnmmEIdxoSoqAIhAeAhFh3jBtTHNM6l9++aVo3DAwmM+5c+ft6zu7rfSfR3ySvPKFCZIFKYkhNCFMx5iMWaB0/fU3WJPsPl8TmAyZYJlEWbkK0T/jYLJ1/lbfAUE2mODxaaPJXHHFFXFq3XFHdmGGTJCpQYydMeBjhoFAhw4dlF/81qHGivUgc+a/V61v3LhRjkPQSA5h9rz66r/bXbduna85roGbxOmHidpL7rr4a5OnTv0m1Zy2B2MN93p52w+27WVmrk5C+AQTxjgHTNzPPFNbVra79iLxS7t8oA12sSbENU6IYMa4LMaPn5CgxadAgYKy5oPrwzPlXi+jD4d/OPcIQiyug7x584mlDR89VrdQhFDduXNnXxVcJrhhEFxuuCE8a5nvYN1QBC5yBCLi886XL78wzmbNmllf2G2ygAe/G6/DYNrOlCmjvB6EDxGpmzI+brIIdg1YDYtfjskEho1ggISO1scvq1XR8mG0s2fPkmbwuznmAhPYuXOnrNoN1of//vz5CwjDxJcNo0IAQDCBWCEPQ2JxEWNibCzO8hKLefA1O03NWxbONgvAOB83gbKQDmvF3r3fiLaH2RpNnIkw1FgxD4MNGLDwauLECdI97wN7Ca2N/sJdZVykSFHrWlgvAgW+6+XLl/uaK168hH1laZ0tO2BGjRolODHJO0LgQBjhunF+nBMYcx4QbgkWM/LKFHTyZNyxys4IfYWLT6DuWOOB/x7rB4sIP/lkp6yhCFQ33H3g7+4ZrhGuJ1blo0074lo2b95M+nP7+OUe5N7keJi4W7RGGfcuDBJiPxYv3AwIJw8++JAISdyzEIsiuT5o4KGIZxGNm7Urw4cPl9e5evbsYfzvLf82iNPAmhf3QaBH2OY/84SSIqAIhI9ARDRvJhWYJsyY1aOt7apvR7y6woTMKmdW/CL5h0v4JefMmSMTivM/4/OGihcvLv5uFtlATDq8Qw6DgDEwIbRu3Ur2YxacNCnuwjI5KMAXTHHo0GF2vAOs7+8dqYHpktfVMDviW4c5w/DoC4blpe3bt8tEXqNGzSSt6q5Vq6Y0N3/+OxKUpnHj54RJ4H+FmOTwDTP5hh5rQRGUmOzR5saNG2/NnPVFAMAvCtEGlpAKFcqLL3/mzFgBSAqDfOEf/fe/3xeTLlpXTExvuw5hsNSuWLGCvHXQqNGzsip+4MCBFq82soYAMyuEC4T3wvlwzSZOnCR98+6328dCQoSCo0ePyDHhfnm15YSO4T5EkAyET/r0f7tAArWDufjIkaPiZ6ccfPFZJ4ewqDRt2lSwgMkinL744otxmvz220MijC1cuFAW07lCBCTe+ODjiPUluAhYmAnDBmvu2cKFC8s1oR7Ms1q1p2XNBvcyzypvBrDWJBSx0p5nfvLkKWKiZwFjs2ZN7XMzxJrv+4Q61K8sNM5+lfWvIqAIeBBIZxldPDsqr79EC7GYiQ/mWN4R9/cnM+EwecFg/c2jaBwsYHLvtSb2nMCB/pwm745HWyUICMzTn2GgqbPoKHv27K56RH7RajA3o6kEomBjZX+k/d7cMmDOhO9PmEJZgRyozNXlPPAZg5/3enIc19mZ1139lPxNDj5oyzDExODL61kIs4MHx74x4M4NTBkLPumbbro5KH5YNLjneeshXMJFgBvipptuiqPJu+Ppl+txxx13JGgNc8ek9O9Uu0j1oH3PGwFESRFQBOIjEPXMO/6QdY8icOEiAPMeM2aMaNjuLF566aWwFmthno+JiZE3MJz1xLVxof9ibfAuBEU4xLWhzPtCv7I6/pRCQJl3SiGr7SoCARBgUR+MyUtYU5xbwbvffxv/NX5jb1AW/zoX6n8sVu4dfHcOmPo5XyVFQBGIj4Ay7/iY6B5FQBFQBBQBRSCqEUgf1aPTwSkCioAioAgoAopAPASUeceDRHcoAoqAIqAIKALRjYAy7+i+Pjo6RUARUAQUAUUgHgLKvONBojsUAUVAEVAEFIHoRkCZd3RfHx2dIqAIKAKKgCIQD4GIMm8CPVSrVlU6GT16VLzQoaQdJIAJ2Y1iYnrFG4zuUAQUAUVAEVAEFIGEEYgo8/7ggw8k1R/RosipXKhQId8IDh48KJGziJJGyEZiMSspAoqAIqAIKAKKQOIRiMh73sRU3r59m9m/f7/ERb722uvM7t27bMzsCsLMZ82aKeEXCVd63333SXjI2KQGI3xZqBI/dD1CEVAEFAFFQBG4OBGICPMm9jgZjUhOMGbMWMksRfzqmjVrSixlyknl+dRTVSTOOCkMO3XqLPG/UzOO9cV5ifWsFQFFQBFQBP5pCETEbE6CCRJSPPRQLsnp+/33h03JkiUl2xJJPUh4cOjQIauFl7ZJK45LHGeyYynj/qfdTno+ioAioAgoAqmBwCU20UGMf0fklE4Mbdu2zSxcuMCmfvxVsiyRcxrfNhr3JZektykJ50ku7iuvvEJyU5Pf+8iRI5LeMqkZvxIzPq2rCCgCioAioAj8kxCIiOZ9/vw5Q9KEnDnvEyZNfmNSPZJs4Ny582bXrt2SO/jXX3+V/NHZs99py87+k3DUc1EEFAFFQBFQBFINgQyR6Clfvvz/83k3M7NnzzZ33XW3qVu3rq9pNO3atetYRn7OPPLInjhlvkq6oQgoAoqAIqAIKAJhIRARzfuLL74w+fPnN5dddpnZtu0Dky9fPl/nf/zxh6wuZ5X5zp07TYECBX1luqEIKAKKgCKgCCgCiUcgIqvNE9+tHqEIKAKKgCKgCCgCSUUgIpp3UjvX4xQBRUARUAQUAUUg8Qgo8048ZnqEIqAIKAKKgCKQpggo805T+LVzRUARUAQUAUUg8Qgo8048ZnqEIqAIKAKKgCKQpggo805T+LVzRUARUAQUAUUg8Qgo8048ZnqEIqAIKAKKgCKQpggo805T+LVzRUARUAQUAUUg8Qgo8048ZnqEIqAIKAKKgCKQpghElHn/3//9n6lWraqc0OjRo8zixYvjnFzdunXM4cOHzfvvv29iYnrFKdM/isA/HYHnn3/OzJkz23eaH3/8sSlVqqTkAPDtTIONLl06y3P711/nfb2TbIixuU+rVq3MwYMHfeW6oQgoAmmLQESZ9wcffGDTfpYxf/31l1mzZo1N/VnId3Y8+KQAJdvY5s2bTbFixXxluqEIKAJpg8Bvv/1mtm7dKrkJ9uz5It4g1q9/zyxYsNBcc00WM3bsmHjlukMRUATSBoGIJCaZNWuW2b59m9m/f7+5/PLLzVdffSWTwVtvTRVmPmvWTINW/tNPP5l27dpKrPN9+/ZKXu+rrroqbc5ce01VBP7973+bDRveM5UrP2UmTBhvvv32W/P88y+YSpUqyThIWjN//nwR7H7++SfDfdGkSVObzOasZKX7888/rcVmi+ndu48ZMuRVc/PNN8s2B+/Y8ZGZOXOm+fzzz83DDz9s2rfvYDJnzpyq53ehdrZ9+3Zzyy23mGuvvU4sYg888ECcU0mXztiya80NN9xon+mf45SF+rNp00YR4Ml7wLUoW7asefTRQnLt+vcfYK677jrf4QMG9DeFCxeWuSLUtezdO8Y8+WR5s3v3bptaeKU5e/asGTlylCgEwe4f7gcIxYJjOJbxMJamTZtKWag+pYJ+KQJRiEBENG8ezGbNmgvD7tGjpyEJyVNPVTF16tSV7ZYtW5krr7zStGrVWh6+HDlymE6dOgujj0JMdEgpgMDJkyfMli1bTM+ePUyZMmUly9zQoUNsDvjfpLdx48YahL2iRYsa7iGEvV9//cWcOHFScsU7xtGmzUu2TjGzceNGQ9IbBMZ27drZxDgFzPDhI8zRo0fNxIkTU+AMItMkzGPFihXy2br135FpNBmtbNmy2ZrGS5mSJUuY995bH68ltPF58+aa1atXmQYNGsQrD7QDIatnz57m+utvEAEra9as9rocs9kG75Trzfk7+vrrr827775r8ubNl+C1/Oabb8ygQQOtcvCl6datu8w3CHVQsPuHMhIider0isw3vXrFSNbDH374nqIE+5RK+qUIRCECEWHeN954ozl//rx56KFc5v777zfff3/YTgYlDXm9r776anPHHXeYQ4cOWcm6tJ2Mj4vGfffdd4sZPQox0SGlEAKnTp0yXbt2M1WrVrVC3JPSy/Hjx82xY8fM3LlzTefOXazAV0fuIX+LTLt27Q1CX548ecyzzz4rx9LemjXviub4+OOPW2ZxvSlRooTV3jel0Bkkv1mEi88+2y2fAwcOJL/BZLSA8LN27Vqr9RaRZ/L77783+/bti9Niv359zahRo4ThoZ2HQ9SvXr26adOmjUGTz5r1JjksXbr0dn8Na4Z/x+fnX7hwgalQoYL517/+Fda1vOGGG0yfPn0ts89rihQpIgw5ofsHc/9jjz1uXnmlk52jHrKa+i2+07jQ7h/fwHXjokcgImZzFrcsX77MMvBzIqVjIs2Z8z4xk+fIca+V2lcL0MuWLbWmq1UGxo00jwmVNKJKFwcCMF9nxrz00kvlpDF9OiZWoECBgEA88sgj5oorrjAZMmQQzdxbCbMsAkCHDu19u7NkySLrLtJh840ywkr1zDO1ZVQsWOPZSStCI4VwQbAeBcbIs3vXXXf5hjRjxgzz559nzLBhQ03bti+bqVPf8pUF2jhx4oQV3r+3jLVooGLLRB8zr702Qkz0CGJo4ePHT5C64VzL2rVrG3fvDBgwUI5jASwU6P5BM6fd2rXrSB3/r3D69D9G/ysC0YBARJg3TPvTTz+15rfS5ssvvxSNO2PGjCJdnzt3XnyWPKi//vqr2bt3r/V/lbNlZ6Ph/HUMUYDAqVOxpnMnyDGh4hN35GXCMHAv3XFHdvHJdu/ew7tbt8NAwDG9GjWq+2pjOq9fv77vPxswSywlmLcRlK655po45d4/p0+flr/OcvLLL79Yd8lmHzPHfVajRk1Z3/Ddd9+JtQ6hDgrnWnrvBTnIfoW6f7AuQFgAod9//92uvdhg7rzzTvkfTp9SUb8UgShDICJm83z58ov/qVmzZiZbtttM+fIVTN26dU3FihVFy86UKaNIvnny5DVoUZTxcZN1lGGiw0llBPBXQ5gwd+zYYc2iveX/yZO/yG+oL95awPT70UcfibaN2df/FcVQx1+sZSzwWrt2jZigN2zYaBnaRvPmmyNFuEZzdnTq1GnxMc+ZM0c081CMm2NuuukmEd6XL18ubfXq1VP83LjLHFWpUsUuHNtl1yZMMDVr1nC75Q2UpFzLUPcPTBt33sqVK6yFZ7/BDeAsPXSs948Pft24wBCIq8YkcfBoSvnz5xdmvG3bB6Z165d8LSH5MiEPHDjIYIIrUKCgr0w3Li4E0qcPLCteZ1ceY9YcNGiQmMe7detm3TDL7SKnIyZ79lgNKRBSaGGYStu0edkucutuNbBT4jstXrxEoOq6z4PAnj17BC+vqRn/NO4JVmbzSidUsWIF2UfZkCFDPC0E32zcuLEZOnSoWbJksWnY8FnxTaO1O2ItDEI8i9VYfOgoqdcy1P1D2/Xq1TOvvjpYhDx88SgO+MmhpPYpB+uXIpCGCKSz72T/5d//zz+H/0qI/7H6XxFIKgL4SzG34n9NLKFJ/vjjj4bFk4FMq4ltT+snDwHM0yxiRRhILCX1Wga6fwg8c/78X/aVw3PWd/+n3F+sPGfdTdOmzXxDS2qfvgZ0QxFIZQSUeacy4NqdIqAIpB4CvHLI64XEE8Ckj3vlvffeM5MmTZaFeqk3Eu1JEYgsAsq8I4untqYIKAJRhAAa9W7rX//kk0/sIsjv5NU1AsLAyJUUgQsZAWXeF/LV07ErAoqAIqAIXJQIBF5BdFFCoSetCCgCioAioAhcGAgo874wrpOOUhFQBBQBRUAR8CGgzNsHhW4oAoqAIqAIKAIXBgLKvC+M66SjVAQUAUVAEVAEfAgo8/ZBoRuRRoBVvosWLUqwWYKrrF+/Tt7FTbCyX4X//GerpKD1253ov4TxJGUk7yc7OnLkiM1ottD9TfZvpMZ65swZQ1veSGGMm9S8LktbcgdLABXShRJ7Pq0o1P3DO+TcM4Rc5v3uQBnRGDdBoqjnPv7nE6lrklYYab8XLwIRZd68U1mtWlVBc/ToUfHCVNatW8ccPnxYkhLExPS6eFH/h5/5Xhu//vnnn7NZnF4x4QT8+e9//2vDdPaJwzjDhYgQqtxL3FsuVne4x1KPyZ/jK1euZLZu3RrnUFJPkkAHZpkY4vzJluVPyR0rAUcmTZpkqlR5SvKXw8AcgeHcuXMM8cITQ8HGSttTpky2qX0rm2nTpiWmyWTXDef+4ZpwzzDnMKf07h0bUte/c+qRbGXNGkLB9jEu9rqrl9xr4trRX0UgtRGISHhUN2jCKpYuXUZiTPOwjB07zhWZgwcPSuQswi4yGRBTWOmfhwDXuXXrVja5RQObPeuZJEVLSwwqpALlA+Pt0qWzhFgtVKhwWE2g8b/ySkdDeM2VK1fFyy9fokRJm2K0ZFhteSsdOnTQpr1cYAXZp727ZZxJHSuBEEeOHCnnOWXKVJtmM2uctskMtnBhwlaOOAfZP8HGmjNnTjN69BhhjK1atbQa7O/mhRea+B8e8f+Rvn+I2EfSGuK1+wtnDD4590/ET14bVAQSgUBEmDfmuu3bt0li+8svv1zMmGgCb701VZj5rFkzRUL+6aefTLt2bSXW+b59eyWHsMs+lIgxa9UoRoBEFOXKPSbxo/2HiWkXzZGEGBDZpIhL7ggtihjUmGtJnfnyy22F+RMbH022QYMGNpnFRBt0Y7dNflM+Tgx9Am907PiKzQne2SxdusyXRcq1Heh38uTJYhbu1q17nCQ5hFnt3r2bHEKeaeLye4nwmsRi37o1VqMjQ1WvXjGGVKSM7eDBQ2JFwOwLXXHFlXHSbCZlrFu2bDHvvPOOFXynx2PcXbt28Vk4+vXrL3nN3XinTp1qx5XZZMqUycyePVvwJK81scrDGSvC9tChw8SSQmIhl9LVtR/p31D3D66N+fPn2SxlW+Jp0IyDeOVvvPG6zZX+mVwfhMdwKSnXJNy2tZ4ikBIIRMRszkTbrFlzySzWo0dPc99991lzWxVTp05d2W7ZspUhFWCrVq1tasHyMml36tQ5nqaTEieobaYeAghs+GEx6waigQMHWNP2FtO3bz8zYsQISRPpjWPesWMHc8stt9gkIz0tA15qPvzwQ2kG0/bmzZsNCUsKFy5ik2VU8jErbz9oURCJcsKhDz74j2TA889uBxPmXkXrDtTWV199ZU2wvcVE3bVrNxFMMa/HasdvSm57BBE0ZT4k6PCnxI51586PTfHixSVjl39bjRo1Mo0bPydjJX63l44c+cG8/fbb1vw/zzRp0tTcc889wuASM1bigBcsWFDS/nrbjvR2qPuHSGl9+/YR83fNmjWtxaRTvO7bt28nMcsRrMaMGW2tCofi1Qm1I7HXJFRbWqYIpDQCEdG8SQaBVk3qvfvvv99qB2+b6tVr+CYatHEepNKlS5tly5aKxs2EoPTPQuDzzz+XEyJHsj+Rn3vjxo1iikXrg1zGMHyWUPnyFcxzzz0n29mzZ7fCYNwEOa1atTIlS5ay7WwI6Nslhzz3IJpXQhriyZMnJWf4vffeK/15v2Lbecj6w4OnJOUcEUIQPjDT//jjT5IQBVcRi6fQ6r1uI2/7bCdmrNTfuXOntUaUYzMe5ciR06CVBiMWbaE9X3/99Xa86SXjF8lbwh0r7T744IM2LviOYF1EZH+o+4eY5Nu2bRPLA1nJXJ5ub8ekIIZxQ2joCGe33367t0rI7cRek5CNaaEikMIIRIR581AtX77MZu85Jwt8WCCSM+d9wtBz5LjXrF69Wk4Dxr1q1SqRjtFUKld+Ko65MoXPVZtPYQROnfpNskh5tWnX5eHD38nmXXfd5XbF+61Vq5ZvH9mozp495/uPRg7jhtyv/PH7uvLKK8JacY2/G0KwTArVrv23P582/AWNcNoMd6y0hbCRlAxdHFu1alWfKf2yyy4PyPioF4o4x1DCTKhjwy0Ldf98+eWXogzAuIPRM8/U9hVhTfG3QvgKQ2wk5pqEaEaLFIEURyAiZnOY9qeffioM2z1kSLGs9Dx37rzZtWu3yZMnj6zsZSUpGteZM2n3CkqKo3qRdnD//Q9IjugffvghHgK33RarAX3++WfxytwObyrP9OkTnxYUU/CuXbtES3RtBvslMQX+7G+++SZYlZD706X7+9GxSmwcypAhY4Ir5xMzVhrPly9fQBN+nI6T8CecsdIs7oN8+fInoYfwDwl1/5w+fSrOOoZNmzbGa9jdP6y4x9Jz3333x6sTakdir0motrRMEUhpBP6egZLREw81/qpmzZqZbNluE/MnCe8xY2Eez5Qpo5izWPDyyCOPyGImyv19jckYgh4aBQiwuAnt0PmqvUNCc2aB2uTJU8zRo0cl1zO+YzTKSBEMBo36gf+Z5RNqt0CBAvK+dEL1aDOQmTbYcdmyZRM/OEwEAZaFYf6U2LHmzp3Hmq0/TFAo4FUo/9eh/Pv2/g9nrJw/1rVcuR7yHhrx7VD3T8GCDxvM6iwCXL9+nXW/jI7XPwsi9+zZY157bYTcaw89FH+8YMP5wKj9KbHXxP94/a8IpCYCEWHe3PT58+cXZrxt2weiJbiTYNJjtTCL2PDbFShQ0BXp7z8MATSf5s1fNMOHDxPNx3t6lA0e/KoIcs88U8uUKVPariZvY33FP3qrJXmb4CQsaKpUqbJhDUY4hJmV3M7r1q0LWh2htEKF8tJ20Ep+BfhZEVzr169nHnusnPUxD4lTIyljLVWqlDxfo0aNjNOW/x/ery9f/knPbswCfqYBT2lCY6Uq15NX0YoUKeo5MvKboe6fXLlyyYI91j2MGTPG9O8/wDcAZ/l48sknzIsvNhecWI9w6aWX+uq4jVq1asr1ZI2Ol5JyTbzH67YikNoIaErQ1Eb8Iuhv2LChVkv8yK6Abmwn3BLxLCxoPnxYQJVcYhUymv6MGdPlta/XXntdXosKt11eW+vXr58VOprLK26RGJPrm1XyLCTDRA9jSu5YeQf62Wcb2tX8Ve3bHE+JVcv1ldxf/7HSHpaRRYsWmg0bNthX9CbJmwDJ7Sec40PdPwT9wd0Bnv6E5s16C1x24VJyr0m4/Wg9RSDSCCjzjjSi2p6YileuXGnNm+stk/7NjB8/IcVQGT58uLw3ztsN1atXN9dcc02i+yJ4x7vvrhYtfMmSpSZz5syJbiOcAyIxVsKWgi2hXHmljveTU4IwTb/55psi0FSsWMFkz35nSnQTsE1cDRfS/RPwJHSnIpDCCCjzTmGAL/bmMUfyjn9KEWZtAv0kRtsKNhb8oZha06ePiDcpXjeRHCsaI0wupdaNpDQW8cAJsuNCun+CnILuVgRSBAFl3ikCqzaqCCgCioAioAikHAIpo2Kk3Hi1ZUVAEVAEFAFF4KJHQJn3RX8LKACKgCKgCCgCFxoCyrwvtCum41UEFAFFQBG46BFQ5n3R3wIKgCKgCCgCisCFhkBEYptfaCet4w2NAEF3IALrXKx0/vx5SX7y22+/2vebb5V0n9GMBe+TE9GN1J8EXvGuvqeMd8RZ9U/6Un8iBviBA/vtsZfKu9y0kdJEMhoCON1xxx3ybnY4/blx8i73rbdmi7fSnve8D9isdkTzS+zrfkkZTzhj1jqKQEohEFHmTRrEpk2b2NzLi2z4wlHygFWpUsU39rp165ghQ4bKA7ZmzbsmJqa3ryzYxo4dH5lRo0YZYqJv2LAxWLWLcj/RtEhj6BIyfPzxx6Zt25dt2sS1cSbvxILDO8TE7k4q8+7SpbPEwl6wYIG0k9j+07o+r2ARGe2GG24QHL///nvJE046W6hBg/rxIsixf9Wq1fad9vFmwYJ3+BuHhg0bbqMLFrDRBpN2P8OAZ86cYWbNmmWjiLWw1/zvXNWkHV23bq08b/v27ZV33UeMeE3yfs+ZM1sikhGalqArXFPKXEKWd9991wwY0F8CvhAAhWxspDn10tSpU8xUmxd85cpVvuO85YnZ5tWvHj26m/3798srfrzyRsYzGG4oIsRsq1Yt7fvm2c2JEyeE8b/++hvGZYUj1nnPnj3lPJgrSJH67LPPSpPkZicHuJeaNGli6tWrL0lskjIeb1u6rQikBQIRZd4ffPCBTftZRuIGr1mzJk5KRCT/WIn5VpvWb5opVqxYgucLEyEXMWEZeSCVoh8BJmeCnkB79nwRdpzxaDqzDBkyiABKJC+IDHhvvPGGFZSekHfA33xzpERzc2OeM2eOTUO6WzTB559/XmL3uzL29+rVy5BNLTn383PPNRbGGiiV7tNPP21atmwhghLaLBnPNtioaDD4ChUqSnpezgnN9Omnq9mANO/aKG1VJIkLjHvChIk+JkgdL33yySfCuL37krP91ltTZRxz5sy1glEGicI3aNBAi++bIZslD7kTHohLDsMlqh4KAKFOYdyETC1atKikjAXz3Llz+0I1N2jQ0Hiz1rnQqUkdT8jBaqEikAoIRIR5ow1s375NpGkkeiR8AlLwYMDMZ82aKYkaeMjatWsrsc7REMiDTICNYETqR7SdPXs+l/y8werp/sAIgPc778w3pGhFw8FsOnDgIAnu0bNnD9OtW3cb9nKCvXbbrab5uMQa92bLolWOe/311622c9x06dI1nqnSv2faQou69trrzPvvvx+HeQcbD0wSDZG+sma9SbYxAXfo0MHGQC8ryUtGjnxTtCciqJFKFgbFWNEIs2TJLObi2bNni4D4yiud4vTrP8aE/hN60zFuTLVfffW1mKJd8BZvFDeSZZAOFwYIgbELSkPSFbRiGAntJed+fvvtaaL1dur0Srzhe7VWrAQ8e+Tfhq6++mpf/UOHDklYWsK1QmBes2YtH+NmnzfoC+OPiellNf0XRXunPLk0d+5ce991k+vFfYmZG2Lc3vOQnZ4v77iwQuzbt0/mFqps2rRJrCQwbu4h5iOIVMRkY4O4pldddWU8S1BSxyON6pcikIYIRGTBWtmyZW1GseYyaRCyEdPcU09VMXXq1JXtli1byYTWqlVrYcaY8Dp16pygCc6Z9tIQn6jvGnPiihUr5LN1679944XpoJ0wQTZs2FAShuDLZnLDLMw2ghQTJtds8eJFNkb4R77j2Th79qyN+93X7t9uWrRoGWdij1PR82fLls2GJBolS5aw4UbX+0pCjYdKx44dsxruPMuMp9iEHvWtpnq3pJCljDEwyRODvF69etZy87YhjCl05MgPYp3h2CZNmho0tDfeeF3KkvNFf5j/H3/8MTl/tDp/gon06tXTtGnzsjVZ3xqnGO3w1VcHSyIeBFgoOfdzOMfCbBHKyNjnzaiFgIOLBZdW7dp1JLMf44EB4h9HOMOl1bVrFxHAKYOIMV6iREkbgrVI7I5kfoMXROZBYqkPGfKqL8EILreEaOPGDVbAfNnOLZUlt3ejRo3kkGPHjsp1588777wjme3A4MiRI1LO19tvv2WtDk/LuX7yyU7Zn9zx+BrXDUUgDRCICPMmixMLfB56KJe5//77rRR92E7eJeUBQ/JnUQpSf+nSpUWDQ+PG/IcZXSl5CJBeE9MsHxiOI5goWuHw4SNEew3kvy5fvoIIXcTHzm59iT/99HeGLxh8794xhvzs+BazZs3qmg76i8l27dq1MtlzjdGmYBBQOOPh+EGDBgvDKFAgv2QHow3SUeLDzJ+/gM3WVUnibc+fP883Do7Db1qiRAm5x8AkuYR2jVCKbxSTM1gggHjp9ddfsznsc5onnnjCu1u2ly9fbq/JZ6Z169bxylJiB4leOnfuJOb5F15oEqeLvHnzmqpVq8n6iNmzZ/n8v8ePHxcG/csvJ03Hjq/YRV5ZxPyO6XzZsmWGOOokbIkUuVSlpI0dN26sefTRQuIKoH3ydSdEd9yR3Qr/T4gAgotuypTJcshvv50S5YBFZwh/bdu2k8V3xNWHEK7GjRtv2rdvbw4f/s7+byPWpuSORxrXL0UgjRCIiNmcyRXT4fnz58Q/iLaXM+d94ovKkeNeMV9xfsuWLbV+v1XCuPEjYv70msPSCIMLulsYjHfBGtcCQrNGmLr22muDnp/XB8iEevbsOV/d9evXiYkVEycLt8IhUr5CN998swhmHMe9gL83nPGUK/eYT4OFWUOuTa/wgUl4yZLFUs5X1apVfRnKLrvs8kTl3vY14rcB82Y8EIIImisCCGZ8CF8wgsr8+fEXp6HRsWATi4YzoctBKfSFNQXhgjF3794jXmx2mDefypUriwAyZsxoSa+ZJ08eOQ/cDKwwZ/EXfnmuFWlMEbARUNDooSFDhoiw4l0sl5hTypIli1TH504a1pkzZ8kKeXZmyZJwQhkETD4Qpn/ydiOUXHvtv6zgul/GV6vWM6I08P+6666TutyHfBC0ChZ82FoEa4vfH7cMlNTxyMH6pQikEQIR0bxh2p9++qkwbDS12267TVbpor2dO3feLozZbZgoMJWx8IwMRWfOnE2jU744umXhWObMf/s7N27cKCeOOdcRfkBH6dPHtYI88cSTYn7t37+/aGCuXqhffNxQjRrVTbVqVWWdgzOdJ3Y8rh/nXz506KDbJRM1k3FqEQwD4ebEiVgmRr8In7iGAqUQZbEm4y5UqFCqDBErBBYKhAXvK2KBOs+dO4/UpQzTOgzOvRrmFaQ7d+5s/eE1heljTYNYAIYgllRikRjXjYVmuNDA6NtvD0lzofzdgfpzPn2sBrfddrvMP5jP69SpI9WZZ3AJ+BPnyHmcPXtGktBEajz+/eh/RSClEYgI886XL7/4u5s1ayb+LMyx+JwqVqwo0numTBnF1JUnT17xt1HGxztZBDpRfK6YA0+fjl0Byzafv/46H6i67vMg8Oijj4rWixaFT5yFaZDz83mqBt3EZMyraK+80tE34QerjPZHbuw+ffralc4b5cOqbCZRGEtSx8MEjAaIT5sFb5wPGq97bSvYeJKznwVf5CPHTM55YULmvmPSd4Q7AP96IMJ9gZbnFY6ol5z7GRMvY2A8f/75h2w7M/7ixYvl7Q3GDdZ82IZ4fZD/0I8//igWi0aNGsv/Bx98SF554/U1aOnSpSKkMHbwdR8W2kG4B3iVLDmEwAOxuAw85s2bL1YAp5VThjBC+lQvcR999dWX8uyDBb5tFgHefvsd9m2UWJ88ay0QELA+ffvttz7LCW8/uFX0LKhEkMWaAoUzHu84dFsRiBYEImI2Z0LNnz+/MONt2z6wfr6XfOeHP3LHjh2yynnGjBmygMdXmMDGkiVL4iw+qlAh9j3badOmi3afwOEXdXGBAgVFUGrevJlghc+P95NZGJQtW7aQ2LCKG8bDL75QFm516NBeXv0LFvxiz549wlB4l9nRAw88IMwA/yRCwCOPPGJ9qPHHE0qbY4V3z569rDm4m33l6WlpmrUTLFyLJawHfCJHrKxv376dNAiD4B5GE0WIcIS/+OqrA78pcfLkiYBm4OTcz+XLP+m6tgvoPjSTJk0STHknm7GwwtqtsqYiGPXqFSOCGzEV0DC59jyn5D2HsIZVq/a0XbjYThgh59m3b794C+v8hRA5OIlfaPO7d+8S0zVNoPnHxMTEaQ0zNm+stGjRwifgM8ewwI3rgWCCpj5gwACxNGBtGDz4VbsI9hUrNG4QYYUV8u4dcARXmD/WEwSghg2fFezoNJzxxBmc/lEEogQBTQkaJRcipYZB4I1Qfu+U6jdYu8kZD5oj1ppQrxcG6zex+zHzE5sAxoAbKCErUWLbT636uEnQQvFbw8ADLTzkmsDYWViaWueJNQBhgT7dK3gOE8aKpsxCWC9x/VlBjgAJ82YhoZc4hmtGmfcVOepwLB9cIIHOMdR4vH3otiIQLQgo846WK6HjUAQUAUVAEVAEwkQgIj7vMPvSaoqAIqAIKAKKgCIQAQSUeUcARG1CEVAEFAFFQBFITQSUeacm2tqXIqAIKAKKgCIQAQSUeUcARG1CEVAEFAFFQBFITQSUeacm2tqXIqAIKAKKgCIQAQSUeUcARG1CEVAEFAFFQBFITQSinnkTRYoAC3v2fG5491YpcgjwzuzChQsj1+BF1BKR6ghMw71JGODEEPc00cKIxOaipCXm+MTWZXx7934jccS94XET204k65NEhCh1RIwLl4isyDvrZNIj2p4/8a46ZbQdKAoj73lzvQL1yTviBIJxyUr829b/ikC0IRA3ykEyR8fDQ9rBhQsXSWKGW2/NZqpUiQ2HSNOkHRwyZKhMWkR9ionpHbLH9evXmTfffFMCSxC4gUAKw4YNt1Ha/o7iFbKBC6Bw6tSphkxIgWjMmLGSpS1QWST2wUCI0V2pUqUEY2Inpj8isjERLliwIF7+5MS0E611ydG9bt1am0Qlm2VAeyVG94gRr/kCoBBudNSoUcIoCBXrJaKHDRjQX6K1ERyFcKNESUspImgJ14MMfjA+ktUMHDgwThATmBkZt37//bRE0fMfC/cn9+nKlaviRV/zr5vQfwRwUtXu379fgu3QNxnhEoptjqDTsWMHSfTCucCEmzZtaueUesKoCc1M5DUC0ZBNj5CphOolkAsCEnnJyZJG/yTO4Xq5aIFkJyP6HWlXiVZHGSFilRSBaEYgosybMJjkLka6JznD2LHjfOfOJMJDR97jadOmSSxmX2GQDZIozJkz15c4gYeeuMf/JObdoEEDXzKF1q1b2ZjPxWwc+NqCCDHhU5LI1cwnksTkSCxpaM+eLwwhUv9pRF7oli1biGBClLDatZ+RsJxk2yIr19tvv22ZR1FhMN5z37VrlzDuCRMm+kJ3upjb3nqR2uY5JKwswhlMjmvTqNGzZvLkyZIW0/VDWNWdOz823sxtrozsaTDuSNFbb02V6Gk81xkzZrCpXhvbNLADbRjkN0N2AVOeOHGSDTubRephMSLjGfnJCd9KKFiXUx0rw/PPPy/MmqQqK1euNAhKc+fOk3jqtWrVlHuUWO1o/2+99ZaN675MBJrevWPEGkU4XCVFIJoRiAjz5uHfvn2bSNNIr8QlRgrmQYWZz5o1U8IvYupq166txDpHYyE5QKhQl96MTZizkLYrVaoczXgmemwINHwgwkRmyHCJJFdwDaGZkIWJpBFnz54VjaJFi5Zi3kODY2LGOoH2hjUDs+E4G8ecsgoVKhrSP5J6lYQN06a9LbGrSafIpA4RK3rgwEGuO9/vokWLbJ9LZNIj0QyToRunr1KADRI/oEVde+11hixjXubN9X/nnfmSMIXzIl0mfTOGOXNmizkza9abZPu7776z8dQ7SApOrC4jR74peajJRMX5wDCJvQ5jyZIlswh4s2fPljGS4tLbb4BhJmuXV0vEGsS97rJckcSDhB64eRA0vcQ51qxZy8e4KQsUqtN7THK2YVho2y6xCHgTX37hwgXmpZdaC35oqTNnzpB43+Ql8FY3QiQAAEAASURBVBK4o7ESJ3zMmDHeoiRvz50713Tr1k2uF+li0aghcPTiKjs9X/6pVRk35+JCqzrGzSFYfaA777xTfonlzz5y3nPfcb1y5swhZS4E6+rVq0ypUqXl+SH2uZIiEO0IRMTnTU7pZs2ay0NBWkIkeLL11KlTV7ZbtmwlEzVpAJnYcuTIYZMIdA7bBIf/6tVXBwtDIJHAxURMdjClF15oYs2fXe0E9JkkaMAUSMIXmCyMo1evnr5Yzwg5TFZvvPG6CEgw7fXr10s9smWhvXAt0LrdROfFdPXq1Wb8+HGiFSEULFq00GZi2uCtEnR7y5bNdhIsZRlGCePSgVKZ8WI5YcJu2LChTVDyovTNZAodO3ZMModhoq1fv75NPXm3pJClrF+/vjLJ9+vXTxKScD5LliylyMa6/kE0XbKONWnSVDJ9cd6pQTC3nj17SIY80mtCCK/BCC2PLGmvv/66uJC6du0iAm+w+snd79KpumuMlg/+0PHjJwRf7puOHTtak3/cOOLUGTZsqNwjhQvHZu1iX3LIZbTLlu026ZtEI/37D5AmcbmFS9zz77+/xSoC7eMdwrmSd3zQoEE+wYhkLMw7rVq1EosD93T27LGMHeWB5wpXSMOGDUQgqFixYrx2dYciEG0IRIR5I72eP39e/GmYqb7//rCdvEtKQgcSBJB84NChQ5LpiIxNaNxkaApHkwMwHizyhPft2zeivtlouxiBxjN37hwRhDDxoWnA+DbYzEknTpyQ6k2bNrN+00dk+6WX2kjGMDdJkjEKzZxMSi1btrTa6IOSEpRkGzCbu+6KncD8+0U7hgHfd9/9or3kzZvXplnc7l8t3n9MyKTrZLLnGqNNwbAgmDra0vDhI0SbDmSi5fhBgwYLwyhQIL8kpqANUjw2bvyczYhVwKaZrSSpHr1aLcfhNy1RooTcY0ePHo03tkjvANPOnTtJfmsEq3AIfyoMkRzUZGvLnDmLmN9TynTO88X90bdvH9Ggn366mvjpGSvC1GuvjTC5cuUW65j/+EmDio+4efPm/kVJ/u8Wg5Hda9y4sTZNbCFfitHTp0+F1S73PuN+9dUhBguSl5hjsOwhmHL/OcJdwJyE6R3ivBzhWvjmm28k4xj7Dh48JAlTXLn+KgLRikBEzOZMrsuXL7MM/JwsgEK6z5nzPlkRmiPHvQZNDlq2bKn1Ca76X37muWL+TMhsOH36dPFP4RPDvHoxEauEMfF5TcAwVIiVs0yCMOGDBw8I0wJLb/rGQoUKiTbOpIVQ9cknOxOED00YtweaEMzWEakbE6KdO2Pbv/nmm0Uwo1/uBVJ+ohGxWCpUhrNy5R7z+S1h1pBr08vssTQsWbLYN5yqVasa52K57LLLU3zyBSN8o2i23bv38JlufQMKskEKTnzImPUzZcok5nN85DCTXLlyBTkqebvr1q1r85DnkpXx1apVM0ePHrOm4V1i6UDQQiDE53zAmq9hfmwXL17cCkND5DnFr4yFAUKjZSEXvv2kkPNXs2hv3bp11lw/S1bA01aWLNck2CT3AmZ8LBfO0uEO4nkgjWv9+g1MjRo13G75HT16lDxH+MxxZ+DPvu22bCIUr127RuYs1uewgI21DFj58KErKQLRjEBEmDdM+9NPP7XaWmnRkEmhiHYH8zl37rzZtWu35A7+9ddfxW9dtmw5W3Y2QVxgHuTinWr9mm5yTvCgf1AFMIRBHziwX7RKTu3QoYNyhm4idKebIUNGt+n7TZ8+nWzTTriEtsb1e+aZ2qK1h3sc9fBxQzVqVJdfvjCdYwZH+8mc+Wrf/o0bN8q299Ulr+DhKjrTL+fthDfwcFqUq5eav2j9WATGj5+QKEsQDAdfPowbcoKrF4OUOA+EJj4QWituKwQs76IsLGesScDKcuONWeOUIcghhOXOndsnXCVlnKy74LqxhgMBhmvrBMpQ/m76Yu7o3TtGxpUnT9543WOCZyErwoqXOK8VK1ZYxt5B3EVo5MWKFTObNm0S5o07qUyZsr7Feg0aNBR3E6b1xDw33j51WxFIDQQiwrzz5csvki2va+CfxV/pfYhYNc2qUDSWRx7ZE6cs1EmipTPpZMp0qUyW1GWBir+5LFQbF3pZ+fLlxVpRtGhRMbPy+hWaeDiacLjnjgkYps3kCrGGgcWGvMZEPyz0OXnyF9HIgrXJtUWL4fUczNcQq6tZQQ+je/TRR61/uKdo4JjSEcogTPyhGDE+Ylws+LTxlcJI0BjxYaYVLV68WNxCWEX4QPi6ES5YVIhJ+vTp32U/2MaWX2bXHDxkJkyYYNcqfCQuABYhIpzde++9UiclvhgfY0NQQMNH68XHjTDsxZDrh+bt9nnHxP5JkyYZXDe0lRxiLcykSRPtWxVFBat58+bLfeUVRhGODh361prA2/m6YjFdrBXqQd9cQCH3Dvt504VXT7nXHNEmC90QOhASnnzySZmDfvjhB9+9jCULiyD3IXUPWAsEc44yboei/kYrAhFh3phEWRTCBMFD1rr1S77zxR/JwipWFc+YMcNKxwV9ZQlt4BvExMf74Y6Y7FasWOn+/uN+/bVPzMf4cFntDcHIYJD+9bxA2DdngpL/cUx8FSqUF22kX7/+chzax5EjR632XUv+o4nXqhXaVErAEhgV2o8jhAyuFxPr448/Liba5s2biWY/btx406BBfWHGmNWDEcJaz569ZHV89epPS7XSpUvLwrXYYzjZECccrOFk7Md3zRsWfBwxJkytvC/sXTAHttC0adPF+sQ6BJgSjJ5no2/ffslmiG4MgX55H501I2i2MDbejcZCFp+CY+h/z8Q/Nvw9LDjlma5Tp7YchHAYExMTpwEEDFw3LVq08Fkn0LwhFpV5acqUqb6/mNS9BM4IC40aNRY3QJUqT8k9WrBgQd9bKyxO4w2JypUryb3K+p02bV72NqPbikBUIpDOmuz+8h8Zr5goRRcCaAZodJHUuBM6QxZSwZBD+akTasO/nHsrqe3h10RADPV6oX9/0fgfDLAgsJDTmc5Tapxo1Ah/LHDMnj17igoKiTkHBAmEFzBAQPMSPnbuPfcal7csqdtMc1h8uPec+8XbFhjxfCGoKikCFwICyrwvhKukY1QEFAFFQBFQBDwIxBV5PQW6qQgoAoqAIqAIKALRiYAy7+i8LjoqRUARUAQUAUUgKALKvINCowWKgCKgCCgCikB0IqDMOzqvi45KEVAEFAFFQBEIioAy76DQaIEioAgoAoqAIhCdCCjzjs7roqNSBBQBRUARUASCIhD1zJv3m0lzuX///qAnoQUpiwBZyoiWllLEO8jeDGTJ6Yd3qDdt2picJlL0WN4lBs89ez6XkLEp2lkYjafVeA4fPizvXfMeemKIoEIkKQqUzIXwruDqEqCE225aYRDu+LSeIhAIgYgybwJPVKtWVfohGQBhJL1EpDQeWmJg+0dD8tZz2+Q/JvIREasaN25kMxw1S/SD6dq6WH/nzJljI2qVlLzOScVg8+ZNZsGCd5J6eJzjAo2He6J3795x6iX1D3HPSQcZjbR+/TqJWkccbjLkVaxYwZCiNa0oofEQh52879w/RNCLBBHjvp1k/mopaWyJsucNaRqsj7/+Om/Gjh0r8wuJQ5588gmJ3OfqE76VtsC1fPknJfGJK3PnwHm4D/HVoYQwcG3oryIQbQhEJDyqOynCYJYuXcYQzWjNmjX2YRvnimzmq4MSP/vWW2+1oSKnSThOX2GQjQoVKprq1WtIZiwkbVIaEjqxSpUqQY7Q3f4IbNy4QXaR/5j48mlN0Tae1MQjd+48Zs6cub7EJOQ3J463N6RstIyHeOZt2rxkqlatZtO5bonYsN56a6pozeCQMWMGyRlPJjOyBoaif/97q2SSmz17juQ2ILNYp06vmKVLl4kARHzy6dNnSAS1hQsXShpUYpq7uPmE/K1VKzbcL/24OP7Rdk1CYaBlioAXgYgwb2I8b9++TUzbJC4gLjHmLR5UmPmsWTMlHCRmLaRuYp3v27dXcu6GCnV59dV/Z6FiMiFU58WUlMR7oZKyTThRMrORkGGDzYPsmPexY8dsvPAeplu37pIghNjOjz32uHn55TY2ZnqsMQZBjHSVuCzQlkgsQntoMWRo8iauGDCgv72WhSQ7U6hxBhuPO4ZxYWX57LPPZKze1JOYwhEIiaNP6kaSp9StW08ORdtetGiR5P1OrMnU9Z0av97MeIwT83mlSpVTo+uAfYQaD1nHSBqSIUMGM2XK5IDHJ2Xn3Llz7X3XTQQYMpWRCARC+w6VWYx7kfjxPP9Y+FavXiXH0Qb3BPenC7vLvWh5u73n3zM1a8YybOKzX3XVlb77Ww62X6EwcHX0VxGIRgQiYjZnIm3WrLkw7B49ekp6PRIC1KlTV7ZbtmwlGXtatWotWYtISdipU+ew4iyTDvT555+zCRWayIRO/mGl8BD4z3/+I+kfSYbBBAdzhEjVyn8EKSZMrtnixYvMhx/GmnDJm4xWgyBGso2iRYvJcUx0TJDO5MhOLCpYQ9BgEqJg43HHkY+ZxCsIGWPGjJYsV5RhNSAj2fXX32DN631M1qxZJS81ZQiEbdu2lboklOCei3bCBIzp99prr7PMpWaaDzfQeMiqBeOOJLF+BSI7HIlGcB/07z9A9sGQQxGxx2+//Q6pMmLEcHud68i9fezYUXsP3ywpiTkP6D//2Sq/5C539Pbbb1nL3dOSC9ylIXVl/AbCwFuu24pAtCEQEeZNAgHy5pJK7/7777dS9GFJmUiQf7Rnkg+gOSM5nzhxXDRuJmnSUCZE5BfGdEdWqtmzZ0XUhJdQ3xd6OdpqiRIl7SR3ryRj2Lo1dlJz51W+fAURugoXLixJK3766UcpGjt2jGji5FwmB/Wtt97iDhFtFy0epg2tWLFcrqtXg/FV9ttIaDxkeCKLGho35s4PPviPtDBq1CjrPqluzbhtJB1q1qw3+VomRSo0bNgw0b7uueduX1m0bpDli0VX+GejIfVkao3HWUXINDdu3Fh7vQpJ2lmu0+nTp0JeLpg9KTvXrVsn6zfIN0+qYKxxWPcQSBs2bChCJ2lXmXv++CM2LStC3Tibxa59+/Z2zc13ch9hbfJSamHg7VO3FYHkIBAR5r1t2zZhrOfPn7OmtrkGUxbmVjQyTJrk74XwS5Gj+8iRH6ReoBWj/icD865cubLp2pWFM6VEI/Ovo//jI4CWw3XBynH8+AmZJJ2/2dX2+gCZUM+ePSeZldDKybcciGDm+BJxlXD9yEldufJTgarG2RfOeJiQHZFti1XArETHpFqkSODxsLqYFJfO3O+Oj9bf6dOnG4QofLyBslul9rhTczzk14aYF2DCzZs3NyyKg7JkuUZ+g31hpSAf+bBhQ62lpZ2Y3XG9XXPNv8T0PWHCRLtgraFVGkqJ75t788Ybs0pzCII5c+a062yKSzpdcGcMjlITA9en/ioCyUUgInYxmPann34qkygaBVIvGgXS8Llz5+1rRrsllzHSM36+smXL2bKziR47plm0PqWEEWANAvTKKx3jVIYZOvLmaU6fPtYKQppGyK03YBIE8zvvvNMdJpNkx44dDH7Ra665xuTLl9dXFmwjMeNhQv/222+ty+V+39sFbm0EQsCWLZt9zJx7yo2VvmEK0UqsP5g4cYKZal1B4VgqUvo8Uns8LBKDkeJ2warDveNM2KH83eBw553ZxbWDBS5//vziLkHrZq6BaIsyiLUVmOHvvfce+e/9QihE+Dx79ozsTm0MvGPRbUUgOQhERPPOly+/+LubNWsm/izMsXXr1rWvwlQUH2amTBnFj5knT16Dz5oyPgnlMv744499r5HwQC5Zstg0atQ4Oed70Ry7adMmMTVv2LDRMt+N1uKxWs6dhWihCEb4kHV/rFy5Qqwm/fr1tb8H4hxSsGBBua4sZHr66ephab3hjAdBgVeSXntthFgM0PJZoMQEvXz5chH8evXqKQvocL9AaOS8I46FZ/LkyVIvzmCj6A9WJ7DF3Is1gc+RI0fSbIShxoMPGObIB+LasJ3Y97L9T461MBCWnbNnz8qiuOLFi1vNO1Yrp4wV+MOHD2fTRyyohMqUKSO/uEuwFj388MPyHywh3Hfcl9wzjzzyqOzD0sH4IczlGzduFNcd/0NhQLmSIhCtCERE88bMijQMM9627QPTuvVLvvNFk2N1+cCBg6zEPcO+FlPQV5bQxooVK+wK43dFWkeSpg98n0qhEcDcjLY8ZMhQX0WuDZPk5s2bzIMPPujbH2ijXr16sqBq7dq1gnfDhs9aTfiQryoae40aNc3gwYN82o6vMMBGQuNBkIN4dxcqVqyY6djxFd/rPI0bNzZDhw4V4Y2xFClSxGf2LFeunHXTvG+FukYmb958Jiamt4xdGoqyr19+OWndSbus4Pr3K3swoBUrVqbJSEON55tv9pomTV7wjatt25dlG425QoUKvv2J3WCBHhjUqRPrIrnuuuvsNYuJ0wwmbd5YadGihU/AR1tGcO/cubNvPuB1MbdmAEwxhzPf0Obgwa+a9OljdROsHVj8wBoBhHvIaemhMIgzKP2jCEQZAunsO9l/+Y+JKFXRQAwN8+nJkyflgWWVsVLqIADD5ePM1d5euS49e/awVpZssuDNW5acbbQjFjG6CdnbFmVoVUzA/sR4jh8/HhU+ZP+x6f/ACKApw2hZzOqYrKvJ8871ZiGsP+H2OXr0iF1geaf4vV057hMWyl555VXyBoXXJUQdLHd8smfP7hMI3LH6qwhciAhENfO+EAH9J48ZX/RXX31pX8X5j8GlMWnSZHnn+p98znpuioAioAhEIwIR8XlH44npmCKPANotvmt80ePHT1DGHXmItUVFQBFQBMJCQDXvsGDSSoqAIqAIKAKKQPQgoJp39FwLHYkioAgoAoqAIhAWAsq8w4JJKykCioAioAgoAtGDgDLv6LkWOhJFQBFQBBQBRSAsBJR5hwWTVlIEFAFFQBFQBKIHAWXe0XMtIjoS3qMltnlqEq+PuYQlye33o48+8sW9pi3e+yWeOulJlVIHAd6fP3z4sMQUJxpaJIl29+3bl6iIbUR9I+4DeRPIJudPBHKijLapq6QI/JMRiEiENQcQD0/Tpk3MwoWLzOjRo2w2qmymSpXYcIjUIQoSUb8It0nkNKJhhUOEZCQj0O+/nzZjx44L55B/VB3watToWd85TZs23RfT2bfTb+PTTz8xhJBMqRSqXbp0lrSi9OGSgpD1LX/+AhJ4w284if47ZcoUGwXrMQkEw8Hkh587d45E2SPJRDTTjh0fGTKhEdWL0LReClXmrZea24GeL4SkPn16S6QzN5ahQ4dJWFz3Pym/tNujR3ezf/9+CQBE37SbUGxzngHi6ZNZjEA+YNu0aVM7p9QTRk1oZu4RYqcTr5wofH369I2T1hSG36BBfUkN+sILTWT43L/kkPcS4X8Zk5IiEM0IRJR5Ezeb9HxI7GvWrInDaNHIeOhuvfVWM23aNAmBGS4waFw7d34sucHDPeafVI+oUDABtGlvaM20OkcmYJdedM+eLyRNZ0qPhSQoCIXRTqtWrTRvv/22xFyHwXgpVJm3XmpvB3q+JkwYL5HP5s2bb4WzdIYY9zExveTcnLCWlHG+9dZUsaLMmTPXRtLLYFPANjaDBg2ULGuh2oMpT5w4yRcDfeHChTY392uSM4HxkXeeuQXau/cb8/zzz4vFgBTFEJo44XxdrHbZ+b8vQq/27z/AtyvSecx9DeuGIhBBBCLCvHn4yRqFNH355ZeLtI4UzIMKM581a6Zk+UHybdeurcQ6J51foUKFA4bf9J4fUvTMmTMkHjFx05X+RgCthQxNpOXErIm20aJFS9FOXK1du3YZJmLMjcSGxhJy7NgxCW/arVt3yXJFsgYSP7z8chufFu2OD/RLfTQl0jS+//778Zj3okWLREsm9GWzZs0NwgfE9X/nnfmSMpaxo0UR856Y1EyuixYtltjrjBUrDpo31LVrF+NC9vbr1z9eRi602ZkzZ4rGRaKK9u07pFkAGVJSPvlkeZtg5XNJsCEn8L+vUGXeeqm5Hez5wm1BjHvHyLi33nvvPftsfy3pNZM6xrlz55pu3bpJaFNSB6NRQwimobRv7hUvMW6sSi60qmPc1CHXAuTNhDd37jzLuE9L7nkp9Psi9n+gsLx+1fSvIhA1CETE5122bFmZpGHYPXr0FA2Z7EF16tSV7ZYtW8lE3apVa5nYyDHdqVNnYfShkCBeMVmkOnbsaLJmjR/nONSxF0MZE+Hs2bMNJsAuXbqazz77zLolXvWdOuFMiUFepkxZ0VBGjBhuSKlJqlYmOAQpJkyu2eLFi8yHH37kOzbUBik5S5UqZXMnl5CMXt66tLNixXI7pheEWU+fPk2KiZOOuZQJu2HDhjaX84syBpg4NH36DBEyyDyHuZOsUI4a2aQjjRs/J/Vpx0sIjO3atRNz/fDhI2zc66NWIInNH++tl1rbCK/BKFRZsGNScn+o5wv8uZ8gLGlbtmyRbQS/pBL3HpQt222GvrlXncaLsBYuIRy+//4We93bxzuE+3rIkCFWmx/ki2FOSF8UiS5duoj1z/8g0hk/9lg507t3jFm/fl2i/PD+bel/RSC1EIiI5k0CAbQq0h1ippo27W2bjaqGbwJm0jp06JBIvcuWLRWN++67707wHEkNmStXbtHely9flmD9i60CPmCEpCeeeEJO/ddff7GMr4/4/tiBibB37z6SNpGEDmPGjJYkLw4nUrc+99xz8hft+KeffnRFQX9JJkG2sTffHCk5lPHt7tu3z9x1111yzOnTp20/Y8W8CWMeMWKEWAVg+GhLCxYstBr7tXK/uE4ww0+aNFEyiZFGFsqS5RpXbNOD5hShw7fDs8HaCQQQlyWqRIkSNs3kPGHonmq6GQCBUM9XrVrPiCWGxV9YPVz6Xn/hKUCzQXdxb0Aklxk3bqx59NFCvpSep0/Hph4NevD/CsiWx7hHjhwl6WK99ZljEEhRErDqQTwDMTEx5sUXW/jM6t5jyEqXJ09um9jmhFiReH4aNjzoey68dXVbEYgmBCLCvFnVDHM9f/6cnTjninaVM+d9MkHnyHGvWb06Npc0jJv8uTBu6lWu/JRvUvAHhYkeJoFpDJ8Y5jUeTrbR+tzD6X/cxfIf7RlLxwMPPOA75fvui/XvoX1CWDhcvuNLL71U9mFed6bQWrVqyT6+mFDPno3Vgn07A2zs3LlT9t5sfdCsYcAXiTbtmDeTvsvNnClTJpk80dzQiBDuYNz+5HzDjz4am3/ZvzzUf9ol5nqHDn9rYfRPn/6ZpUK1c7GVhfN8sTDyww8/tNf4elk4iAWE651UcvcFKT/XrVtnXR2zfG8UeIW1YO1z7+F3JxUo8fW9RMaw9u3bmfr1G9h0tTV8RYsXLxaT/K5dn1pLwm7zySefmC+//FIyjDVo0FAYeubMmaV+gQIFrEvpqLg7nFDra0g3FIEoQyAizBumjempVKnS8mBgcsN/BIM5d+682bVrt5Vu84ipjIm6bNlytiz0qydo8+TudUQ6SLT7vHnz2gnk4jSh87oU5PxzMNwDB/YbtE3o0KGD8osPmf0JkZe5pU9/SULVpRwfN1Sjxt951d97b72dNOvLfueD5I/zh3MvoF1nzny11OFr48aNsg2TPXUq9vUv59dkcSM5n53P23dQgI077sguAkH37j0ClOquYAiE83zxHDv3BRovdPvtt8tvUr4QIGH+rNMgL/g111xjmWmsMBjK301fmNkxazMn4FrxJ0zwMF+XG96Vs887jxywSgBCBPOIu99cXX4LFCgoa3JU+POiotvRiEBEmHe+fPlFC+R1DXywd911d5yHKFOmjOJzxYz6yCN74pQFA+X6668X/7gr51g0bxYDXUyEVpsrVy5z9dVX21ScW0VDdtpr+fLlxZJRtGhRyxizyKthaOKB8iBHAjOuwdq1a8Qn7QQGFsS1bt1KtBv6QMCAUa9cucKgYbnXAdGqe/bsKRo4ZvaJEyfIkPCD5s6dR7ax3mA9YFVwMML0ysf5j4sVKyYaFy6A/Pnzy6JJxuR9RTFYWymxH8sGpuXTp2MFLbe6+fLLLxNBNlhZclZwJ+U8Enq+uI7gjCDINcIVVqVKVWG4SenPHYObBxcJ9yxYsZq9ePHiPmsN9ebPn2ef9W/juD5YrBpraXrQd69RF2GA/bzpwr3GwjdHMGmsT3wcYUm46aabfPMISgeL3a677jo5FotgiRIl1WrjANPfqEUgIswb0yUTJxohD1nr1i/5Thgf6Y4dO2RV8YwZM0Sy9RUmaiNdomr/Uyoz0WGtQDNhYmIhDuZqiEVcmMh5LQbCHcFiL6dRe7VgqZDMrz179ogZHG3GEcICFgAmT2jKlMnyQWNr0+ZlcXGwH40GF0jz5s1Emxs3bry8c8tCJUzunMPIkSOlrZdfbmuWLFnCYfHo+edjffS8OgcxFvphMRyMEmZTvHisJSLewamwg3F73xuuUCFW2MQEzSr9YGVOw02FIQbpIu7zhRWH96jdfYer6sUXXwxybPi7a9asKVaVOnVqy0EwzZiYmDgNIPR99dVX9s2JFj63Gpo31LBhgzh1p0yZ6vuPSd1LLGREWPCSv5C0efNmceFxD3P/FC5c2N5PbbyH6LYiEJUIaErQqLwscQeFu4DFZJiIne/aWwPNCI2OiTCtCe0crS2QSZKxsfjJWQ78x8p5OJeAf1lC/+kXvydWBye8JHSMlgdHALMx1wof8E033SxCUfDaiS9BEEWw53VCfyHz5MmTcg+llAXJf7RYing9EY0cU76SInAhIKDM+0K4SjpGRUARUAQUAUXAg0B6z7ZuKgKKgCKgCCgCisAFgIAy7wvgIukQFQFFQBFQBBQBLwLKvL1o6LYioAgoAoqAInABIKDM+wK4SDpERUARUAQUAUXAi4Ayby8auq0IKAKKgCKgCFwACCjzvgAukg5REVAEFAFFQBHwIqDM24tGKm6TcpGsX8mhjz/+2BBKNBARBtLFIQ9Untx9REML1ndi2yY4xvoEsjnx7jipZ3kn90Im3scn6M6ePZ9H9FwIdrN79y4J2hMIHxKMENmO9+GjgZIyHtLG8j727t274yS2Ced8EsKH60L2MZ4btpUUgWhHICIR1txJ8oA0bdrELFy4yIwePcqGHcwWJ0xl3bp1bLq+ofKAkA3Khc50x/v/LliwIE5EKsoLFixohg4d5l81zf9z7jVr/p0QgQERfWz06DEBxzZlyhSJ3Z0tW7aA5f47u3TpLKFFwcRFiZo9e5akwiTQhT8RSpUkDMRwTgoRljV9+nRBE8AwDuLTB+o7sf0R3pJsTsuXFwoa3IU6ZFEjkl/OnDkT20VE6zdoUF+YiH+jq1atNuPHj7dhat/xLzLDhg03J04ct9nY3rTpbbNKdjcClbDfG7Eu3oFh7ODe4FqTLAbBgDCmbdu2lSMRdog+R+rUq666Spg3z483ljgMvX379jYwymkzduy4eD1OnTrFTJ061Ya8XeULSxuvUpg7whlPoKZgqh07dpD7gwiDnCcR4OrWrSfVS5UqGe8wIvaRDCcUPhxERLcBA/pLhEIC05DMp2vXbvHa0x2KQDQhEFHmTYjM0qXLSEanNWvWxJkI0NJ46IgjPG3aNENM6nAod+7cvpy/1HcZscI5NjXrEJEKIlzjnXfeGdGumfC2bt0qbe7Z80WcTGIR7cjTGNeS6xUse9ukSZM9tVN+E8aEUBgNRDpU4nI7mjNnjmSsIjocYV69yTHIZNWrVy8JAQuTnDNnriHbGgRTJY53cpm3S/JBZDkyZjVr1lSEZsLOvvXWVIlWRr8ZM2awIXUbS2a+N9540w1fLBo7d35s48rf59vnNhAKYNyRonDGE6gvYphPnDjJFwN94cKFNrvYa5IzwUVoI3Twgw/+nW2MkKdQKHyIgw/jnjBhorn33nulPlYeJUUg2hGICPPGnLl9+zaR7kkYQVxiNCUeVJj5rFkzDZopYT7Jt0us83379gpjQBtIiJIaMjOhdlOzHJPfokWLzebNm0RrA49wsmYxRmJioylde+11vkxd3rEvWrRItFK04GbNmhtyczvCtD5hwngJRdmkSRMfM4aRzJ8/345nsw2D+ZNoZU2aNBXBYP/+ffZ6HRPmjSkWuvHGrBJ6lAQVLrNYI5si0p+5E2t95Mg3DW4BQk2iJffqFSNtMClOmjRJkpuwg4QRxCV3BCavvjpYzrds2bI2n3RbGUPXrl0kVCf1+vXrb0iq4YjzIEvV0qVLhaEWKVLExsRuGVSDd8cl59cbQpPUmrgQmPwhwsK60LCE+UT7g3kTc91LJP1Ae6xUqbJ3d5K2XdvcY8SfhxxGc+fONd26dROBAWsKGiyE1s89xfhnzpxhY4Y/K3kJpPB/X4yfeOHENB8zJrAFyVs/nO2ExhOsDYepK2fcxMp3jJv9GTNmkgQ+ro77DYXPnDmzrcWslo9xcwzzjZIiEO0IRMTnzUQL04Bh9+jRUyR4EgLUqVNXtlu2bCUTWqtWrSWbD5N2p06dwzLBkfXnscfKSTrA9evXRY3PLtiFRYNBS+bDBOlo+vQZwkRJZ0jykMQkotiyZbMk+ChZsoQh/aaXFi9eZFasWG5eeOEFEY6mT5/mKyZhDFpFhQoVxSQ4ePBgaxU5L+Xjxo0V4YrsTlwzGOevv/5ijhw5IgwHfzkMGObDh2xMUJkyZQ3XkYn95MlfZJ/7wnfdqlVL+Ttq1GgxPXpN3AMHDrCMf4vp27efGTFihClSpKgwZ3c8ZlEYCuOBGbs+ERIa2yQsnI+/PxJmQCa7F15oYs2jXa0G/Jl1zbzqmkzRX2Kx9+rVUwQQLEpewhKDIEJCFgRYL3ENKEMYI1FHcon2GMfTTz9tXntthFiqyFHN+KBs2W6TlJrg0r//ANkXe71/leM6duxoTfnx0+wOGzZUMmwVLlxEjknuV0LjCbd9hFXuo3bt2sc5hHzeJIIBC29K3GD4cPC+ffskzSk5wnHrISjiYlBSBKIdgYho3iQQQKvGv3T//fdL+sDq1Wv4GBTaOOk8S5cubZYtWyraGhmwEqJy5crZ3L25zfHjJ0Tbwy/asOFB89xzzyV0aJqVr1u33kr/sdYEtCqYEWZvsoN17PiKqVixoowtS5bwEiCQvGHt2rXWVzpSNNlRo0bJhINJFEKDGzNmrJgT0UJhis6kizA1cuQoe10eEtNsbLamr0ULhOkhRLjUns4CwnXB70k7mM1feunvDHH0B5Pi4+qzz9F7770n50pubZdAhb4hFhqRw5s1AKwFgLJnj3UvsHgJIq2nu7ZYD/77359lf44cOX2MSHZ4vvCDIyg+8cQTshcBhPuEc3cal6d6RDcx2yKcuL69jS9fvlwECYQ2f0IYwryNgEOu8+RTOhHuWN/A/Td06BCLbXZf25iPEdYefbSQ+HPp7/TpU8Loc+XKLcLF8uXL4gxj2bJl5uuvv7b37WQR7OIUJvEP9yoUbDzhNEtecQQU7msSiTh6++1pIlB+99231hIzQzKSsS/WAhEYH+7j48eP23UHQw1zDc/n6tWrTcuWLey6hYWqgTtw9TcqEYgI8962bZuYDs+fPyfp9TDP5cx5nzD0HDnulQeCs4dxr1q1SrRA8uZWrvxUyAcE7YEPhF+QDEf4CN0ELwVR9sXCH3+fN+ZRiJzWiSW3YhyfL8wU3x/4OuZdq9YzPj8gvlS0X+d/x6zomKfzs54586dMyowDTCNJhw9/J0zDMW5v25RBbtzeMrddq1YttykT/NmzoVdGnzlzRpi0EwY4mHzgEOb7lGTe+IIRqubPj784DQ1ztF2wiQXB39w7ffp0scrgc47U+PB1O+0egbFWrZrWtz7HMqFYKwhC27p166x5fJbvDYeff/6vjJ97ZNCggVZTPSACNtvk10YAQJBDQMHKAg0ZMkSElWeeeUb+J/aL/NpQoPGEI8zyLGDGR0t297Ubw+233y6b7L/77ntMkyYvSJpahOVg+JAyNE+ePLLYD784zwh+71WrVsozkitXLte8/ioCUYdARMzmMG3M2zBsNApMwmgUTK7nzp03u3btloeEnLwwMjQuVionljBBQo45Jfb4tKp/6lTs601uImfxnvMlJzQm51+uUaO6qVatqmhBXtO51+dHXRiZ0+Zg9o4QsCAmNjce59vDHI1m7CXa+OOPxC3cYQLFF4kA4U+33RY7uX7++Wf+Rb7/TLKO0qf/e+xun/8vY0SL85pIyUMNRYox+vfp/iN8ovE737Lbzy+LNfGLFypUyLtbsJk4cYJ1ZQwIeFycykn8AyYPPvigWC0QohD2WBOAq4MxffvtIWkZC1nnzp2tG6SMvJHAteP+RHtnfQNlmPT5T12IxaOhhC+pFOIr1HiwUIUi5o7evWNkXLieQtE999wt9wWWKH/y4kMZzJ5Uuk64dc/EhTbH+J+n/v/nIxAR5p0vX37RgJo1ayb+NcyfrLhF6kV6z5Qpo6wK5aFD0qeMj3tQgsGMQIA5HsJ/zIRZokTJqM7XfOzYMRkr40X7g3LnziO/mCZ5R7V79/BeQ2HyWbt2jZi3N2zYaPhgPkcAcv50FoFhlscigUaDJu4IkzufTZs2iiujWrWnZZ1B/vyxGjev67F4sE+f3nKI14d9++23iUBG+0ycmFD9ibJYTT/Wj067MNOJEyfKMQhvXEOIyZm1DpMnTxFczp8/LwsbnVbn33aw/5henfmVOuXLlxdrzt6934hgwytsCDApnQsaX+k999wTcJhosZjTvcIIFbE64VrKlOlS3z3CGoPkEosOHY4IYlu2/H97ZwImRXX1/cKXJe7G5IvJK+IgCioiATSCsqMgIyirMgQVAQFZBWRRds0AAwiyKMi+wwDCsAoRCMIQIygRUDYXFjUKj9/7iW+MUYR893faW9b0dPf0zFTPdDPnPNPT1bXcuvWvW/cs99b5ZxpDr4UUi4GBMLeB4ZQVK1aKZ0106P77G7sfPFCUGOvwPr3b6tSpK2UwPMBrVPmRcPWxXjll05YnTJiQ5TS7d7/9U5SloosdzwBtjPbJ/AzaFM/MkiVLpF3yWiESCR9mp2O47t37ruzLXAvasJ15Liv1nyIQhwj4Ejanw+BBQRnzkPXs+fM4KcoDBTF69BgZi7LeczRY8NChsHmYUBI1atQwk4N6R3Noge9jO+qBAwe458b74/Um6s8rRIx1ssws6rVr17r7hVtg5jDX7Q1vo5gog1e5kLlz58iHaAczt+vWrSvrqQ+4N2rUUPZv2LChjAOykU66TZsUEy4dI9uYjcwY7alTPysSjKSNGzeaTjwwltyqVetsHdqECS+aTvZF827zTFHMKEzeIWZimn3XGc8PhUF90tLGmslqzzuPPBIIj3MdjF2GCrPLRYT417FjB1mLIYMwkQ0jCXwRjEXG8u39kJUx+MdY6eWXh35T4ptvzpihjOxzGv73f7+RiAsTo6yAwcaNr9ufefoGb9oJWDMRjXtlFRfeM1GelJQ2Ujb3fsSIESHO83PUI3ijn1hGU5/A3Iyj0l6tgY+CRh577NEs1ePVTCIGTFazAqapqaOMI1FaVkXCB6MFQ4cQOs8r/RUTKpmno6IIxDMCxUx4KPCCsqeWJCqIF8GrxDJmcor3FZ14qV9u6sFYKJ0RoTu/BE8DD9iG5L3l/uc/541X/i+z7RKjzLIHWc6cOSMTz7zhde/xLH/11VfyOs7VV18dvCnib9oQ13n55Zdn2w9FwydUyDnbzlGuAFtmoqOciprgUTNDGi+USVheL9ZigZeKYuJ1Qu9Qi91e0N+R6kMUgTadm+gJXvcXX3whxyUlJWV5iyEafGivGD7gYw2GgsZEz6cI5AaBuFfeubkY3VcRUAQUAUVAESgKCGR3x4rCVes1KgKKgCKgCCgCCYyAKu8EvnladUVAEVAEFIGiiYAq76J53/WqFQFFQBFQBBIYAVXeCXzztOqKgCKgCCgCRRMBVd5F877rVSsCioAioAgkMAKqvBP45mnVFQFFQBFQBIomAgmhvHl/9+jRIyYN5vFsrFJF87b5f9VkqPrss0D+8byWDv3oiRMnQh7OvbN52kPucIGthGyFLGyhUnQmyqXa547sdbx37afkBR/yFpDzgSyFNvOit07UkYRRNtucdxvL5CwgO2Goe2KvVfuYYNT0d7wi4EuGNXtxJDno3PlJySoGMcO115Z2HnookJ6RfcgsNW7ceFHCpOYcMWKkPTTsN9mWoLUkcxaJFEjP+Nxz0aUXDVtoAm0gy9pTT3XNUmNSjUIy4afMnTtX+MVtVqqcyn722UHSUZKO1CaAWbZsqcnsVU0SXQQf/7e/vSUEEOTKzotAxnLRRcWy8YdTFh3y/v373JSgeSk/N8fQ+b/++utCPkKGLrIHWiGp0NChQyRpCsxr7EvWOe7Z5MmT3cxzdn++X3xxQpYset5t+V3m/kyePClLMXfccYfUiZWkBYWpDgxt1jrWoyChdyXhCcl8SPAyadLkbFn22Dc3EgmfSOWgVKGMJRkRSYWob+fOnU2f8kc5jBTAw4YNk36CbWTee/zxx2UbihlCE1L8cn5IfiZOfMklPSrqfUwk3HVb/CLgq/ImZSfsRiRtg5wBakkreGQ8dGSAWrhwoVOzZk27Kez3gQMHRHHPnDnL7TT89gDCnjxuNgQS4K1du87tbAq7anSA8JUjhw4ddik+Y1kv2hbtp3r1GtlOAxkJSoo0lwUhsGuRk5w8/Sg1r8yfP0+81PT05SbDXHGjRJ4Q1i5YxEjhSk5/Kx988L7hnh6eL7IPW1akbwhFSBdqpXjxwGMPe9aCBQuEVx2F5xXytr/++iZJE8rzjEECwUk0Bre3nODlSPgE7+v9TerXWbNmu9njVq9eLYxnpPmF/hXFzTWSw/3NN7cLrlx3lSpVxNDC8F++fIXkd4d1jfZLrnbtY7wo63IiIeCL8l66dKmzZ89u8TbICXz06FF5oHhQUeZLly6R1IOEuvr27SM5tz/55GPpiEPxQlsA09OXGWajh13FzXpNXWjRcSQ8OGBAf8O09Kzkjd+1K1O8CjiYEdJFzpw508HrhTWqf//+xjO5UbYRgszIWGNIG3ZIKJKoScOG98m2nP7t2bNHPMmrr/6V8KyTb90rGRkZpqNMFw+8S5eu4r3Z7YTWZ86cIUrvySefdJUx6T2nTJks3jzef8eOnYRCFUPh2LFPTPs5LcrbsrHBfEX6TDzEEydOisK02y655NKYKkQ4zsmfTfsMHgqAJ51c8bBUES3AY0RIB4r3bdPYEtol1z3KO9YMaJw/VFpeCEcgIDl06KCQgbCfFe9zRupZhgAs7ajdJy/fOeETrkyLm90Oex3GE6led+zYIXndUdxEOuiPELi5Ud60J8LpGEtsR9lXqFBe9tE+RmDQfwmIgC9j3g0aNHDopHkohg4dZjiVbxa6xJSUtrLcvXsP6bSgJaSzgF1q4MBBOSb/p8NA6cDfS8j9ueeeFQMhAXHOd5UhfMFb4GPpO+mI6JQIJ5L3HZxR2AjMW4S2CTUT7kxKKmu8phHCvMT2RYsWixKF6Q0iD4hNopXMzJ1O3bp1nTp1ajteelKOX7MmwxBtbHA6deok45KLFi10i6WuDIEkJwfY5tLS0kyUhvzr35q6dxOvihDynXf+wbSPARIaxcNFyaEkGZdnmc8777wjEZ6pU6cIlzzGh922du0a95yxWEBxhxKUHFK69HXCdDVu3FjX46V+VvBkx45NM6HyO3xRiLbccN8wu913371Cqblt21Z3zDcn8g082Keffto8y02lfbRv3z7cKaJaHy0+ORWGcYih2rdvP9n19OlTLsPba6+9JoYVEQ7L2AZJC/1Ojx49hNiIYTeeB0T7GIFB/yUgAr4obzwgiAGgO4T79x//+Nx07HXkgYeYgmT/J0+eNB1VPTN+9rV4W4xhRyLEAEuYm158cbwDG1P//gNM2PhK6eSLXujcEYYvlBKfw4cPZWlqNWvWMrh0dypVqiTeKhv37XtPvL5HHmkjnh2sYih9OjSU5ezZs0TZMy7IPQvFgpXlJD/9IEy8ZcsWw/B2t9xHPEo6QCsYDcxrqF+/gfBB431CDIFg3A0fPsJp0qSJjEny++jRD8V7h6ikT5++Uhc8crxUjADaCcMv993XUDpglvkkJycLcxjL3bp1k7Zmt8HaVhhiqUpR7q++Ot3ci+ouheZ33/3McQ6D2wcffGDY93rGvJr33nuvudezZVz9l7+82hhqzzvz58+P6rzXX59kMG8kDHQMW8Bglx+JFp9I59i+fbvz0ksTjfEzTsiK2DdAvnOpwyS4efPmSjuCdtXy1tPe6ZMIvSNeelvtYwQS/ZeACPgSNt+9e7d4P+fPnxMKTzrsChVuFs+rfPmbJHwFNuvXrxNOYzpkqD6bNn0wYhicyUD79u1zBgwYKGFIOHYZp+PhQ1EVJWGs8Yorrgh5ySkpAYpJohQoR+SjjwJjmKmpf5Lf/Esyk49QIsy6Re666y75zs0/GyZm0g/GFx0i9/uGG26QYuATt6xWhI5Rypa4jjDnbbfdJvuxDTl79geJFuD5e68PDnQMg0QSe91MgNq6datMKrQz+K1xhPf5yisvS4QqOBQci2sFU4trtWrVHLxU+LI7dOiQ4+loL3wQWP1Qms2aNc8V25cc/NO/aPDx7h+8TNtj4hmRONuO2Ofqq39pDNVjxmgcJ3z2tCV+W4Y58MZQZMycIYJBgwYZY6+0RAe1jwlGWX8nCgK+eN4obUJzKOwjR46IFwQdJBSF586dN5NC3nd4SODkZWIMIauzZwPeWCSgeEB5AG1Hb8fhrDKIdGxR2haK4pFxPjxA+I7nzZvvfhjzth6JVR5MJrTjxTnhtmvXLtmlVauWZoJYM5nL4A2de+vCvoyHWwpUb6QFgw+hPtCNEhXwRlSYE+GlDKWM778P/bpS8eIlshwrBRfCP3jJMWaY2MUQEUMZn356UmpCJAFhIifrq1evLr8L+h+heiS3z1DFihXlOKJgeZVo8AlXNn3HyJEjRPEy1OOV664rI/0Phok1ZOlnMGaJCMJLb41KJjwyWZZxckT7GC+SupxICPiivKtUqSqWbZcuXWS8r3HjZJlV+8ADgbHNkiVLSOiNhw7vi/EoPlYZhwOsYsXbpFPndRZk3bp1opDwwFUiI4CxhDBZkLFxvO0NG9bLUAReLcJvJnwNGRLdq3eUs2XLGzJGzmtFfKZMmSoGmfWSUcCEKfHu8EDpNK0Qcuezw7zWs3DhApkdzrirjQCkp6fLWD2hUSY91q5dxx5qOuLrpIOmfDpyb+gTQ4UxZbxcDEauKZbCNRBR4JvzsWwNjwcfDLwayeQphgtWrFjp1KpVy41GHDcT2CpUqCAh/1jW0ZaNUW3fieYeEfEC12LFikn9qPt33wWMIpb5MA8B5Xf06BFZJtzNWDIT68qUud4WnafvnPChUNrOhAkTspTPnA+851tvrSgRGa6FD/jffffdsi/zMDAQMAwxBu+99z6Z0Masc4aR2Jf7xLwQ67lrH5MFZv2RQAj4EjZnIhKTQlDGPGQ9e/ZyIaCD27t3r7wLu3jxYpmk427MYQEFxOs/ffv2lY6Dsl544U85TnTLodgE21xM6ktnmxuho01LG2sU7UhnxowZcmiNGjXktSA8cl5bYoIXy4wRr127Nsfieeeczp3wqxU8a8pgTBRhXJQPocvevZ+WiW2sp/60g0aNGsr+jMEzVo0wZyI1NVU+dlyVd3h5p98KCgcPijFYpFWr1u5bCHhYGIrt2gXe+U0yoV6iDbGSF1543snMzHSLT05uLO1z9eoMGecnipGS0ka2EzlioqCVb745E/X8AntMfr537twpCpt7xL2jDfTu3VuK5J573wHnOpCFCxfJREgm3NGOUJpEDkaNGuVGUWTHPPxr3bq1RHnC4UORGH0Yb7QPa+BjsCGPPfaofNt/RJbKli0rbZ1Jjhh+KPWnnnrKbR/t2z9h3msfZ3JOPCgY8J57kyZNpQjtYyyS+p1oCBQz4bPAi8SemvNOZDwJ9cGzYuKbfZjjqX7xXpfTp09LaNq+32vry/greNqwtl2fn2+8c7wbG5L3lhWYWf4vs+0So8yzB31shACFYYdKvMezTASB0Dyh9mChg+eaGJ/NrbETXFZ+f6NAMDZps96hhPyWm5fjiYTgiYILIftoBayZ4MiYOco7uP1EW06o/SLhw2t0tCGMutwIxzAERF2ZKOsVujkmVtJuaF/Bon1MMCL6O94RSAjlHe8gav0UAUVAEVAEFIGCRCC7+1OQZ9dzKQKKgCKgCCgCikCuEVDlnWvI9ABFQBFQBBQBRaBwEVDlXbj469kVAUVAEVAEFIFcI6DKO9eQ6QGKgCKgCCgCikDhIqDKu3Dx17MrAoqAIqAIKAK5RkCVd64h0wMUAUVAEVAEFIHCRcCXJC2Fewl69pwQgBQGRi5SW5LlzmZf4zgScLzzzh4hdYBrHQKQvAp0n7xHy7vNwUJmMUggfv/7rKktg/fT3wWLAFnH4EMvVeoXDvc/+P140ouSue7f//7ObC8d8v39vNQYEhH7Hrw3bW6kssgT8NlnnxtyozNCfWtzl3uPIR8EH95p9+YCYN2pU1+a9LW/ca655hrvIbqsCCQkAr4qbx6Qzp2fdMg0BRkAD/tDDwXSRYIOtJ4wTtGRv/HGn03mqZERQZs8ebKzatVr2faBNtKb5SvbDhfYCvBq3/5x96rIgEUGs2gEpd2vX1/JQHbxxZcI9lZ52/sFhStZqg4ePBS18oZulMx6q1atchOuLFu21GTaqxZSecMpDslMXpU35CfQm5KbOlhI5bl//z7Jxhe8LRa/SSbz+uuvSxsHy9Gjx7inAQ9v1jI2kNFr/PgXzfqCb8+R6kNCE+4jypMkLrACjh492k1wQnpUuMlJ4sM+JMHh2c6PkDBm6NAhQu172WWXSepesLG538OVzTMA9S3Jf6gL95wsfG3bBrLqYYSS+Y42CWkO2+1zwjXS9uz6hx5qZpjHsjLPcU/79esnRgrsdCqKQLwj4KvyJkVmvXr1hfQAAgbvQ0BHwUOHdb9w4UIhB8gJHFJ4kgPdygcfvG9Ys4a7DFZ2/YX+TbrP7dvflLSPGEC5kdWrVwn9JtSfwULqTIwAr/IJ3ifUbzpgeMWRQ4cOC/lIqP38XEfbov2EUt54jigpUukWhMBeReYx8vTjPQYLubRTU0e5q21mssJqz6HqQ8YxctpDz4oC5J5iIM6ZM0fSp5KpDi5vCFagX0XIYJZfmT9/npSTnr7cGAXFTdt8whkzZrQxbKZELBrCF1jBLDPZ6tWrDbvYS8KZQAY72PPwtnEOaCdEFGxmO1gJySxHVAHipC5dOotTYZnwOPHSpUsNZ/zfHQxZFUUgERDwRXnT8Pfs2S3WNEQT5CXGEuZBRZlDjoGXB0FC3759JMc1rFF0xFjf4QQr26bZJGUiubhR3qHSG4Yr40JfD2nLkiVLjNd8UHKB9+v3jKSzBC+UGrzRN91UXvJJ06ndcsut4u0cOnTQ3Id3ZV/LKHbjjTdFlX52z5494ildffWvhIub/OZeycjIcJYvTxcPvEuXrg7GhxVC6zNnzhClB2+3VcbHjh0zJCeTxXOCaKRjx05CWIJSOXbsE9N+TkunbOv6m99cI+kzISE5ceKkKAS77ZJLLo2pgderVy/Jz56evsx0+O/ZS8vyHSrtbGG25+D68CzibdepU1fqTd0wRjD2evXqKTS+eKpWcbOTH6mJly9fLt486W+JpuBRI6RLjeR9235Adjb/aO/UFwVNf/POO+9IVIA2jnhT/tr+grA7+fkRL2MdZS1ZstjkTX9cuBlkB/2nCMQ5Ar5MWGvQoIGxZruKwh46dJhYr7AHpaS0leXu3XuIEsaKv//FryFgAAA1KklEQVT+xk758uWdgQMHRU0wgpcwdmyakJpgDKgEEEDhQdpCqHrChIlmTO+U8U5myUYUHsYORtTmzZtkefbs2bINlii2QRTCh2U+0ea0z8zcKYQjderUdrx0oBS+Zk2GIRDZ4HTq1EmMtUWLFso5+UdIc9SoVKMQAmxzaWlpwlqFgu7evZt4VQyJ3HnnH0z7GCChTzxc6oaSZAjA1pXOmnYxdeoUYUfDOLTb1q5d454zFguQfEQSmLzuu+9eobDctm2rGEve/Qu6PYeqj81xzj1B8KpRpsjXX58xY8ufOjBuoWw7duxgPPAeDpGa/AjePFK69HUSgof4xEYouH/RCsbhrl2Zpu33k0Os4j9y5LBECx59tJ1E98AZQWkPHz7MadGihXCSc07Lcc5QANv69+9vxsJzl0tdCtd/ikAhIeCL5w2BAJY8Y2a33HKLeXAWOC1btnLHZfHGmTRVr149Z/36deJtlStXLupL3rBhg3iQixYtjvqYorAj8wbwVmDoQmrXrm0YpFaIQmdiGsMWrVu3Moqxu3PPPTVdSIh2sG38+PFiQLE9WiFMvGXLFqECRQG8/PLLQvhgQ5AYBtOmTRdFzDjixIkThXqS8jEkpk59WegYqxlmsgB71IdCJgHjVZ8+faVTpQ1hFGAEwFBHXSkHrwqv1ytsY1/CvSwXttx7771mQuDtogDhM3/++eeNR3fC6dChg1u1gmzPkerTuXMXGSfeuXOH0GjecEM5uUc//PCDKFfuM2FkIiQMezFWzb3l/uRFaBsIxs+rr043kZXqLnPcd9/9K6oiYQ176aWJ0o4IkyMYBShwjEFoifHqp0yZYiIFpUz7f9jsUUyMTeZbbN26TRjGiAYxhEdZlSrdLhHCDRvWS3n6TxFIBAR8Ud7w59Lwz58/J/SDWPAVKtwsCr18+ZskBAcYKO5NmzY5KG54hZs2fTDHUBwP5iuvvGw6jmFuCD0RgC2IOuI1MYP7mWcCHgjnZEwQjyN41rBf9bFhYkKqKFPGIrnfVnnD323HJelEUcrWAyLMaXmU2YacPfuD8Csz9m69IdbDOU6HnGjCNdjrwEA5ffqU8FNb5V3Q7TlSfZhPcvvtlSSU3Lx5cxO5OS3DK8ziZqgF5Q19KEMtDG/85S9/kehHXpW3bRcYbVu3bjWh6qUyk517fOWVObOd0fZGjBhuxronue2IY2+88Ua+zPh3G4nssfzJJ5/IvAyUN8+CjdhBBfrww60duOPvv/9+uUbaJePuhPBxMliuW7euO6RDeSqKQLwh4IvyRmkTmqtbt55MCKEjZsyJSSPnzp13Dhx4X15PIkTFLNAGDe41236MCgsmvuHhVa9ePar9L+Sd7IQhO/Z4/fVJ8jrMkCFDC+yy8SaRVq1auufE823Xrp38tpOE+MG+jIfb8UeUvRUMPqRcuRvNmPZxGX/l+uy1MSeiQoUKdncpI5x3Vrx4CV8mU7kn83GhWrU7ZGjCGlSF3Z6D60O0jA+CF8qQFhPsKlYMzGP47W9/56KBIWANMXdlLhZKlSolxt7ixYscO4ls377AnIFI492cgr5j5MgRzqBBg+R1R+9prfL+3e/+213NvIdQQlusWLGiiTD8j8yZoDwrvBZHBBEPnVfKVBSBeEbAlzHvKlWqSriNkBXjWY0bJ8ss8QceCIxtlixZQmaFEsrFysXi52M76kgAYQ3TicfKk4x07njYhldrxwp53YqQo31/tWbNmuI5MBZMp4q3sWZN7MZ7CYNv2fKGCQW/4DD7nc+UKVPFILNeMgqYMeyVK1dIWBxP3Aohdz47drwpQyvMDmdI5a677pJd8IYIrW43oVEmIdWuXcce6pQpc50YiJRPR/7hhx+625jgxpgp7yNjMDKJLZbCNRBR4JvzsWwNK4xYFAACJkSYuA7bfgu6PUeqD8MYtt7giUeckhJ4m+FGM3kRWbt2rWlb58Uox+C68847ZX1e/zEXBrnnnntkOGXFipVOrVq13GgN22g7EyZMYNGV3bvflj7m1lsrCq5gywf8UcjMqH/99Y1yPUzWtMNzFMBYPesQolWZmZnyZgKT1piDYz+89kfUgd+5GdaTgvWfIlDACPjiefNAVK1aVZQxD1lPM05phQ6OSVG8jrR48WKZdGa3RfP9zTdnogqpRVNWIu4ze/YsUY54JnRWY8aMkXA110JYtnfvp2UsEgXCrNpatWqHuMxiIdaZkUCzmk+0wkxdzsN5reBZY1DwKhcyd+4c+RB9oW6EHxGUF+2gUaOGsj/j9N26dZNtzJlITU2VD8cjvMPrVRQowI0bN5qOtZFsb9WqtQntBhRMmTJl5D32du0C7/wmmfHMefPmy36x+Mf7xCgAK8nJjQV73oFGUaCwwQSsatSoIaFnu29Bt+dI9dm6dYtM8rNtC8yJniEY1gxVca0ZGatFcXbt2jXfr1K1bt1aQvMpKW3kPCjLESNGyLL9F5gLcVTahzXwMdiQxx571O4m33PnzpMcBcyXYNJjixbNBXfaXbNmzWSf0aNHyTqGeDDyaDv0V9klFw9D9oN1jSJQoAgUMx5bYEqm57TRzjr2HKKLMUQAT+7//t+vzKtXSSYTVqlsZ8Ij/uqrryQMaD28bDsV0ArqgjcX/GoPp8eD+/bbf5ltlxhlnj3oY68DI8SOiQdXm+skNG+jD97tdPBEKZjIVJg4EHngNSzqYWd1e+tZ0Mvh6gPevKFAxjIMHqIgwYIBwmQ1FLwdsw7eJy+/MUQx7MnG5x1qoSy8ZNoQRl1u5Mcff3STvzAnw4pdj5fOJDU/r8OeQ78VgYJGQJV3QSOu51MEFAFFQBFQBPKJQHb3J58F6uGKgCKgCCgCioAiEFsEVHnHFl8tXRFQBBQBRUAR8B0BVd6+Q6oFKgKKgCKgCCgCsUVAlXds8dXSFQFFQBFQBBQB3xFQ5e07pFqgIqAIKAKKgCIQWwRUeccWXy1dEVAEFAFFQBHwHYGEUN6880kiGEts4DsKWqAvCED3yTvBoYTMYjYveqjtF9I6iD1IA3zo0EHJNue9Nt5DJwMcjHB+CuWSRIfz8j5zsHz++eeSgY93u+NB8lIf8gTw/jz42Sx2flwLeH388UeSoS9E2gs/TqFlKAK+I+BLhjVbK7IXde78pPDqQiZy7bWlhfTebm/bNsUZN268Q0cOI9aIESPtprDfZNwiRSMJJCDhmDjxpSw5r8MeeIFsgDaRzuW55wbLFcGdDlc2maXymwBk5cqVki2tbNmyuUbr2WcHiUG1atUqN+HKsmVLhZ6UxBvBQmrXffv2Sd7o4G3R/CZN7EUXFQtJFoHC2r9/n6S8jKas/O4zZMjgLBnWKA/mrT/+sZ2zbdtWYbS65pprJNkIyUigOSUrHfzf06ZNk/zhpH+FsYv2HCo5Sm7qCBUq2dJ43sgJT7ugXOpAghbYwDAWYJNDeY8f/2IW7mzW9evXzyRG+S4kM9u8eXNNxrp5Jv3opnzXNZr6hLp2+oz+/Z+R5D/kyOeekxGubdtAVr26dX9OpWuPBxfytke6XxibtGXKxDBg/9GjRzuXX365LUa/FYG4RMBX5U2KTNh7sF4hYPBSNPKQ8ICQ4WjhwoUOeblzEnJ1z58/31m3br08TCMNMcHq1auFnCCnYy+U7WBpc+CBL1SKM2bMyLfiBp9Vq14zWaz+j6SXzA1edMBvvfWWHHLo0GEhH8nN8XnZl2un/cBuFSwnT54w17KqwJQ353/00ccMOxV0kwGxme9gQ0tPX+5miENxkqsb5Q2POVS5EH8QTSKVJ6lAH3ookO/blpXbb3iqSQ1K1jqylrVp84jkh3/kkUfM8zNPzkWdSpQo7jzxxBPCmjV58hT3NBiE773395CpTzG4UNx+STT1CXUuUpvOmjXbzY5GPzBp0kvCmWAztJE6GA5yK6SotRLqfvFsodibNGkiRgDtun37x4VeFjY1FUUgnhHwRXnz8O/Zs1use7wIvApID3hQUeZLly6RnMKEuvr27SM5rvEQ6IjxBsKJTY+4efMmyblMuOyxxx4Pt/sFvR6qQoyXYcOGGc+tglwrXNowKjVq1Eh+Q1Cybt1ax0Y02B+SBXDbtOl1IYKATxsiB6gqGYbAo7GpRsuWvSFkWtNgYPfs2SOe29VX/8plDvPuk5GRIdEBPPAuXbpK6k27ndD6zJkzRMngrVpljGc4Zcpk8eYhGunYsZMQltChHjv2iWk/p0V5v//+ASnqN7+5RtJncm0nTpwUBWW3wShlKUrtef3+Jv3qZZdd6kYdbPmQXVgBXzxEaCgRrzfH/ST1qOWktsfk5dvLyIWnz7MHcxayfPlyZ/DgwWJMEL3gfiPsx3EHDx401JyL5bmCl8ArpCmFgvOpp56SiIF3W16Xc6pPuHKD0+1Sb0iOrOLmuBIlSmbB2FtWqPtFf4S3XadOXdmVc1Dm6tWrDG98z2z31lueLisChY2AL2PeDRo0kE6aTgMyA8KBsAelpLSV5e7de4hS6NGjpygTaAcHDhyUYwgOxf7ss88JeQKEBDxYMJUVNTlz5msTbRgonmX9+g3cy//ss08dbx56xj1RFlY++ugj8bKOHj1iOvAh0qkzHrt377uCKfcLfnXCi3zo0KORzMydxpiqazq92objeVuWQ9asyTAEIhucTp06ybjkokUL3e3MWxg1KlU8UFib0tLSfsp3/q14juScJsR8551/MO1jgFzLl19+KXVjvBzjxNb1nXfekQjP1KlThEueIRu7be3a2DGr2YtZsGC+8ZxbCLe0pbW02/hmfHbs2DRjGP3KgYzDCl5sx44dZHipTZsUadN2W36/UbbDhg0Vxj5402kPCEx/5H1nCCY1dZSsAy/WDR8+zISj+5sQe/Y84i++OF4Y0WrUuFuOye+/nOoTbfkYh7t2ZRpHoF+WQ/r162vaVmO5puPHs84pCHW/7LAT7RIhGoKBg3z99Rn51n+KQLwi4IvnjYeMFct40S233CJ0j4QHYZZC8MbxNOrVq+dS9UVDuUdYCwVkw194WIQF8ztGGK83I1y98C7x0hjDzK0QboTCk7Du3XffLdhZCkTmIMAUBWNXtAL+W7ZsESpQOj+8f4Y3rKeLtzlt2nQJbzKWOnHiRPH4KR9jAc8fxVLNhJED7FEfyiQ3rg9mKDijaUMYBRgBMNQx/EI5hM179fqZsY4y2ca+c+bMyTJMw7ZYCWxphGGJBjAfgxArczm8LGgYEkeOHDH4vCKRDlsXuKJh0jpwYL/DHAE8ZCgx8yvgh4HHfejU6Ukpzk7w5PlhuOWuu6q7dYQbHf7uSpVul+jYhg3rs1Rh/fr1Qrs6e/YciZpl2ZjHHznVJ5pioYul3rQjb9RiwYKFMscAgxb2QhjrWEckJNL96ty5izCn7dy5w9m9e7fBr5xr5EZTH91HESgsBHxR3jR6Hv7z588JHSLWa4UKN4tCL1/+Jmfz5s1yfXDs4umhuKFNbNr0wYic3nBHsx8dNJ0643p4M8OHjygsvArlvPfcU9N4T6UNx/GLEskgchGttGnTxmUiGzVqdLSHhd3PzhiHtQllinHA/bbKG/5uy9oEMxhKBSMMIXKC4kYsa9jZsz84X3zxhRh63GMrjB1HGwmwxxTUN9fMB575O+6400SY2oghYpX3okWLZE4A48owpHkF5c2nadOmDlGQadNeybfyxkhiiARjasiQoW4o2d4HjKStW7ea8PhSmVFNff7nf/6fGGHckzFjRks4HQObZYyJ8ePHyXPKuDIePTJu3Di5ZsbS8yKR6nPllVflWCRtjzD+pEmT3HZkD4IWFqF9lSt3o5lA2EloaonURbpfbdu2NVzglWSmfvPmzQ3L2mmhLMXAUlEE4hkBX8LmKO39+/eLwsbbwONmXJVZ0ufOnTdexvsORPeE6QjrJiWVNdt+zBGXbdu2OYSJCcMzPoe385e//CXkqzA5FpbgOzz6aGDYYPDg59xwKMoTBYCgIN98c7sse/9FosZEgeJJ50Z27dolu7dq1dKE8ZuJV4bna8U7Bsm+8H3TFhDqawWDD6GjZcydsUfCllaYE+EdP6aM77//ebvdj+/ixUtkOda7LdbL8E3ffvvtJroQeD2LsdhZs2aa4YFRWeofqh5+GShMiMPQYcjKYs35iLaguBYvXuQwZIVy//TTk1IVohuDBg0yz1d9MSZQfoz5Ylgwn4BthPv5zb4I12mNNFmRy3+R6uMdtw9VLH0HBgr1qlz596F2cdfdeGM5idZh1ARL8P1iOxHD1q0flnIPHvxA3gZgUqGKIhDPCPiivKtUqSqhpi5dusj4WuPGyTLuhtWLl12yZAmZFcpDh6WPtcuHBymS3HzzLRJeZKzs/Pnz4h3woHk7qEjHX0jbUIq8LgY3cVraGFHWeDKHDx+SCAceHIZNboRXxN59d6+UBa9zTp4unSHREMLw27e/KZ8pU6aKQWaPRQEzyQyFgseHJ24FQ4HPjh1vytBK8+YtJIx/1113yS7p6ekyiW67CY0y6dEbzi9T5joxECmfjvzDDz+0xUpUgjHczz77TAw7hhliKcy0t4YGk/fefPNNd+IdkSXaaMmSpQRPcGHcHmGynsUJXnLG5tu3fyLfVV2zZo28vcGwBOXzYRlh7glyzz33SNtZsWKleNbcezt8wjfGNd4myzfddFOWbXZCFxMjbXRBCs3Dv3D1sV45RdJ2JkyYkKV0JtNxTbfeWtG9Rq4TB4H2wHwI+gja6JIlSyTiU7VqVSkj0v2iTHsvaVO02ZSUlCzn1h+KQDwi4It5yYQPHhSUMQ8Z45RW6Kz37t1r3p0cI2NR1ardYTfl+I3yp3Ns2rSJWNKMrTN+VZQEz9n8ieA5vfDCn4wX1V06uGbNmhs8epnXj1qIUdS//wAZR40Wn0ceaSOz/5mJjjBLPZIHRBIQwuCMV1vBs2ZMlVe5EN7L50P0hXvFxDaE66AdNGrUUPZv2LChjEuyjfuampoqH45FeIfXqyhQ5Bs3bjRKpZFsb9WqtSgZfuA10lbatQu885uUlOTMmzdf9ovFPzxrIkhcN3jwBgTXg/zv/34jYVfmE1hhv40bX5f6k98Abxhjg2emZcuWdrc8f5P/gDc++FhhfgnDS3jPzMIntI+goEeMGCHLWf/91MiyrpRfkaI3IXaPuCqa+gTmQhyV9mENfBQ0wsRVr5DvgIgBk9WsgHdq6igx6lgX6X7xfjzzE2j3GAO0u7p169mi9FsRiFsEiplwa2BA0lNF7wxmz+pCW8QrJDxsJ8AVWkXi8MTW8wgeW422qngr4Mt4M51gfgXPB08mVFnMwP7223+ZbZeEfA2HY/FIuRY7Jh5cH7YThbCvt3m308ETpWEik58Kx3sOu0w9+GAoWAVjt4X75lFjeIAxZBR4XiYghis7p/UoJgxpXt/zDm3kdFystkeqD/jQhjDqohXaMXMnOI574h2ioYxw94s2R/s/c+aMHFfUJsNGi6/uF38IJITyjj/YtEaKgCKgCCgCikDhIeDLmHfhVV/PrAgoAoqAIqAIFD0EVHkXvXuuV6wIKAKKgCKQ4Aio8k7wG6jVVwQUAUVAESh6CKjyLnr3XK9YEVAEFAFFIMERUOWd4DdQq68IKAKKgCJQ9BBQ5V307rlesSKgCCgCikCCIxD3ypv3mD/++CPJnhXilfQEh9+f6n/++eeSNIR3VsMJ78Fu27ZVslGF2ye/68kgBm97KDl+/LjhjH4v1KYitY730MkABwVqIggZyEh5bLOQ+VVn2iyENpHabF7ORTvjHXLtK/KCnh6TSAj4kmHNXjBZozp3ftLw4WY4r7zysnPttaWdhx4KpGdkH7JOwb7EA0amKcs7bY8P/kYRPPvsIEm4QHIL0k6OHj06LGdv8PEX+m/SkA4dOkQyl5FVigxs48e/GDJLGkbQ888/b7KfzYvIoR4tZtwXMuutWrXKTbgCS1bVqtUkEUhwOX/721vOvn37JFd28LZofkN+ctFFxdw0pN5jyHa2f/8+oUz1ri+sZShXYVujXqSRtZKevkx4sSGWIf0rOfsnTnyp0FjyJk+ebO7fa7Z67je0rFWrVjFMZDMkYx8pjrmWtLSxwrHu7piHBdtmMV6g/EV5h2uzwcWT/nb69GlOZmamMNfZnOvshzEwzNChksyJvoKMd6QTRoYMGSzHyI+f/sEl/8c/tnMiYeDNJOg9VpcVgXhAwFfPmxSZ9erVF6v3jTfeMB1tdfcaUcRkPbr22mudnTt3Si5md2OIBSxnHromTZqYPNiLDGvZRpMJ6Uuhfgyxe5FcNX/+PEnPmZ6+3Fm+fIWQgMAKFWuhAyZfNF7ZoUOHY306KZ+2tXv3npDnOnnyhBgRITcW8EpSzY4fP94h33+wJCc/YHLDb3VmzJhp2PU2C00uqUALSzp27GjS7L7mfkaOHClVgXzkr399S3KvL1uW7syePUcMIzjWLSd3XutMm8WLp80uWLBAMulF02ZhPOvZs4dJiRuaUW/hwgViWNBXzJs3T3KU44FbgdRo3br17gciEiQSBvZY/VYE4hEBXzxvcirv2bNbQoGkF8SroGPnQUWZL126RHI5w/ndt28f8RRhjapevUZYL5AUrVjQlhSBdJuQmqxevcpwOvd0vb14BLWg6rR8+XJhkrJpNtu1a2eILtpL2JBczXS0kDzgqVguZepGR8e9ePrpPm5VyX89a9ZsIYTIKX0m+eYp/+qrf+VY5jC3ILOQkZFhjIl08cC7dOkqaSftdkLrM2fOkFSdeD+0AQRPbMqUyeLNQ3/asWMn6YwxFI4d+8S0n9Ni/FFPBOYr0mcSgobnHYVgt11yyaX5Yr+SE+TxH+0Vco9Dhw4K9t5iLr/8cvcnyoi86F5OandjAS3wTNk0tqQkJcf38OHDJT0tRgj50akfEbXNmzdJrYiAQFCSV6HNDh48WJQ2ZRGFQ1C0kfLqQ0ELqQpsXzb/vRz40z/aA+x2LVq0NO19l1wDKWitkC73sssuzdZvRMLAHqvfikA8IuCL592gQQOHThqFDS0h4UDYg1JS2spy9+49pJOAlpCOjbDhwIGDIoYLCQEjhGYROmceduTrr8/Id1H+Zz2g//7v37kw/Pa3gWU6W8KRL7zwvBmeeEPIKQYMGOjuB4sXCpYxRyv8LlfuhqjyXmdm7jTkDXWNYVVbOkxbBt9r1mQYAo4NTqdOncRAWLRoobuZezlqVKqDB0ooNi0tzURpyHf+rXC1wyxFyPbOO/9g2scACdXCyIVSYbwc5iiW+bzzzjsS4Zk6dYpwyXPNdhtsXYUlOeXGxivs2LGDDC+1aZMiBmlh1dWelyjX2LFphnDmDjG2WU++7zJlrpddJk6cIExbPLenT5+yh+X627bZ0qWvk7kX48aNFQIRCuL+RRKYBCPRdD788MNi3EFcsmTJYol+eNkHFyyYbxR7C+EC37cv+9yLUBhEqo9uUwQKGwFfPG88IDw5xqQZh8Kza9mylUskQoeGp4Elv379OvG26LwjCSH2zp27iALauXOHCZnuNt5UOTEQLId1pOMv9G3Wk4Z60kqpUiVl8bvv/iWKDswII0LoAimFlfLlK4jSoJMbMmSoYLplyxYZD7f7hPumHPaFChQDi7FdjADL80y9pk2b7qCIMSAmTpwoVJSUh3E3derLpp3cJsxkAfaoD2WSG15onz59hSCFNoQXhREAQ9306a9KObSJXr1+ZqyjTLax75w5c2SZdfEs8GPD7HXgwH4ZT65YsaJQdBZmnTds2OB88MEHzqJFi91qQPKCV7p161aJgDE/5e23d0u0wN0plwu2zTI/49VXp5vISnWXOY42mx/BMMAIpE3ixUNSAlc8ArsdYXOiN2vXrjW/e8vcGy9rXSgM8lMfPVYRiDUCvnjeKAkmK50/f86EtpaLh0w4k875+PFjZsxsllwHihu+4y+//EL2y2kGK5zfeFN0cExUe/DBB6UcOr+iLpb/2FIlgsc///mtwHLllVfJDGGUdjgmtrZt/yhKmIk+3CcMLziecxI7Y5wwJhOOCE3aiAjHwt9t6wYzGErZzvxl2APFjVjWsLNnf5COlnrCbGbl9tsrSydsf18o3yjvpk2bymQqohfwsBemoPReeeVlh8iMDaFTH4ZE4Ld+8cXxYlRxvxjquuqqX+a5urZd0N4wCrp27SpvkVAgbTavQvsaMKC/U6nS7WKswsc9ZMgQE7n5SIqkjVaoUMHMs6klXPSw1lEHK+EwsNv1WxGIRwR8Ud4o7f3795sH5GZXaRCyYobzuXPnjZfxvlO5cmUJlTFrNSmprNn2Y1R4oFSYXFK58u+dgwc/kJB7pPBZVIVeADuVKlVKFOfhw4fcq2GuAcLYIZ6Md4x1x46fZz2zD0qE4Q28b0LdLVo0Z3WOwhg30qpVSzOJqZmEO/F8rXjHy9kXvm8bvsRztoLBh+AdQe/J/AavMYei+PWvf213lzK+//7f7m/vQvHiJbIc690Wz8vxYKAwrIK36p1cCmZlyyZJu6hZs6bwjhNZwxALZwxyTE5i2+zixYsMJ31POe+nn56UwyKNd+dULvMlaD+PPfaYhM7bt39CuNb/9re/ZTsU+tbbb7/dRIPOutvCYeDuoAuKQBwi4IvyZmYtIdEuXbo4jGc1bpxsXgtr6zzwQGBss2TJEg7jeyhgvC+28cmJB5kybYeOF4C1jFWtEkCAeQUrV64U7DGU6BRr1aolnu8dd9xpjJ2DMolr27atxrvK7uERSiRc+PXXX4tXkhOuhMG3bHlDvBdegeJD+ByDzM7s5X4RvmSiHPcLT9wKIXc+GBIMrTRv3kLmPTAGj6Snp8vEuu3bt8ukx9q169hDzfjrdWIgUj7RBtqDFSa4MWbKq0TgQNSnsOTHH38UJffddwFDA4UXiD6cd5isZ3GCX5qxeRRNYQoTxvBKg/nP77uvoVSrfv368s0rgYS7vaHmvNSbNovcc889MpzCJDTbZm15tJ0JEybYn/LN3AiLJStoB/ymTVreb/BFaAtss6+S8WaE7UeYbPnmm2+6EyXZPxwGbFNRBOIVAV/GvJmIVLVqVVHGu3e/LeOU9oLprPfu3WvC3mOMclksk2Lstpy+t27dImFzrHI6vc6dO5uJUvVyOqzIbG/durUoZzxgOlaGE+y7rZUqVZJOsUePHuKhp6aOcrp1eyoLNnffXUNm5TZp0tQNY2fZIejHoUOHpFOsVq2auwXPmnPzKhfCTGA+eGiMNRIaRlAOtINGjRrK/ryH261bN9lG55uamiofO5OYe+1VFCjyjRs3mgmPgZnOrVq1Nq8N3STHlylTRgzFdu3+KL+TkpKcefPmy3JB/2NMdfLkSe5pk5MbyzJzD6g/+Q0I46JgeGZatmzp7lsYC998cyZkyBrvFMNi0KBBbn0nTZrkRlHyWlfbZlNS2kgRtNkRI0ZkKQ6jjygS7cMa+B999LHz5JOd3P369Hlalgn3Jycniyc/c+YM8/rZfDFmWVelShXZZ9asmWJg0k5R6o899ri8B24LC4eB3a7fikA8IlDMjBf9J7hivKYVD4JVzazXM2fOmFB7UsTZ6fFQ38KqA4bNDz98L7ODvWFr6sO9ZIwv2LNiGx1k586BpDrs44dwz/ByvOOnttzAzPJ/mW2XmPpkD/pwLB4pdbFj4vZY+812rpFQe7DgkTN+yetNoa43eP+C/s2jRniX17JQ4PYVv4KuR27Ox7NHfoWkpLJh70luyrP70mYx7K+//vpsbziAD23IetT2mJy+ySLIa4Ukh7JK3x5Du+FDPxK8ze6j34pAIiEQ18o7kYBMpLru2LFDDKI5c2bL63y8ZqOiCCgCioAikDgI+BI2T5zL1ZqCAO+5Em/h9R/CoyqKgCKgCCgCiYWAet6Jdb+0toqAIqAIKAKKgJN94FFBUQQUAUVAEVAEFIG4RkCVd1zfHq2cIqAIKAKKgCKQHQFV3tkx0TWKgCKgCCgCikBcI6DKO65vj1ZOEVAEFAFFQBHIjkDCK2+ysB05csTNoJT9EuNjDVmeeGfdTyGjFDzpiS68S+xNsRrqenjvF+pZsrclupBPHjIX3msvqpJXDCI977QREkbxnniwgDWZACEsCSV5rU+osnSdIlAQCPiqvMkaRbYvBLKDNWvWZLmGtm1THB4Scl6PGDE8y7ZwP/bufVcoFOvW/TlVJvuS8GP69OlyPugMybxls3yFK8uuJw0n5Xk/wekY7b5+fQe4qn/OQ57bcp99dpBcK9dtBTKYUPmb7fZE+aZNjBw5MmJ16bThCCcFaqIKhkffvn1MNrDuhjd7mGG6auemS43na5o3b648K5YVLD91zSsGOT3vpNylD4Bm9MEHmzrz5893q0n6U3Lx0+eQZZBnCUWP5LU+buG6oAgUEgK+Km+UZ7169YVFimT/XrIDPESIKa699lpn586dJpd2zRwvedOm14WXl9zpwfLXv74luaGXLUs3rGVzJE82HNBk2MpZ/iN80jY/N999+/bN+bBC2oMOBs8dBXbo0OFCqkXhnhYWs9WrMyQPd+HWJO9nnz9/niiN9PTlJo3nAslYNmbM6LwXWABH7tu3z6SanefbmfKKQaTnHdKUYcOGCTc4fQGGIGl2iUyR1Q5e+/vuu08Yx2bOnCXPEgY8ktf6+AaIFqQI5BEBX5K0EM7cs2e3SU14TFKYknYTRcODgTJfunSJ5HLmIcPzIMc1rFHVq9cQWslwda9Tp66xphsbhXVQiC68+6HY4QcnFSYe/+bNm2Qz9JSNGgXyX3v3j3aZkNuAAf1NTudnJRf7rl2ZDoqDTgE5evSIRBToGEjhSQ7vF174k9Bibt/+F0P3+KBDjmXSYHbs2Mlp0qRJtlODzejRowyr1y1Ohw4dsm0PXgGZAvndoWm0TF3efTIyMsQrJdVkly5dJQUk2wkRzpw503jnb5nUqWWc/v37uxzH6enLJGx7zTW/NYQgy8SjfeaZZ5z69RtI0XTaHMt9gviD+wgpTCR8CE1CjrJu3Tohnbj77ruNp9NdUqXi7SQnPyAUmGAEwxTkJGBnU7qePn1a8oLDLQ2RzSOPBEhNnnvuWUnzSsX+9KfULGxjrCM6s2TJEiFiIR96v37PZKEXZZ94kOXLlzuDBw+WdkM7xSNESBWaH1YtKSQG/7jXeKtPPfWUuW/TfDlDXjGI9LyTr5x0s5Cd0Abpj5DNmzebdnC5hMvJ7Y9AWYxkZKx2Hn/8cfPcJNY9kcrrP0XAIOCL592gQQNRGiiloUOHCdUk7EEpKW1luXv3HtKBQwOIMi5fvrwzcOCgHHOVX3zxxWFvEuPHZcpcL9snTpwgioVyT5+OblyZjglv1n4Yd0V4+Bk369//GaEspO52nIxO9umnnxZFgoKAJIVxNARyg8zMTOMBDBUFiPIZP35ctjFaDJhevXpKFKJdu3ZybE7/MjN3mnPVderUqZ1tbBg6z40bNzidOnVyKHvRooVSHCFOFOZFFxVzJk2abBR6WdMRjzCc64GwO4pyxYoVxqua61CPG24oJ2xdHAxjV+/evYQYBE8FI+TXvw5wqEfCh45w2bJlpi5PmnM/56CEx5kwJgKmkydPEoMNpb1t2zbhaX/33XdlO//69esrERGwg+f65MmTsq19+/bOE090kDJ++OEHd38WMBiJmlStWs0wUU2UeQWzZs3Ksk88/LARIVj3yMEOLlahYHzGo8DlDSFMjRp3+1K9/GAQ6Xnnmb/xxhuljq+99poQ38Ba+OWXX4phzwbyyOMEYFjSNumr+CCJdE+kwvpPETAI+KK8IRBAKcC9DQ3fP/7xuVE0dcQrhVMaj5COGE/5zJmvpQMvV66cKLC83gU6QMgvtm7dKl7uI4+0MR5NKWENiqZMOkwoGe3nq6+ydqA1a9Zyunfv7sDOZSkrUUywIMGQBrNW2bJJWU6FBwCrV7NmzYyRcr9sg27TyqlTp43y7y14PP/8C+KB2W3hviFv2LJli3SgRCowIJjsZAUlPW7ceDEYYGzCo4OWkhSoeHbgAtEHLF5EA+jQrFD2mDFp0kFXq1bVJYJACXPNeCYMc7BsKSLtsaHwYUwao43IB9Sv8CtD72k7SShAiUSAE9jeemvFLMMcUMiipPG48aTefjvAx1y+fAXhBbfn9n7D0oXXyvXB/127dm0zLLPDu0tcLNvxYpitXn11usG0usuaBvd6vMn69evFiOvatatvVcsPBpGe92+/hezmUplPgzHap0/fn/qCb6WtgTnPRFpamjDd0bYQ+2wmyj3x7UZoQRcEAr6EzXfv3m14odcbBX5OwlIokAoVbhZPsHz5myR8BVrr169zNm3aJN4V4SvCp3ll+CGEjIdI500olRA2IV64gaMRjAeUcDixvOGEm4cPHyG7ffDB+0ZJ1g93iEQULI0lYWGETsMKHQuKKy1tbNTUiu+9954cTuieOQN0POB7ww03yHr4sq+88kpZBgPKZ5zvo48CEYHU1D/Z00s43aso7r33PlHO7IDStHLixHExsOzvUN/B+MCjjZKGItQKwwKInWXPHIjixYvLNWDkYWB4BUPDCu0i2Mu227zfePR0ws88089dDR5gEE/MYvYeQXeJwblkyVJ38t2VV17l1j0eFmizRI14RiZNesmdvT1u3DiZc2CHM3Jb1/xgEOl551k7fvyYMWLHCX88Q1n8xtC+6qqr5JlgDPyKK64QIw/aVoRnCkmEeyIV1X+KgAcBX5Q3Snv//v0OYWRe2+LhKVGihEOHfu7ceefAgfedypUrS7iQMHODBveabT8rNU99ol4sWzbJjD1nyMMILzIhYxQX5/ZD7DistyxC7ZdddpmsQjngEedGnn66jxgwjOFOmTLVISqRkzDGjTBb1gqvVdmQu7eedjwc7BmnxqOYO3deWCUWTrlhGDAvIdJ4vPe81Itzcj46Tbxf5OTJwGtseP4IIXyEfUOJrQ8zyokSWOUfal+77vrrk4QedMiQoXZVXH6jYDC8mBMABzVKxRov8Tbezb2Fx9sKUSoMRkhsiMTkVfKDQdmy4Z93PPp5ZlIdOFqjkn6GORfXXltaqsucCDjeaWPHTUQKwwQDMVHuSV4x1+MuXAQu8uPSmA2O19WlSxcZP2rcONlhzIkwKA9JyZIlZAJS5cq/l3Aq2/jk5HXjAaCQv/vu31JNlgOe5Xk3jGs94VWrVonysJ6vH9cVXEatWrXFa+Lhf/nllx3Ga23oLXjfUL9LlSrpjnMOHvyc8BmH2s+uY3x5y5Y3HELsdmY8Sp+OifA5wisvzEZfuXKFeBB44gjGEsJkQcqBy5joSDT1ZaLg++8fkKgG3i8hS4yynKRx48YSWfn4449krJF7giceLS8z13Lo0CHnpZcmShTjtttuy3ZKOmobfmUjby1gRHEvMKgYUgh+RTFbIYW0giEFhIlVtO0VK1ZKpMh6pIVUrWynRXkzN8V+aA8IwyH5fb6iwYC2HPzqph22CfW8o6SRunXrykRIIoEYf0SWGOvGuL/55pvNcFUZeQ6Y3GonkkZTHylc/ykCcYaAL543oUseEJTx7t1vOz179nIvk3FVvDhC1IsXLzZjxXe423JaILzFJCcrycmNZXHhwkXiBbRv/4R4CFjPeAeTJk0K69XZMgLfAQ8w67qcfz3wQLLMqm/f/nGx6kePHm3G0Hq7k9KCvVFviYS8sfrxtgmbd+3aRWacQ8sZTlBkGCuMr1tBGeLh2nfaCQfyIeLQu/fT0oGxL94u53n++ZHOjBkz5PAaNWqYet9jiwr7zX7PPNPfvKv/ijE2UmU/DLH+/QeEPYYNTzzRQULkHTt2lP0w3DA8rEcd6mC2mT8R3tNFUMicyw49yMqf/nXsGAjvY8wgYMN1Dx06RLDiujGy4lGYk4BRlJISGB4grMskwniXSPcvt3WPBgPC2Lyx0q1bN9fAx+sP97wTyaGt86rodjPHAsOWGfI33XSTVI+21KtXT6dFixbiZDAfp0mTprItmvrk9hp1f0WgIBBIeEpQZomfOvWlk5RUNqoJYPkFlYl5nNOGgvNbXn6Px6vGY2XCTjg5ffq0hJYZb86N4MlyLCHeUIo0XFnMKsZjRznlRrgOjJxwYfVIZdnoAl6+n8om0jnzug3lglHLRM5IBl9ey0+E4yJhwPAUbYF7GSyRnneOOWHySRA+Dx6Son0QMWPYC288WCLVJ3hf/a0IxAMCCa+84wFErYMioAgoAoqAIlCQCPgy5l2QFdZzKQKKgCKgCCgCRR0BVd5FvQXo9SsCioAioAgkHAKqvBPulmmFFQFFQBFQBIo6Aqq8i3oL0OtXBBQBRUARSDgEVHkn3C3TCisCioAioAgUdQRUeRf1FqDXrwgoAoqAIpBwCKjyTrhbphVWBBQBRUARKOoI+Kq8yXLWvHkzwfSVV17OlqaybdsUYf4hBzc8wSqKgCKgCCgCioAikHsEfFXepOysV6++5Jh+4403DDNVdbdGZD4iexbEBjt37pQUmO5GXVAEFAFFQBFQBBSBqBHwJcPa0qVLJef3sWPHnIsvvtik4vyV5HBOTk4WZQ45Bl45zF8QBJDrvHz58oZ8YKLL0hV1jXVHRUARUAQUAUWgiCPgi/Im/3WAVayzM23adGHeIrc1Sf/Ji832cePGOjD4kF8b1qCBAweZfORJ4o0X8Xugl68IKAKKgCKgCOQKAV/C5hAIQNhx222VnFtuucWw+nzuwNwD0xUEARAwnDx50njh9Qypx9cmnF5DqEIJo6soAoqAIqAIKAKKQO4Q+C9DSTgi+BAvX3LwtlC/4c9dvXqVocb8p9AywuPM2DYe93/910WGt3iF8EFfeuklwvcMv/eXX34pCjy3TFehzq/rFAFFQBFQBBSBooSAL573+fPnnP379zsVKtwsShqPG1rHs2fPOufOnXcOHHjfqVy5svPPf/7T+fjjj4W+8+zZH4sSznqtioAioAgoAoqAbwj4oryrVKn605h3F6d06eucxo2TnbZt2zoPPPCAeNd42m3apBgF/nvnD3/4g2xj+y9+8YuoLoQx8gkTJoTcd+/ed52hQ4fI+UPuoCsTBoFTp045Q4YMNpMd389WZ4ZlxowZ7axfvz7bNlZEaiMhD8jnyvzUp6DrmhM+keqTSM9XIrWffDY/PVwRcHxR3ocPH3aqVq0qynj37redKlWquNB+//33MrucWebvvfeeU63aHe62aBf+/Oc/O2vXrnH+/e9/Zztkz5498uoZY+oqiY3AsWOfOJmZmc7f/74324UQtdm0aZOzZcuWbNtYEamNhDwgnyvzU5+CrmtO+ESqTyI9X4nUfvLZ/PRwRcDxZbZ5rHH85ptvRHEzMS5YCM1//vnnMnM9eJv+TjwEjh8/ZiY6lgn5FsIXX3zhXHHFFc6ll16a7cIitZFsO/u0Iq/1KYy6RjpnpG2J9nwlUvvxqRlqMUUUgYRQ3kX03uhlKwKKgCKgCCgCIRHwJWwesmRdqQgoAoqAIqAIKAIxQUCVd0xg1UIVAUVAEVAEFIHYIaDKO3bYasmKgCKgCCgCikBMEFDlHRNYtVBFQBFQBBQBRSB2CKjyjh22WrIioAgoAoqAIhATBFR5xwRWLVQRUAQUAUVAEYgdAqq8Y4etlqwIKAKKgCKgCMQEAVXeMYFVC1UEFAFFQBFQBGKHgCrv2GGrJSsCioAioAgoAjFBQJV3TGDVQhUBRUARUAQUgdghoMo7dthqyYqAIqAIKAKKQEwQCKm8ixUrFpOTaaGKgCKgCCgCioAikH8EQirvEiVK5L9kLUERUAQUAUVAEVAEYoJASOX9i1/8wlHvOyZ4a6GKgCKgCCgCikC+EQhJCUqpP/74o3Bow+f7n//8J98n0gIUAUVAEVAEFAFFwB8Ewipvf4rXUhQBRUARUAQUAUXAbwRChs39PomWpwgoAoqAIqAIKAL+IaDK2z8stSRFQBFQBBQBRaBAEFDlXSAw60kUAUVAEVAEFAH/EFDl7R+WWpIioAgoAoqAIlAgCKjyLhCY9SSKgCKgCCgCioB/CKjy9g9LLUkRUAQUAUVAESgQBFR5FwjMehJFQBFQBBQBRcA/BFR5+4ellqQIKAKKgCKgCBQIAqq8CwRmPYkioAgoAoqAIuAfAqq8/cNSS1IEFAFFQBFQBAoEAVXeBQKznkQRUAQUAUVAEfAPAVXe/mGpJSkCioAioAgoAgWCgCrvAoFZT6IIKAKKgCKgCPiHgCpv/7DUkhQBRUARUAQUgQJB4P8D0okg+4jo5y8AAAAASUVORK5CYII=)"
   ]
  },
  {
   "cell_type": "code",
   "execution_count": null,
   "metadata": {
    "colab": {
     "base_uri": "https://localhost:8080/"
    },
    "id": "dWivjBjDFiUv",
    "outputId": "4ec67b43-94d8-407a-eaf0-30c5cbd7e4bc"
   },
   "outputs": [
    {
     "name": "stdout",
     "output_type": "stream",
     "text": [
      "batting Index(['playerID', 'yearID', 'stint', 'teamID', 'lgID', 'G', 'AB', 'R', 'H',\n",
      "       '2B', '3B', 'HR', 'RBI', 'SB', 'CS', 'BB', 'SO', 'IBB', 'HBP', 'SH',\n",
      "       'SF', 'GIDP'],\n",
      "      dtype='object')\n",
      "pitching Index(['playerID', 'yearID', 'stint', 'teamID', 'lgID', 'W', 'L', 'G', 'GS',\n",
      "       'CG', 'SHO', 'SV', 'IPouts', 'H', 'ER', 'HR', 'BB', 'SO', 'BAOpp',\n",
      "       'ERA', 'IBB', 'WP', 'HBP', 'BK', 'BFP', 'GF', 'R', 'SH', 'SF', 'GIDP'],\n",
      "      dtype='object')\n",
      "master Index(['playerID', 'birthYear', 'birthMonth', 'birthDay', 'birthCountry',\n",
      "       'birthState', 'birthCity', 'deathYear', 'deathMonth', 'deathDay',\n",
      "       'deathCountry', 'deathState', 'deathCity', 'nameFirst', 'nameLast',\n",
      "       'nameGiven', 'weight', 'height', 'bats', 'throws', 'debut', 'finalGame',\n",
      "       'retroID', 'bbrefID'],\n",
      "      dtype='object')\n",
      "    playerID  birthYear  birthMonth  birthDay birthCountry birthState  \\\n",
      "0  aardsda01     1981.0        12.0      27.0          USA         CO   \n",
      "1  aaronha01     1934.0         2.0       5.0          USA         AL   \n",
      "2  aaronto01     1939.0         8.0       5.0          USA         AL   \n",
      "3   aasedo01     1954.0         9.0       8.0          USA         CA   \n",
      "4   abadan01     1972.0         8.0      25.0          USA         FL   \n",
      "\n",
      "    birthCity  deathYear  deathMonth  deathDay  ... nameLast       nameGiven  \\\n",
      "0      Denver        NaN         NaN       NaN  ...  Aardsma     David Allan   \n",
      "1      Mobile     2021.0         1.0      22.0  ...    Aaron     Henry Louis   \n",
      "2      Mobile     1984.0         8.0      16.0  ...    Aaron      Tommie Lee   \n",
      "3      Orange        NaN         NaN       NaN  ...     Aase  Donald William   \n",
      "4  Palm Beach        NaN         NaN       NaN  ...     Abad   Fausto Andres   \n",
      "\n",
      "  weight height bats throws       debut   finalGame   retroID    bbrefID  \n",
      "0  215.0   75.0    R      R  2004-04-06  2015-08-23  aardd001  aardsda01  \n",
      "1  180.0   72.0    R      R  1954-04-13  1976-10-03  aaroh101  aaronha01  \n",
      "2  190.0   75.0    R      R  1962-04-10  1971-09-26  aarot101  aaronto01  \n",
      "3  190.0   75.0    R      R  1977-07-26  1990-10-03  aased001   aasedo01  \n",
      "4  184.0   73.0    L      L  2001-09-10  2006-04-13  abada001   abadan01  \n",
      "\n",
      "[5 rows x 24 columns]\n"
     ]
    }
   ],
   "source": [
    "print(\"batting\", batting.columns)\n",
    "print(\"pitching\", pitching.columns)\n",
    "print(\"master\", master.columns)\n",
    "print(master.head())\n",
    "\n",
    "# There are two H one in pitching and one in batting\n"
   ]
  },
  {
   "cell_type": "code",
   "execution_count": null,
   "metadata": {
    "colab": {
     "base_uri": "https://localhost:8080/",
     "height": 473
    },
    "id": "n-ZyFuNu8ulp",
    "outputId": "2bcf1b0c-cc9c-4751-feeb-d04c6662cbbf"
   },
   "outputs": [
    {
     "data": {
      "text/html": [
       "<div>\n",
       "<style scoped>\n",
       "    .dataframe tbody tr th:only-of-type {\n",
       "        vertical-align: middle;\n",
       "    }\n",
       "\n",
       "    .dataframe tbody tr th {\n",
       "        vertical-align: top;\n",
       "    }\n",
       "\n",
       "    .dataframe thead th {\n",
       "        text-align: right;\n",
       "    }\n",
       "</style>\n",
       "<table border=\"1\" class=\"dataframe\">\n",
       "  <thead>\n",
       "    <tr style=\"text-align: right;\">\n",
       "      <th></th>\n",
       "      <th>name</th>\n",
       "      <th>H</th>\n",
       "      <th>AB</th>\n",
       "      <th>Avg</th>\n",
       "    </tr>\n",
       "    <tr>\n",
       "      <th>playerID</th>\n",
       "      <th></th>\n",
       "      <th></th>\n",
       "      <th></th>\n",
       "      <th></th>\n",
       "    </tr>\n",
       "  </thead>\n",
       "  <tbody>\n",
       "    <tr>\n",
       "      <th>aardsda01</th>\n",
       "      <td>David Aardsma</td>\n",
       "      <td>0</td>\n",
       "      <td>4</td>\n",
       "      <td>0.000000</td>\n",
       "    </tr>\n",
       "    <tr>\n",
       "      <th>aaronha01</th>\n",
       "      <td>Hank Aaron</td>\n",
       "      <td>3771</td>\n",
       "      <td>12364</td>\n",
       "      <td>0.304998</td>\n",
       "    </tr>\n",
       "    <tr>\n",
       "      <th>aaronto01</th>\n",
       "      <td>Tommie Aaron</td>\n",
       "      <td>216</td>\n",
       "      <td>944</td>\n",
       "      <td>0.228814</td>\n",
       "    </tr>\n",
       "    <tr>\n",
       "      <th>aasedo01</th>\n",
       "      <td>Don Aase</td>\n",
       "      <td>0</td>\n",
       "      <td>5</td>\n",
       "      <td>0.000000</td>\n",
       "    </tr>\n",
       "    <tr>\n",
       "      <th>abadan01</th>\n",
       "      <td>Andy Abad</td>\n",
       "      <td>2</td>\n",
       "      <td>21</td>\n",
       "      <td>0.095238</td>\n",
       "    </tr>\n",
       "    <tr>\n",
       "      <th>...</th>\n",
       "      <td>...</td>\n",
       "      <td>...</td>\n",
       "      <td>...</td>\n",
       "      <td>...</td>\n",
       "    </tr>\n",
       "    <tr>\n",
       "      <th>zupcibo01</th>\n",
       "      <td>Bob Zupcic</td>\n",
       "      <td>199</td>\n",
       "      <td>795</td>\n",
       "      <td>0.250314</td>\n",
       "    </tr>\n",
       "    <tr>\n",
       "      <th>zupofr01</th>\n",
       "      <td>Frank Zupo</td>\n",
       "      <td>3</td>\n",
       "      <td>18</td>\n",
       "      <td>0.166667</td>\n",
       "    </tr>\n",
       "    <tr>\n",
       "      <th>zuvelpa01</th>\n",
       "      <td>Paul Zuvella</td>\n",
       "      <td>109</td>\n",
       "      <td>491</td>\n",
       "      <td>0.221996</td>\n",
       "    </tr>\n",
       "    <tr>\n",
       "      <th>zuverge01</th>\n",
       "      <td>George Zuverink</td>\n",
       "      <td>21</td>\n",
       "      <td>142</td>\n",
       "      <td>0.147887</td>\n",
       "    </tr>\n",
       "    <tr>\n",
       "      <th>zwilldu01</th>\n",
       "      <td>Dutch Zwilling</td>\n",
       "      <td>364</td>\n",
       "      <td>1280</td>\n",
       "      <td>0.284375</td>\n",
       "    </tr>\n",
       "  </tbody>\n",
       "</table>\n",
       "<p>17841 rows × 4 columns</p>\n",
       "</div>"
      ],
      "text/plain": [
       "                      name     H     AB       Avg\n",
       "playerID                                         \n",
       "aardsda01    David Aardsma     0      4  0.000000\n",
       "aaronha01       Hank Aaron  3771  12364  0.304998\n",
       "aaronto01     Tommie Aaron   216    944  0.228814\n",
       "aasedo01          Don Aase     0      5  0.000000\n",
       "abadan01         Andy Abad     2     21  0.095238\n",
       "...                    ...   ...    ...       ...\n",
       "zupcibo01       Bob Zupcic   199    795  0.250314\n",
       "zupofr01        Frank Zupo     3     18  0.166667\n",
       "zuvelpa01     Paul Zuvella   109    491  0.221996\n",
       "zuverge01  George Zuverink    21    142  0.147887\n",
       "zwilldu01   Dutch Zwilling   364   1280  0.284375\n",
       "\n",
       "[17841 rows x 4 columns]"
      ]
     },
     "execution_count": 15,
     "metadata": {},
     "output_type": "execute_result"
    }
   ],
   "source": [
    "# career <- Batting %>%\n",
    "#   filter(AB > 0) %>%\n",
    "#   anti_join(Pitching, by = \"playerID\") %>%\n",
    "#   group_by(playerID) %>%\n",
    "#   summarize(H = sum(H), AB = sum(AB)) %>%\n",
    "#   mutate(average = H / AB) There are two H one in pitching and one if batting which one do we use?\n",
    "\n",
    "# career <- Master %>%\n",
    "#   tbl_df() %>%\n",
    "#   select(playerID, nameFirst, nameLast) %>%\n",
    "#   unite(name, nameFirst, nameLast, sep = \" \") %>%\n",
    "#   inner_join(career, by = \"playerID\") %>%\n",
    "#   select(-playerID)\n",
    "\n",
    "new_df = batting[batting.AB>0][[\"playerID\",\"H\", \"AB\"]].groupby(by=\"playerID\").sum()\n",
    "new_df['Avg'] = new_df[\"H\"]/new_df[\"AB\"]\n",
    "new_master = master\n",
    "new_master[\"name\"] = master[\"nameFirst\"].str.cat(master[\"nameLast\"], sep = \" \")\n",
    "new_master = new_master.set_index('playerID')\n",
    "career = pd.merge(new_df, new_master, left_index=True, right_index=True)\n",
    "career = career[[\"name\", \"H\", \"AB\", \"Avg\"]]\n",
    "career"
   ]
  },
  {
   "cell_type": "code",
   "execution_count": null,
   "metadata": {},
   "outputs": [
    {
     "data": {
      "text/html": [
       "<div>\n",
       "<style scoped>\n",
       "    .dataframe tbody tr th:only-of-type {\n",
       "        vertical-align: middle;\n",
       "    }\n",
       "\n",
       "    .dataframe tbody tr th {\n",
       "        vertical-align: top;\n",
       "    }\n",
       "\n",
       "    .dataframe thead th {\n",
       "        text-align: right;\n",
       "    }\n",
       "</style>\n",
       "<table border=\"1\" class=\"dataframe\">\n",
       "  <thead>\n",
       "    <tr style=\"text-align: right;\">\n",
       "      <th></th>\n",
       "      <th>playerID</th>\n",
       "      <th>nameFirst</th>\n",
       "      <th>nameLast</th>\n",
       "      <th>H</th>\n",
       "      <th>AB</th>\n",
       "      <th>Avg</th>\n",
       "    </tr>\n",
       "  </thead>\n",
       "  <tbody>\n",
       "    <tr>\n",
       "      <th>0</th>\n",
       "      <td>aaronha01</td>\n",
       "      <td>Hank</td>\n",
       "      <td>Aaron</td>\n",
       "      <td>3771</td>\n",
       "      <td>12364</td>\n",
       "      <td>0.304998</td>\n",
       "    </tr>\n",
       "    <tr>\n",
       "      <th>1</th>\n",
       "      <td>aaronto01</td>\n",
       "      <td>Tommie</td>\n",
       "      <td>Aaron</td>\n",
       "      <td>216</td>\n",
       "      <td>944</td>\n",
       "      <td>0.228814</td>\n",
       "    </tr>\n",
       "    <tr>\n",
       "      <th>4</th>\n",
       "      <td>abbated01</td>\n",
       "      <td>Ed</td>\n",
       "      <td>Abbaticchio</td>\n",
       "      <td>772</td>\n",
       "      <td>3044</td>\n",
       "      <td>0.253614</td>\n",
       "    </tr>\n",
       "    <tr>\n",
       "      <th>5</th>\n",
       "      <td>abbotfr01</td>\n",
       "      <td>Fred</td>\n",
       "      <td>Abbott</td>\n",
       "      <td>107</td>\n",
       "      <td>513</td>\n",
       "      <td>0.208577</td>\n",
       "    </tr>\n",
       "    <tr>\n",
       "      <th>6</th>\n",
       "      <td>abbotje01</td>\n",
       "      <td>Jeff</td>\n",
       "      <td>Abbott</td>\n",
       "      <td>157</td>\n",
       "      <td>596</td>\n",
       "      <td>0.263423</td>\n",
       "    </tr>\n",
       "  </tbody>\n",
       "</table>\n",
       "</div>"
      ],
      "text/plain": [
       "    playerID nameFirst     nameLast     H     AB       Avg\n",
       "0  aaronha01      Hank        Aaron  3771  12364  0.304998\n",
       "1  aaronto01    Tommie        Aaron   216    944  0.228814\n",
       "4  abbated01        Ed  Abbaticchio   772   3044  0.253614\n",
       "5  abbotfr01      Fred       Abbott   107    513  0.208577\n",
       "6  abbotje01      Jeff       Abbott   157    596  0.263423"
      ]
     },
     "execution_count": 16,
     "metadata": {},
     "output_type": "execute_result"
    }
   ],
   "source": [
    "# This is the same just double checking with next weeks homework\n",
    "\n",
    "# recreate career dataframe from next homework to check\n",
    "pitchers = pitching['playerID'].tolist()\n",
    "batting = batting[batting['AB'] > 0]\n",
    "batting = batting[~batting['playerID'].isin(pitchers)] #filtered out pitchers\n",
    "batting_sum =batting.groupby(['playerID']).agg({'H':'sum','AB':'sum'}) # get total hits and at bats for each player\n",
    "batting_sum['Avg'] = batting_sum.loc[:,'H'] / batting_sum.loc[:,'AB'] #calculate the avg batting rate\n",
    "career = pd.merge(batting_sum, master, how='inner', on='playerID')[[\"playerID\",\"nameFirst\", \"nameLast\", \"H\", \"AB\", \"Avg\"]]\n",
    "career= career[career[\"AB\"]>=500]\n",
    "career.head()"
   ]
  },
  {
   "cell_type": "markdown",
   "metadata": {
    "id": "xURvMzXsme0M"
   },
   "source": [
    "### Exercises  \n",
    "\n",
    "5. Use pandas methods to recreate the `career` data set from the article. You may find the pandas docs useful: https://pandas.pydata.org/pandas-docs/version/0.25.3/#  \n",
    "\n",
    "    Focus on the logical steps taken in the article text and R code and create the appropriate pandas syntax."
   ]
  },
  {
   "cell_type": "code",
   "execution_count": null,
   "metadata": {
    "colab": {
     "base_uri": "https://localhost:8080/",
     "height": 238
    },
    "id": "2V32rUHtme0M",
    "outputId": "98a26f12-178d-4edd-b846-6ab8ed14233d"
   },
   "outputs": [
    {
     "data": {
      "text/html": [
       "<div>\n",
       "<style scoped>\n",
       "    .dataframe tbody tr th:only-of-type {\n",
       "        vertical-align: middle;\n",
       "    }\n",
       "\n",
       "    .dataframe tbody tr th {\n",
       "        vertical-align: top;\n",
       "    }\n",
       "\n",
       "    .dataframe thead th {\n",
       "        text-align: right;\n",
       "    }\n",
       "</style>\n",
       "<table border=\"1\" class=\"dataframe\">\n",
       "  <thead>\n",
       "    <tr style=\"text-align: right;\">\n",
       "      <th></th>\n",
       "      <th>playerID</th>\n",
       "      <th>nameFirst</th>\n",
       "      <th>nameLast</th>\n",
       "      <th>H</th>\n",
       "      <th>AB</th>\n",
       "      <th>Avg</th>\n",
       "    </tr>\n",
       "  </thead>\n",
       "  <tbody>\n",
       "    <tr>\n",
       "      <th>0</th>\n",
       "      <td>aaronha01</td>\n",
       "      <td>Hank</td>\n",
       "      <td>Aaron</td>\n",
       "      <td>3771</td>\n",
       "      <td>12364</td>\n",
       "      <td>0.304998</td>\n",
       "    </tr>\n",
       "    <tr>\n",
       "      <th>1</th>\n",
       "      <td>aaronto01</td>\n",
       "      <td>Tommie</td>\n",
       "      <td>Aaron</td>\n",
       "      <td>216</td>\n",
       "      <td>944</td>\n",
       "      <td>0.228814</td>\n",
       "    </tr>\n",
       "    <tr>\n",
       "      <th>4</th>\n",
       "      <td>abbated01</td>\n",
       "      <td>Ed</td>\n",
       "      <td>Abbaticchio</td>\n",
       "      <td>772</td>\n",
       "      <td>3044</td>\n",
       "      <td>0.253614</td>\n",
       "    </tr>\n",
       "    <tr>\n",
       "      <th>5</th>\n",
       "      <td>abbotfr01</td>\n",
       "      <td>Fred</td>\n",
       "      <td>Abbott</td>\n",
       "      <td>107</td>\n",
       "      <td>513</td>\n",
       "      <td>0.208577</td>\n",
       "    </tr>\n",
       "    <tr>\n",
       "      <th>6</th>\n",
       "      <td>abbotje01</td>\n",
       "      <td>Jeff</td>\n",
       "      <td>Abbott</td>\n",
       "      <td>157</td>\n",
       "      <td>596</td>\n",
       "      <td>0.263423</td>\n",
       "    </tr>\n",
       "  </tbody>\n",
       "</table>\n",
       "</div>"
      ],
      "text/plain": [
       "    playerID nameFirst     nameLast     H     AB       Avg\n",
       "0  aaronha01      Hank        Aaron  3771  12364  0.304998\n",
       "1  aaronto01    Tommie        Aaron   216    944  0.228814\n",
       "4  abbated01        Ed  Abbaticchio   772   3044  0.253614\n",
       "5  abbotfr01      Fred       Abbott   107    513  0.208577\n",
       "6  abbotje01      Jeff       Abbott   157    596  0.263423"
      ]
     },
     "execution_count": 17,
     "metadata": {},
     "output_type": "execute_result"
    }
   ],
   "source": [
    "# TODO: recreate career dataframe\n",
    "\n",
    "career.head()"
   ]
  },
  {
   "cell_type": "markdown",
   "metadata": {
    "id": "Akf95aAime0M"
   },
   "source": [
    "6. display the 5 highest and 5 lowest batting averages from the career dataset."
   ]
  },
  {
   "cell_type": "code",
   "execution_count": null,
   "metadata": {
    "colab": {
     "base_uri": "https://localhost:8080/"
    },
    "id": "HDeX50g4me0M",
    "outputId": "168f793b-17c7-4e04-e3ff-3f03d5382cc3"
   },
   "outputs": [
    {
     "name": "stdout",
     "output_type": "stream",
     "text": [
      "max 0.35849749174109874\n",
      "min 0.16100178890876565\n"
     ]
    },
    {
     "data": {
      "text/html": [
       "<div>\n",
       "<style scoped>\n",
       "    .dataframe tbody tr th:only-of-type {\n",
       "        vertical-align: middle;\n",
       "    }\n",
       "\n",
       "    .dataframe tbody tr th {\n",
       "        vertical-align: top;\n",
       "    }\n",
       "\n",
       "    .dataframe thead th {\n",
       "        text-align: right;\n",
       "    }\n",
       "</style>\n",
       "<table border=\"1\" class=\"dataframe\">\n",
       "  <thead>\n",
       "    <tr style=\"text-align: right;\">\n",
       "      <th></th>\n",
       "      <th>playerID</th>\n",
       "      <th>nameFirst</th>\n",
       "      <th>nameLast</th>\n",
       "      <th>H</th>\n",
       "      <th>AB</th>\n",
       "      <th>Avg</th>\n",
       "    </tr>\n",
       "  </thead>\n",
       "  <tbody>\n",
       "    <tr>\n",
       "      <th>9242</th>\n",
       "      <td>vukovjo01</td>\n",
       "      <td>John</td>\n",
       "      <td>Vukovich</td>\n",
       "      <td>90</td>\n",
       "      <td>559</td>\n",
       "      <td>0.161002</td>\n",
       "    </tr>\n",
       "    <tr>\n",
       "      <th>631</th>\n",
       "      <td>bergebi01</td>\n",
       "      <td>Bill</td>\n",
       "      <td>Bergen</td>\n",
       "      <td>516</td>\n",
       "      <td>3028</td>\n",
       "      <td>0.170410</td>\n",
       "    </tr>\n",
       "    <tr>\n",
       "      <th>6743</th>\n",
       "      <td>oylerra01</td>\n",
       "      <td>Ray</td>\n",
       "      <td>Oyler</td>\n",
       "      <td>221</td>\n",
       "      <td>1265</td>\n",
       "      <td>0.174704</td>\n",
       "    </tr>\n",
       "    <tr>\n",
       "      <th>8998</th>\n",
       "      <td>traffbi01</td>\n",
       "      <td>Bill</td>\n",
       "      <td>Traffley</td>\n",
       "      <td>116</td>\n",
       "      <td>663</td>\n",
       "      <td>0.174962</td>\n",
       "    </tr>\n",
       "    <tr>\n",
       "      <th>3936</th>\n",
       "      <td>heydomi01</td>\n",
       "      <td>Mike</td>\n",
       "      <td>Heydon</td>\n",
       "      <td>111</td>\n",
       "      <td>619</td>\n",
       "      <td>0.179321</td>\n",
       "    </tr>\n",
       "  </tbody>\n",
       "</table>\n",
       "</div>"
      ],
      "text/plain": [
       "       playerID nameFirst  nameLast    H    AB       Avg\n",
       "9242  vukovjo01      John  Vukovich   90   559  0.161002\n",
       "631   bergebi01      Bill    Bergen  516  3028  0.170410\n",
       "6743  oylerra01       Ray     Oyler  221  1265  0.174704\n",
       "8998  traffbi01      Bill  Traffley  116   663  0.174962\n",
       "3936  heydomi01      Mike    Heydon  111   619  0.179321"
      ]
     },
     "execution_count": 18,
     "metadata": {},
     "output_type": "execute_result"
    }
   ],
   "source": [
    "# TODO\n",
    "print(\"max\", max(career['Avg']))\n",
    "print(\"min\", min(career['Avg']))\n",
    "\n",
    "career.sort_values(by=['Avg']).head()\n"
   ]
  },
  {
   "cell_type": "code",
   "execution_count": null,
   "metadata": {},
   "outputs": [
    {
     "data": {
      "text/html": [
       "<div>\n",
       "<style scoped>\n",
       "    .dataframe tbody tr th:only-of-type {\n",
       "        vertical-align: middle;\n",
       "    }\n",
       "\n",
       "    .dataframe tbody tr th {\n",
       "        vertical-align: top;\n",
       "    }\n",
       "\n",
       "    .dataframe thead th {\n",
       "        text-align: right;\n",
       "    }\n",
       "</style>\n",
       "<table border=\"1\" class=\"dataframe\">\n",
       "  <thead>\n",
       "    <tr style=\"text-align: right;\">\n",
       "      <th></th>\n",
       "      <th>playerID</th>\n",
       "      <th>nameFirst</th>\n",
       "      <th>nameLast</th>\n",
       "      <th>H</th>\n",
       "      <th>AB</th>\n",
       "      <th>Avg</th>\n",
       "    </tr>\n",
       "  </thead>\n",
       "  <tbody>\n",
       "    <tr>\n",
       "      <th>4106</th>\n",
       "      <td>hornsro01</td>\n",
       "      <td>Rogers</td>\n",
       "      <td>Hornsby</td>\n",
       "      <td>2930</td>\n",
       "      <td>8173</td>\n",
       "      <td>0.358497</td>\n",
       "    </tr>\n",
       "    <tr>\n",
       "      <th>4296</th>\n",
       "      <td>jacksjo01</td>\n",
       "      <td>Shoeless Joe</td>\n",
       "      <td>Jackson</td>\n",
       "      <td>1772</td>\n",
       "      <td>4981</td>\n",
       "      <td>0.355752</td>\n",
       "    </tr>\n",
       "    <tr>\n",
       "      <th>2202</th>\n",
       "      <td>delahed01</td>\n",
       "      <td>Ed</td>\n",
       "      <td>Delahanty</td>\n",
       "      <td>2597</td>\n",
       "      <td>7510</td>\n",
       "      <td>0.345806</td>\n",
       "    </tr>\n",
       "    <tr>\n",
       "      <th>3619</th>\n",
       "      <td>hamilbi01</td>\n",
       "      <td>Billy</td>\n",
       "      <td>Hamilton</td>\n",
       "      <td>2164</td>\n",
       "      <td>6283</td>\n",
       "      <td>0.344421</td>\n",
       "    </tr>\n",
       "    <tr>\n",
       "      <th>3818</th>\n",
       "      <td>heilmha01</td>\n",
       "      <td>Harry</td>\n",
       "      <td>Heilmann</td>\n",
       "      <td>2660</td>\n",
       "      <td>7787</td>\n",
       "      <td>0.341595</td>\n",
       "    </tr>\n",
       "  </tbody>\n",
       "</table>\n",
       "</div>"
      ],
      "text/plain": [
       "       playerID     nameFirst   nameLast     H    AB       Avg\n",
       "4106  hornsro01        Rogers    Hornsby  2930  8173  0.358497\n",
       "4296  jacksjo01  Shoeless Joe    Jackson  1772  4981  0.355752\n",
       "2202  delahed01            Ed  Delahanty  2597  7510  0.345806\n",
       "3619  hamilbi01         Billy   Hamilton  2164  6283  0.344421\n",
       "3818  heilmha01         Harry   Heilmann  2660  7787  0.341595"
      ]
     },
     "execution_count": 19,
     "metadata": {},
     "output_type": "execute_result"
    }
   ],
   "source": [
    "career.sort_values(by=['Avg'], ascending=False).head()\n"
   ]
  },
  {
   "cell_type": "markdown",
   "metadata": {
    "id": "mWcz5FN6me0M"
   },
   "source": [
    "### Note: Later in the article - he recommends filtering down to batters with >500 at bats. Do this now to roughly match the alpha and beta values in the article."
   ]
  },
  {
   "cell_type": "code",
   "execution_count": null,
   "metadata": {
    "colab": {
     "base_uri": "https://localhost:8080/"
    },
    "id": "zwGRnkmame0M",
    "outputId": "822c8274-11a4-48a0-d239-c7ff956062ec"
   },
   "outputs": [
    {
     "name": "stdout",
     "output_type": "stream",
     "text": [
      "max 0.35849749174109874\n",
      "min 0.16100178890876565\n"
     ]
    }
   ],
   "source": [
    "# TODO\n",
    "print(\"max\", max(career[career.AB>500]['Avg']))\n",
    "print(\"min\", min(career[career.AB>500]['Avg']))"
   ]
  },
  {
   "cell_type": "markdown",
   "metadata": {
    "id": "1zJB2uOkme0N"
   },
   "source": [
    "7. Calculate the mean and variance of the empirical batting averages in the dataset"
   ]
  },
  {
   "cell_type": "code",
   "execution_count": null,
   "metadata": {
    "colab": {
     "base_uri": "https://localhost:8080/",
     "height": 300
    },
    "id": "SrPX5GVIUE5k",
    "outputId": "f2bb9039-d610-4473-80a9-1ece1b1746f4"
   },
   "outputs": [
    {
     "data": {
      "text/html": [
       "<div>\n",
       "<style scoped>\n",
       "    .dataframe tbody tr th:only-of-type {\n",
       "        vertical-align: middle;\n",
       "    }\n",
       "\n",
       "    .dataframe tbody tr th {\n",
       "        vertical-align: top;\n",
       "    }\n",
       "\n",
       "    .dataframe thead th {\n",
       "        text-align: right;\n",
       "    }\n",
       "</style>\n",
       "<table border=\"1\" class=\"dataframe\">\n",
       "  <thead>\n",
       "    <tr style=\"text-align: right;\">\n",
       "      <th></th>\n",
       "      <th>H</th>\n",
       "      <th>AB</th>\n",
       "      <th>Avg</th>\n",
       "    </tr>\n",
       "  </thead>\n",
       "  <tbody>\n",
       "    <tr>\n",
       "      <th>count</th>\n",
       "      <td>4296.000000</td>\n",
       "      <td>4296.000000</td>\n",
       "      <td>4296.000000</td>\n",
       "    </tr>\n",
       "    <tr>\n",
       "      <th>mean</th>\n",
       "      <td>750.814479</td>\n",
       "      <td>2797.208101</td>\n",
       "      <td>0.258371</td>\n",
       "    </tr>\n",
       "    <tr>\n",
       "      <th>std</th>\n",
       "      <td>630.227159</td>\n",
       "      <td>2176.240571</td>\n",
       "      <td>0.024879</td>\n",
       "    </tr>\n",
       "    <tr>\n",
       "      <th>min</th>\n",
       "      <td>90.000000</td>\n",
       "      <td>500.000000</td>\n",
       "      <td>0.161002</td>\n",
       "    </tr>\n",
       "    <tr>\n",
       "      <th>25%</th>\n",
       "      <td>262.750000</td>\n",
       "      <td>1050.000000</td>\n",
       "      <td>0.241587</td>\n",
       "    </tr>\n",
       "    <tr>\n",
       "      <th>50%</th>\n",
       "      <td>532.000000</td>\n",
       "      <td>2090.500000</td>\n",
       "      <td>0.258406</td>\n",
       "    </tr>\n",
       "    <tr>\n",
       "      <th>75%</th>\n",
       "      <td>1082.500000</td>\n",
       "      <td>4040.750000</td>\n",
       "      <td>0.274247</td>\n",
       "    </tr>\n",
       "    <tr>\n",
       "      <th>max</th>\n",
       "      <td>4256.000000</td>\n",
       "      <td>14053.000000</td>\n",
       "      <td>0.358497</td>\n",
       "    </tr>\n",
       "  </tbody>\n",
       "</table>\n",
       "</div>"
      ],
      "text/plain": [
       "                 H            AB          Avg\n",
       "count  4296.000000   4296.000000  4296.000000\n",
       "mean    750.814479   2797.208101     0.258371\n",
       "std     630.227159   2176.240571     0.024879\n",
       "min      90.000000    500.000000     0.161002\n",
       "25%     262.750000   1050.000000     0.241587\n",
       "50%     532.000000   2090.500000     0.258406\n",
       "75%    1082.500000   4040.750000     0.274247\n",
       "max    4256.000000  14053.000000     0.358497"
      ]
     },
     "execution_count": 21,
     "metadata": {},
     "output_type": "execute_result"
    }
   ],
   "source": [
    "career.describe()"
   ]
  },
  {
   "cell_type": "code",
   "execution_count": null,
   "metadata": {
    "colab": {
     "base_uri": "https://localhost:8080/"
    },
    "id": "XVJ_Fe1Dme0N",
    "outputId": "98aee382-9078-49b0-f008-d3e507aea880"
   },
   "outputs": [
    {
     "name": "stdout",
     "output_type": "stream",
     "text": [
      "Mean: 0.25837060609701573 Variance 0.0006188117325561591\n"
     ]
    }
   ],
   "source": [
    "# TODO  \n",
    "import statistics\n",
    "\n",
    "empirical_mean = statistics.mean(career[\"Avg\"])\n",
    "empirical_variance = statistics.pvariance(career[\"Avg\"])\n",
    "\n",
    "print(\"Mean:\",empirical_mean, \"Variance\", empirical_variance)"
   ]
  },
  {
   "cell_type": "markdown",
   "metadata": {
    "id": "xqKkd-eXme0N"
   },
   "source": [
    "8. Write functions to calculate alpha and beta using the method of moments and your estimated mean and variance above. https://stats.stackexchange.com/questions/12232/calculating-the-parameters-of-a-beta-distribution-using-the-mean-and-variance  "
   ]
  },
  {
   "cell_type": "code",
   "execution_count": 25,
   "metadata": {
    "id": "pkB-P24Yme0N"
   },
   "outputs": [],
   "source": [
    "# TODO  \n",
    "\n",
    "#Given example on the link\n",
    "# estBetaParams <- function(mu, var) {\n",
    "#   alpha <- ((1 - mu) / var - 1 / mu) * mu ^ 2\n",
    "#   beta <- alpha * (1 / mu - 1)\n",
    "#   return(params = list(alpha = alpha, beta = beta))\n",
    "# }\n",
    "\n",
    "\n",
    "def estBetaParams(mean, variance):\n",
    "    alpha =((1 - mean) / variance - 1 / mean) * mean ** 2.0\n",
    "    beta = alpha * (1 / mean - 1)\n",
    "    return (alpha, beta)"
   ]
  },
  {
   "cell_type": "markdown",
   "metadata": {
    "id": "WkuccQKtme0N"
   },
   "source": [
    "9. Use your function to calculate an $\\alpha_0$ and $\\beta_0$ for the career data set, and then calculate an empirical bayes estimate of each players batting average. Display the top 5 and bottom 5 estimated batting averages."
   ]
  },
  {
   "cell_type": "code",
   "execution_count": 26,
   "metadata": {
    "colab": {
     "base_uri": "https://localhost:8080/"
    },
    "id": "yF03JM_9me0N",
    "outputId": "dc9c5642-b0a2-4a81-a7dd-6692b5ea4ac9"
   },
   "outputs": [
    {
     "data": {
      "text/plain": [
       "(79.74616398599109, 228.90413176803582)"
      ]
     },
     "execution_count": 26,
     "metadata": {},
     "output_type": "execute_result"
    }
   ],
   "source": [
    "# TODO\n",
    "estBetaParams(empirical_mean, empirical_variance)"
   ]
  },
  {
   "cell_type": "code",
   "execution_count": 27,
   "metadata": {},
   "outputs": [
    {
     "name": "stdout",
     "output_type": "stream",
     "text": [
      "79.74616398599109 228.90413176803582\n"
     ]
    },
    {
     "data": {
      "text/html": [
       "<div>\n",
       "<style scoped>\n",
       "    .dataframe tbody tr th:only-of-type {\n",
       "        vertical-align: middle;\n",
       "    }\n",
       "\n",
       "    .dataframe tbody tr th {\n",
       "        vertical-align: top;\n",
       "    }\n",
       "\n",
       "    .dataframe thead th {\n",
       "        text-align: right;\n",
       "    }\n",
       "</style>\n",
       "<table border=\"1\" class=\"dataframe\">\n",
       "  <thead>\n",
       "    <tr style=\"text-align: right;\">\n",
       "      <th></th>\n",
       "      <th>playerID</th>\n",
       "      <th>nameFirst</th>\n",
       "      <th>nameLast</th>\n",
       "      <th>H</th>\n",
       "      <th>AB</th>\n",
       "      <th>Avg</th>\n",
       "      <th>eb</th>\n",
       "    </tr>\n",
       "  </thead>\n",
       "  <tbody>\n",
       "    <tr>\n",
       "      <th>4106</th>\n",
       "      <td>hornsro01</td>\n",
       "      <td>Rogers</td>\n",
       "      <td>Hornsby</td>\n",
       "      <td>2930</td>\n",
       "      <td>8173</td>\n",
       "      <td>0.358497</td>\n",
       "      <td>0.354854</td>\n",
       "    </tr>\n",
       "    <tr>\n",
       "      <th>4296</th>\n",
       "      <td>jacksjo01</td>\n",
       "      <td>Shoeless Joe</td>\n",
       "      <td>Jackson</td>\n",
       "      <td>1772</td>\n",
       "      <td>4981</td>\n",
       "      <td>0.355752</td>\n",
       "      <td>0.350070</td>\n",
       "    </tr>\n",
       "    <tr>\n",
       "      <th>2202</th>\n",
       "      <td>delahed01</td>\n",
       "      <td>Ed</td>\n",
       "      <td>Delahanty</td>\n",
       "      <td>2597</td>\n",
       "      <td>7510</td>\n",
       "      <td>0.345806</td>\n",
       "      <td>0.342354</td>\n",
       "    </tr>\n",
       "    <tr>\n",
       "      <th>3619</th>\n",
       "      <td>hamilbi01</td>\n",
       "      <td>Billy</td>\n",
       "      <td>Hamilton</td>\n",
       "      <td>2164</td>\n",
       "      <td>6283</td>\n",
       "      <td>0.344421</td>\n",
       "      <td>0.340392</td>\n",
       "    </tr>\n",
       "    <tr>\n",
       "      <th>3818</th>\n",
       "      <td>heilmha01</td>\n",
       "      <td>Harry</td>\n",
       "      <td>Heilmann</td>\n",
       "      <td>2660</td>\n",
       "      <td>7787</td>\n",
       "      <td>0.341595</td>\n",
       "      <td>0.338422</td>\n",
       "    </tr>\n",
       "  </tbody>\n",
       "</table>\n",
       "</div>"
      ],
      "text/plain": [
       "       playerID     nameFirst   nameLast     H    AB       Avg        eb\n",
       "4106  hornsro01        Rogers    Hornsby  2930  8173  0.358497  0.354854\n",
       "4296  jacksjo01  Shoeless Joe    Jackson  1772  4981  0.355752  0.350070\n",
       "2202  delahed01            Ed  Delahanty  2597  7510  0.345806  0.342354\n",
       "3619  hamilbi01         Billy   Hamilton  2164  6283  0.344421  0.340392\n",
       "3818  heilmha01         Harry   Heilmann  2660  7787  0.341595  0.338422"
      ]
     },
     "execution_count": 27,
     "metadata": {},
     "output_type": "execute_result"
    }
   ],
   "source": [
    "alpha0, beta0 = estBetaParams(empirical_mean, empirical_variance)\n",
    "print(alpha0,beta0)\n",
    "career['eb'] = ((career.loc[:,'H'] + alpha0) / (career.loc[:,'AB'] + alpha0 + beta0))\n",
    "career.sort_values('eb', ascending=False).head(5)"
   ]
  },
  {
   "cell_type": "code",
   "execution_count": 28,
   "metadata": {},
   "outputs": [
    {
     "data": {
      "text/html": [
       "<div>\n",
       "<style scoped>\n",
       "    .dataframe tbody tr th:only-of-type {\n",
       "        vertical-align: middle;\n",
       "    }\n",
       "\n",
       "    .dataframe tbody tr th {\n",
       "        vertical-align: top;\n",
       "    }\n",
       "\n",
       "    .dataframe thead th {\n",
       "        text-align: right;\n",
       "    }\n",
       "</style>\n",
       "<table border=\"1\" class=\"dataframe\">\n",
       "  <thead>\n",
       "    <tr style=\"text-align: right;\">\n",
       "      <th></th>\n",
       "      <th>playerID</th>\n",
       "      <th>nameFirst</th>\n",
       "      <th>nameLast</th>\n",
       "      <th>H</th>\n",
       "      <th>AB</th>\n",
       "      <th>Avg</th>\n",
       "      <th>eb</th>\n",
       "    </tr>\n",
       "  </thead>\n",
       "  <tbody>\n",
       "    <tr>\n",
       "      <th>631</th>\n",
       "      <td>bergebi01</td>\n",
       "      <td>Bill</td>\n",
       "      <td>Bergen</td>\n",
       "      <td>516</td>\n",
       "      <td>3028</td>\n",
       "      <td>0.170410</td>\n",
       "      <td>0.178546</td>\n",
       "    </tr>\n",
       "    <tr>\n",
       "      <th>6743</th>\n",
       "      <td>oylerra01</td>\n",
       "      <td>Ray</td>\n",
       "      <td>Oyler</td>\n",
       "      <td>221</td>\n",
       "      <td>1265</td>\n",
       "      <td>0.174704</td>\n",
       "      <td>0.191114</td>\n",
       "    </tr>\n",
       "    <tr>\n",
       "      <th>9242</th>\n",
       "      <td>vukovjo01</td>\n",
       "      <td>John</td>\n",
       "      <td>Vukovich</td>\n",
       "      <td>90</td>\n",
       "      <td>559</td>\n",
       "      <td>0.161002</td>\n",
       "      <td>0.195639</td>\n",
       "    </tr>\n",
       "    <tr>\n",
       "      <th>2529</th>\n",
       "      <td>eastehe01</td>\n",
       "      <td>Henry</td>\n",
       "      <td>Easterday</td>\n",
       "      <td>203</td>\n",
       "      <td>1129</td>\n",
       "      <td>0.179805</td>\n",
       "      <td>0.196672</td>\n",
       "    </tr>\n",
       "    <tr>\n",
       "      <th>8998</th>\n",
       "      <td>traffbi01</td>\n",
       "      <td>Bill</td>\n",
       "      <td>Traffley</td>\n",
       "      <td>116</td>\n",
       "      <td>663</td>\n",
       "      <td>0.174962</td>\n",
       "      <td>0.201457</td>\n",
       "    </tr>\n",
       "  </tbody>\n",
       "</table>\n",
       "</div>"
      ],
      "text/plain": [
       "       playerID nameFirst   nameLast    H    AB       Avg        eb\n",
       "631   bergebi01      Bill     Bergen  516  3028  0.170410  0.178546\n",
       "6743  oylerra01       Ray      Oyler  221  1265  0.174704  0.191114\n",
       "9242  vukovjo01      John   Vukovich   90   559  0.161002  0.195639\n",
       "2529  eastehe01     Henry  Easterday  203  1129  0.179805  0.196672\n",
       "8998  traffbi01      Bill   Traffley  116   663  0.174962  0.201457"
      ]
     },
     "execution_count": 28,
     "metadata": {},
     "output_type": "execute_result"
    }
   ],
   "source": [
    "career.sort_values('eb', ascending=True).head(5)"
   ]
  },
  {
   "cell_type": "markdown",
   "metadata": {
    "id": "wN9Gd5hMme0N"
   },
   "source": [
    "## Submission\n",
    "\n",
    "Download completed **Week5_Statistical_Inference_With_Python_Homework.ipynb** from Google Colab and commit to your personal Github repo you shared with the faculty."
   ]
  }
 ],
 "metadata": {
  "colab": {
   "collapsed_sections": [],
   "provenance": []
  },
  "kernelspec": {
   "display_name": "Python 3 (ipykernel)",
   "language": "python",
   "name": "python3"
  },
  "language_info": {
   "codemirror_mode": {
    "name": "ipython",
    "version": 3
   },
   "file_extension": ".py",
   "mimetype": "text/x-python",
   "name": "python",
   "nbconvert_exporter": "python",
   "pygments_lexer": "ipython3",
   "version": "3.9.10"
  },
  "toc": {
   "base_numbering": 1,
   "nav_menu": {},
   "number_sections": true,
   "sideBar": true,
   "skip_h1_title": false,
   "title_cell": "Table of Contents",
   "title_sidebar": "Contents",
   "toc_cell": false,
   "toc_position": {},
   "toc_section_display": true,
   "toc_window_display": false
  }
 },
 "nbformat": 4,
 "nbformat_minor": 4
}
