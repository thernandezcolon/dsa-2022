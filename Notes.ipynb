{
 "cells": [
  {
   "cell_type": "markdown",
   "id": "30c93421-8103-4af7-bb75-f1cb109e4343",
   "metadata": {
    "tags": []
   },
   "source": [
    "\n",
    "# Week 3 Data Security\n",
    "types of information:\n",
    "1. Personal Information - Anything that can identify a person\n",
    "2. Pseudonymous Information - Personal information that has changed in a way 3. that can no longer be attributed to an person\n",
    "3. De-indentified information - removes information from the user\n",
    "4. Anonymous information - Data where all DIRECT and INDIRECT indentifyers have been removed\n",
    "> We can use it for whatever we want and if we loose it we dont have to notify\n",
    "\n",
    "\n",
    "If there is a data breach we can be fined\n",
    "\n",
    "\n",
    "\n",
    "\n",
    "Regulations principles\n",
    "1. Purpose\n",
    "> - Use PI for legitimate purposes\n",
    "> - Describe the purposes at the point of collection\n",
    "> - Do not use PI for purposes where anonymous data will sufice\n",
    "> - Do not use PI for incompatible purposes without a fresh consent\n",
    "\n",
    "2. Accountable\n",
    "> - Baked privacy by Privacy by Design\n",
    "> - appropiately secure and protect PI with trusted vendors only\n",
    "> - Honor contracts with partners and only use data for permitted purposes\n",
    "> - Do not prioritize delivery over privacy. Users will bear the consquences of the mistakes and the 'court of public opinon' is unforgiving\n",
    "\n",
    "3. Control \n",
    "> - Ensure activities do not conflict with individual exercise their data rights\n",
    "> - Individual's choices are reflected in our activities\n",
    "> - Honor choices quickly - within timescales prescribed by privacy laws\n",
    "\n",
    "4. Transparency\n",
    "> - Describe to individuals the data we collect how we use and share it, and their rights over their personal information, and update regularly to ensure accuracy\n",
    "> - We notify the privacy team planned changes in advance so we can use new personal information for nre purposes\n",
    "> - Do not assume that amending privacy give us the retroactive rights to use the data for new purposes.\n",
    "\n",
    "\n",
    "\n",
    "\n",
    "\n",
    "\n"
   ]
  },
  {
   "cell_type": "markdown",
   "id": "edffd507-b99c-46ee-bdc7-9fe29321bcd1",
   "metadata": {},
   "source": [
    "# Descriptive Analytics\n",
    "Types\n",
    "- Categorical (booleans, strings)\n",
    "- Numerical (discrete finite, continuous or infinite)\n"
   ]
  },
  {
   "cell_type": "markdown",
   "id": "9e688ca8-bb99-4d25-acff-ac7613a05db1",
   "metadata": {},
   "source": [
    "# Probability Distributions\n",
    "They could be\n",
    "- Discrete\n",
    "- Continious\n",
    "\n",
    "## Descrete \n",
    "## 1. Uniform Distribution\n",
    "\n",
    "Denoted with U followed with the range of the value\n",
    "U(a,b) \n",
    "X ~ U(3,7) \n",
    "all outcomes has equal probability\n",
    "the bars would be equan since they are equally likely\n",
    "\n",
    "the expected value has no relevant information.\n",
    "the mean and the variables are completety uninterpretable and have no power.\n",
    "\n",
    "### 2. Bernulli Distribution\n",
    "\n",
    "It can be \n",
    "\n",
    "p = probablity of preffered outcome\n",
    "\n",
    "Bern(p)\n",
    "\n",
    "X ~ Bern(p) \n",
    "\n",
    "ex coin flip. One true or false question,\n",
    "\n",
    "we have two bars 0,1, the 0 bar will get to p while the 1 bar will get to 1-p\n",
    "\n",
    "we typically denote the higher one to P and the lower one is 1-P\n",
    "\n",
    "- variance (sigma squared) = p(1-p)\n",
    "- standard deviation = sqrt(variance) = sqrt(p(1-p))\n",
    "\n",
    "### 3. Binomial Distribution\n",
    "n = number of tryals\n",
    "p = probability pf success\n",
    "B(n, p)\n",
    "\n",
    "X~ B(10, 0.6)\n",
    "\n",
    "the graph will have n+1 bars and earch bar represents the likelyhood of obtained the desired outcomes a specific number of times.\n",
    "\n",
    "\n",
    "### 4. Poisson Distribution\n",
    "Po(lambda)\n",
    "\n",
    "Y ~ Po(lambda)\n",
    "\n",
    "If how you know how often something happens for a period of time\n",
    " \n",
    "If a firefly lights on 3 times if 4 seconds what is the probability of it lighing 5 times in 8 seconds.\n",
    "\n",
    "\n",
    "\n",
    "The number of instances the event happens on a standard amount of times (x) and the (y) would be the probability of it happening.\n",
    "\n",
    "lambda = how many times average occurs on the given standard time"
   ]
  },
  {
   "cell_type": "markdown",
   "id": "5b89a34e-e8cb-4210-9429-40349002037c",
   "metadata": {},
   "source": [
    "# Confidence Interval\n",
    "\n",
    "More accurate representation of the reality\n",
    "\n",
    "Level of confidence = 1 - $\\alpha$\n",
    "\n",
    "\n",
    "If we want to a 95% of confidence, $\\alpha$ is 5%\n",
    "\n",
    "\n",
    "Confidence interval = [ point estimate - reliability factor * standard error,  point estimate + reliability factor * standard error]\n",
    "\n",
    "\n",
    "## Point estimate = at the point in the middle of the interval\n",
    "## Standard  Error  = standard deviation / sqrt(n) where n is the number of points\n",
    "## reliability factor = Z sub alpha/2 = you will get this from adding column + row name of the z from the table\n",
    "\n",
    "\n",
    "\n",
    "     *----------------------------------*----------------------------------*\n",
    "start interval ---------------------- point estimate -------------------- end interval\n",
    "\n",
    "\n",
    "\n",
    "\n",
    "If you dont have the populaton variance but do have a sample of data\n",
    "sample mean\n",
    "sample std\n",
    "\n",
    "\n",
    "we can use the student t distribution, we can use the sample instead of the population similar we go to the table\n",
    "\n",
    "\n",
    "\n"
   ]
  },
  {
   "cell_type": "markdown",
   "id": "1b011828-e749-48a9-bb07-e4a4bd3e4f66",
   "metadata": {},
   "source": [
    "* [The data Science Course 2022: Complete Data Science Boot Camp](https://redventures.udemy.com/the-data-science-course-complete-data-science-bootcamp/learn/lecture/10762798#content)\n",
    "    * Sections 17 (22 min)\n",
    "    * Sections 18 (44 min)\n",
    "    * Sections 20 (10 min)"
   ]
  },
  {
   "cell_type": "markdown",
   "id": "06277c02-3575-475e-945a-22a2e322e04d",
   "metadata": {},
   "source": [
    "# Logistic regression \n",
    "- Is used for categories\n"
   ]
  },
  {
   "cell_type": "code",
   "execution_count": 3,
   "id": "3ed845ff-27fb-4e1d-a8e0-8d887e25ac37",
   "metadata": {},
   "outputs": [],
   "source": [
    "import numpy as np\n",
    "import pandas as pd\n",
    "import statsmodels.api as sm\n",
    "import matplotlib.pyplot as plt\n",
    "import seaborn as sns\n",
    "sns.set()"
   ]
  },
  {
   "cell_type": "code",
   "execution_count": 5,
   "id": "3533f44d-4cc4-4554-9c18-86f7a921fc55",
   "metadata": {},
   "outputs": [
    {
     "data": {
      "text/html": [
       "<div>\n",
       "<style scoped>\n",
       "    .dataframe tbody tr th:only-of-type {\n",
       "        vertical-align: middle;\n",
       "    }\n",
       "\n",
       "    .dataframe tbody tr th {\n",
       "        vertical-align: top;\n",
       "    }\n",
       "\n",
       "    .dataframe thead th {\n",
       "        text-align: right;\n",
       "    }\n",
       "</style>\n",
       "<table border=\"1\" class=\"dataframe\">\n",
       "  <thead>\n",
       "    <tr style=\"text-align: right;\">\n",
       "      <th></th>\n",
       "      <th>SAT</th>\n",
       "      <th>Admitted</th>\n",
       "    </tr>\n",
       "  </thead>\n",
       "  <tbody>\n",
       "    <tr>\n",
       "      <th>0</th>\n",
       "      <td>1363</td>\n",
       "      <td>No</td>\n",
       "    </tr>\n",
       "    <tr>\n",
       "      <th>1</th>\n",
       "      <td>1792</td>\n",
       "      <td>Yes</td>\n",
       "    </tr>\n",
       "    <tr>\n",
       "      <th>2</th>\n",
       "      <td>1954</td>\n",
       "      <td>Yes</td>\n",
       "    </tr>\n",
       "    <tr>\n",
       "      <th>3</th>\n",
       "      <td>1653</td>\n",
       "      <td>No</td>\n",
       "    </tr>\n",
       "    <tr>\n",
       "      <th>4</th>\n",
       "      <td>1593</td>\n",
       "      <td>No</td>\n",
       "    </tr>\n",
       "    <tr>\n",
       "      <th>...</th>\n",
       "      <td>...</td>\n",
       "      <td>...</td>\n",
       "    </tr>\n",
       "    <tr>\n",
       "      <th>163</th>\n",
       "      <td>1722</td>\n",
       "      <td>Yes</td>\n",
       "    </tr>\n",
       "    <tr>\n",
       "      <th>164</th>\n",
       "      <td>1750</td>\n",
       "      <td>Yes</td>\n",
       "    </tr>\n",
       "    <tr>\n",
       "      <th>165</th>\n",
       "      <td>1555</td>\n",
       "      <td>No</td>\n",
       "    </tr>\n",
       "    <tr>\n",
       "      <th>166</th>\n",
       "      <td>1524</td>\n",
       "      <td>No</td>\n",
       "    </tr>\n",
       "    <tr>\n",
       "      <th>167</th>\n",
       "      <td>1461</td>\n",
       "      <td>No</td>\n",
       "    </tr>\n",
       "  </tbody>\n",
       "</table>\n",
       "<p>168 rows × 2 columns</p>\n",
       "</div>"
      ],
      "text/plain": [
       "      SAT Admitted\n",
       "0    1363       No\n",
       "1    1792      Yes\n",
       "2    1954      Yes\n",
       "3    1653       No\n",
       "4    1593       No\n",
       "..    ...      ...\n",
       "163  1722      Yes\n",
       "164  1750      Yes\n",
       "165  1555       No\n",
       "166  1524       No\n",
       "167  1461       No\n",
       "\n",
       "[168 rows x 2 columns]"
      ]
     },
     "execution_count": 5,
     "metadata": {},
     "output_type": "execute_result"
    }
   ],
   "source": [
    "raw_data = pd.read_csv('data/Admittance.csv')\n",
    "raw_data"
   ]
  },
  {
   "cell_type": "code",
   "execution_count": 7,
   "id": "5d80c459-e779-4fbc-b47c-eee98fcbb5c7",
   "metadata": {},
   "outputs": [
    {
     "data": {
      "text/html": [
       "<div>\n",
       "<style scoped>\n",
       "    .dataframe tbody tr th:only-of-type {\n",
       "        vertical-align: middle;\n",
       "    }\n",
       "\n",
       "    .dataframe tbody tr th {\n",
       "        vertical-align: top;\n",
       "    }\n",
       "\n",
       "    .dataframe thead th {\n",
       "        text-align: right;\n",
       "    }\n",
       "</style>\n",
       "<table border=\"1\" class=\"dataframe\">\n",
       "  <thead>\n",
       "    <tr style=\"text-align: right;\">\n",
       "      <th></th>\n",
       "      <th>SAT</th>\n",
       "      <th>Admitted</th>\n",
       "    </tr>\n",
       "  </thead>\n",
       "  <tbody>\n",
       "    <tr>\n",
       "      <th>0</th>\n",
       "      <td>1363</td>\n",
       "      <td>0</td>\n",
       "    </tr>\n",
       "    <tr>\n",
       "      <th>1</th>\n",
       "      <td>1792</td>\n",
       "      <td>1</td>\n",
       "    </tr>\n",
       "    <tr>\n",
       "      <th>2</th>\n",
       "      <td>1954</td>\n",
       "      <td>1</td>\n",
       "    </tr>\n",
       "    <tr>\n",
       "      <th>3</th>\n",
       "      <td>1653</td>\n",
       "      <td>0</td>\n",
       "    </tr>\n",
       "    <tr>\n",
       "      <th>4</th>\n",
       "      <td>1593</td>\n",
       "      <td>0</td>\n",
       "    </tr>\n",
       "    <tr>\n",
       "      <th>...</th>\n",
       "      <td>...</td>\n",
       "      <td>...</td>\n",
       "    </tr>\n",
       "    <tr>\n",
       "      <th>163</th>\n",
       "      <td>1722</td>\n",
       "      <td>1</td>\n",
       "    </tr>\n",
       "    <tr>\n",
       "      <th>164</th>\n",
       "      <td>1750</td>\n",
       "      <td>1</td>\n",
       "    </tr>\n",
       "    <tr>\n",
       "      <th>165</th>\n",
       "      <td>1555</td>\n",
       "      <td>0</td>\n",
       "    </tr>\n",
       "    <tr>\n",
       "      <th>166</th>\n",
       "      <td>1524</td>\n",
       "      <td>0</td>\n",
       "    </tr>\n",
       "    <tr>\n",
       "      <th>167</th>\n",
       "      <td>1461</td>\n",
       "      <td>0</td>\n",
       "    </tr>\n",
       "  </tbody>\n",
       "</table>\n",
       "<p>168 rows × 2 columns</p>\n",
       "</div>"
      ],
      "text/plain": [
       "      SAT  Admitted\n",
       "0    1363         0\n",
       "1    1792         1\n",
       "2    1954         1\n",
       "3    1653         0\n",
       "4    1593         0\n",
       "..    ...       ...\n",
       "163  1722         1\n",
       "164  1750         1\n",
       "165  1555         0\n",
       "166  1524         0\n",
       "167  1461         0\n",
       "\n",
       "[168 rows x 2 columns]"
      ]
     },
     "execution_count": 7,
     "metadata": {},
     "output_type": "execute_result"
    }
   ],
   "source": [
    "data = raw_data.copy()\n",
    "data['Admitted'] = data['Admitted'].map({'Yes':1, 'No':0})\n",
    "data"
   ]
  },
  {
   "cell_type": "code",
   "execution_count": 8,
   "id": "d5ef4121-fe3f-476c-885c-10d0c64a2d2e",
   "metadata": {},
   "outputs": [],
   "source": [
    "y = data['Admitted']\n",
    "x1 = data['SAT']"
   ]
  },
  {
   "cell_type": "code",
   "execution_count": 9,
   "id": "3ee897b4-7806-432d-895a-6de377755ade",
   "metadata": {},
   "outputs": [
    {
     "data": {
      "image/png": "[encoded data removed]",
      "text/plain": [
       "<Figure size 640x480 with 1 Axes>"
      ]
     },
     "metadata": {},
     "output_type": "display_data"
    }
   ],
   "source": [
    "plt.scatter(x1,y)\n",
    "plt.xlabel('SAT')\n",
    "plt.ylabel('Admitted')\n",
    "plt.show()"
   ]
  },
  {
   "cell_type": "markdown",
   "id": "c32a5ae3-4a08-4f03-a8e5-9838c9eec9b2",
   "metadata": {},
   "source": [
    "# Plot with linear regression\n",
    "\n"
   ]
  },
  {
   "cell_type": "code",
   "execution_count": 11,
   "id": "6bd52e6d-e152-4964-9b36-30b3e60c8cb8",
   "metadata": {},
   "outputs": [
    {
     "data": {
      "text/plain": [
       "[<matplotlib.lines.Line2D at 0x139234ac0>]"
      ]
     },
     "execution_count": 11,
     "metadata": {},
     "output_type": "execute_result"
    },
    {
     "data": {
      "image/png": "[encoded data removed]",
      "text/plain": [
       "<Figure size 640x480 with 1 Axes>"
      ]
     },
     "metadata": {},
     "output_type": "display_data"
    }
   ],
   "source": [
    "x = sm.add_constant(x1)\n",
    "reg_lin = sm.OLS(y,x)\n",
    "results_lin = reg_lin.fit()\n",
    "\n",
    "\n",
    "plt.scatter(x1, y, color='C0')\n",
    "y_hat = x1*results_lin.params[1] + results_lin.params[0]\n",
    "plt.plot(x1, y_hat, color='C8')\n",
    "plt.xlabel('SAT')\n",
    "plt.ylabel('Admitted')\n",
    "plt.show()"
   ]
  },
  {
   "cell_type": "code",
   "execution_count": 16,
   "id": "ff918eba-95a6-4d39-845c-94a541edbbb4",
   "metadata": {},
   "outputs": [
    {
     "name": "stdout",
     "output_type": "stream",
     "text": [
      "Optimization terminated successfully.\n",
      "         Current function value: 0.137766\n",
      "         Iterations 10\n"
     ]
    },
    {
     "data": {
      "image/png": "[encoded data removed]",
      "text/plain": [
       "<Figure size 640x480 with 1 Axes>"
      ]
     },
     "metadata": {},
     "output_type": "display_data"
    }
   ],
   "source": [
    "reg_log = sm.Logit(y,x)\n",
    "results_log = reg_log.fit()\n",
    "def f(x, b0, b1):\n",
    "    return np.array(np.exp(b0+x*b1)/(1+np.exp(b0+x*b1)))\n",
    "\n",
    "f_sorted = np.sort(f(x1, results_log.params[0], results_log.params[1]))\n",
    "x_sorted = np.sort(np.array(x1))\n",
    "                   \n",
    "plt.scatter(x1, y, color='C0')\n",
    "plt.xlabel('SAT')\n",
    "plt.ylabel('Admitted')\n",
    "plt.plot(x_sorted,f_sorted, color='C8')\n",
    "plt.show()"
   ]
  },
  {
   "cell_type": "code",
   "execution_count": null,
   "id": "7686a6e1-ad03-4e19-8117-e5748d2a978b",
   "metadata": {},
   "outputs": [],
   "source": []
  }
 ],
 "metadata": {
  "kernelspec": {
   "display_name": "Python 3 (ipykernel)",
   "language": "python",
   "name": "python3"
  },
  "language_info": {
   "codemirror_mode": {
    "name": "ipython",
    "version": 3
   },
   "file_extension": ".py",
   "mimetype": "text/x-python",
   "name": "python",
   "nbconvert_exporter": "python",
   "pygments_lexer": "ipython3",
   "version": "3.9.10"
  }
 },
 "nbformat": 4,
 "nbformat_minor": 5
}
