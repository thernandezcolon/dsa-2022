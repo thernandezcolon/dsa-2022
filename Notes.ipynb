{
 "cells": [
  {
   "cell_type": "markdown",
   "id": "30c93421-8103-4af7-bb75-f1cb109e4343",
   "metadata": {
    "tags": []
   },
   "source": [
    "\n",
    "# Week 3 Data Security\n",
    "types of information:\n",
    "1. Personal Information - Anything that can identify a person\n",
    "2. Pseudonymous Information - Personal information that has changed in a way 3. that can no longer be attributed to an person\n",
    "3. De-indentified information - removes information from the user\n",
    "4. Anonymous information - Data where all DIRECT and INDIRECT indentifyers have been removed\n",
    "> We can use it for whatever we want and if we loose it we dont have to notify\n",
    "\n",
    "\n",
    "If there is a data breach we can be fined\n",
    "\n",
    "\n",
    "\n",
    "\n",
    "Regulations principles\n",
    "1. Purpose\n",
    "> - Use PI for legitimate purposes\n",
    "> - Describe the purposes at the point of collection\n",
    "> - Do not use PI for purposes where anonymous data will sufice\n",
    "> - Do not use PI for incompatible purposes without a fresh consent\n",
    "\n",
    "2. Accountable\n",
    "> - Baked privacy by Privacy by Design\n",
    "> - appropiately secure and protect PI with trusted vendors only\n",
    "> - Honor contracts with partners and only use data for permitted purposes\n",
    "> - Do not prioritize delivery over privacy. Users will bear the consquences of the mistakes and the 'court of public opinon' is unforgiving\n",
    "\n",
    "3. Control \n",
    "> - Ensure activities do not conflict with individual exercise their data rights\n",
    "> - Individual's choices are reflected in our activities\n",
    "> - Honor choices quickly - within timescales prescribed by privacy laws\n",
    "\n",
    "4. Transparency\n",
    "> - Describe to individuals the data we collect how we use and share it, and their rights over their personal information, and update regularly to ensure accuracy\n",
    "> - We notify the privacy team planned changes in advance so we can use new personal information for nre purposes\n",
    "> - Do not assume that amending privacy give us the retroactive rights to use the data for new purposes.\n",
    "\n",
    "\n",
    "\n",
    "\n",
    "\n",
    "\n"
   ]
  },
  {
   "cell_type": "markdown",
   "id": "edffd507-b99c-46ee-bdc7-9fe29321bcd1",
   "metadata": {},
   "source": [
    "# Descriptive Analytics\n",
    "Types\n",
    "- Categorical (booleans, strings)\n",
    "- Numerical (discrete finite, continuous or infinite)\n"
   ]
  },
  {
   "cell_type": "markdown",
   "id": "9e688ca8-bb99-4d25-acff-ac7613a05db1",
   "metadata": {},
   "source": [
    "# Probability Distributions\n",
    "They could be\n",
    "- Discrete\n",
    "- Continious\n",
    "\n",
    "## Descrete \n",
    "1. Uniform Distribution\n",
    "\n",
    "Denoted with U followed with the range of the value\n",
    "U(a,b) \n",
    "X ~ U(3,7) \n",
    "all outcomes has equal probability\n",
    "the bars would be equan since they are equally likely\n",
    "\n",
    "the expected value has no relevant information.\n",
    "the mean and the variables are completety uninterpretable and have no power.\n",
    "\n",
    "2. Bernulli Distribution\n",
    "\n",
    "It can be \n",
    "\n",
    "p = probablity of preffered outcome\n",
    "\n",
    "Bern(p)\n",
    "\n",
    "X ~ Bern(p) \n",
    "\n",
    "ex coin flip. One true or false question,\n",
    "\n",
    "we have two bars 0,1, the 0 bar will get to p while the 1 bar will get to 1-p\n",
    "\n",
    "we typically denote the higher one to P and the lower one is 1-P\n",
    "\n",
    "- variance (sigma squared) = p(1-p)\n",
    "- standard deviation = sqrt(variance) = sqrt(p(1-p))\n",
    "\n",
    "3. Binomial Distribution\n",
    "n = number of tryals\n",
    "p = probability pf success\n",
    "B(n, p)\n",
    "\n",
    "X~ B(10, 0.6)\n",
    "\n",
    "the graph will have n+1 bars and earch bar represents the likelyhood of obtained the desired outcomes a specific number of times.\n",
    "\n",
    "\n"
   ]
  },
  {
   "cell_type": "code",
   "execution_count": null,
   "id": "16caa88e-dde9-42c1-a6f5-975d80dae613",
   "metadata": {},
   "outputs": [],
   "source": []
  }
 ],
 "metadata": {
  "kernelspec": {
   "display_name": "Python 3 (ipykernel)",
   "language": "python",
   "name": "python3"
  },
  "language_info": {
   "codemirror_mode": {
    "name": "ipython",
    "version": 3
   },
   "file_extension": ".py",
   "mimetype": "text/x-python",
   "name": "python",
   "nbconvert_exporter": "python",
   "pygments_lexer": "ipython3",
   "version": "3.9.10"
  }
 },
 "nbformat": 4,
 "nbformat_minor": 5
}
