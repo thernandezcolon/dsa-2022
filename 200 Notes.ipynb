{
 "cells": [
  {
   "cell_type": "markdown",
   "id": "08fa9f1d-fd3d-4d82-a7cc-ec008533c119",
   "metadata": {},
   "source": [
    "# 200 Level\n",
    "\n"
   ]
  },
  {
   "cell_type": "markdown",
   "id": "487791fa-1a58-47ec-834d-82b15d1fedae",
   "metadata": {},
   "source": [
    "Tagging model\n",
    "\n",
    "\n",
    "\n",
    "Martha Sheridan Contact:\n",
    "\n",
    "\n",
    "\n",
    "\n",
    "\n"
   ]
  },
  {
   "cell_type": "markdown",
   "id": "577de883-4ef5-4f84-8ad8-90343eed25f7",
   "metadata": {},
   "source": [
    "# PCA Analysis\n",
    "## Principal Component Analysis\n",
    "\n",
    "\n",
    "- We can project the data into a lower dimensional\n",
    "- Uses orthorgonal transformation\n",
    "- Convert possible correlated features (predictors) into linearly  - correlated features called principal components\n",
    "- Is sensitive to scaling\n",
    "- number of principal components = number of features or predictors\n",
    "- First principal component explains the largest possible variance\n",
    "- each subsequent has the highest variance subject to the restriction that must be orthogonal to the preciding components\n",
    "- Collection of components is called vectors\n",
    "- Used in exploratory data analysis\n",
    "\n",
    "# LDA \n",
    "## Linear Discriminator Analysis\n",
    "- Projects into a lower dimensional spaces "
   ]
  },
  {
   "cell_type": "code",
   "execution_count": null,
   "id": "1c5b9f2f-cdad-4d9a-9064-49e583fcb530",
   "metadata": {},
   "outputs": [],
   "source": [
    "# PCA\n",
    "\n"
   ]
  }
 ],
 "metadata": {
  "kernelspec": {
   "display_name": "Python 3 (ipykernel)",
   "language": "python",
   "name": "python3"
  },
  "language_info": {
   "codemirror_mode": {
    "name": "ipython",
    "version": 3
   },
   "file_extension": ".py",
   "mimetype": "text/x-python",
   "name": "python",
   "nbconvert_exporter": "python",
   "pygments_lexer": "ipython3",
   "version": "3.9.10"
  }
 },
 "nbformat": 4,
 "nbformat_minor": 5
}
