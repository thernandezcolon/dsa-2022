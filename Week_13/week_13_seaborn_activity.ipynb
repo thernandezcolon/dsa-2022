{
 "cells": [
  {
   "cell_type": "markdown",
   "id": "bcbd36ae-cf42-43a4-87d1-bfe6763df967",
   "metadata": {},
   "source": [
    "# Week 13 Activity\n",
    "\n",
    "### Follow up on Irises (Irii?)\n",
    "\n",
    "We're going to go a little further into the petal lengths question from the Week 13 homework. Box plots and density plots are very valuable plots for comparing distributions of different groups that we didn't get a chance to compare in the homework. Over the next few minutes, your job is to find the Seaborn code to mimic the plots below. Please feel encouraged to partner up with others in your group. Your breakout leaders may add discussion breaks or questions as needed. "
   ]
  },
  {
   "cell_type": "code",
   "execution_count": 1,
   "id": "0b6b44cc-18b3-4f34-b739-884d8b57ea2c",
   "metadata": {},
   "outputs": [],
   "source": [
    "import pandas as pd\n",
    "from matplotlib import pyplot as plt\n",
    "import seaborn as sns"
   ]
  },
  {
   "cell_type": "markdown",
   "id": "edd9929e-0907-4f25-9658-7d23c5421ccb",
   "metadata": {},
   "source": [
    "### Reminder, the iris dataset includes 3 species and their measurements"
   ]
  },
  {
   "cell_type": "code",
   "execution_count": 2,
   "id": "c1591e6c-9e2c-42a4-8511-3eb6473d0fdd",
   "metadata": {},
   "outputs": [
    {
     "data": {
      "text/html": [
       "<div>\n",
       "<style scoped>\n",
       "    .dataframe tbody tr th:only-of-type {\n",
       "        vertical-align: middle;\n",
       "    }\n",
       "\n",
       "    .dataframe tbody tr th {\n",
       "        vertical-align: top;\n",
       "    }\n",
       "\n",
       "    .dataframe thead th {\n",
       "        text-align: right;\n",
       "    }\n",
       "</style>\n",
       "<table border=\"1\" class=\"dataframe\">\n",
       "  <thead>\n",
       "    <tr style=\"text-align: right;\">\n",
       "      <th></th>\n",
       "      <th>sepal_length</th>\n",
       "      <th>sepal_width</th>\n",
       "      <th>petal_length</th>\n",
       "      <th>petal_width</th>\n",
       "      <th>species</th>\n",
       "    </tr>\n",
       "  </thead>\n",
       "  <tbody>\n",
       "    <tr>\n",
       "      <th>0</th>\n",
       "      <td>5.1</td>\n",
       "      <td>3.5</td>\n",
       "      <td>1.4</td>\n",
       "      <td>0.2</td>\n",
       "      <td>setosa</td>\n",
       "    </tr>\n",
       "    <tr>\n",
       "      <th>1</th>\n",
       "      <td>4.9</td>\n",
       "      <td>3.0</td>\n",
       "      <td>1.4</td>\n",
       "      <td>0.2</td>\n",
       "      <td>setosa</td>\n",
       "    </tr>\n",
       "    <tr>\n",
       "      <th>2</th>\n",
       "      <td>4.7</td>\n",
       "      <td>3.2</td>\n",
       "      <td>1.3</td>\n",
       "      <td>0.2</td>\n",
       "      <td>setosa</td>\n",
       "    </tr>\n",
       "    <tr>\n",
       "      <th>3</th>\n",
       "      <td>4.6</td>\n",
       "      <td>3.1</td>\n",
       "      <td>1.5</td>\n",
       "      <td>0.2</td>\n",
       "      <td>setosa</td>\n",
       "    </tr>\n",
       "    <tr>\n",
       "      <th>4</th>\n",
       "      <td>5.0</td>\n",
       "      <td>3.6</td>\n",
       "      <td>1.4</td>\n",
       "      <td>0.2</td>\n",
       "      <td>setosa</td>\n",
       "    </tr>\n",
       "  </tbody>\n",
       "</table>\n",
       "</div>"
      ],
      "text/plain": [
       "   sepal_length  sepal_width  petal_length  petal_width species\n",
       "0           5.1          3.5           1.4          0.2  setosa\n",
       "1           4.9          3.0           1.4          0.2  setosa\n",
       "2           4.7          3.2           1.3          0.2  setosa\n",
       "3           4.6          3.1           1.5          0.2  setosa\n",
       "4           5.0          3.6           1.4          0.2  setosa"
      ]
     },
     "execution_count": 2,
     "metadata": {},
     "output_type": "execute_result"
    }
   ],
   "source": [
    "df = sns.load_dataset('iris')\n",
    "df.head()"
   ]
  },
  {
   "cell_type": "markdown",
   "id": "6bb7a9fd-f63f-46f6-8211-5cbb143f4951",
   "metadata": {},
   "source": [
    "### Here's an example of how to find a boxplot with Seaborn. However, for what follows, we'll use Seaborn's ability to plot by groups."
   ]
  },
  {
   "cell_type": "code",
   "execution_count": 3,
   "id": "2054fedc-935a-4761-8ee5-a2c900e61186",
   "metadata": {},
   "outputs": [
    {
     "data": {
      "image/png": "[encoded data removed]",
      "text/plain": [
       "<Figure size 640x480 with 1 Axes>"
      ]
     },
     "metadata": {},
     "output_type": "display_data"
    }
   ],
   "source": [
    "sns.boxplot( y=df[\"petal_length\"] );\n",
    "plt.show()"
   ]
  },
  {
   "cell_type": "markdown",
   "id": "452b58da-affd-47f8-b445-0062ef645ca3",
   "metadata": {},
   "source": [
    "### Fill in the code that will mimic plot the boxplot by groups¶"
   ]
  },
  {
   "cell_type": "markdown",
   "id": "f1c11a71-cfd9-4c53-920d-64dfcfe8cb79",
   "metadata": {},
   "source": [
    "\n",
    "<img src=\"./week_13_activity_images/image_0.png\" alt=\"image_0\" style=\"width:435px;\"/>"
   ]
  },
  {
   "cell_type": "code",
   "execution_count": 4,
   "id": "9c45aa86-312d-4a2e-824d-5b06abfce862",
   "metadata": {},
   "outputs": [],
   "source": [
    "# TODO\n",
    "\n"
   ]
  },
  {
   "cell_type": "markdown",
   "id": "b4b58a0c-28db-4309-9846-0bab3fd6dc30",
   "metadata": {},
   "source": [
    "### Fill in the code that will mimic plot the density plot which changes the orientation of the boxplot"
   ]
  },
  {
   "cell_type": "markdown",
   "id": "21b34415-b55d-4371-93cf-49205766bf67",
   "metadata": {},
   "source": [
    "<img src=\"./week_13_activity_images/image_1.png\" alt=\"image_1\" style=\"width:400px;\"/>"
   ]
  },
  {
   "cell_type": "code",
   "execution_count": null,
   "id": "b64a6531-e762-4ebe-bc21-cc6198dda4ab",
   "metadata": {},
   "outputs": [],
   "source": [
    "# TODO\n",
    "\n"
   ]
  },
  {
   "cell_type": "markdown",
   "id": "f61ad542-7c1d-40d4-b606-59957837b20b",
   "metadata": {},
   "source": [
    "### Fill in the code that will mimic plot the density plot.¶\n",
    "\n",
    "You'll need to tweak the above code with the *width* argument"
   ]
  },
  {
   "cell_type": "markdown",
   "id": "880465b9-d088-4376-b422-97a36f2a0269",
   "metadata": {},
   "source": [
    "<img src=\"./week_13_activity_images/image_2.png\" alt=\"image_2\" style=\"width:400px;\"/>"
   ]
  },
  {
   "cell_type": "code",
   "execution_count": null,
   "id": "2a653752-570c-405b-84b9-876b86da1b28",
   "metadata": {},
   "outputs": [],
   "source": [
    "# TODO\n",
    "\n"
   ]
  },
  {
   "cell_type": "markdown",
   "id": "3a003edb-6c57-4652-8091-66b35754d4c6",
   "metadata": {},
   "source": [
    "### Here's an example of how to find a kernel density plot with Seaborn. Again, for the exercises that follow we'll use Seaborn's ability to plot by groups.¶"
   ]
  },
  {
   "cell_type": "code",
   "execution_count": null,
   "id": "03b40d4a-4f8e-4eb8-ba1b-655a8c896d56",
   "metadata": {},
   "outputs": [],
   "source": [
    "sns.displot(data=df, x='petal_length',kind='kde')\n",
    "plt.show()"
   ]
  },
  {
   "cell_type": "markdown",
   "id": "e7cccd35-bc0c-4eeb-b90f-700277c7c7ef",
   "metadata": {},
   "source": [
    "### Fill in the code that will mimic plot the density plot for each species"
   ]
  },
  {
   "cell_type": "markdown",
   "id": "3715ae71-7611-402f-a827-8e1c35b8b6f1",
   "metadata": {},
   "source": [
    "<img src=\"./week_13_activity_images/image_4.png\" alt=\"image_4\" style=\"width:450px;\"/>"
   ]
  },
  {
   "cell_type": "code",
   "execution_count": null,
   "id": "e8f9cf04-44ee-4b12-99f6-170185feb1f6",
   "metadata": {},
   "outputs": [],
   "source": [
    "# TODO\n",
    "\n"
   ]
  },
  {
   "cell_type": "markdown",
   "id": "f44cf186-ad1b-4b38-a79d-44c31a764e64",
   "metadata": {},
   "source": [
    "### Fill in the code that will mimic plot the density plot. \n",
    "\n",
    "You'll need to tweak the above code with the following arguments:\n",
    "\n",
    "* fill\n",
    "* pallette\n",
    "* height\n",
    "* aspect"
   ]
  },
  {
   "cell_type": "markdown",
   "id": "a498169f-02f7-4dde-8469-1d913ec0ebf8",
   "metadata": {},
   "source": [
    "<img src=\"./week_13_activity_images/image_5.png\" alt=\"image_5\" style=\"width:660px;\"/>"
   ]
  },
  {
   "cell_type": "code",
   "execution_count": null,
   "id": "db6aae2d-b7c0-4102-b319-cb6241395a96",
   "metadata": {},
   "outputs": [],
   "source": [
    "# TODO\n",
    "\n"
   ]
  }
 ],
 "metadata": {
  "kernelspec": {
   "display_name": "Python 3 (ipykernel)",
   "language": "python",
   "name": "python3"
  },
  "language_info": {
   "codemirror_mode": {
    "name": "ipython",
    "version": 3
   },
   "file_extension": ".py",
   "mimetype": "text/x-python",
   "name": "python",
   "nbconvert_exporter": "python",
   "pygments_lexer": "ipython3",
   "version": "3.9.10"
  }
 },
 "nbformat": 4,
 "nbformat_minor": 5
}
